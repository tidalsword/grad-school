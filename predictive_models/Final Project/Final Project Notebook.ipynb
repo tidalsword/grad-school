{
 "cells": [
  {
   "cell_type": "markdown",
   "metadata": {},
   "source": [
    "# How to use TensorFlow"
   ]
  },
  {
   "cell_type": "markdown",
   "metadata": {},
   "source": [
    "### What is Tensorflow?"
   ]
  },
  {
   "cell_type": "code",
   "execution_count": 1,
   "metadata": {},
   "outputs": [
    {
     "data": {
      "text/html": [
       "<img src=\"https://i.imgur.com/l8xexM0.png\"/>"
      ],
      "text/plain": [
       "<IPython.core.display.Image object>"
      ]
     },
     "execution_count": 1,
     "metadata": {},
     "output_type": "execute_result"
    }
   ],
   "source": [
    "from IPython.display import Image\n",
    "from IPython.core.display import display, HTML\n",
    "Image(url= \"https://i.imgur.com/l8xexM0.png\")"
   ]
  },
  {
   "cell_type": "markdown",
   "metadata": {},
   "source": [
    "Tensorflow is a flexible, open-source interface for expressing machine learning algorithms. TensorFlow was developed by Google as a more efficient way to create and use deep learning for research and development.  It is a library that was built with neural networking in mind, making it a great tool for deep learning.  TensorFlow is a scalable software library, working on a laptop and in massive production environments.  TensorFlow has several APIs that allow it to work with Python, R, C++, and others.  It is also highly configurable, able to run on multiple CPUs and GPUs.  TensorFlow also comes with a logging interface called “Tensorboard,” which allows the user to examine the model in a web interface."
   ]
  },
  {
   "cell_type": "markdown",
   "metadata": {},
   "source": [
    "### More on the history"
   ]
  },
  {
   "cell_type": "code",
   "execution_count": 2,
   "metadata": {
    "scrolled": true
   },
   "outputs": [
    {
     "data": {
      "text/html": [
       "<img src=\"https://i.imgur.com/KvZ88ZP.jpg\" width=\"300\" height=\"225\"/>"
      ],
      "text/plain": [
       "<IPython.core.display.Image object>"
      ]
     },
     "execution_count": 2,
     "metadata": {},
     "output_type": "execute_result"
    }
   ],
   "source": [
    "Image(url= \"https://i.imgur.com/KvZ88ZP.jpg\", width=300, height=225)"
   ]
  },
  {
   "cell_type": "markdown",
   "metadata": {},
   "source": [
    "Tensorflow was initially developed by the Google Brain team for use on internal projects. Tensorflow is actually the second generation of DistBelief, a proprietary ML system based on deep learning neural nets that was created in 2011. Distbelief was used for research and application like speech recognition. Tensorflow was released as a more robust version on a Apache 2.0 open source license in 2015."
   ]
  },
  {
   "cell_type": "markdown",
   "metadata": {},
   "source": [
    "### How does it work?\n",
    "\n",
    "To understand Tensorflow, we need to understand “tensors.”  Tensors can be described as a multidimensional array (n-dimensional structures).  Tensors represent whatever we define them as, such as the pixels of an image, and can be altered as it “flows” between operations, which is where we get the name “TensorFlow.”"
   ]
  },
  {
   "cell_type": "code",
   "execution_count": 3,
   "metadata": {},
   "outputs": [
    {
     "data": {
      "text/html": [
       "<img src=\"https://i.imgur.com/nSrJKcp.png?1\"/>"
      ],
      "text/plain": [
       "<IPython.core.display.Image object>"
      ]
     },
     "execution_count": 3,
     "metadata": {},
     "output_type": "execute_result"
    }
   ],
   "source": [
    "Image(url= \"https://i.imgur.com/nSrJKcp.png?1\")"
   ]
  },
  {
   "cell_type": "markdown",
   "metadata": {},
   "source": [
    "### What can we use it for?\n",
    "\n",
    "Tensorflow is mainly used for neural networks and is a very powerful tool for image recognition and audio recognition.  In the example below, we will walk through how to build a neural network in Tensorflow that can identify handwritten numbers."
   ]
  },
  {
   "cell_type": "code",
   "execution_count": 4,
   "metadata": {},
   "outputs": [
    {
     "data": {
      "text/html": [
       "<img src=\"https://i.imgur.com/7pvfFHC.png\"/>"
      ],
      "text/plain": [
       "<IPython.core.display.Image object>"
      ]
     },
     "execution_count": 4,
     "metadata": {},
     "output_type": "execute_result"
    }
   ],
   "source": [
    "Image(url= \"https://i.imgur.com/7pvfFHC.png\")"
   ]
  },
  {
   "cell_type": "markdown",
   "metadata": {},
   "source": [
    "# Building a Neural Net in TensorFlow"
   ]
  },
  {
   "cell_type": "markdown",
   "metadata": {},
   "source": [
    "In building this neural network, we are going to use a package called \"Keras.\"  This will allow for more complex deep learning in less code while maintaining an easy to follow structure.  I'm also going to use a GPU rather than a CPU in this model as an example. Using a GPU is much faster than processing with a CPU for this type of analysis. More information on how to set this up can be found in the TensorFlow documentation: https://www.tensorflow.org/install/install_windows"
   ]
  },
  {
   "cell_type": "code",
   "execution_count": 5,
   "metadata": {},
   "outputs": [],
   "source": [
    "#Supressing warnings to save space\n",
    "import warnings\n",
    "warnings.filterwarnings('ignore')"
   ]
  },
  {
   "cell_type": "code",
   "execution_count": 6,
   "metadata": {},
   "outputs": [
    {
     "name": "stdout",
     "output_type": "stream",
     "text": [
      "Default GPU Device: /device:GPU:0\n"
     ]
    }
   ],
   "source": [
    "#This verifies that the GPU is recognized and used by Tensorflow\n",
    "import tensorflow as tf\n",
    "if tf.test.gpu_device_name():\n",
    "    print('Default GPU Device: {}'.format(tf.test.gpu_device_name()))\n",
    "else:\n",
    "    print(\"Please install GPU version of TF\")"
   ]
  },
  {
   "cell_type": "markdown",
   "metadata": {},
   "source": [
    "The dataset we are going to be working with is called \"MNIST\", a dataset of handwritten numerical digits.  The images are 28 x 28 pixels, and are in grayscale, meaning there is one channel.  Shown below are some samples of these images."
   ]
  },
  {
   "cell_type": "code",
   "execution_count": 7,
   "metadata": {},
   "outputs": [
    {
     "data": {
      "text/html": [
       "<img src=\"https://i.imgur.com/uWjw86G.png\" width=\"400\" height=\"400\"/>"
      ],
      "text/plain": [
       "<IPython.core.display.Image object>"
      ]
     },
     "execution_count": 7,
     "metadata": {},
     "output_type": "execute_result"
    }
   ],
   "source": [
    "Image(url= \"https://i.imgur.com/uWjw86G.png\", width=400, height=400)"
   ]
  },
  {
   "cell_type": "markdown",
   "metadata": {},
   "source": [
    "The point of this model is predict and identify each digit correctly. The Neural Net that is going to be created is called a convolutional neural network (CNN), which consists of a convolutional layer, a pooling layer, and a fully connected layer.  CNNs are useful in image recognition because they allow for deep learning without needing a high number of neurons."
   ]
  },
  {
   "cell_type": "markdown",
   "metadata": {},
   "source": [
    "Lets start by loading in the packages.  As you can see, we are loading in TensorFlow, Keras, as well as numpy and sklearn."
   ]
  },
  {
   "cell_type": "code",
   "execution_count": 8,
   "metadata": {},
   "outputs": [
    {
     "name": "stderr",
     "output_type": "stream",
     "text": [
      "Using TensorFlow backend.\n"
     ]
    }
   ],
   "source": [
    "import tensorflow as tf\n",
    "from tensorflow.examples.tutorials.mnist import input_data\n",
    "\n",
    "from keras.models import Sequential\n",
    "from keras.layers import Dense, Dropout, Activation, Flatten\n",
    "from keras.layers import Convolution2D, MaxPooling2D\n",
    "from keras.callbacks import TensorBoard\n",
    "from keras import backend as K\n",
    "\n",
    "import os\n",
    "import cv2\n",
    "import numpy as np\n",
    "import matplotlib.pyplot as plt\n",
    "from sklearn.metrics import accuracy_score, precision_score, recall_score, f1_score\n",
    "from sklearn.metrics import roc_curve, auc, confusion_matrix, classification_report"
   ]
  },
  {
   "cell_type": "code",
   "execution_count": 9,
   "metadata": {},
   "outputs": [],
   "source": [
    "# Create input object which reads data from MNIST datasets.  Perform one-hot encoding to define the digit\n",
    "def load_data(img_dir):\n",
    "    return np.array([cv2.imread(os.path.join(img_dir, img)).flatten() for img in os.listdir(img_dir) if img.endswith(\".jpg\")])"
   ]
  },
  {
   "cell_type": "markdown",
   "metadata": {},
   "source": [
    "Here we will load in the dataset as \"mnist\"."
   ]
  },
  {
   "cell_type": "code",
   "execution_count": 10,
   "metadata": {},
   "outputs": [
    {
     "name": "stdout",
     "output_type": "stream",
     "text": [
      "WARNING:tensorflow:From <ipython-input-10-40fced941258>:1: read_data_sets (from tensorflow.contrib.learn.python.learn.datasets.mnist) is deprecated and will be removed in a future version.\n",
      "Instructions for updating:\n",
      "Please use alternatives such as official/mnist/dataset.py from tensorflow/models.\n",
      "WARNING:tensorflow:From D:\\Anaconda\\lib\\site-packages\\tensorflow\\contrib\\learn\\python\\learn\\datasets\\mnist.py:260: maybe_download (from tensorflow.contrib.learn.python.learn.datasets.base) is deprecated and will be removed in a future version.\n",
      "Instructions for updating:\n",
      "Please write your own downloading logic.\n",
      "WARNING:tensorflow:From D:\\Anaconda\\lib\\site-packages\\tensorflow\\contrib\\learn\\python\\learn\\datasets\\mnist.py:262: extract_images (from tensorflow.contrib.learn.python.learn.datasets.mnist) is deprecated and will be removed in a future version.\n",
      "Instructions for updating:\n",
      "Please use tf.data to implement this functionality.\n",
      "Extracting D:/Google Drive/Corey - School/!Spring 2018 B/BIA 6303 - Predictive Models/HW_Final_Project/data/MNIST_data/train-images-idx3-ubyte.gz\n",
      "WARNING:tensorflow:From D:\\Anaconda\\lib\\site-packages\\tensorflow\\contrib\\learn\\python\\learn\\datasets\\mnist.py:267: extract_labels (from tensorflow.contrib.learn.python.learn.datasets.mnist) is deprecated and will be removed in a future version.\n",
      "Instructions for updating:\n",
      "Please use tf.data to implement this functionality.\n",
      "Extracting D:/Google Drive/Corey - School/!Spring 2018 B/BIA 6303 - Predictive Models/HW_Final_Project/data/MNIST_data/train-labels-idx1-ubyte.gz\n",
      "WARNING:tensorflow:From D:\\Anaconda\\lib\\site-packages\\tensorflow\\contrib\\learn\\python\\learn\\datasets\\mnist.py:110: dense_to_one_hot (from tensorflow.contrib.learn.python.learn.datasets.mnist) is deprecated and will be removed in a future version.\n",
      "Instructions for updating:\n",
      "Please use tf.one_hot on tensors.\n",
      "Extracting D:/Google Drive/Corey - School/!Spring 2018 B/BIA 6303 - Predictive Models/HW_Final_Project/data/MNIST_data/t10k-images-idx3-ubyte.gz\n",
      "Extracting D:/Google Drive/Corey - School/!Spring 2018 B/BIA 6303 - Predictive Models/HW_Final_Project/data/MNIST_data/t10k-labels-idx1-ubyte.gz\n",
      "WARNING:tensorflow:From D:\\Anaconda\\lib\\site-packages\\tensorflow\\contrib\\learn\\python\\learn\\datasets\\mnist.py:290: DataSet.__init__ (from tensorflow.contrib.learn.python.learn.datasets.mnist) is deprecated and will be removed in a future version.\n",
      "Instructions for updating:\n",
      "Please use alternatives such as official/mnist/dataset.py from tensorflow/models.\n"
     ]
    }
   ],
   "source": [
    "mnist = input_data.read_data_sets(\"D:/Google Drive/Corey - School/!Spring 2018 B/BIA 6303 - Predictive Models/HW_Final_Project/data/MNIST_data/\", one_hot = True)"
   ]
  },
  {
   "cell_type": "markdown",
   "metadata": {},
   "source": [
    "We will start the session here:"
   ]
  },
  {
   "cell_type": "code",
   "execution_count": 11,
   "metadata": {},
   "outputs": [],
   "source": [
    "sess = tf.InteractiveSession()"
   ]
  },
  {
   "cell_type": "markdown",
   "metadata": {},
   "source": [
    "Defining the size of the image this way prevents any accidents in coding the model down the road.  Since we know the the image is 28 by 28, both the row and column will be 28."
   ]
  },
  {
   "cell_type": "code",
   "execution_count": 12,
   "metadata": {},
   "outputs": [],
   "source": [
    "image_rows = 28\n",
    "image_cols = 28"
   ]
  },
  {
   "cell_type": "markdown",
   "metadata": {},
   "source": [
    "Here we start defining the shape to the image tensor.  The 28 is the height and weight, which adding the 1 implies the number of color channels.  Since we are only using grayscale, this is 1."
   ]
  },
  {
   "cell_type": "code",
   "execution_count": 13,
   "metadata": {},
   "outputs": [],
   "source": [
    "# reshape the training and test images to 28 X 28 X 1 \n",
    "train_images = mnist.train.images.reshape(mnist.train.images.shape[0],image_rows, image_cols, 1)\n",
    "test_images =  mnist.test.images.reshape(mnist.test.images.shape[0], image_rows, image_cols, 1)"
   ]
  },
  {
   "cell_type": "markdown",
   "metadata": {},
   "source": [
    "Lets take a look at the images, just to make sure they are showing up correctly."
   ]
  },
  {
   "cell_type": "code",
   "execution_count": 14,
   "metadata": {},
   "outputs": [
    {
     "data": {
      "image/png": "[encoded data removed]",
      "text/plain": [
       "<matplotlib.figure.Figure at 0x1ac5c0e78d0>"
      ]
     },
     "metadata": {},
     "output_type": "display_data"
    },
    {
     "data": {
      "image/png": "[encoded data removed]",
      "text/plain": [
       "<matplotlib.figure.Figure at 0x1ac5c0e7978>"
      ]
     },
     "metadata": {},
     "output_type": "display_data"
    }
   ],
   "source": [
    "def gen_image(arr):\n",
    "    two_d = (np.reshape(arr, (28, 28)) * 255).astype(np.uint8)\n",
    "    plt.imshow(two_d, interpolation='nearest', cmap='gray')\n",
    "    return plt\n",
    "\n",
    "# Get a batch of two random images and show in a pop-up window.\n",
    "batch_xs, batch_ys = mnist.test.next_batch(2)\n",
    "gen_image(batch_xs[0]).show()\n",
    "gen_image(batch_xs[1]).show()"
   ]
  },
  {
   "cell_type": "markdown",
   "metadata": {},
   "source": [
    "We define the values for our layers.  Again, defining them like this prevents any confusing errors due to typos. This is also very handy when the layers tend to have the same specifications."
   ]
  },
  {
   "cell_type": "code",
   "execution_count": 15,
   "metadata": {},
   "outputs": [],
   "source": [
    "# Layer values\n",
    "num_filters = 32                # Number of conv filters\n",
    "max_pool_size = (2, 2)          # shape of MaxPool\n",
    "conv_kernel_size = (3, 3)       # conv kernel shape\n",
    "imag_shape = (28,28,1)          # the shape of the image as was described before\n",
    "num_classes = 10                # The number different possible predictions (0-9)\n",
    "drop_prob = 0.5                 # fraction to drop (0-1.0)"
   ]
  },
  {
   "cell_type": "markdown",
   "metadata": {},
   "source": [
    "Now we start defining our model!  The Sequential model type is just like it sounds, it is a sequential list of layers."
   ]
  },
  {
   "cell_type": "code",
   "execution_count": 16,
   "metadata": {},
   "outputs": [],
   "source": [
    "# Define the model type\n",
    "model = Sequential()"
   ]
  },
  {
   "cell_type": "markdown",
   "metadata": {},
   "source": [
    "Next, we define each layer.  Here, we will have 2 convolutional layers, 2 pooling layers, and a fully connected layer.  The convolutional layer will divide each image up and measure the color scale, as shown below."
   ]
  },
  {
   "cell_type": "code",
   "execution_count": 17,
   "metadata": {},
   "outputs": [
    {
     "data": {
      "text/html": [
       "<img src=\"https://i.imgur.com/0z2N9q6.png\" width=\"400\" height=\"400\"/>"
      ],
      "text/plain": [
       "<IPython.core.display.Image object>"
      ]
     },
     "execution_count": 17,
     "metadata": {},
     "output_type": "execute_result"
    }
   ],
   "source": [
    "Image(url= \"https://i.imgur.com/0z2N9q6.png\", width=400, height=400)\n",
    "#Credit to pluralsight for the image"
   ]
  },
  {
   "cell_type": "markdown",
   "metadata": {},
   "source": [
    "The pooling layer reduces the size of the grid by keeping the average of the sections, as shown below."
   ]
  },
  {
   "cell_type": "code",
   "execution_count": 18,
   "metadata": {},
   "outputs": [
    {
     "data": {
      "text/html": [
       "<img src=\"https://i.imgur.com/Ko1Ydpe.png\" width=\"400\" height=\"400\"/>"
      ],
      "text/plain": [
       "<IPython.core.display.Image object>"
      ]
     },
     "execution_count": 18,
     "metadata": {},
     "output_type": "execute_result"
    }
   ],
   "source": [
    "Image(url= \"https://i.imgur.com/Ko1Ydpe.png\", width=400, height=400)\n",
    "#Credit to pluralsight for the image"
   ]
  },
  {
   "cell_type": "code",
   "execution_count": 19,
   "metadata": {},
   "outputs": [],
   "source": [
    "# Define the 1st convlution layer.  We use border_mode= and input_shape only on first layer\n",
    "# border_mode=value restricts convolution to only where the input and the filter fully overlap (ie. not partial overlap)\n",
    "model.add(Convolution2D(num_filters, conv_kernel_size[0], conv_kernel_size[1], border_mode='valid',\n",
    "                        input_shape=imag_shape))\n",
    "model.add(Activation('relu'))\n",
    "# take results and run through max_pool\n",
    "model.add(MaxPooling2D(pool_size=max_pool_size))\n",
    "\n",
    "# 2nd Convolution layer\n",
    "model.add(Convolution2D(num_filters, conv_kernel_size[0], conv_kernel_size[1]))\n",
    "model.add(Activation('relu'))\n",
    "model.add(MaxPooling2D(pool_size=max_pool_size))\n",
    "\n",
    "# Fully Connected Layer\n",
    "model.add(Flatten())\n",
    "model.add(Dense(128))   # Fully connected layer in Keras\n",
    "model.add(Activation('relu'))"
   ]
  },
  {
   "cell_type": "markdown",
   "metadata": {},
   "source": [
    "Next, we use a clever trick to drop out some neurons to help reduce overfitting."
   ]
  },
  {
   "cell_type": "code",
   "execution_count": 20,
   "metadata": {},
   "outputs": [],
   "source": [
    "# dropout some neurons to reduce overfitting\n",
    "model.add(Dropout(drop_prob))"
   ]
  },
  {
   "cell_type": "code",
   "execution_count": 21,
   "metadata": {},
   "outputs": [],
   "source": [
    "# Readout layer\n",
    "model.add(Dense(num_classes))\n",
    "model.add(Activation('softmax'))"
   ]
  },
  {
   "cell_type": "markdown",
   "metadata": {},
   "source": [
    "Here we compile the model and tell it how to optimize and calculate loss.  We also tell it what metrics we care about, which is accuracy."
   ]
  },
  {
   "cell_type": "code",
   "execution_count": 22,
   "metadata": {},
   "outputs": [],
   "source": [
    "# Set loss and measurement, optimizer, and metric used to evaluate loss\n",
    "model.compile(loss='categorical_crossentropy',\n",
    "              optimizer='adam',\n",
    "              metrics=['accuracy'])"
   ]
  },
  {
   "cell_type": "markdown",
   "metadata": {},
   "source": [
    "Before we fit the model, we can add in some checkpoints to catch some logging that will display in tensorboard."
   ]
  },
  {
   "cell_type": "code",
   "execution_count": 23,
   "metadata": {},
   "outputs": [],
   "source": [
    "checkpoint = TensorBoard(log_dir='./logs', histogram_freq=0, batch_size=32, write_graph=True, write_grads=False, \n",
    "                         write_images=True, embeddings_freq=0, embeddings_layer_names=None, embeddings_metadata=None)"
   ]
  },
  {
   "cell_type": "markdown",
   "metadata": {},
   "source": [
    "Now we fit the model!  Here, we are fitting the model in batches of 128 images, and in 2 \"epochs\", meaning we going through the training data 2 times.  We are also setting it to verbose mode we we can see it work.  In order to test the model at the same time, 10,000 samples were held over to validate the accuracy."
   ]
  },
  {
   "cell_type": "code",
   "execution_count": null,
   "metadata": {},
   "outputs": [
    {
     "name": "stdout",
     "output_type": "stream",
     "text": [
      "Train on 55000 samples, validate on 10000 samples\n",
      "Epoch 1/2\n"
     ]
    }
   ],
   "source": [
    "# fit the training data to the model.  Displays the time, loss, and validation accuracy on the test data\n",
    "model.fit(train_images, mnist.train.labels, batch_size=128, nb_epoch=2,\n",
    "          verbose=1, validation_data=(test_images, mnist.test.labels), callbacks=[checkpoint])"
   ]
  },
  {
   "cell_type": "markdown",
   "metadata": {},
   "source": [
    "Now lets see how we did!"
   ]
  },
  {
   "cell_type": "code",
   "execution_count": 23,
   "metadata": {},
   "outputs": [
    {
     "name": "stdout",
     "output_type": "stream",
     "text": [
      "Actual test labels: [7 2 1 ... 4 5 6]\n",
      "Predicted test labels: [7 2 1 ... 4 5 6]\n",
      "Accuracy score: 0.982\n"
     ]
    }
   ],
   "source": [
    "predicted_test_labels = np.argmax(model.predict(test_images), axis=1)\n",
    "test_labels = np.argmax(mnist.test.labels, axis=1)\n",
    "print (\"Actual test labels:\", test_labels)\n",
    "print (\"Predicted test labels:\", predicted_test_labels)\n",
    "print(\"Tensor Flow Accuracy Score\", accuracy_score(test_labels, predicted_test_labels))\n",
    "print(classification_report(test_labels, predicted_test_labels))"
   ]
  },
  {
   "cell_type": "code",
   "execution_count": 24,
   "metadata": {},
   "outputs": [
    {
     "name": "stdout",
     "output_type": "stream",
     "text": [
      "Tensor Flow Accuracy Score 0.982\n",
      "             precision    recall  f1-score   support\n",
      "\n",
      "          0       0.98      0.99      0.99       980\n",
      "          1       0.99      0.99      0.99      1135\n",
      "          2       0.98      0.99      0.99      1032\n",
      "          3       0.98      0.98      0.98      1010\n",
      "          4       0.99      0.98      0.99       982\n",
      "          5       0.96      0.99      0.97       892\n",
      "          6       1.00      0.96      0.98       958\n",
      "          7       0.99      0.97      0.98      1028\n",
      "          8       0.97      0.99      0.98       974\n",
      "          9       0.98      0.97      0.98      1009\n",
      "\n",
      "avg / total       0.98      0.98      0.98     10000\n",
      "\n"
     ]
    }
   ],
   "source": [
    "print(\"Tensor Flow Accuracy Score\", accuracy_score(test_labels, predicted_test_labels))\n",
    "print(classification_report(test_labels, predicted_test_labels))"
   ]
  },
  {
   "cell_type": "markdown",
   "metadata": {},
   "source": [
    "## Done!  "
   ]
  },
  {
   "cell_type": "markdown",
   "metadata": {},
   "source": [
    "Looking at the results, there is a chance that this is overfit. So, now would be the time to perform some k-fold cross validation. However, I won't be able to complete this due to the computational overhead that is required.  In Scikit Learn, k-folds cross validation is built in.  This is unfortunately not the case in TensorFlow.\n",
    "\n",
    "But before we go, lets take a look at TensorBoard!"
   ]
  },
  {
   "cell_type": "code",
   "execution_count": null,
   "metadata": {},
   "outputs": [],
   "source": []
  }
 ],
 "metadata": {
  "kernelspec": {
   "display_name": "Python 3",
   "language": "python",
   "name": "python3"
  },
  "language_info": {
   "codemirror_mode": {
    "name": "ipython",
    "version": 3
   },
   "file_extension": ".py",
   "mimetype": "text/x-python",
   "name": "python",
   "nbconvert_exporter": "python",
   "pygments_lexer": "ipython3",
   "version": "3.6.4"
  }
 },
 "nbformat": 4,
 "nbformat_minor": 2
}
