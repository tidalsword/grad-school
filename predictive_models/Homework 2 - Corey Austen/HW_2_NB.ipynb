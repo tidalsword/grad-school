{
 "cells": [
  {
   "cell_type": "markdown",
   "metadata": {},
   "source": [
    "# Corey Austen - Homework 2 - Notebook 1"
   ]
  },
  {
   "cell_type": "markdown",
   "metadata": {},
   "source": [
    "### Import standard packages for Machine Learning"
   ]
  },
  {
   "cell_type": "code",
   "execution_count": 1,
   "metadata": {},
   "outputs": [],
   "source": [
    "#Add packages\n",
    "%matplotlib inline \n",
    "import numpy as np\n",
    "import matplotlib.pyplot as plt\n",
    "import pandas as pd\n",
    "import time\n",
    "from sklearn import preprocessing\n",
    "from sklearn.model_selection  import train_test_split, cross_val_score, KFold\n",
    "from sklearn.model_selection import GridSearchCV\n",
    "from sklearn.metrics import accuracy_score, precision_score, recall_score, f1_score\n",
    "from sklearn.metrics import roc_curve, auc, confusion_matrix, classification_report"
   ]
  },
  {
   "cell_type": "markdown",
   "metadata": {},
   "source": [
    "### Hide Warnings"
   ]
  },
  {
   "cell_type": "code",
   "execution_count": 72,
   "metadata": {},
   "outputs": [],
   "source": [
    "#Hiding warnings in order to save space\n",
    "import warnings\n",
    "warnings.filterwarnings('ignore')"
   ]
  },
  {
   "cell_type": "markdown",
   "metadata": {},
   "source": [
    "## Read in the Adult dataset.\n"
   ]
  },
  {
   "cell_type": "code",
   "execution_count": 31,
   "metadata": {},
   "outputs": [],
   "source": [
    "#Read in the Adult dataset.\n",
    "#Information on the dataset found here: https://archive.ics.uci.edu/ml/machine-learning-databases/adult/adult.names\n",
    "df = pd.read_csv('https://archive.ics.uci.edu/ml/machine-learning-databases/adult/adult.data', \n",
    "                 header=None, sep=',')\n",
    "df_test = pd.read_csv('https://archive.ics.uci.edu/ml/machine-learning-databases/adult/adult.test', \n",
    "                 header=None, skiprows=1, sep=',')"
   ]
  },
  {
   "cell_type": "markdown",
   "metadata": {},
   "source": [
    "### Descriptions of Features\n",
    "\n",
    "###### income: (target variable) string of income above or below 50K\n",
    "\n",
    "age: continuous.\n",
    "\n",
    "workclass: Private, Self-emp-not-inc, Self-emp-inc, Federal-gov, Local-gov, State-gov, Without-pay, Never-worked.\n",
    "\n",
    "fnlwgt: continuous.\n",
    "\n",
    "education: Bachelors, Some-college, 11th, HS-grad, Prof-school, Assoc-acdm, Assoc-voc, 9th, 7th-8th, 12th, Masters, 1st-4th, 10th, Doctorate, 5th-6th, Preschool.\n",
    "\n",
    "education-num: continuous.\n",
    "\n",
    "marital-status: Married-civ-spouse, Divorced, Never-married, Separated, Widowed, Married-spouse-absent, Married-AF-spouse.\n",
    "\n",
    "occupation: Tech-support, Craft-repair, Other-service, Sales, Exec-managerial, Prof-specialty, Handlers-cleaners, Machine-op-inspct, Adm-clerical, Farming-fishing, Transport-moving, Priv-house-serv, Protective-serv, Armed-Forces.\n",
    "\n",
    "relationship: Wife, Own-child, Husband, Not-in-family, Other-relative, Unmarried.\n",
    "\n",
    "race: White, Asian-Pac-Islander, Amer-Indian-Eskimo, Other, Black.\n",
    "\n",
    "sex: Female, Male.\n",
    "\n",
    "capital-gain: continuous.\n",
    "\n",
    "capital-loss: continuous.\n",
    "\n",
    "hours-per-week: continuous.\n",
    "\n",
    "native-country: string of country name"
   ]
  },
  {
   "cell_type": "code",
   "execution_count": 32,
   "metadata": {
    "code_folding": []
   },
   "outputs": [],
   "source": [
    "#Set the column names\n",
    "df.columns = ['age','workclass','fnlwgt','education','education-num','marital-status','occupation','relationship','race','sex','capital-gain','capital-loss','hours-per-week','native-country','income']\n",
    "df_test.columns = df.columns"
   ]
  },
  {
   "cell_type": "code",
   "execution_count": 33,
   "metadata": {
    "code_folding": []
   },
   "outputs": [],
   "source": [
    "#Set the target variable as income (a yes/no variable). \n",
    "# designate target variable name\n",
    "targetName = 'income'\n",
    "targetSeries = df[targetName]\n",
    "#remove target from current location and insert in collum 0\n",
    "del df[targetName]\n",
    "df.insert(0, targetName, targetSeries)\n",
    "\n",
    "targetSeries = df_test[targetName]\n",
    "#remove target from current location and insert in column 0\n",
    "del df_test[targetName]\n",
    "df_test.insert(0, targetName, targetSeries)"
   ]
  },
  {
   "cell_type": "code",
   "execution_count": 34,
   "metadata": {},
   "outputs": [],
   "source": [
    "#Education and Relationship are referenced twice in the dataset.  I will remove these features to prevent the influence of correlation.\n",
    "del df['education']\n",
    "del df_test['education']\n",
    "del df['relationship']\n",
    "del df_test['relationship']"
   ]
  },
  {
   "cell_type": "markdown",
   "metadata": {},
   "source": [
    "# EDA"
   ]
  },
  {
   "cell_type": "code",
   "execution_count": 35,
   "metadata": {
    "code_folding": []
   },
   "outputs": [
    {
     "data": {
      "text/plain": [
       "<matplotlib.lines.Line2D at 0x1a0ba952208>"
      ]
     },
     "execution_count": 35,
     "metadata": {},
     "output_type": "execute_result"
    },
    {
     "data": {
      "image/png": "[encoded data removed]",
      "text/plain": [
       "<matplotlib.figure.Figure at 0x1a0b966c978>"
      ]
     },
     "metadata": {},
     "output_type": "display_data"
    }
   ],
   "source": [
    "#Graph showing target distribution\n",
    "groupby = df.groupby(targetName)\n",
    "targetEDA=groupby[targetName].aggregate(len)\n",
    "plt.figure()\n",
    "targetEDA.plot(kind='bar', grid=False)\n",
    "plt.axhline(0, color='k')"
   ]
  },
  {
   "cell_type": "code",
   "execution_count": 36,
   "metadata": {
    "code_folding": [
     0
    ]
   },
   "outputs": [
    {
     "name": "stdout",
     "output_type": "stream",
     "text": [
      "Target Distribution as Percent of Total Target: income\n",
      " <=50K    75.919044\n",
      " >50K     24.080956\n",
      "dtype: float64\n"
     ]
    }
   ],
   "source": [
    "#This Shows how the target is distributed in the data as a percentage of the total\n",
    "print(\"Target Distribution as Percent of Total Target:\", df.groupby(targetName).size() * 100 / len(df))"
   ]
  },
  {
   "cell_type": "code",
   "execution_count": 37,
   "metadata": {
    "code_folding": []
   },
   "outputs": [
    {
     "data": {
      "text/html": [
       "<div>\n",
       "<style scoped>\n",
       "    .dataframe tbody tr th:only-of-type {\n",
       "        vertical-align: middle;\n",
       "    }\n",
       "\n",
       "    .dataframe tbody tr th {\n",
       "        vertical-align: top;\n",
       "    }\n",
       "\n",
       "    .dataframe thead th {\n",
       "        text-align: right;\n",
       "    }\n",
       "</style>\n",
       "<table border=\"1\" class=\"dataframe\">\n",
       "  <thead>\n",
       "    <tr style=\"text-align: right;\">\n",
       "      <th></th>\n",
       "      <th>age</th>\n",
       "      <th>fnlwgt</th>\n",
       "      <th>education-num</th>\n",
       "      <th>capital-gain</th>\n",
       "      <th>capital-loss</th>\n",
       "      <th>hours-per-week</th>\n",
       "    </tr>\n",
       "  </thead>\n",
       "  <tbody>\n",
       "    <tr>\n",
       "      <th>count</th>\n",
       "      <td>32561.000000</td>\n",
       "      <td>3.256100e+04</td>\n",
       "      <td>32561.000000</td>\n",
       "      <td>32561.000000</td>\n",
       "      <td>32561.000000</td>\n",
       "      <td>32561.000000</td>\n",
       "    </tr>\n",
       "    <tr>\n",
       "      <th>mean</th>\n",
       "      <td>38.581647</td>\n",
       "      <td>1.897784e+05</td>\n",
       "      <td>10.080679</td>\n",
       "      <td>1077.648844</td>\n",
       "      <td>87.303830</td>\n",
       "      <td>40.437456</td>\n",
       "    </tr>\n",
       "    <tr>\n",
       "      <th>std</th>\n",
       "      <td>13.640433</td>\n",
       "      <td>1.055500e+05</td>\n",
       "      <td>2.572720</td>\n",
       "      <td>7385.292085</td>\n",
       "      <td>402.960219</td>\n",
       "      <td>12.347429</td>\n",
       "    </tr>\n",
       "    <tr>\n",
       "      <th>min</th>\n",
       "      <td>17.000000</td>\n",
       "      <td>1.228500e+04</td>\n",
       "      <td>1.000000</td>\n",
       "      <td>0.000000</td>\n",
       "      <td>0.000000</td>\n",
       "      <td>1.000000</td>\n",
       "    </tr>\n",
       "    <tr>\n",
       "      <th>25%</th>\n",
       "      <td>28.000000</td>\n",
       "      <td>1.178270e+05</td>\n",
       "      <td>9.000000</td>\n",
       "      <td>0.000000</td>\n",
       "      <td>0.000000</td>\n",
       "      <td>40.000000</td>\n",
       "    </tr>\n",
       "    <tr>\n",
       "      <th>50%</th>\n",
       "      <td>37.000000</td>\n",
       "      <td>1.783560e+05</td>\n",
       "      <td>10.000000</td>\n",
       "      <td>0.000000</td>\n",
       "      <td>0.000000</td>\n",
       "      <td>40.000000</td>\n",
       "    </tr>\n",
       "    <tr>\n",
       "      <th>75%</th>\n",
       "      <td>48.000000</td>\n",
       "      <td>2.370510e+05</td>\n",
       "      <td>12.000000</td>\n",
       "      <td>0.000000</td>\n",
       "      <td>0.000000</td>\n",
       "      <td>45.000000</td>\n",
       "    </tr>\n",
       "    <tr>\n",
       "      <th>max</th>\n",
       "      <td>90.000000</td>\n",
       "      <td>1.484705e+06</td>\n",
       "      <td>16.000000</td>\n",
       "      <td>99999.000000</td>\n",
       "      <td>4356.000000</td>\n",
       "      <td>99.000000</td>\n",
       "    </tr>\n",
       "  </tbody>\n",
       "</table>\n",
       "</div>"
      ],
      "text/plain": [
       "                age        fnlwgt  education-num  capital-gain  capital-loss  \\\n",
       "count  32561.000000  3.256100e+04   32561.000000  32561.000000  32561.000000   \n",
       "mean      38.581647  1.897784e+05      10.080679   1077.648844     87.303830   \n",
       "std       13.640433  1.055500e+05       2.572720   7385.292085    402.960219   \n",
       "min       17.000000  1.228500e+04       1.000000      0.000000      0.000000   \n",
       "25%       28.000000  1.178270e+05       9.000000      0.000000      0.000000   \n",
       "50%       37.000000  1.783560e+05      10.000000      0.000000      0.000000   \n",
       "75%       48.000000  2.370510e+05      12.000000      0.000000      0.000000   \n",
       "max       90.000000  1.484705e+06      16.000000  99999.000000   4356.000000   \n",
       "\n",
       "       hours-per-week  \n",
       "count    32561.000000  \n",
       "mean        40.437456  \n",
       "std         12.347429  \n",
       "min          1.000000  \n",
       "25%         40.000000  \n",
       "50%         40.000000  \n",
       "75%         45.000000  \n",
       "max         99.000000  "
      ]
     },
     "execution_count": 37,
     "metadata": {},
     "output_type": "execute_result"
    }
   ],
   "source": [
    "#Show information on the dataset\n",
    "df.describe()"
   ]
  },
  {
   "cell_type": "code",
   "execution_count": 38,
   "metadata": {
    "code_folding": []
   },
   "outputs": [
    {
     "data": {
      "text/html": [
       "<div>\n",
       "<style scoped>\n",
       "    .dataframe tbody tr th:only-of-type {\n",
       "        vertical-align: middle;\n",
       "    }\n",
       "\n",
       "    .dataframe tbody tr th {\n",
       "        vertical-align: top;\n",
       "    }\n",
       "\n",
       "    .dataframe thead th {\n",
       "        text-align: right;\n",
       "    }\n",
       "</style>\n",
       "<table border=\"1\" class=\"dataframe\">\n",
       "  <thead>\n",
       "    <tr style=\"text-align: right;\">\n",
       "      <th></th>\n",
       "      <th>income</th>\n",
       "      <th>age</th>\n",
       "      <th>workclass</th>\n",
       "      <th>fnlwgt</th>\n",
       "      <th>education-num</th>\n",
       "      <th>marital-status</th>\n",
       "      <th>occupation</th>\n",
       "      <th>race</th>\n",
       "      <th>sex</th>\n",
       "      <th>capital-gain</th>\n",
       "      <th>capital-loss</th>\n",
       "      <th>hours-per-week</th>\n",
       "      <th>native-country</th>\n",
       "    </tr>\n",
       "  </thead>\n",
       "  <tbody>\n",
       "    <tr>\n",
       "      <th>0</th>\n",
       "      <td>&lt;=50K</td>\n",
       "      <td>39</td>\n",
       "      <td>State-gov</td>\n",
       "      <td>77516</td>\n",
       "      <td>13</td>\n",
       "      <td>Never-married</td>\n",
       "      <td>Adm-clerical</td>\n",
       "      <td>White</td>\n",
       "      <td>Male</td>\n",
       "      <td>2174</td>\n",
       "      <td>0</td>\n",
       "      <td>40</td>\n",
       "      <td>United-States</td>\n",
       "    </tr>\n",
       "    <tr>\n",
       "      <th>1</th>\n",
       "      <td>&lt;=50K</td>\n",
       "      <td>50</td>\n",
       "      <td>Self-emp-not-inc</td>\n",
       "      <td>83311</td>\n",
       "      <td>13</td>\n",
       "      <td>Married-civ-spouse</td>\n",
       "      <td>Exec-managerial</td>\n",
       "      <td>White</td>\n",
       "      <td>Male</td>\n",
       "      <td>0</td>\n",
       "      <td>0</td>\n",
       "      <td>13</td>\n",
       "      <td>United-States</td>\n",
       "    </tr>\n",
       "    <tr>\n",
       "      <th>2</th>\n",
       "      <td>&lt;=50K</td>\n",
       "      <td>38</td>\n",
       "      <td>Private</td>\n",
       "      <td>215646</td>\n",
       "      <td>9</td>\n",
       "      <td>Divorced</td>\n",
       "      <td>Handlers-cleaners</td>\n",
       "      <td>White</td>\n",
       "      <td>Male</td>\n",
       "      <td>0</td>\n",
       "      <td>0</td>\n",
       "      <td>40</td>\n",
       "      <td>United-States</td>\n",
       "    </tr>\n",
       "    <tr>\n",
       "      <th>3</th>\n",
       "      <td>&lt;=50K</td>\n",
       "      <td>53</td>\n",
       "      <td>Private</td>\n",
       "      <td>234721</td>\n",
       "      <td>7</td>\n",
       "      <td>Married-civ-spouse</td>\n",
       "      <td>Handlers-cleaners</td>\n",
       "      <td>Black</td>\n",
       "      <td>Male</td>\n",
       "      <td>0</td>\n",
       "      <td>0</td>\n",
       "      <td>40</td>\n",
       "      <td>United-States</td>\n",
       "    </tr>\n",
       "    <tr>\n",
       "      <th>4</th>\n",
       "      <td>&lt;=50K</td>\n",
       "      <td>28</td>\n",
       "      <td>Private</td>\n",
       "      <td>338409</td>\n",
       "      <td>13</td>\n",
       "      <td>Married-civ-spouse</td>\n",
       "      <td>Prof-specialty</td>\n",
       "      <td>Black</td>\n",
       "      <td>Female</td>\n",
       "      <td>0</td>\n",
       "      <td>0</td>\n",
       "      <td>40</td>\n",
       "      <td>Cuba</td>\n",
       "    </tr>\n",
       "    <tr>\n",
       "      <th>5</th>\n",
       "      <td>&lt;=50K</td>\n",
       "      <td>37</td>\n",
       "      <td>Private</td>\n",
       "      <td>284582</td>\n",
       "      <td>14</td>\n",
       "      <td>Married-civ-spouse</td>\n",
       "      <td>Exec-managerial</td>\n",
       "      <td>White</td>\n",
       "      <td>Female</td>\n",
       "      <td>0</td>\n",
       "      <td>0</td>\n",
       "      <td>40</td>\n",
       "      <td>United-States</td>\n",
       "    </tr>\n",
       "    <tr>\n",
       "      <th>6</th>\n",
       "      <td>&lt;=50K</td>\n",
       "      <td>49</td>\n",
       "      <td>Private</td>\n",
       "      <td>160187</td>\n",
       "      <td>5</td>\n",
       "      <td>Married-spouse-absent</td>\n",
       "      <td>Other-service</td>\n",
       "      <td>Black</td>\n",
       "      <td>Female</td>\n",
       "      <td>0</td>\n",
       "      <td>0</td>\n",
       "      <td>16</td>\n",
       "      <td>Jamaica</td>\n",
       "    </tr>\n",
       "    <tr>\n",
       "      <th>7</th>\n",
       "      <td>&gt;50K</td>\n",
       "      <td>52</td>\n",
       "      <td>Self-emp-not-inc</td>\n",
       "      <td>209642</td>\n",
       "      <td>9</td>\n",
       "      <td>Married-civ-spouse</td>\n",
       "      <td>Exec-managerial</td>\n",
       "      <td>White</td>\n",
       "      <td>Male</td>\n",
       "      <td>0</td>\n",
       "      <td>0</td>\n",
       "      <td>45</td>\n",
       "      <td>United-States</td>\n",
       "    </tr>\n",
       "    <tr>\n",
       "      <th>8</th>\n",
       "      <td>&gt;50K</td>\n",
       "      <td>31</td>\n",
       "      <td>Private</td>\n",
       "      <td>45781</td>\n",
       "      <td>14</td>\n",
       "      <td>Never-married</td>\n",
       "      <td>Prof-specialty</td>\n",
       "      <td>White</td>\n",
       "      <td>Female</td>\n",
       "      <td>14084</td>\n",
       "      <td>0</td>\n",
       "      <td>50</td>\n",
       "      <td>United-States</td>\n",
       "    </tr>\n",
       "    <tr>\n",
       "      <th>9</th>\n",
       "      <td>&gt;50K</td>\n",
       "      <td>42</td>\n",
       "      <td>Private</td>\n",
       "      <td>159449</td>\n",
       "      <td>13</td>\n",
       "      <td>Married-civ-spouse</td>\n",
       "      <td>Exec-managerial</td>\n",
       "      <td>White</td>\n",
       "      <td>Male</td>\n",
       "      <td>5178</td>\n",
       "      <td>0</td>\n",
       "      <td>40</td>\n",
       "      <td>United-States</td>\n",
       "    </tr>\n",
       "  </tbody>\n",
       "</table>\n",
       "</div>"
      ],
      "text/plain": [
       "   income  age          workclass  fnlwgt  education-num  \\\n",
       "0   <=50K   39          State-gov   77516             13   \n",
       "1   <=50K   50   Self-emp-not-inc   83311             13   \n",
       "2   <=50K   38            Private  215646              9   \n",
       "3   <=50K   53            Private  234721              7   \n",
       "4   <=50K   28            Private  338409             13   \n",
       "5   <=50K   37            Private  284582             14   \n",
       "6   <=50K   49            Private  160187              5   \n",
       "7    >50K   52   Self-emp-not-inc  209642              9   \n",
       "8    >50K   31            Private   45781             14   \n",
       "9    >50K   42            Private  159449             13   \n",
       "\n",
       "           marital-status          occupation    race      sex  capital-gain  \\\n",
       "0           Never-married        Adm-clerical   White     Male          2174   \n",
       "1      Married-civ-spouse     Exec-managerial   White     Male             0   \n",
       "2                Divorced   Handlers-cleaners   White     Male             0   \n",
       "3      Married-civ-spouse   Handlers-cleaners   Black     Male             0   \n",
       "4      Married-civ-spouse      Prof-specialty   Black   Female             0   \n",
       "5      Married-civ-spouse     Exec-managerial   White   Female             0   \n",
       "6   Married-spouse-absent       Other-service   Black   Female             0   \n",
       "7      Married-civ-spouse     Exec-managerial   White     Male             0   \n",
       "8           Never-married      Prof-specialty   White   Female         14084   \n",
       "9      Married-civ-spouse     Exec-managerial   White     Male          5178   \n",
       "\n",
       "   capital-loss  hours-per-week  native-country  \n",
       "0             0              40   United-States  \n",
       "1             0              13   United-States  \n",
       "2             0              40   United-States  \n",
       "3             0              40   United-States  \n",
       "4             0              40            Cuba  \n",
       "5             0              40   United-States  \n",
       "6             0              16         Jamaica  \n",
       "7             0              45   United-States  \n",
       "8             0              50   United-States  \n",
       "9             0              40   United-States  "
      ]
     },
     "execution_count": 38,
     "metadata": {},
     "output_type": "execute_result"
    }
   ],
   "source": [
    "#Take a look at the top 10 rows\n",
    "df.head(10)"
   ]
  },
  {
   "cell_type": "code",
   "execution_count": 39,
   "metadata": {
    "code_folding": []
   },
   "outputs": [
    {
     "data": {
      "text/plain": [
       "income            object\n",
       "age                int64\n",
       "workclass         object\n",
       "fnlwgt             int64\n",
       "education-num      int64\n",
       "marital-status    object\n",
       "occupation        object\n",
       "race              object\n",
       "sex               object\n",
       "capital-gain       int64\n",
       "capital-loss       int64\n",
       "hours-per-week     int64\n",
       "native-country    object\n",
       "dtype: object"
      ]
     },
     "execution_count": 39,
     "metadata": {},
     "output_type": "execute_result"
    }
   ],
   "source": [
    "#Look at the data types of each feature\n",
    "df.dtypes"
   ]
  },
  {
   "cell_type": "markdown",
   "metadata": {},
   "source": [
    "### Transform the data so factors are dummied and missing values (if any) are fixed."
   ]
  },
  {
   "cell_type": "code",
   "execution_count": 40,
   "metadata": {
    "code_folding": []
   },
   "outputs": [],
   "source": [
    "# This code turns a text target into numeric to some scikit learn alogrythms can process it\n",
    "from sklearn import preprocessing\n",
    "le_dep = preprocessing.LabelEncoder()\n",
    "#to convert into numbers\n",
    "df['income'] = le_dep.fit_transform(df['income'])\n",
    "df_test['income'] = le_dep.fit_transform(df_test['income'])"
   ]
  },
  {
   "cell_type": "code",
   "execution_count": 41,
   "metadata": {
    "code_folding": []
   },
   "outputs": [],
   "source": [
    "# perform data transformation. Creates dummies of any categorical feature\n",
    "for col in df.columns[1:]:\n",
    "\tattName = col\n",
    "\tdType = df[col].dtype\n",
    "\tmissing = pd.isnull(df[col]).any()\n",
    "\tuniqueCount = len(df[attName].value_counts(normalize=False))\n",
    "\t# discretize (create dummies)\n",
    "\tif dType == object:\n",
    "\t\tdf = pd.concat([df, pd.get_dummies(df[col], prefix=col)], axis=1)\n",
    "\t\tdel df[attName]\n",
    "        \n",
    "for col in df_test.columns[1:]:\n",
    "\tattName = col\n",
    "\tdType = df_test[col].dtype\n",
    "\tmissing = pd.isnull(df_test[col]).any()\n",
    "\tuniqueCount = len(df_test[attName].value_counts(normalize=False))\n",
    "\t# discretize (create dummies)\n",
    "\tif dType == object:\n",
    "\t\tdf_test = pd.concat([df_test, pd.get_dummies(df_test[col], prefix=col)], axis=1)\n",
    "\t\tdel df_test[attName]"
   ]
  },
  {
   "cell_type": "code",
   "execution_count": 42,
   "metadata": {
    "code_folding": []
   },
   "outputs": [],
   "source": [
    "#  'native-country_ Holand-Netherlands' is only found in Train set, so I'll add it in with all 0 values to the \"test\" set.\n",
    "df_test['native-country_ Holand-Netherlands']=0"
   ]
  },
  {
   "cell_type": "markdown",
   "metadata": {},
   "source": [
    "### Seperating the target from the features."
   ]
  },
  {
   "cell_type": "code",
   "execution_count": 85,
   "metadata": {
    "code_folding": []
   },
   "outputs": [],
   "source": [
    "features_train= df.iloc[:,1:].values\n",
    "target_train= df.iloc[:,0].values\n",
    "features_test= df_test.iloc[:,1:].values\n",
    "target_test= df_test.iloc[:,0].values"
   ]
  },
  {
   "cell_type": "markdown",
   "metadata": {},
   "source": [
    "### Normalizing the feature spaces."
   ]
  },
  {
   "cell_type": "code",
   "execution_count": 44,
   "metadata": {
    "code_folding": []
   },
   "outputs": [
    {
     "name": "stderr",
     "output_type": "stream",
     "text": [
      "C:\\Users\\Corey\\Anaconda3\\lib\\site-packages\\sklearn\\utils\\validation.py:475: DataConversionWarning: Data with input dtype int64 was converted to float64 by StandardScaler.\n",
      "  warnings.warn(msg, DataConversionWarning)\n"
     ]
    }
   ],
   "source": [
    "# Normalization - Standard Scaler\n",
    "from sklearn.preprocessing import StandardScaler  \n",
    "scaler = StandardScaler()  \n",
    "# Fit on training data\n",
    "scaler.fit(features_train)  \n",
    "X_train = scaler.transform(features_train)  \n",
    "# apply same transformation to test data\n",
    "scaler.fit(features_test)\n",
    "X_test = scaler.transform(features_test)  "
   ]
  },
  {
   "cell_type": "code",
   "execution_count": 45,
   "metadata": {
    "code_folding": []
   },
   "outputs": [],
   "source": [
    "#This will be used to quickly show the variance during cross validation by showing the range of scores.\n",
    "def cvrange(scores):\n",
    "    return max(scores) - min(scores)"
   ]
  },
  {
   "cell_type": "markdown",
   "metadata": {},
   "source": [
    "# Models"
   ]
  },
  {
   "cell_type": "markdown",
   "metadata": {},
   "source": [
    "## Decision Tree - v1"
   ]
  },
  {
   "cell_type": "code",
   "execution_count": 46,
   "metadata": {
    "code_folding": []
   },
   "outputs": [
    {
     "name": "stdout",
     "output_type": "stream",
     "text": [
      "DecisionTreeClassifier(class_weight=None, criterion='gini', max_depth=None,\n",
      "            max_features=None, max_leaf_nodes=None,\n",
      "            min_impurity_decrease=0.0, min_impurity_split=None,\n",
      "            min_samples_leaf=1, min_samples_split=2,\n",
      "            min_weight_fraction_leaf=0.0, presort=False, random_state=None,\n",
      "            splitter='best')\n",
      "---------------------------------------------------------------------------\n",
      "DT v1 Accuracy Score: 0.8019163442049014\n",
      "---------------------------------------------------------------------------\n",
      "             precision    recall  f1-score   support\n",
      "\n",
      " >$50K = no       0.87      0.86      0.87     12435\n",
      ">$50K = yes       0.58      0.60      0.59      3846\n",
      "\n",
      "avg / total       0.80      0.80      0.80     16281\n",
      "\n",
      "[[10751  1684]\n",
      " [ 1541  2305]]\n",
      "---------------------------------------------------------------------------\n",
      "Time to run: 0.3100355185979424 seconds\n"
     ]
    }
   ],
   "source": [
    "#Decision Tree v1.\n",
    "start_time = time.clock()\n",
    "from sklearn import tree \n",
    "model_dt1 = tree.DecisionTreeClassifier()\n",
    "print(model_dt1)\n",
    "print('-'*75)\n",
    "model_dt1 = model_dt1.fit(features_train, target_train)\n",
    "target_predicted_dt1 = model_dt1.predict(features_test)\n",
    "print(\"DT v1 Accuracy Score:\", accuracy_score(target_test, target_predicted_dt1))\n",
    "print('-'*75)\n",
    "print(classification_report(target_test, target_predicted_dt1,target_names = [\">$50K = no\", \">$50K = yes\"]))\n",
    "print(confusion_matrix(target_test, target_predicted_dt1))\n",
    "print('-'*75)\n",
    "print(\"Time to run:\", time.clock() - start_time, \"seconds\")"
   ]
  },
  {
   "cell_type": "markdown",
   "metadata": {},
   "source": [
    "### Cross validation - Decision Tree v1"
   ]
  },
  {
   "cell_type": "code",
   "execution_count": 18,
   "metadata": {
    "code_folding": []
   },
   "outputs": [
    {
     "name": "stdout",
     "output_type": "stream",
     "text": [
      "Time to run: 3.2253597726491154 seconds\n",
      "---------------------------------------------------------------------------\n",
      "Cross Validation Score for each K: [0.80841265 0.81633907 0.81726044 0.80927518 0.8215602  0.81971744\n",
      " 0.82616708 0.82309582 0.83660934 0.80835381]\n",
      "---------------------------------------------------------------------------\n",
      "CV Score Mean: 0.8186791028055996\n",
      "Range of CV Scores: 0.02825552825552824\n"
     ]
    }
   ],
   "source": [
    "#Cross Validation - Decision Tree v1\n",
    "start_time = time.clock()\n",
    "scores = cross_val_score(model_dt1, features_train, target_train, cv=10)\n",
    "print(\"Time to run:\", time.clock() - start_time, \"seconds\")\n",
    "print('-'*75)\n",
    "print(\"Cross Validation Score for each K:\",scores)\n",
    "print('-'*75)\n",
    "print(\"CV Score Mean:\",scores.mean())\n",
    "range_dt1= cvrange(scores)\n",
    "print(\"Range of CV Scores:\", range_dt1)"
   ]
  },
  {
   "cell_type": "markdown",
   "metadata": {},
   "source": [
    "## Decision Tree - v2"
   ]
  },
  {
   "cell_type": "code",
   "execution_count": 47,
   "metadata": {
    "code_folding": []
   },
   "outputs": [
    {
     "name": "stdout",
     "output_type": "stream",
     "text": [
      "DecisionTreeClassifier(class_weight=None, criterion='gini', max_depth=None,\n",
      "            max_features=None, max_leaf_nodes=None,\n",
      "            min_impurity_decrease=0.0, min_impurity_split=None,\n",
      "            min_samples_leaf=2, min_samples_split=2,\n",
      "            min_weight_fraction_leaf=0.0, presort=False, random_state=None,\n",
      "            splitter='best')\n",
      "---------------------------------------------------------------------------\n",
      "DT v2 Accuracy Score: 0.8227381610466188\n",
      "---------------------------------------------------------------------------\n",
      "             precision    recall  f1-score   support\n",
      "\n",
      " >$50K = no       0.87      0.90      0.89     12435\n",
      ">$50K = yes       0.64      0.56      0.60      3846\n",
      "\n",
      "avg / total       0.82      0.82      0.82     16281\n",
      "\n",
      "[[11249  1186]\n",
      " [ 1700  2146]]\n",
      "---------------------------------------------------------------------------\n",
      "Time to run: 0.2951565056890786 seconds\n"
     ]
    }
   ],
   "source": [
    "#Decision Tree v2\n",
    "start_time = time.clock()\n",
    "model_dt2 = tree.DecisionTreeClassifier(min_samples_leaf=2, min_samples_split=2,)\n",
    "print(model_dt2)\n",
    "print('-'*75)\n",
    "model_dt2 = model_dt2.fit(features_train, target_train)\n",
    "target_predicted_dt2 = model_dt2.predict(features_test)\n",
    "print(\"DT v2 Accuracy Score:\", accuracy_score(target_test, target_predicted_dt2))\n",
    "print('-'*75)\n",
    "print(classification_report(target_test, target_predicted_dt2,target_names = [\">$50K = no\", \">$50K = yes\"]))\n",
    "print(confusion_matrix(target_test, target_predicted_dt2))\n",
    "print('-'*75)\n",
    "print(\"Time to run:\", time.clock() - start_time, \"seconds\")"
   ]
  },
  {
   "cell_type": "markdown",
   "metadata": {},
   "source": [
    "### Cross validation - Decision Tree v2"
   ]
  },
  {
   "cell_type": "code",
   "execution_count": 22,
   "metadata": {
    "code_folding": []
   },
   "outputs": [
    {
     "name": "stdout",
     "output_type": "stream",
     "text": [
      "Time to run: 3.6083746749864822 seconds\n",
      "---------------------------------------------------------------------------\n",
      "Cross Validation Score for each K: [0.82161498 0.81173219 0.82708845 0.81941032 0.83353808 0.82831695\n",
      " 0.82862408 0.83261671 0.83875921 0.82002457]\n",
      "---------------------------------------------------------------------------\n",
      "CV Score Mean: 0.8261725548223859\n",
      "Range of CV Scores: 0.027027027027027084\n"
     ]
    }
   ],
   "source": [
    "#Cross Validation - DT v3\n",
    "start_time = time.clock()\n",
    "scores = cross_val_score(model_dt2, features_train, target_train, cv=10)\n",
    "print(\"Time to run:\", time.clock() - start_time, \"seconds\")\n",
    "print('-'*75)\n",
    "print(\"Cross Validation Score for each K:\",scores)\n",
    "print('-'*75)\n",
    "print(\"CV Score Mean:\",scores.mean())\n",
    "range_dt2= cvrange(scores)\n",
    "print(\"Range of CV Scores:\", range_dt2)"
   ]
  },
  {
   "cell_type": "markdown",
   "metadata": {},
   "source": [
    "## Decision Tree - v3"
   ]
  },
  {
   "cell_type": "code",
   "execution_count": 48,
   "metadata": {
    "code_folding": []
   },
   "outputs": [
    {
     "name": "stdout",
     "output_type": "stream",
     "text": [
      "DecisionTreeClassifier(class_weight=None, criterion='gini', max_depth=None,\n",
      "            max_features=None, max_leaf_nodes=None,\n",
      "            min_impurity_decrease=0.0, min_impurity_split=None,\n",
      "            min_samples_leaf=2, min_samples_split=3,\n",
      "            min_weight_fraction_leaf=0.0, presort=False, random_state=None,\n",
      "            splitter='best')\n",
      "---------------------------------------------------------------------------\n",
      "DT v3 Accuracy Score: 0.8221853694490511\n",
      "---------------------------------------------------------------------------\n",
      "             precision    recall  f1-score   support\n",
      "\n",
      " >$50K = no       0.87      0.91      0.89     12435\n",
      ">$50K = yes       0.65      0.55      0.59      3846\n",
      "\n",
      "avg / total       0.81      0.82      0.82     16281\n",
      "\n",
      "[[11273  1162]\n",
      " [ 1733  2113]]\n",
      "---------------------------------------------------------------------------\n",
      "Time to run: 0.30044148647334623 seconds\n"
     ]
    }
   ],
   "source": [
    "#Decision Tree v3\n",
    "start_time = time.clock()\n",
    "model_dt3 = tree.DecisionTreeClassifier(min_samples_leaf=2, min_samples_split=3,)\n",
    "print(model_dt3)\n",
    "print('-'*75)\n",
    "model_dt3 = model_dt3.fit(features_train, target_train)\n",
    "target_predicted_dt3 = model_dt3.predict(features_test)\n",
    "print(\"DT v3 Accuracy Score:\", accuracy_score(target_test, target_predicted_dt3))\n",
    "print('-'*75)\n",
    "print(classification_report(target_test, target_predicted_dt3,target_names = [\">$50K = no\", \">$50K = yes\"]))\n",
    "print(confusion_matrix(target_test, target_predicted_dt3))\n",
    "print('-'*75)\n",
    "print(\"Time to run:\", time.clock() - start_time, \"seconds\")"
   ]
  },
  {
   "cell_type": "markdown",
   "metadata": {},
   "source": [
    "### Cross validation - Decision Tree v3"
   ]
  },
  {
   "cell_type": "code",
   "execution_count": 24,
   "metadata": {
    "code_folding": []
   },
   "outputs": [
    {
     "name": "stdout",
     "output_type": "stream",
     "text": [
      "Time to run: 3.570642244632033 seconds\n",
      "---------------------------------------------------------------------------\n",
      "Cross Validation Score for each K: [0.82345717 0.81726044 0.82678133 0.81879607 0.83046683 0.8252457\n",
      " 0.83169533 0.83200246 0.83660934 0.81603194]\n",
      "---------------------------------------------------------------------------\n",
      "CV Score Mean: 0.8258346604063522\n",
      "Range of CV Scores: 0.020577395577395574\n"
     ]
    }
   ],
   "source": [
    "#Cross Validation - Decision Tree v3\n",
    "start_time = time.clock()\n",
    "scores = cross_val_score(model_dt3, features_train, target_train, cv=10)\n",
    "print(\"Time to run:\", time.clock() - start_time, \"seconds\")\n",
    "print('-'*75)\n",
    "print(\"Cross Validation Score for each K:\",scores)\n",
    "print('-'*75)\n",
    "print(\"CV Score Mean:\",scores.mean())\n",
    "range_dt3= cvrange(scores)\n",
    "print(\"Range of CV Scores:\", range_dt3)"
   ]
  },
  {
   "cell_type": "markdown",
   "metadata": {},
   "source": [
    "## KNN - v1"
   ]
  },
  {
   "cell_type": "code",
   "execution_count": 76,
   "metadata": {
    "code_folding": []
   },
   "outputs": [
    {
     "name": "stdout",
     "output_type": "stream",
     "text": [
      "KNeighborsClassifier(algorithm='auto', leaf_size=30, metric='minkowski',\n",
      "           metric_params=None, n_jobs=1, n_neighbors=3, p=2,\n",
      "           weights='uniform')\n",
      "---------------------------------------------------------------------------\n",
      "KNN v1 Accuracy Score: 0.8124808058473066\n",
      "---------------------------------------------------------------------------\n",
      "             precision    recall  f1-score   support\n",
      "\n",
      " >$50K = no       0.87      0.89      0.88     12435\n",
      ">$50K = yes       0.61      0.56      0.58      3846\n",
      "\n",
      "avg / total       0.81      0.81      0.81     16281\n",
      "\n",
      "[[11084  1351]\n",
      " [ 1702  2144]]\n",
      "---------------------------------------------------------------------------\n",
      "Time to run: 100.81164163506719 seconds\n"
     ]
    }
   ],
   "source": [
    "#KNN v1\n",
    "from sklearn.neighbors import KNeighborsClassifier\n",
    "start_time = time.clock()\n",
    "model_knn1 = KNeighborsClassifier(n_neighbors=3)\n",
    "print(model_knn1)\n",
    "print('-'*75)\n",
    "model_knn1 = model_knn1.fit(X_train, target_train)\n",
    "target_predicted_knn1 = model_knn1.predict(X_test)\n",
    "print(\"KNN v1 Accuracy Score:\", accuracy_score(target_test, target_predicted_knn1))\n",
    "print('-'*75)\n",
    "print(classification_report(target_test, target_predicted_knn1,target_names = [\">$50K = no\", \">$50K = yes\"]))\n",
    "print(confusion_matrix(target_test, target_predicted_knn1))\n",
    "print('-'*75)\n",
    "print(\"Time to run:\", time.clock() - start_time, \"seconds\")"
   ]
  },
  {
   "cell_type": "markdown",
   "metadata": {},
   "source": [
    "### Cross Validation - KNN v1"
   ]
  },
  {
   "cell_type": "code",
   "execution_count": 100,
   "metadata": {
    "code_folding": []
   },
   "outputs": [
    {
     "name": "stdout",
     "output_type": "stream",
     "text": [
      "Time to run: 6.367643487188616 seconds\n",
      "---------------------------------------------------------------------------\n",
      "Cross Validation Score for each K: [0.76096491 0.77719298 0.75833333 0.76261518 0.75076788 0.76042124\n",
      " 0.75998245 0.75910487 0.75164546 0.76953468]\n",
      "---------------------------------------------------------------------------\n",
      "CV Score Mean: 0.7610562985279277\n",
      "Range of CV Scores: 0.026425101806732743\n"
     ]
    }
   ],
   "source": [
    "#Cross Validation - KNN v1\n",
    "start_time = time.clock()\n",
    "scores = cross_val_score(model_knn1, features_train, target_train, cv=10)\n",
    "print(\"Time to run:\", time.clock() - start_time, \"seconds\")\n",
    "print('-'*75)\n",
    "print(\"Cross Validation Score for each K:\",scores)\n",
    "print('-'*75)\n",
    "print(\"CV Score Mean:\",scores.mean())\n",
    "range_knn1= cvrange(scores)\n",
    "print(\"Range of CV Scores:\", range_knn1)"
   ]
  },
  {
   "cell_type": "markdown",
   "metadata": {},
   "source": [
    "## KNN - v2"
   ]
  },
  {
   "cell_type": "code",
   "execution_count": 84,
   "metadata": {
    "code_folding": []
   },
   "outputs": [
    {
     "name": "stdout",
     "output_type": "stream",
     "text": [
      "KNeighborsClassifier(algorithm='auto', leaf_size=30, metric='minkowski',\n",
      "           metric_params=None, n_jobs=1, n_neighbors=6, p=2,\n",
      "           weights='uniform')\n",
      "---------------------------------------------------------------------------\n",
      "KNN v2 Accuracy Score: 0.8277132854247282\n",
      "---------------------------------------------------------------------------\n",
      "             precision    recall  f1-score   support\n",
      "\n",
      " >$50K = no       0.85      0.94      0.89     12435\n",
      ">$50K = yes       0.70      0.48      0.57      3846\n",
      "\n",
      "avg / total       0.82      0.83      0.82     16281\n",
      "\n",
      "[[11646   789]\n",
      " [ 2016  1830]]\n",
      "---------------------------------------------------------------------------\n",
      "Time to run: 106.594943769569 seconds\n"
     ]
    }
   ],
   "source": [
    "#KNN v2\n",
    "start_time = time.clock()\n",
    "model_knn2 = KNeighborsClassifier(n_neighbors=6)\n",
    "print(model_knn2)\n",
    "print('-'*75)\n",
    "model_knn2 = model_knn2.fit(X_train, target_train)\n",
    "target_predicted_knn2 = model_knn2.predict(X_test)\n",
    "print(\"KNN v2 Accuracy Score:\", accuracy_score(target_test, target_predicted_knn2))\n",
    "print('-'*75)\n",
    "print(classification_report(target_test, target_predicted_knn2,target_names = [\">$50K = no\", \">$50K = yes\"]))\n",
    "print(confusion_matrix(target_test, target_predicted_knn2))\n",
    "print('-'*75)\n",
    "print(\"Time to run:\", time.clock() - start_time, \"seconds\")"
   ]
  },
  {
   "cell_type": "markdown",
   "metadata": {},
   "source": [
    "### Cross Validation - KNN v2"
   ]
  },
  {
   "cell_type": "code",
   "execution_count": 26,
   "metadata": {
    "code_folding": []
   },
   "outputs": [
    {
     "name": "stdout",
     "output_type": "stream",
     "text": [
      "Time to run: 129.01887344167244 seconds\n",
      "---------------------------------------------------------------------------\n",
      "Cross Validation Score for each K: [0.82007983 0.81941032 0.82555283 0.81142506 0.82800983 0.82063882\n",
      " 0.83353808 0.82954545 0.82309582 0.82063882]\n",
      "---------------------------------------------------------------------------\n",
      "CV Score Mean: 0.8231934864917673\n",
      "Range of CV Scores: 0.02211302211302213\n"
     ]
    }
   ],
   "source": [
    "#Cross Validation - KNN v2\n",
    "start_time = time.clock()\n",
    "scores = cross_val_score(model_knn2, X_train, target_train, cv=5)\n",
    "print(\"Time to run:\", time.clock() - start_time, \"seconds\")\n",
    "print('-'*75)\n",
    "print(\"Cross Validation Score for each K:\",scores)\n",
    "print('-'*75)\n",
    "print(\"CV Score Mean:\",scores.mean())\n",
    "range_knn2= cvrange(scores)\n",
    "print(\"Range of CV Scores:\", range_knn2)"
   ]
  },
  {
   "cell_type": "markdown",
   "metadata": {},
   "source": [
    "## KNN - v3"
   ]
  },
  {
   "cell_type": "code",
   "execution_count": 33,
   "metadata": {
    "code_folding": []
   },
   "outputs": [
    {
     "name": "stdout",
     "output_type": "stream",
     "text": [
      "KNeighborsClassifier(algorithm='auto', leaf_size=30, metric='minkowski',\n",
      "           metric_params=None, n_jobs=1, n_neighbors=18, p=2,\n",
      "           weights='uniform')\n",
      "---------------------------------------------------------------------------\n",
      "KNN v3 Accuracy Score: 0.8335483078434985\n",
      "---------------------------------------------------------------------------\n",
      "             precision    recall  f1-score   support\n",
      "\n",
      " >$50K = no       0.86      0.93      0.89     12435\n",
      ">$50K = yes       0.69      0.53      0.60      3846\n",
      "\n",
      "avg / total       0.82      0.83      0.83     16281\n",
      "\n",
      "[[11532   903]\n",
      " [ 1807  2039]]\n",
      "---------------------------------------------------------------------------\n",
      "Time to run: 130.81041254992397 seconds\n"
     ]
    }
   ],
   "source": [
    "#KNN v3\n",
    "start_time = time.clock()\n",
    "model_knn3 = KNeighborsClassifier(n_neighbors=18)\n",
    "print(model_knn3)\n",
    "print('-'*75)\n",
    "model_knn3 = model_knn3.fit(X_train, target_train)\n",
    "target_predicted_knn3 = model_knn3.predict(X_test)\n",
    "print(\"KNN v3 Accuracy Score:\", accuracy_score(target_test, target_predicted_knn3))\n",
    "print('-'*75)\n",
    "print(classification_report(target_test, target_predicted_knn3,target_names = [\">$50K = no\", \">$50K = yes\"]))\n",
    "print(confusion_matrix(target_test, target_predicted_knn3))\n",
    "print('-'*75)\n",
    "print(\"Time to run:\", time.clock() - start_time, \"seconds\")"
   ]
  },
  {
   "cell_type": "markdown",
   "metadata": {},
   "source": [
    "### Cross Validation - KNN v3"
   ]
  },
  {
   "cell_type": "code",
   "execution_count": 34,
   "metadata": {
    "code_folding": []
   },
   "outputs": [
    {
     "name": "stdout",
     "output_type": "stream",
     "text": [
      "Time to run: 129.00266126373663 seconds\n",
      "---------------------------------------------------------------------------\n",
      "Cross Validation Score for each K: [0.82499232 0.82985258 0.84060197 0.82340295 0.83323096 0.82125307\n",
      " 0.83507371 0.83906634 0.83722359 0.82708845]\n",
      "---------------------------------------------------------------------------\n",
      "CV Score Mean: 0.8311785936018359\n",
      "Range of CV Scores: 0.01934889434889442\n"
     ]
    }
   ],
   "source": [
    "#Cross Validation KNN v3\n",
    "start_time = time.clock()\n",
    "scores = cross_val_score(model_knn3, X_train, target_train, cv=10)\n",
    "print(\"Time to run:\", time.clock() - start_time, \"seconds\")\n",
    "print('-'*75)\n",
    "print(\"Cross Validation Score for each K:\",scores)\n",
    "print('-'*75)\n",
    "print(\"CV Score Mean:\",scores.mean())\n",
    "range_knn3= cvrange(scores)\n",
    "print(\"Range of CV Scores:\", range_knn3)"
   ]
  },
  {
   "cell_type": "markdown",
   "metadata": {},
   "source": [
    "### Grid Search - KNN"
   ]
  },
  {
   "cell_type": "code",
   "execution_count": 78,
   "metadata": {
    "code_folding": []
   },
   "outputs": [
    {
     "name": "stdout",
     "output_type": "stream",
     "text": [
      "SCORES: {'mean_fit_time': array([1.71066833, 2.23955746, 2.43126726, 2.37391529, 2.18210406]), 'std_fit_time': array([0.28106134, 0.09862793, 0.31558668, 0.17238789, 0.04236267]), 'mean_score_time': array([31.44100266, 32.00824566, 32.22943444, 32.5562036 , 29.56440616]), 'std_score_time': array([0.16138528, 0.23057656, 0.10721664, 0.29893504, 6.01689231]), 'param_n_neighbors': masked_array(data=[2, 3, 4, 5, 6],\n",
      "             mask=[False, False, False, False, False],\n",
      "       fill_value='?',\n",
      "            dtype=object), 'params': [{'n_neighbors': 2}, {'n_neighbors': 3}, {'n_neighbors': 4}, {'n_neighbors': 5}, {'n_neighbors': 6}], 'split0_test_score': array([0.80822969, 0.81636727, 0.82066636, 0.81774912, 0.82235529]), 'split1_test_score': array([0.80789312, 0.81111794, 0.81603194, 0.81818182, 0.82063882]), 'split2_test_score': array([0.81603194, 0.81894963, 0.82417076, 0.82662776, 0.82463145]), 'split3_test_score': array([0.81188575, 0.82125307, 0.82862408, 0.83338452, 0.83277027]), 'split4_test_score': array([0.81633907, 0.8240172 , 0.82509214, 0.82478501, 0.82800983]), 'mean_test_score': array([0.8120758 , 0.81834096, 0.82291699, 0.82414545, 0.82568103]), 'std_test_score': array([0.00363731, 0.00440762, 0.00427414, 0.00580363, 0.00431892]), 'rank_test_score': array([5, 4, 3, 2, 1]), 'split0_train_score': array([0.89672912, 0.89565418, 0.87634367, 0.87642045, 0.86640049]), 'split1_train_score': array([0.89673308, 0.89719375, 0.8764252 , 0.87903566, 0.86740374]), 'split2_train_score': array([0.89485201, 0.89442973, 0.87515836, 0.87627164, 0.86521556]), 'split3_train_score': array([0.89692503, 0.8973857 , 0.87462091, 0.87446735, 0.86594495]), 'split4_train_score': array([0.89527429, 0.89677147, 0.87504319, 0.87592614, 0.865062  ]), 'mean_train_score': array([0.8961027 , 0.89628696, 0.87551826, 0.87642425, 0.86600535]), 'std_train_score': array([0.00086215, 0.0011058 , 0.00072997, 0.00147786, 0.00085193])}\n",
      "---------------------------------------------------------------------------\n",
      "BEST SCORE: 0.8256810294524124\n",
      "BEST PARAM: {'n_neighbors': 6}\n",
      "Time to run: 574.2437980409163 seconds\n"
     ]
    }
   ],
   "source": [
    "#Grid Search - KNN\n",
    "start_time = time.clock()\n",
    "from sklearn.neighbors import KNeighborsClassifier\n",
    "from sklearn.svm import SVC\n",
    "#parameters = {'n_neighbors':[2,3,4,5,6]}\n",
    "#parameters = {'n_neighbors':[6,7,8,9,10]}\n",
    "parameters = {'n_neighbors':[17,18,19]}\n",
    "knng = KNeighborsClassifier()\n",
    "grid_svm = GridSearchCV(knng, parameters,n_jobs=-1, cv=5)\n",
    "grid_svm.fit(X_train, target_train)\n",
    "print(\"SCORES:\", grid_svm.cv_results_)\n",
    "print('-'*75)\n",
    "print(\"BEST SCORE:\", grid_svm.best_score_)\n",
    "print(\"BEST PARAM:\", grid_svm.best_params_)\n",
    "print(\"Time to run:\", time.clock() - start_time, \"seconds\")"
   ]
  },
  {
   "cell_type": "markdown",
   "metadata": {},
   "source": [
    "## Naïve Bayes"
   ]
  },
  {
   "cell_type": "code",
   "execution_count": 49,
   "metadata": {
    "code_folding": []
   },
   "outputs": [
    {
     "name": "stdout",
     "output_type": "stream",
     "text": [
      "MultinomialNB(alpha=1.0, class_prior=None, fit_prior=True)\n",
      "---------------------------------------------------------------------------\n",
      "Naive Bayes Accuracy Score: 0.785148332412014\n",
      "---------------------------------------------------------------------------\n",
      "             precision    recall  f1-score   support\n",
      "\n",
      " >$50K = no       0.80      0.96      0.87     12435\n",
      ">$50K = yes       0.62      0.23      0.34      3846\n",
      "\n",
      "avg / total       0.76      0.79      0.75     16281\n",
      "\n",
      "[[11894   541]\n",
      " [ 2957   889]]\n",
      "---------------------------------------------------------------------------\n",
      "Time to run: 0.03766245698136572 seconds\n"
     ]
    }
   ],
   "source": [
    "#Naive Bayes\n",
    "from sklearn.naive_bayes import MultinomialNB\n",
    "start_time = time.clock()\n",
    "model_nb = MultinomialNB()\n",
    "print(model_nb)\n",
    "print('-'*75)\n",
    "model_nb = model_nb.fit(features_train, target_train)\n",
    "target_predicted_nb = model_nb.predict(features_test)\n",
    "print(\"Naive Bayes Accuracy Score:\", accuracy_score(target_test, target_predicted_nb))\n",
    "print('-'*75)\n",
    "print(classification_report(target_test, target_predicted_nb,target_names = [\">$50K = no\", \">$50K = yes\"]))\n",
    "print(confusion_matrix(target_test, target_predicted_nb))\n",
    "print('-'*75)\n",
    "print(\"Time to run:\", time.clock() - start_time, \"seconds\")"
   ]
  },
  {
   "cell_type": "markdown",
   "metadata": {},
   "source": [
    "### Cross validation - NB"
   ]
  },
  {
   "cell_type": "code",
   "execution_count": 30,
   "metadata": {
    "code_folding": []
   },
   "outputs": [
    {
     "name": "stdout",
     "output_type": "stream",
     "text": [
      "Time to run: 0.7485615656719347 seconds\n",
      "---------------------------------------------------------------------------\n",
      "Cross Validation Score for each K: [0.78231501 0.78194103 0.77886978 0.77979115 0.78101966 0.79084767\n",
      " 0.77364865 0.78163391 0.78409091 0.79238329]\n",
      "---------------------------------------------------------------------------\n",
      "CV Score Mean: 0.7826541058042441\n",
      "Range of CV Scores: 0.01873464373464373\n"
     ]
    }
   ],
   "source": [
    "#Cross Validation - NB\n",
    "start_time = time.clock()\n",
    "scores = cross_val_score(model_nb, features_train, target_train, cv=10)\n",
    "print(\"Time to run:\", time.clock() - start_time, \"seconds\")\n",
    "print('-'*75)\n",
    "print(\"Cross Validation Score for each K:\",scores)\n",
    "print('-'*75)\n",
    "print(\"CV Score Mean:\",scores.mean())\n",
    "range_nb= cvrange(scores)\n",
    "print(\"Range of CV Scores:\", range_nb)"
   ]
  },
  {
   "cell_type": "markdown",
   "metadata": {},
   "source": [
    "## Stochastic Gradient Descent"
   ]
  },
  {
   "cell_type": "code",
   "execution_count": 35,
   "metadata": {
    "code_folding": []
   },
   "outputs": [
    {
     "name": "stdout",
     "output_type": "stream",
     "text": [
      "SGDClassifier(alpha=0.0001, average=False, class_weight=None, epsilon=0.1,\n",
      "       eta0=0.0, fit_intercept=True, l1_ratio=0.15,\n",
      "       learning_rate='optimal', loss='hinge', max_iter=None, n_iter=None,\n",
      "       n_jobs=1, penalty='l2', power_t=0.5, random_state=None,\n",
      "       shuffle=True, tol=None, verbose=0, warm_start=False)\n",
      "---------------------------------------------------------------------------\n",
      "Stochastic Gradient Descent v1 Accuracy Score: 0.7945457895706652\n",
      "---------------------------------------------------------------------------\n",
      "             precision    recall  f1-score   support\n",
      "\n",
      " >$50K = no       0.80      0.98      0.88     12435\n",
      ">$50K = yes       0.73      0.21      0.32      3846\n",
      "\n",
      "avg / total       0.78      0.79      0.75     16281\n",
      "\n",
      "[[12145   290]\n",
      " [ 3055   791]]\n",
      "---------------------------------------------------------------------------\n",
      "Time to run: 129.12622826736606 seconds\n"
     ]
    },
    {
     "name": "stderr",
     "output_type": "stream",
     "text": [
      "C:\\Users\\Corey\\Anaconda3\\lib\\site-packages\\sklearn\\linear_model\\stochastic_gradient.py:128: FutureWarning: max_iter and tol parameters have been added in <class 'sklearn.linear_model.stochastic_gradient.SGDClassifier'> in 0.19. If both are left unset, they default to max_iter=5 and tol=None. If tol is not None, max_iter defaults to max_iter=1000. From 0.21, default max_iter will be 1000, and default tol will be 1e-3.\n",
      "  \"and default tol will be 1e-3.\" % type(self), FutureWarning)\n"
     ]
    }
   ],
   "source": [
    "#Stochastic Gradient Descent v1\n",
    "from sklearn.linear_model import SGDClassifier\n",
    "model_sgd1 = SGDClassifier(loss=\"hinge\", penalty=\"l2\")\n",
    "print(model_sgd1)\n",
    "print('-'*75)\n",
    "#fit the data\n",
    "model_sgd1 = model_sgd1.fit(features_train, target_train)\n",
    "#make the prediction on the unseen data\n",
    "target_predicted_sgd1 = model_sgd1.predict(features_test)\n",
    "print(\"Stochastic Gradient Descent v1 Accuracy Score:\", accuracy_score(target_test, target_predicted_sgd1))\n",
    "print('-'*75)\n",
    "print(classification_report(target_test, target_predicted_sgd1,target_names = [\">$50K = no\", \">$50K = yes\"]))\n",
    "print(confusion_matrix(target_test, target_predicted_sgd1))\n",
    "print('-'*75)\n",
    "print(\"Time to run:\", time.clock() - start_time, \"seconds\")"
   ]
  },
  {
   "cell_type": "markdown",
   "metadata": {},
   "source": [
    "## Random Forest - v1"
   ]
  },
  {
   "cell_type": "code",
   "execution_count": 50,
   "metadata": {
    "code_folding": []
   },
   "outputs": [
    {
     "name": "stdout",
     "output_type": "stream",
     "text": [
      "RandomForestClassifier(bootstrap=True, class_weight=None, criterion='gini',\n",
      "            max_depth=None, max_features='auto', max_leaf_nodes=None,\n",
      "            min_impurity_decrease=0.0, min_impurity_split=None,\n",
      "            min_samples_leaf=1, min_samples_split=2,\n",
      "            min_weight_fraction_leaf=0.0, n_estimators=125, n_jobs=1,\n",
      "            oob_score=False, random_state=0, verbose=0, warm_start=False)\n",
      "---------------------------------------------------------------------------\n",
      "Random Forest v1 Accuracy Score: 0.860573674835698\n",
      "---------------------------------------------------------------------------\n",
      "             precision    recall  f1-score   support\n",
      "\n",
      " >$50K = no       0.88      0.95      0.91     12435\n",
      ">$50K = yes       0.78      0.57      0.66      3846\n",
      "\n",
      "avg / total       0.85      0.86      0.85     16281\n",
      "\n",
      "[[11808   627]\n",
      " [ 1643  2203]]\n",
      "---------------------------------------------------------------------------\n",
      "Time to run: 4.428620190503921 seconds\n"
     ]
    }
   ],
   "source": [
    "#Random Forest v1\n",
    "from sklearn.ensemble import RandomForestClassifier\n",
    "#create the classifier and tune the parameters\n",
    "start_time = time.clock()\n",
    "model_rf1 = RandomForestClassifier(n_estimators= 125, max_depth= None,random_state=0 )\n",
    "print(model_rf1)\n",
    "print('-'*75)\n",
    "#fit the data\n",
    "model_rf1 = model_rf1.fit(features_train, target_train)\n",
    "#make the prediction on the unseen data\n",
    "target_predicted_rf1 = model_rf1.predict(features_test)\n",
    "print(\"Random Forest v1 Accuracy Score:\", accuracy_score(target_test, target_predicted_rf1))\n",
    "print('-'*75)\n",
    "print(classification_report(target_test, target_predicted_rf1,target_names = [\">$50K = no\", \">$50K = yes\"]))\n",
    "print(confusion_matrix(target_test, target_predicted_rf1))\n",
    "print('-'*75)\n",
    "print(\"Time to run:\", time.clock() - start_time, \"seconds\")"
   ]
  },
  {
   "cell_type": "markdown",
   "metadata": {},
   "source": [
    "### Cross validation - Random Forest v1"
   ]
  },
  {
   "cell_type": "code",
   "execution_count": 45,
   "metadata": {
    "code_folding": [
     0
    ]
   },
   "outputs": [
    {
     "name": "stdout",
     "output_type": "stream",
     "text": [
      "Time to run: 37.873624674773055 seconds\n",
      "---------------------------------------------------------------------------\n",
      "Cross Validation Score for each K: [0.84310715 0.86056511 0.85350123 0.84735872 0.85780098 0.84766585\n",
      " 0.85995086 0.86025799 0.86332924 0.85565111]\n",
      "---------------------------------------------------------------------------\n",
      "CV Score Mean: 0.8549188234903617\n",
      "Range of CV Scores: 0.020222084506702265\n"
     ]
    }
   ],
   "source": [
    "#Cross Validation - Random Forest v1\n",
    "start_time = time.clock()\n",
    "scores = cross_val_score(model_rf1, features_train, target_train, cv=10)\n",
    "print(\"Time to run:\", time.clock() - start_time, \"seconds\")\n",
    "print('-'*75)\n",
    "print(\"Cross Validation Score for each K:\",scores)\n",
    "print('-'*75)\n",
    "print(\"CV Score Mean:\",scores.mean())\n",
    "range_rf1= cvrange(scores)\n",
    "print(\"Range of CV Scores:\", range_rf1)"
   ]
  },
  {
   "cell_type": "markdown",
   "metadata": {},
   "source": [
    "## Random Forest - v2"
   ]
  },
  {
   "cell_type": "code",
   "execution_count": 51,
   "metadata": {
    "code_folding": []
   },
   "outputs": [
    {
     "name": "stdout",
     "output_type": "stream",
     "text": [
      "RandomForestClassifier(bootstrap=True, class_weight=None, criterion='gini',\n",
      "            max_depth=None, max_features='auto', max_leaf_nodes=None,\n",
      "            min_impurity_decrease=0.0, min_impurity_split=None,\n",
      "            min_samples_leaf=1, min_samples_split=2,\n",
      "            min_weight_fraction_leaf=0.0, n_estimators=115, n_jobs=1,\n",
      "            oob_score=False, random_state=0, verbose=0, warm_start=False)\n",
      "---------------------------------------------------------------------------\n",
      "Random Forest v2 Accuracy Score: 0.8599594619495117\n",
      "---------------------------------------------------------------------------\n",
      "             precision    recall  f1-score   support\n",
      "\n",
      " >$50K = no       0.88      0.95      0.91     12435\n",
      ">$50K = yes       0.78      0.57      0.66      3846\n",
      "\n",
      "avg / total       0.85      0.86      0.85     16281\n",
      "\n",
      "[[11799   636]\n",
      " [ 1644  2202]]\n",
      "---------------------------------------------------------------------------\n",
      "Time to run: 4.108159208197208 seconds\n"
     ]
    }
   ],
   "source": [
    "#Random Forest v2\n",
    "start_time = time.clock()\n",
    "model_rf2 = RandomForestClassifier(n_estimators= 115, max_depth= None,random_state=0 )\n",
    "print(model_rf2)\n",
    "print('-'*75)\n",
    "#fit the data\n",
    "model_rf = model_rf2.fit(features_train, target_train)\n",
    "#make the prediction on the unseen data\n",
    "target_predicted_rf2 = model_rf2.predict(features_test)\n",
    "print(\"Random Forest v2 Accuracy Score:\", accuracy_score(target_test, target_predicted_rf2))\n",
    "print('-'*75)\n",
    "print(classification_report(target_test, target_predicted_rf2, target_names = [\">$50K = no\", \">$50K = yes\"]))\n",
    "print(confusion_matrix(target_test, target_predicted_rf2))\n",
    "print('-'*75)\n",
    "print(\"Time to run:\", time.clock() - start_time, \"seconds\")"
   ]
  },
  {
   "cell_type": "markdown",
   "metadata": {},
   "source": [
    "### Cross validation - Random Forest v2"
   ]
  },
  {
   "cell_type": "code",
   "execution_count": 46,
   "metadata": {
    "code_folding": [
     0
    ]
   },
   "outputs": [
    {
     "name": "stdout",
     "output_type": "stream",
     "text": [
      "Time to run: 34.78274263195999 seconds\n",
      "---------------------------------------------------------------------------\n",
      "Cross Validation Score for each K: [0.84280012 0.86087224 0.85135135 0.84858722 0.85718673 0.84766585\n",
      " 0.85964373 0.85964373 0.86425061 0.85749386]\n",
      "---------------------------------------------------------------------------\n",
      "CV Score Mean: 0.8549495454507735\n",
      "Range of CV Scores: 0.021450491438210206\n"
     ]
    }
   ],
   "source": [
    "#Cross Validation - Random Forest v2\n",
    "start_time = time.clock()\n",
    "scores = cross_val_score(model_rf2, features_train, target_train, cv=10)\n",
    "print(\"Time to run:\", time.clock() - start_time, \"seconds\")\n",
    "print('-'*75)\n",
    "print(\"Cross Validation Score for each K:\",scores)\n",
    "print('-'*75)\n",
    "print(\"CV Score Mean:\",scores.mean())\n",
    "range_rf2= cvrange(scores)\n",
    "print(\"Range of CV Scores:\", range_rf2)"
   ]
  },
  {
   "cell_type": "markdown",
   "metadata": {},
   "source": [
    "## Random Forest - v3"
   ]
  },
  {
   "cell_type": "code",
   "execution_count": 63,
   "metadata": {
    "code_folding": []
   },
   "outputs": [
    {
     "name": "stdout",
     "output_type": "stream",
     "text": [
      "RandomForestClassifier(bootstrap=True, class_weight=None, criterion='gini',\n",
      "            max_depth=None, max_features='auto', max_leaf_nodes=None,\n",
      "            min_impurity_decrease=0.0, min_impurity_split=None,\n",
      "            min_samples_leaf=1, min_samples_split=2,\n",
      "            min_weight_fraction_leaf=0.0, n_estimators=300, n_jobs=1,\n",
      "            oob_score=False, random_state=0, verbose=0, warm_start=False)\n",
      "---------------------------------------------------------------------------\n",
      "Random Forest v3 Accuracy Score: 0.8616178367422148\n",
      "---------------------------------------------------------------------------\n",
      "             precision    recall  f1-score   support\n",
      "\n",
      " >$50K = no       0.88      0.95      0.91     12435\n",
      ">$50K = yes       0.78      0.57      0.66      3846\n",
      "\n",
      "avg / total       0.86      0.86      0.85     16281\n",
      "\n",
      "[[11824   611]\n",
      " [ 1642  2204]]\n",
      "---------------------------------------------------------------------------\n",
      "Time to run: 10.725292501499553 seconds\n"
     ]
    }
   ],
   "source": [
    "#Random Forest v3\n",
    "from sklearn.ensemble import RandomForestClassifier\n",
    "start_time = time.clock()\n",
    "model_rf3 = RandomForestClassifier(n_estimators= 300, max_depth= None,random_state=0 )\n",
    "print(model_rf3)\n",
    "print('-'*75)\n",
    "#fit the data\n",
    "model_rf3 = model_rf3.fit(features_train, target_train)\n",
    "#make the prediction on the unseen data\n",
    "target_predicted_rf3 = model_rf3.predict(features_test)\n",
    "print(\"Random Forest v3 Accuracy Score:\", accuracy_score(target_test, target_predicted_rf3))\n",
    "print('-'*75)\n",
    "print(classification_report(target_test, target_predicted_rf3, target_names = [\">$50K = no\", \">$50K = yes\"]))\n",
    "print(confusion_matrix(target_test, target_predicted_rf3))\n",
    "print('-'*75)\n",
    "print(\"Time to run:\", time.clock() - start_time, \"seconds\")"
   ]
  },
  {
   "cell_type": "markdown",
   "metadata": {},
   "source": [
    "### Cross validation - Random Forest v3"
   ]
  },
  {
   "cell_type": "code",
   "execution_count": 47,
   "metadata": {
    "code_folding": []
   },
   "outputs": [
    {
     "name": "stdout",
     "output_type": "stream",
     "text": [
      "Time to run: 36.36556849241242 seconds\n",
      "---------------------------------------------------------------------------\n",
      "Cross Validation Score for each K: [0.84095794 0.85995086 0.8531941  0.84889435 0.85810811 0.84797297\n",
      " 0.85902948 0.86148649 0.86363636 0.85595823]\n",
      "---------------------------------------------------------------------------\n",
      "CV Score Mean: 0.8549188894982571\n",
      "Range of CV Scores: 0.022678426884751746\n"
     ]
    }
   ],
   "source": [
    "#Cross Validation - Random Forest v3\n",
    "start_time = time.clock()\n",
    "scores = cross_val_score(model_rf3, features_train, target_train, cv=10)\n",
    "print(\"Time to run:\", time.clock() - start_time, \"seconds\")\n",
    "print ('-'*75)\n",
    "print(\"Cross Validation Score for each K:\",scores)\n",
    "print ('-'*75)\n",
    "print(\"CV Score Mean:\",scores.mean())\n",
    "range_rf3= cvrange(scores)\n",
    "print(\"Range of CV Scores:\", range_rf3)"
   ]
  },
  {
   "cell_type": "markdown",
   "metadata": {},
   "source": [
    "### Grid Search - Random Forest"
   ]
  },
  {
   "cell_type": "code",
   "execution_count": 41,
   "metadata": {
    "code_folding": []
   },
   "outputs": [
    {
     "name": "stdout",
     "output_type": "stream",
     "text": [
      "SCORES: {'mean_fit_time': array([3.71947284, 5.84224119, 6.5432056 , 7.19905033, 5.88305054]), 'std_fit_time': array([0.43663316, 0.3023667 , 0.08568483, 0.0315701 , 0.90514597]), 'mean_score_time': array([0.17015157, 0.21737843, 0.24043965, 0.25267282, 0.17706957]), 'std_score_time': array([0.02101169, 0.01144816, 0.00826571, 0.00660525, 0.02091012]), 'param_n_estimators': masked_array(data=[90, 100, 110, 120, 130],\n",
      "             mask=[False, False, False, False, False],\n",
      "       fill_value='?',\n",
      "            dtype=object), 'params': [{'n_estimators': 90}, {'n_estimators': 100}, {'n_estimators': 110}, {'n_estimators': 120}, {'n_estimators': 130}], 'split0_test_score': array([0.85521265, 0.8538308 , 0.85490557, 0.85536619, 0.85490557]), 'split1_test_score': array([0.84566953, 0.84613022, 0.84566953, 0.84689803, 0.84628378]), 'split2_test_score': array([0.85288698, 0.85380835, 0.85288698, 0.85242629, 0.85273342]), 'split3_test_score': array([0.85872236, 0.85949017, 0.85902948, 0.85995086, 0.85902948]), 'split4_test_score': array([0.8585688 , 0.85780098, 0.85810811, 0.85795455, 0.85810811]), 'mean_test_score': array([0.85421209, 0.85421209, 0.85411996, 0.85451921, 0.85421209]), 'std_test_score': array([0.00479692, 0.00461216, 0.00476555, 0.00457124, 0.0045587 ]), 'rank_test_score': array([2, 2, 5, 1, 2]), 'split0_train_score': array([0.99996161, 0.99996161, 1.        , 1.        , 1.        ]), 'split1_train_score': array([0.99992322, 0.99992322, 0.99996161, 0.99996161, 0.99996161]), 'split2_train_score': array([0.99992322, 0.99996161, 0.99996161, 0.99996161, 0.99996161]), 'split3_train_score': array([0.99996161, 0.99996161, 1.        , 1.        , 1.        ]), 'split4_train_score': array([0.99996161, 0.99996161, 0.99996161, 0.99996161, 0.99996161]), 'mean_train_score': array([0.99994625, 0.99995393, 0.99997697, 0.99997697, 0.99997697]), 'std_train_score': array([1.88065446e-05, 1.53555285e-05, 1.88067852e-05, 1.88067852e-05,\n",
      "       1.88067852e-05])}\n",
      "---------------------------------------------------------------------------\n",
      "BEST SCORE: 0.8545192100979699\n",
      "BEST PARAM: {'n_estimators': 120}\n",
      "---------------------------------------------------------------------------\n",
      "Time to run: 35.67278488051761 seconds\n"
     ]
    }
   ],
   "source": [
    "#Grid Search - Random Forest\n",
    "start_time = time.clock()\n",
    "#parameters = {'n_estimators':[20,30,40,50,60]}\n",
    "#parameters = {'n_estimators':[55,60,70,80,90]}\n",
    "parameters = {'n_estimators':[90,100,110,120,130]}\n",
    "rfg = RandomForestClassifier(max_depth= None,random_state=0 )\n",
    "grid_rfg = GridSearchCV(rfg, parameters,n_jobs=-1, cv=5)\n",
    "grid_rfg = grid_rfg.fit(features_train, target_train)\n",
    "print(\"SCORES:\", grid_rfg.cv_results_)\n",
    "print('-'*75)\n",
    "print(\"BEST SCORE:\", grid_rfg.best_score_)\n",
    "print(\"BEST PARAM:\", grid_rfg.best_params_)\n",
    "print('-'*75)\n",
    "print(\"Time to run:\", time.clock() - start_time, \"seconds\")"
   ]
  },
  {
   "cell_type": "markdown",
   "metadata": {},
   "source": [
    "## Bagging Classifier (Decision Tree)"
   ]
  },
  {
   "cell_type": "code",
   "execution_count": 41,
   "metadata": {
    "code_folding": []
   },
   "outputs": [
    {
     "name": "stdout",
     "output_type": "stream",
     "text": [
      "BaggingClassifier(base_estimator=DecisionTreeClassifier(class_weight=None, criterion='gini', max_depth=None,\n",
      "            max_features=None, max_leaf_nodes=None,\n",
      "            min_impurity_decrease=0.0, min_impurity_split=None,\n",
      "            min_samples_leaf=2, min_samples_split=3,\n",
      "            min_weight_fraction_leaf=0.0, presort=False, random_state=None,\n",
      "            splitter='best'),\n",
      "         bootstrap=True, bootstrap_features=False, max_features=1.0,\n",
      "         max_samples=1.0, n_estimators=500, n_jobs=1, oob_score=False,\n",
      "         random_state=1, verbose=0, warm_start=False)\n",
      "---------------------------------------------------------------------------\n",
      "Bagging - Decision Tree Accuracy Score: 0.8586081935999017\n",
      "---------------------------------------------------------------------------\n",
      "             precision    recall  f1-score   support\n",
      "\n",
      " >$50K = no       0.88      0.95      0.91     12435\n",
      ">$50K = yes       0.77      0.58      0.66      3846\n",
      "\n",
      "avg / total       0.85      0.86      0.85     16281\n",
      "\n",
      "[[11752   683]\n",
      " [ 1619  2227]]\n",
      "---------------------------------------------------------------------------\n",
      "Time to run: 115.70506194776863 seconds\n"
     ]
    }
   ],
   "source": [
    "#Bagging Classifier - Decision Tree\n",
    "from sklearn.ensemble import BaggingClassifier\n",
    "start_time = time.clock()\n",
    "dt_bag = BaggingClassifier(base_estimator=model_dt3,\n",
    "                        n_estimators=500, \n",
    "                        max_samples=1.0, \n",
    "                        max_features=1.0, \n",
    "                        bootstrap=True, \n",
    "                        bootstrap_features=False, \n",
    "                        n_jobs=1, \n",
    "                        random_state=1)\n",
    "print(dt_bag)\n",
    "print('-'*75)\n",
    "dt_bag = dt_bag.fit(features_train, target_train)\n",
    "target_predicted_dt_bag = dt_bag.predict(features_test)\n",
    "print(\"Bagging - Decision Tree Accuracy Score:\", accuracy_score(target_test, target_predicted_dt_bag))\n",
    "print('-'*75)\n",
    "print(classification_report(target_test, target_predicted_dt_bag, target_names = [\">$50K = no\", \">$50K = yes\"]))\n",
    "print(confusion_matrix(target_test, target_predicted_dt_bag))\n",
    "print('-'*75)\n",
    "print(\"Time to run:\", time.clock() - start_time, \"seconds\")"
   ]
  },
  {
   "cell_type": "markdown",
   "metadata": {},
   "source": [
    "### Cross validation - Bagging DT"
   ]
  },
  {
   "cell_type": "code",
   "execution_count": 42,
   "metadata": {
    "code_folding": []
   },
   "outputs": [
    {
     "name": "stdout",
     "output_type": "stream",
     "text": [
      "Time to run: 1046.7742636226922 seconds\n",
      "---------------------------------------------------------------------------\n",
      "Cross Validation Score for each K: [0.84771262 0.85902948 0.85872236 0.85595823 0.86486486 0.85749386\n",
      " 0.85964373 0.86332924 0.86916462 0.85472973]\n",
      "---------------------------------------------------------------------------\n",
      "CV Score Mean: 0.8590648736910635\n",
      "Range of CV Scores: 0.021452000190102738\n"
     ]
    }
   ],
   "source": [
    "#Cross Validation - Bagging DT\n",
    "start_time = time.clock()\n",
    "scores = cross_val_score(dt_bag, features_train, target_train, cv=10)\n",
    "print(\"Time to run:\", time.clock() - start_time, \"seconds\")\n",
    "print ('-'*75)\n",
    "print(\"Cross Validation Score for each K:\",scores)\n",
    "print ('-'*75)\n",
    "print(\"CV Score Mean:\",scores.mean())\n",
    "range_dt_bag= cvrange(scores)\n",
    "print(\"Range of CV Scores:\", range_dt_bag)"
   ]
  },
  {
   "cell_type": "markdown",
   "metadata": {},
   "source": [
    "## Bagging Classifier (Random Forest)\n",
    "This would not run."
   ]
  },
  {
   "cell_type": "code",
   "execution_count": null,
   "metadata": {},
   "outputs": [],
   "source": [
    "#Bagging Classifier - Random Forest\n",
    "from sklearn.ensemble import BaggingClassifier\n",
    "start_time = time.clock()\n",
    "rf_bag = BaggingClassifier(base_estimator=model_rf3,\n",
    "                        n_estimators=500, \n",
    "                        max_samples=1.0, \n",
    "                        max_features=1.0, \n",
    "                        bootstrap=True, \n",
    "                        bootstrap_features=False, \n",
    "                        n_jobs=1, \n",
    "                        random_state=1)\n",
    "print(rf_bag)\n",
    "print('-'*75)\n",
    "rf_bag = rf_bag.fit(features_train, target_train)\n",
    "target_predicted_rf_bag = rf_bag.predict(features_test)\n",
    "print(\"Bagging - Random Forest Accuracy Score:\", accuracy_score(target_test, target_predicted_rf_bag))\n",
    "print('-'*75)\n",
    "print(classification_report(target_test, target_predicted_rf_bag, target_names = [\">$50K = no\", \">$50K = yes\"]))\n",
    "print(confusion_matrix(target_test, target_predicted_rf_bag))\n",
    "print('-'*75)\n",
    "print(\"Time to run:\", time.clock() - start_time, \"seconds\")"
   ]
  },
  {
   "cell_type": "markdown",
   "metadata": {},
   "source": [
    "### Cross validation - Bagging RF"
   ]
  },
  {
   "cell_type": "code",
   "execution_count": null,
   "metadata": {},
   "outputs": [],
   "source": [
    "#Cross Validation - Bagging RF\n",
    "start_time = time.clock()\n",
    "scores = cross_val_score(rf_bag, features_train, target_train, cv=10)\n",
    "print(\"Time to run:\", time.clock() - start_time, \"seconds\")\n",
    "print ('-'*75)\n",
    "print(\"Cross Validation Score for each K:\",scores)\n",
    "print ('-'*75)\n",
    "print(\"CV Score Mean:\",scores.mean())\n",
    "range_rf_bag= cvrange(scores)\n",
    "print(\"Range of CV Scores:\", range_rf_bag)"
   ]
  },
  {
   "cell_type": "markdown",
   "metadata": {},
   "source": [
    "## SVM Linear - v1"
   ]
  },
  {
   "cell_type": "code",
   "execution_count": 79,
   "metadata": {
    "code_folding": []
   },
   "outputs": [
    {
     "name": "stdout",
     "output_type": "stream",
     "text": [
      "SVC(C=1, cache_size=200, class_weight='balanced', coef0=0.0,\n",
      "  decision_function_shape='ovr', degree=3, gamma='auto', kernel='linear',\n",
      "  max_iter=-1, probability=False, random_state=1, shrinking=True,\n",
      "  tol=0.001, verbose=False)\n",
      "---------------------------------------------------------------------------\n",
      "SVM Linear v1 Accuracy Score: 0.7916589890055893\n",
      "---------------------------------------------------------------------------\n",
      "             precision    recall  f1-score   support\n",
      "\n",
      " >$50K = no       0.95      0.77      0.85     12435\n",
      ">$50K = yes       0.54      0.86      0.66      3846\n",
      "\n",
      "avg / total       0.85      0.79      0.80     16281\n",
      "\n",
      "[[9600 2835]\n",
      " [ 557 3289]]\n",
      "---------------------------------------------------------------------------\n",
      "Time to run: 123.02303233310249 seconds\n"
     ]
    }
   ],
   "source": [
    "#standard linear SVC - v1\n",
    "from sklearn.svm import SVC\n",
    "start_time = time.clock()\n",
    "svm_lin1 = SVC(kernel='linear', C=1,class_weight='balanced',gamma='auto',random_state=1)\n",
    "print(svm_lin1)\n",
    "print('-'*75)\n",
    "svm_lin1 = svm_lin1.fit(X_train, target_train)\n",
    "predicted_SVM1=svm_lin1.predict(X_test)\n",
    "expected = target_test\n",
    "# summarize the fit of the model\n",
    "print(\"SVM Linear v1 Accuracy Score:\", accuracy_score(expected,predicted_SVM1))\n",
    "print('-'*75)\n",
    "print(classification_report(expected, predicted_SVM1,target_names = [\">$50K = no\", \">$50K = yes\"]))\n",
    "print(confusion_matrix(expected, predicted_SVM1))\n",
    "print('-'*75)\n",
    "print(\"Time to run:\", time.clock() - start_time, \"seconds\")"
   ]
  },
  {
   "cell_type": "markdown",
   "metadata": {},
   "source": [
    "### Cross Validation - SVM Linear v1"
   ]
  },
  {
   "cell_type": "code",
   "execution_count": 53,
   "metadata": {
    "code_folding": []
   },
   "outputs": [
    {
     "name": "stdout",
     "output_type": "stream",
     "text": [
      "Time to run: 1407.4328703618085 seconds\n",
      "---------------------------------------------------------------------------\n",
      "Cross Validation Score for each K: [0.7930611  0.79054054 0.79330467 0.76934889 0.78839066 0.78777641\n",
      " 0.79176904 0.79699017 0.80128993 0.78900491]\n",
      "---------------------------------------------------------------------------\n",
      "CV Score Mean: 0.7901476332586249\n",
      "Range of CV Scores: 0.03194103194103193\n"
     ]
    }
   ],
   "source": [
    "#Cross Validation - SVM Linear v1\n",
    "start_time = time.clock()\n",
    "scores = cross_val_score(svm_lin1, X_train, target_train, cv=10)\n",
    "print(\"Time to run:\", time.clock() - start_time, \"seconds\")\n",
    "print('-'*75)\n",
    "print(\"Cross Validation Score for each K:\",scores)\n",
    "print('-'*75)\n",
    "print(\"CV Score Mean:\",scores.mean())\n",
    "range_svm1= cvrange(scores)\n",
    "print(\"Range of CV Scores:\", range_svm1)"
   ]
  },
  {
   "cell_type": "markdown",
   "metadata": {},
   "source": [
    "## SVM Linear - v2"
   ]
  },
  {
   "cell_type": "code",
   "execution_count": 80,
   "metadata": {
    "code_folding": []
   },
   "outputs": [
    {
     "name": "stdout",
     "output_type": "stream",
     "text": [
      "SVC(C=1, cache_size=200, class_weight=None, coef0=0.0,\n",
      "  decision_function_shape='ovr', degree=3, gamma='auto', kernel='linear',\n",
      "  max_iter=-1, probability=False, random_state=1, shrinking=True,\n",
      "  tol=0.0001, verbose=False)\n",
      "---------------------------------------------------------------------------\n",
      "SVM Linear v2 Accuracy Score: 0.8538173330876482\n",
      "---------------------------------------------------------------------------\n",
      "             precision    recall  f1-score   support\n",
      "\n",
      " >$50K = no       0.88      0.93      0.91     12435\n",
      ">$50K = yes       0.73      0.60      0.66      3846\n",
      "\n",
      "avg / total       0.85      0.85      0.85     16281\n",
      "\n",
      "[[11606   829]\n",
      " [ 1551  2295]]\n",
      "---------------------------------------------------------------------------\n",
      "Time to run: 93.9577764737569 seconds\n"
     ]
    }
   ],
   "source": [
    "#SVC Linear - v2\n",
    "start_time = time.clock()\n",
    "svm_lin2 = SVC(kernel='linear', C=1,class_weight=None,gamma='auto', random_state=1, tol=0.0001)\n",
    "print(svm_lin2)\n",
    "print('-'*75)\n",
    "svm_lin2=svm_lin2.fit(X_train, target_train)\n",
    "predicted_SVM2=svm_lin2.predict(X_test)\n",
    "expected = target_test\n",
    "print(\"SVM Linear v2 Accuracy Score:\", accuracy_score(expected,predicted_SVM2))\n",
    "print('-'*75)\n",
    "print(classification_report(expected, predicted_SVM2,target_names = [\">$50K = no\", \">$50K = yes\"]))\n",
    "print(confusion_matrix(expected, predicted_SVM2))\n",
    "print('-'*75)\n",
    "print(\"Time to run:\", time.clock() - start_time, \"seconds\")"
   ]
  },
  {
   "cell_type": "markdown",
   "metadata": {},
   "source": [
    "### Cross Validation - SVM Linear v2\n",
    "This was not run again as the model did not out perform the Adaboost DT"
   ]
  },
  {
   "cell_type": "code",
   "execution_count": 26,
   "metadata": {
    "code_folding": []
   },
   "outputs": [
    {
     "name": "stdout",
     "output_type": "stream",
     "text": [
      "Time to run: 2673.2445608579746 seconds\n",
      "---------------------------------------------------------------------------\n",
      "Cross Validation Score for each K: [0.80438596 0.78464912 0.78157895 0.79201404 0.78060553 0.7779728\n",
      " 0.78455463 0.78938131 0.7779728  0.79850746]\n",
      "---------------------------------------------------------------------------\n",
      "CV Score Mean: 0.7871622594746642\n",
      "Range of CV Scores: 0.02641316982671682\n"
     ]
    }
   ],
   "source": [
    "#Cross Validation - SVM Linear v2\n",
    "start_time = time.clock()\n",
    "scores = cross_val_score(svm_lin2, X_train, target_train, cv=5)\n",
    "print(\"Time to run:\", time.clock() - start_time, \"seconds\")\n",
    "print ('-'*75)\n",
    "print(\"Cross Validation Score for each K:\",scores)\n",
    "print ('-'*75)\n",
    "print(\"CV Score Mean:\",scores.mean())\n",
    "range_svm2= cvrange(scores)\n",
    "print(\"Range of CV Scores:\", range_svm2)"
   ]
  },
  {
   "cell_type": "markdown",
   "metadata": {},
   "source": [
    "## SVM Linear - v3"
   ]
  },
  {
   "cell_type": "code",
   "execution_count": 81,
   "metadata": {
    "code_folding": []
   },
   "outputs": [
    {
     "name": "stdout",
     "output_type": "stream",
     "text": [
      "SVC(C=10, cache_size=200, class_weight=None, coef0=0.0,\n",
      "  decision_function_shape='ovr', degree=3, gamma='auto', kernel='linear',\n",
      "  max_iter=-1, probability=False, random_state=1, shrinking=True,\n",
      "  tol=0.001, verbose=False)\n",
      "---------------------------------------------------------------------------\n",
      "SVM Linear v3 Accuracy Score: 0.8540015969535041\n",
      "---------------------------------------------------------------------------\n",
      "             precision    recall  f1-score   support\n",
      "\n",
      " >$50K = no       0.88      0.93      0.91     12435\n",
      ">$50K = yes       0.73      0.60      0.66      3846\n",
      "\n",
      "avg / total       0.85      0.85      0.85     16281\n",
      "\n",
      "[[11603   832]\n",
      " [ 1545  2301]]\n",
      "---------------------------------------------------------------------------\n",
      "Time to run: 326.9537660892538 seconds\n"
     ]
    }
   ],
   "source": [
    "#standard linear SVC v3\n",
    "start_time = time.clock()\n",
    "svm_lin3 = SVC(kernel='linear', C=10,class_weight=None,gamma='auto',random_state=1)\n",
    "print(svm_lin3)\n",
    "print('-'*75)\n",
    "svm_lin3=svm_lin3.fit(X_train, target_train)\n",
    "predicted_SVM3=svm_lin3.predict(X_test)\n",
    "expected = target_test\n",
    "# summarize the fit of the model\n",
    "print(\"SVM Linear v3 Accuracy Score:\", accuracy_score(expected,predicted_SVM3))\n",
    "print('-'*75)\n",
    "print(classification_report(expected, predicted_SVM3,target_names = [\">$50K = no\", \">$50K = yes\"]))\n",
    "print(confusion_matrix(expected, predicted_SVM3))\n",
    "print('-'*75)\n",
    "print(\"Time to run:\", time.clock() - start_time, \"seconds\")"
   ]
  },
  {
   "cell_type": "markdown",
   "metadata": {},
   "source": [
    "### Cross Validation - SVM Linear v3\n",
    "This was not run as the model did not out perform the Adaboost DT"
   ]
  },
  {
   "cell_type": "code",
   "execution_count": null,
   "metadata": {},
   "outputs": [],
   "source": [
    "#Cross Validation - SVM Linear v3\n",
    "start_time = time.clock()\n",
    "scores = cross_val_score(svm_lin3, X_train, target_train, cv=10)\n",
    "print(\"Time to run:\", time.clock() - start_time, \"seconds\")\n",
    "print('-'*75)\n",
    "print(\"Cross Validation Score for each K:\",scores)\n",
    "print('-'*75)\n",
    "print(\"CV Score Mean:\",scores.mean())\n",
    "range_svm3= cvrange(scores)\n",
    "print(\"Range of CV Scores:\", range_svm3)"
   ]
  },
  {
   "cell_type": "markdown",
   "metadata": {},
   "source": [
    "### Grid Search - SVM Linear\n",
    "\n",
    "##### Be Careful, this takes a long time!"
   ]
  },
  {
   "cell_type": "code",
   "execution_count": 24,
   "metadata": {},
   "outputs": [
    {
     "name": "stdout",
     "output_type": "stream",
     "text": [
      "SCORES: {'mean_fit_time': array([ 49.05105042,  50.98174663,  71.51554031, 103.10222011,\n",
      "       113.92359142, 187.59611568, 159.1884409 ]), 'std_fit_time': array([ 1.6996875 ,  0.21335724,  0.59074362,  1.66402773,  5.00363071,\n",
      "        2.1288134 , 24.11585921]), 'mean_score_time': array([6.97233734, 6.81491861, 6.25162101, 5.49721565, 6.0708405 ,\n",
      "       4.58107986, 3.76524177]), 'std_score_time': array([0.19423973, 0.38952793, 0.30953304, 0.72856188, 0.49018182,\n",
      "       0.31534682, 1.08980301]), 'param_C': masked_array(data=[0.01, 0.05, 1, 3, 4, 9, 10],\n",
      "             mask=[False, False, False, False, False, False, False],\n",
      "       fill_value='?',\n",
      "            dtype=object), 'params': [{'C': 0.01}, {'C': 0.05}, {'C': 1}, {'C': 3}, {'C': 4}, {'C': 9}, {'C': 10}], 'split0_test_score': array([0.85172187, 0.85303795, 0.85413468, 0.85413468, 0.85391533,\n",
      "       0.85391533, 0.85391533]), 'split1_test_score': array([0.85172187, 0.85237991, 0.85325729, 0.85347664, 0.85347664,\n",
      "       0.85325729, 0.85369599]), 'split2_test_score': array([0.84733494, 0.84579952, 0.84645756, 0.8466769 , 0.8466769 ,\n",
      "       0.8466769 , 0.8466769 ]), 'split3_test_score': array([0.85146994, 0.85103115, 0.85190873, 0.85168934, 0.85190873,\n",
      "       0.85190873, 0.85168934]), 'split4_test_score': array([0.84639017, 0.84836515, 0.84836515, 0.84814571, 0.84836515,\n",
      "       0.84880404, 0.84880404]), 'mean_test_score': array([0.84972797, 0.85012285, 0.85082485, 0.85082485, 0.85086873,\n",
      "       0.8509126 , 0.85095648]), 'std_test_score': array([0.00236014, 0.00269076, 0.00293846, 0.00293666, 0.00286378,\n",
      "       0.00275304, 0.00281949]), 'rank_test_score': array([7, 6, 4, 4, 3, 2, 1]), 'split0_train_score': array([0.85175232, 0.852575  , 0.85202655, 0.85191685, 0.85208139,\n",
      "       0.85208139, 0.85208139]), 'split1_train_score': array([0.85032633, 0.85208139, 0.85241046, 0.85213624, 0.85224593,\n",
      "       0.85208139, 0.85208139]), 'split2_train_score': array([0.85295892, 0.85323315, 0.85350738, 0.85367191, 0.85367191,\n",
      "       0.85361707, 0.85356222]), 'split3_train_score': array([0.85280246, 0.85263793, 0.85263793, 0.85269277, 0.85269277,\n",
      "       0.85274761, 0.85263793]), 'split4_train_score': array([0.85231697, 0.85270085, 0.85302989, 0.85297505, 0.85302989,\n",
      "       0.85302989, 0.85324925]), 'mean_train_score': array([0.8520314 , 0.85264566, 0.85272244, 0.85267856, 0.85274438,\n",
      "       0.85271147, 0.85272244]), 'std_train_score': array([0.00095095, 0.00036651, 0.00050978, 0.00062437, 0.0005714 ,\n",
      "       0.00058597, 0.00060196])}\n",
      "---------------------------------------------------------------------------\n",
      "BEST SCORE: 0.8509564759564759\n",
      "BEST PARAM: {'C': 10}\n",
      "---------------------------------------------------------------------------\n",
      "Time to run: 880.9606966379833 seconds\n"
     ]
    }
   ],
   "source": [
    "start_time = time.clock()\n",
    "from sklearn.svm import SVC\n",
    "parameters = {'C':[.01,.05,1,3,4,9,10]}\n",
    "#parameters = {'C':[10,15,17,20,22,25,30]}\n",
    "#parameters = {'C':[9.5,9.75,10,10.5,11,12,13]}\n",
    "svr = SVC(kernel='linear')\n",
    "grid_svm = GridSearchCV(svr, parameters,n_jobs=-1, cv=5)\n",
    "grid_svm=grid_svm.fit(X_train, target_train)\n",
    "print(\"SCORES:\", grid_svm.cv_results_)\n",
    "print('-'*75)\n",
    "print(\"BEST SCORE:\", grid_svm.best_score_)\n",
    "print(\"BEST PARAM:\", grid_svm.best_params_)\n",
    "print('-'*75)\n",
    "print(\"Time to run:\", time.clock() - start_time, \"seconds\")"
   ]
  },
  {
   "cell_type": "markdown",
   "metadata": {},
   "source": [
    "## Gradient Boost Classification - v1"
   ]
  },
  {
   "cell_type": "code",
   "execution_count": 23,
   "metadata": {},
   "outputs": [
    {
     "name": "stdout",
     "output_type": "stream",
     "text": [
      "GradientBoostingClassifier(criterion='friedman_mse', init=None,\n",
      "              learning_rate=1.7, loss='deviance', max_depth=1,\n",
      "              max_features=None, max_leaf_nodes=None,\n",
      "              min_impurity_decrease=0.0, min_impurity_split=None,\n",
      "              min_samples_leaf=1, min_samples_split=2,\n",
      "              min_weight_fraction_leaf=0.0, n_estimators=100,\n",
      "              presort='auto', random_state=0, subsample=1.0, verbose=0,\n",
      "              warm_start=False)\n",
      "---------------------------------------------------------------------------\n",
      "Gradient Boost v1 Accuracy: 0.8487193661323015\n",
      "---------------------------------------------------------------------------\n",
      "             precision    recall  f1-score   support\n",
      "\n",
      " >$50K = no       0.88      0.93      0.90     12435\n",
      ">$50K = yes       0.72      0.58      0.65      3846\n",
      "\n",
      "avg / total       0.84      0.85      0.84     16281\n",
      "\n",
      "[[11577   858]\n",
      " [ 1605  2241]]\n",
      "---------------------------------------------------------------------------\n",
      "Time to run: 1.2227812822933544 seconds\n"
     ]
    }
   ],
   "source": [
    "start_time = time.clock()\n",
    "from sklearn.ensemble import GradientBoostingClassifier\n",
    "model_GBC1 = GradientBoostingClassifier(n_estimators=100, learning_rate=1.7, max_depth=1, random_state=0)\n",
    "print(model_GBC1)\n",
    "print('-'*75)\n",
    "model_GBC1.fit(features_train, target_train)\n",
    "predicted_GBC1=model_GBC1.predict(features_test)\n",
    "expected = target_test\n",
    "print(\"Gradient Boost v1 Accuracy:\", accuracy_score(expected,predicted_GBC1))\n",
    "print('-'*75)\n",
    "print(classification_report(expected, predicted_GBC1,target_names = [\">$50K = no\", \">$50K = yes\"]))\n",
    "print(confusion_matrix(expected, predicted_GBC1))\n",
    "print('-'*75)\n",
    "print(\"Time to run:\", time.clock() - start_time, \"seconds\")"
   ]
  },
  {
   "cell_type": "markdown",
   "metadata": {},
   "source": [
    "### Cross Validation - Gradient Boost Classification v1"
   ]
  },
  {
   "cell_type": "code",
   "execution_count": 41,
   "metadata": {
    "code_folding": []
   },
   "outputs": [
    {
     "name": "stdout",
     "output_type": "stream",
     "text": [
      "Time to run: 37.20763032948889 seconds\n",
      "---------------------------------------------------------------------------\n",
      "Cross Validation Score for each K: [0.84280012 0.83937346 0.85411548 0.84490172 0.85165848 0.85595823\n",
      " 0.8495086  0.84613022 0.8507371  0.85227273]\n",
      "---------------------------------------------------------------------------\n",
      "CV Score Mean: 0.8487456142468425\n",
      "Range of CV Scores: 0.016584766584766597\n"
     ]
    }
   ],
   "source": [
    "#Cross Validation - Gradient Boost v1\n",
    "start_time = time.clock()\n",
    "scores = cross_val_score(model_GBC1, features_train, target_train, cv=10)\n",
    "print(\"Time to run:\", time.clock() - start_time, \"seconds\")\n",
    "print('-'*75)\n",
    "print(\"Cross Validation Score for each K:\",scores)\n",
    "print('-'*75)\n",
    "print(\"CV Score Mean:\",scores.mean())\n",
    "range_GBC1= cvrange(scores)\n",
    "print(\"Range of CV Scores:\", range_GBC1)"
   ]
  },
  {
   "cell_type": "markdown",
   "metadata": {},
   "source": [
    "## Gradient Boost Classification - v2"
   ]
  },
  {
   "cell_type": "code",
   "execution_count": 24,
   "metadata": {
    "code_folding": []
   },
   "outputs": [
    {
     "name": "stdout",
     "output_type": "stream",
     "text": [
      "GradientBoostingClassifier(criterion='friedman_mse', init=None,\n",
      "              learning_rate=1.7, loss='deviance', max_depth=2,\n",
      "              max_features=None, max_leaf_nodes=None,\n",
      "              min_impurity_decrease=0.0, min_impurity_split=None,\n",
      "              min_samples_leaf=1, min_samples_split=2,\n",
      "              min_weight_fraction_leaf=0.0, n_estimators=150,\n",
      "              presort='auto', random_state=0, subsample=1.0, verbose=0,\n",
      "              warm_start=False)\n",
      "---------------------------------------------------------------------------\n",
      "Gradient Boost v2 Accuracy: 0.717953442663227\n",
      "---------------------------------------------------------------------------\n",
      "             precision    recall  f1-score   support\n",
      "\n",
      " >$50K = no       0.93      0.68      0.79     12435\n",
      ">$50K = yes       0.45      0.83      0.58      3846\n",
      "\n",
      "avg / total       0.81      0.72      0.74     16281\n",
      "\n",
      "[[8516 3919]\n",
      " [ 673 3173]]\n",
      "---------------------------------------------------------------------------\n",
      "Time to run: 6.270796669608771 seconds\n"
     ]
    }
   ],
   "source": [
    "#Gradient Boost v2\n",
    "start_time = time.clock()\n",
    "model_GBC2 = GradientBoostingClassifier(n_estimators=150, learning_rate=1.7, max_depth=2, random_state=0)\n",
    "print(model_GBC2)\n",
    "print('-'*75)\n",
    "model_GBC2.fit(features_train, target_train)\n",
    "predicted_GBC2=model_GBC2.predict(features_test)\n",
    "expected = target_test\n",
    "print(\"Gradient Boost v2 Accuracy:\", accuracy_score(expected,predicted_GBC2))\n",
    "print('-'*75)\n",
    "print(classification_report(expected, predicted_GBC2,target_names = [\">$50K = no\", \">$50K = yes\"]))\n",
    "print(confusion_matrix(expected, predicted_GBC2))\n",
    "print('-'*75)\n",
    "print(\"Time to run:\", time.clock() - start_time, \"seconds\")"
   ]
  },
  {
   "cell_type": "markdown",
   "metadata": {},
   "source": [
    "### Cross Validation - Gradient Boost Classification v2"
   ]
  },
  {
   "cell_type": "code",
   "execution_count": 43,
   "metadata": {
    "code_folding": []
   },
   "outputs": [
    {
     "name": "stdout",
     "output_type": "stream",
     "text": [
      "Time to run: 119.44750297813061 seconds\n",
      "---------------------------------------------------------------------------\n",
      "Cross Validation Score for each K: [0.85293215 0.7220516  0.83046683 0.76320639 0.70700246 0.8264742\n",
      " 0.8277027  0.71990172 0.72389435 0.70915233]\n",
      "---------------------------------------------------------------------------\n",
      "CV Score Mean: 0.768278472599934\n",
      "Range of CV Scores: 0.14592968914430382\n"
     ]
    }
   ],
   "source": [
    "#Cross Validation - Gradient Boost v2\n",
    "start_time = time.clock()\n",
    "scores = cross_val_score(model_GBC2, features_train, target_train, cv=10)\n",
    "print(\"Time to run:\", time.clock() - start_time, \"seconds\")\n",
    "print('-'*75)\n",
    "print(\"Cross Validation Score for each K:\",scores)\n",
    "print('-'*75)\n",
    "print(\"CV Score Mean:\",scores.mean())\n",
    "range_GBC2= cvrange(scores)\n",
    "print(\"Range of CV Scores:\", range_GBC2)"
   ]
  },
  {
   "cell_type": "markdown",
   "metadata": {},
   "source": [
    "## Gradient Boost Classification - v3"
   ]
  },
  {
   "cell_type": "code",
   "execution_count": 25,
   "metadata": {
    "code_folding": []
   },
   "outputs": [
    {
     "name": "stdout",
     "output_type": "stream",
     "text": [
      "GradientBoostingClassifier(criterion='friedman_mse', init=None,\n",
      "              learning_rate=1.3, loss='deviance', max_depth=1,\n",
      "              max_features=None, max_leaf_nodes=None,\n",
      "              min_impurity_decrease=0.0, min_impurity_split=None,\n",
      "              min_samples_leaf=1, min_samples_split=2,\n",
      "              min_weight_fraction_leaf=0.0, n_estimators=300,\n",
      "              presort='auto', random_state=0, subsample=1.0, verbose=0,\n",
      "              warm_start=False)\n",
      "---------------------------------------------------------------------------\n",
      "Gradient Boost v3 Accuracy: 0.8571955039616731\n",
      "---------------------------------------------------------------------------\n",
      "             precision    recall  f1-score   support\n",
      "\n",
      " >$50K = no       0.88      0.94      0.91     12435\n",
      ">$50K = yes       0.75      0.60      0.66      3846\n",
      "\n",
      "avg / total       0.85      0.86      0.85     16281\n",
      "\n",
      "[[11663   772]\n",
      " [ 1553  2293]]\n",
      "---------------------------------------------------------------------------\n",
      "Time to run: 3.3436244443730203 seconds\n"
     ]
    }
   ],
   "source": [
    "#Gradient Boost v3\n",
    "start_time = time.clock()\n",
    "model_GBC3 = GradientBoostingClassifier(n_estimators=300, learning_rate=1.3, max_depth=1, random_state=0)\n",
    "print(model_GBC3)\n",
    "print('-'*75)\n",
    "model_GBC3.fit(features_train, target_train)\n",
    "predicted_GBC3=model_GBC3.predict(features_test)\n",
    "expected = target_test\n",
    "print(\"Gradient Boost v3 Accuracy:\", accuracy_score(expected,predicted_GBC3))\n",
    "print('-'*75)\n",
    "print(classification_report(expected, predicted_GBC3,target_names = [\">$50K = no\", \">$50K = yes\"]))\n",
    "print(confusion_matrix(expected, predicted_GBC3))\n",
    "print('-'*75)\n",
    "print(\"Time to run:\", time.clock() - start_time, \"seconds\")"
   ]
  },
  {
   "cell_type": "markdown",
   "metadata": {},
   "source": [
    "### Cross Validation - Gradient Boost Classification v3"
   ]
  },
  {
   "cell_type": "code",
   "execution_count": 45,
   "metadata": {
    "code_folding": []
   },
   "outputs": [
    {
     "name": "stdout",
     "output_type": "stream",
     "text": [
      "Time to run: 107.56195905823915 seconds\n",
      "---------------------------------------------------------------------------\n",
      "Cross Validation Score for each K: [0.85477433 0.85687961 0.86609337 0.8482801  0.86117936 0.86148649\n",
      " 0.86179361 0.86517199 0.86025799 0.86517199]\n",
      "---------------------------------------------------------------------------\n",
      "CV Score Mean: 0.860108882852205\n",
      "Range of CV Scores: 0.017813267813267752\n"
     ]
    }
   ],
   "source": [
    "#Cross Validation - Gradient Boost v3\n",
    "start_time = time.clock()\n",
    "scores = cross_val_score(model_GBC3, features_train, target_train, cv=10)\n",
    "print(\"Time to run:\", time.clock() - start_time, \"seconds\")\n",
    "print('-'*75)\n",
    "print(\"Cross Validation Score for each K:\",scores)\n",
    "print('-'*75)\n",
    "print(\"CV Score Mean:\",scores.mean())\n",
    "range_GBC3= cvrange(scores)\n",
    "print(\"Range of CV Scores:\", range_GBC3)"
   ]
  },
  {
   "cell_type": "markdown",
   "metadata": {},
   "source": [
    "## SVM RBF - v1\n",
    "Be careful on this one as it will be slow to train. Think of ways to work around this limitation"
   ]
  },
  {
   "cell_type": "code",
   "execution_count": 23,
   "metadata": {
    "code_folding": []
   },
   "outputs": [
    {
     "name": "stdout",
     "output_type": "stream",
     "text": [
      "SVC(C=1.0, cache_size=200, class_weight='balanced', coef0=0.0,\n",
      "  decision_function_shape='ovr', degree=3, gamma=0.1, kernel='rbf',\n",
      "  max_iter=-1, probability=False, random_state=None, shrinking=True,\n",
      "  tol=0.001, verbose=False)\n",
      "---------------------------------------------------------------------------\n",
      "SVM RBF v1 Accuracy Score: 0.7906148270990725\n",
      "---------------------------------------------------------------------------\n",
      "             precision    recall  f1-score   support\n",
      "\n",
      " >$50K = no       0.89      0.82      0.86     12435\n",
      ">$50K = yes       0.55      0.69      0.61      3846\n",
      "\n",
      "avg / total       0.81      0.79      0.80     16281\n",
      "\n",
      "[[10232  2203]\n",
      " [ 1206  2640]]\n",
      "---------------------------------------------------------------------------\n",
      "Time to run: 405.96215208513513 seconds\n"
     ]
    }
   ],
   "source": [
    "#standard SVC with rbf kernal v1\n",
    "from sklearn.svm import SVC\n",
    "start_time = time.clock()\n",
    "svm_rbf1 = SVC(kernel='rbf', C=1.0, degree=3, class_weight='balanced',gamma=0.1)\n",
    "print(svm_rbf1)\n",
    "print('-'*75)\n",
    "svm_rbf1.fit(X_train, target_train)\n",
    "predicted_rbf1=svm_rbf1.predict(X_test)\n",
    "expected = target_test\n",
    "# summarize the fit of the model\n",
    "print(\"SVM RBF v1 Accuracy Score:\", accuracy_score(expected,predicted_rbf1))\n",
    "print('-'*75)\n",
    "print(classification_report(expected, predicted_rbf1,target_names = [\">$50K = no\", \">$50K = yes\"]))\n",
    "print(confusion_matrix(expected, predicted_rbf1))\n",
    "print('-'*75)\n",
    "print(\"Time to run:\", time.clock() - start_time, \"seconds\")"
   ]
  },
  {
   "cell_type": "markdown",
   "metadata": {},
   "source": [
    "### Cross Validation - SVM RBF v1\n",
    "This was not run as the model did not out perform the Adaboost DT"
   ]
  },
  {
   "cell_type": "code",
   "execution_count": null,
   "metadata": {
    "code_folding": []
   },
   "outputs": [],
   "source": [
    "#Cross Validation - SVM rbf v1\n",
    "start_time = time.clock()\n",
    "scores = cross_val_score(svm_rbf1, features_train, target_train, cv=10)\n",
    "print(\"Time to run:\", time.clock() - start_time, \"seconds\")\n",
    "print('-'*75)\n",
    "print(\"Cross Validation Score for each K:\",scores)\n",
    "print('-'*75)\n",
    "print(\"CV Score Mean:\",scores.mean())\n",
    "range_rbf1= cvrange(scores)\n",
    "print(\"Range of CV Scores:\", range_rbf1)"
   ]
  },
  {
   "cell_type": "markdown",
   "metadata": {},
   "source": [
    "## SVM RBF - v2"
   ]
  },
  {
   "cell_type": "code",
   "execution_count": 24,
   "metadata": {
    "code_folding": []
   },
   "outputs": [
    {
     "name": "stdout",
     "output_type": "stream",
     "text": [
      "SVC(C=2, cache_size=200, class_weight='balanced', coef0=0.0,\n",
      "  decision_function_shape='ovr', degree=3, gamma=0.1, kernel='rbf',\n",
      "  max_iter=-1, probability=False, random_state=None, shrinking=True,\n",
      "  tol=0.001, verbose=False)\n",
      "---------------------------------------------------------------------------\n",
      "SVM RBF v2 Accuracy Score: 0.763589460106873\n",
      "---------------------------------------------------------------------------\n",
      "             precision    recall  f1-score   support\n",
      "\n",
      " >$50K = no       0.77      0.99      0.87     12435\n",
      ">$50K = yes       0.49      0.02      0.04      3846\n",
      "\n",
      "avg / total       0.70      0.76      0.67     16281\n",
      "\n",
      "[[12349    86]\n",
      " [ 3763    83]]\n",
      "---------------------------------------------------------------------------\n",
      "Time to run: 832.2826793430349 seconds\n"
     ]
    }
   ],
   "source": [
    "#standard SVC with rbf kernal v2\n",
    "from sklearn.svm import SVC\n",
    "start_time = time.clock()\n",
    "svm_rbf2 = SVC(kernel='rbf', C=2, degree=3, class_weight='balanced',gamma=0.1)\n",
    "print(svm_rbf2)\n",
    "print('-'*75)\n",
    "svm_rbf2.fit(features_train, target_train)\n",
    "predicted_rbf2=svm_rbf2.predict(features_test)\n",
    "expected = target_test\n",
    "# summarize the fit of the model\n",
    "print(\"SVM RBF v2 Accuracy Score:\", accuracy_score(expected,predicted_rbf2))\n",
    "print('-'*75)\n",
    "print(classification_report(expected, predicted_rbf2,target_names = [\">$50K = no\", \">$50K = yes\"]))\n",
    "print(confusion_matrix(expected, predicted_rbf2))\n",
    "print('-'*75)\n",
    "print(\"Time to run:\", time.clock() - start_time, \"seconds\")"
   ]
  },
  {
   "cell_type": "markdown",
   "metadata": {},
   "source": [
    "### Cross Validation - SVM RBF v2\n",
    "This was not run as the model did not out perform the Adaboost DT"
   ]
  },
  {
   "cell_type": "code",
   "execution_count": null,
   "metadata": {
    "code_folding": []
   },
   "outputs": [],
   "source": [
    "#Cross Validation - SVM rbf v2\n",
    "start_time = time.clock()\n",
    "scores = cross_val_score(svm_rbf2, features_train, target_train, cv=10)\n",
    "print(\"Time to run:\", time.clock() - start_time, \"seconds\")\n",
    "print('-'*75)\n",
    "print(\"Cross Validation Score for each K:\",scores)\n",
    "print('-'*75)\n",
    "print(\"CV Score Mean:\",scores.mean())\n",
    "range_rbf2= cvrange(scores)\n",
    "print(\"Range of CV Scores:\", range_rbf2)"
   ]
  },
  {
   "cell_type": "markdown",
   "metadata": {},
   "source": [
    "## SVM RBF - v3"
   ]
  },
  {
   "cell_type": "code",
   "execution_count": 25,
   "metadata": {
    "code_folding": []
   },
   "outputs": [
    {
     "name": "stdout",
     "output_type": "stream",
     "text": [
      "SVC(C=3, cache_size=200, class_weight='balanced', coef0=0.0,\n",
      "  decision_function_shape='ovr', degree=3, gamma=0.1, kernel='rbf',\n",
      "  max_iter=-1, probability=False, random_state=None, shrinking=True,\n",
      "  tol=0.001, verbose=False)\n",
      "---------------------------------------------------------------------------\n",
      "SVM RBF v3 Accuracy Score: 0.763589460106873\n",
      "---------------------------------------------------------------------------\n",
      "             precision    recall  f1-score   support\n",
      "\n",
      " >$50K = no       0.77      0.99      0.87     12435\n",
      ">$50K = yes       0.49      0.02      0.04      3846\n",
      "\n",
      "avg / total       0.70      0.76      0.67     16281\n",
      "\n",
      "[[12349    86]\n",
      " [ 3763    83]]\n",
      "---------------------------------------------------------------------------\n",
      "Time to run: 842.1165875863262 seconds\n"
     ]
    }
   ],
   "source": [
    "#standard SVC with rbf kernal v3\n",
    "from sklearn.svm import SVC\n",
    "start_time = time.clock()\n",
    "svm_rbf3 = SVC(kernel='rbf', C=3, degree=3, class_weight='balanced',gamma=0.1)\n",
    "print(svm_rbf3)\n",
    "print ('-'*75)\n",
    "svm_rbf3.fit(features_train, target_train)\n",
    "predicted_rbf3=svm_rbf3.predict(features_test)\n",
    "expected = target_test\n",
    "# summarize the fit of the model\n",
    "print(\"SVM RBF v3 Accuracy Score:\", accuracy_score(expected,predicted_rbf3))\n",
    "print('-'*75)\n",
    "print(classification_report(expected, predicted_rbf3,target_names = [\">$50K = no\", \">$50K = yes\"]))\n",
    "print(confusion_matrix(expected, predicted_rbf3))\n",
    "print('-'*75)\n",
    "print(\"Time to run:\", time.clock() - start_time, \"seconds\")"
   ]
  },
  {
   "cell_type": "markdown",
   "metadata": {},
   "source": [
    "### Cross Validation - SVM RBF v3\n",
    "This was not run as the model did not out perform the Adaboost DT"
   ]
  },
  {
   "cell_type": "code",
   "execution_count": null,
   "metadata": {
    "code_folding": []
   },
   "outputs": [],
   "source": [
    "#Cross Validation - SVM rbf v3\n",
    "start_time = time.clock()\n",
    "scores = cross_val_score(svm_rbf3, features_train, target_train, cv=10)\n",
    "print(\"Time to run:\", time.clock() - start_time, \"seconds\")\n",
    "print('-'*75)\n",
    "print(\"Cross Validation Score for each K:\",scores)\n",
    "print('-'*75)\n",
    "print(\"CV Score Mean:\",scores.mean())\n",
    "range_rbf3= cvrange(scores)\n",
    "print(\"Range of CV Scores:\", range_rbf3)"
   ]
  },
  {
   "cell_type": "markdown",
   "metadata": {},
   "source": [
    "### Grid Search - SVM RBF"
   ]
  },
  {
   "cell_type": "code",
   "execution_count": 25,
   "metadata": {
    "code_folding": [
     0
    ]
   },
   "outputs": [
    {
     "name": "stdout",
     "output_type": "stream",
     "text": [
      "SCORES: {'mean_fit_time': array([569.6239852 , 522.99389968, 521.78387904, 536.65792646,\n",
      "       496.86059675]), 'std_fit_time': array([ 4.6357716 , 11.72427549,  8.27815193,  9.33705185, 95.95986741]), 'mean_score_time': array([21.61837754, 21.19916277, 21.7483233 , 21.5221221 , 20.2492723 ]), 'std_score_time': array([0.10060629, 0.49361515, 0.19135163, 0.32669346, 3.46690753]), 'param_C': masked_array(data=[1, 2, 3, 4, 5],\n",
      "             mask=[False, False, False, False, False],\n",
      "       fill_value='?',\n",
      "            dtype=object), 'params': [{'C': 1}, {'C': 2}, {'C': 3}, {'C': 4}, {'C': 5}], 'split0_test_score': array([0.76244791, 0.76222856, 0.76244791, 0.76244791, 0.76244791]), 'split1_test_score': array([0.75784163, 0.75849967, 0.75849967, 0.75849967, 0.75849967]), 'split2_test_score': array([0.76069313, 0.76069313, 0.76069313, 0.76069313, 0.76069313]), 'split3_test_score': array([0.7580079 , 0.75822729, 0.75822729, 0.75822729, 0.75822729]), 'split4_test_score': array([0.75839368, 0.75861312, 0.75861312, 0.75861312, 0.75861312]), 'mean_test_score': array([0.75947701, 0.75965251, 0.75969638, 0.75969638, 0.75969638]), 'std_test_score': array([0.00180625, 0.0015595 , 0.00163272, 0.00163272, 0.00163272]), 'rank_test_score': array([5, 4, 1, 1, 1]), 'split0_train_score': array([0.99895793, 0.99928701, 0.99978062, 1.        , 1.        ]), 'split1_train_score': array([0.99928701, 0.99956124, 0.99983546, 1.        , 1.        ]), 'split2_train_score': array([0.99906762, 0.99934185, 0.99978062, 0.99994515, 1.        ]), 'split3_train_score': array([0.99906768, 0.99934189, 0.99967094, 0.99994516, 1.        ]), 'split4_train_score': array([0.99895805, 0.99939676, 0.99983548, 1.        , 1.        ]), 'mean_train_score': array([0.99906766, 0.99938575, 0.99978062, 0.99997806, 1.        ]), 'std_train_score': array([1.20139850e-04, 9.43581401e-05, 6.00770605e-05, 2.68680149e-05,\n",
      "       0.00000000e+00])}\n",
      "---------------------------------------------------------------------------\n",
      "BEST SCORE: 0.7596963846963847\n",
      "BEST PARAM: {'C': 3}\n",
      "---------------------------------------------------------------------------\n",
      "Time to run: 2698.0240725127915 seconds\n"
     ]
    }
   ],
   "source": [
    "#Grid Search - SVM rbf\n",
    "start_time = time.clock()\n",
    "parameters = {'C':[1,2,3,4,5]}\n",
    "rbfg = SVC(kernel='rbf', degree=3, class_weight='balanced',gamma=0.1)\n",
    "grid_rbf = GridSearchCV(rbfg, parameters,n_jobs=-1, cv=5)\n",
    "grid_rbf=grid_rbf.fit(features_train, target_train)\n",
    "print(\"SCORES:\", grid_rbf.cv_results_)\n",
    "print('-'*75)\n",
    "print(\"BEST SCORE:\", grid_rbf.best_score_)\n",
    "print(\"BEST PARAM:\", grid_rbf.best_params_)\n",
    "print('-'*75)\n",
    "print(\"Time to run:\", time.clock() - start_time, \"seconds\")"
   ]
  },
  {
   "cell_type": "markdown",
   "metadata": {},
   "source": [
    "## Extra Trees - v1"
   ]
  },
  {
   "cell_type": "code",
   "execution_count": 53,
   "metadata": {},
   "outputs": [
    {
     "name": "stdout",
     "output_type": "stream",
     "text": [
      "ExtraTreesClassifier(bootstrap=False, class_weight='balanced',\n",
      "           criterion='gini', max_depth=5, max_features='auto',\n",
      "           max_leaf_nodes=None, min_impurity_decrease=0.0,\n",
      "           min_impurity_split=None, min_samples_leaf=1,\n",
      "           min_samples_split=2, min_weight_fraction_leaf=0.0,\n",
      "           n_estimators=100, n_jobs=1, oob_score=False, random_state=None,\n",
      "           verbose=0, warm_start=False)\n",
      "---------------------------------------------------------------------------\n",
      "Extra Trees v1 Accuracy Score: 0.7281493765739205\n",
      "---------------------------------------------------------------------------\n",
      "             precision    recall  f1-score   support\n",
      "\n",
      " >$50K = no       0.94      0.69      0.79     12435\n",
      ">$50K = yes       0.46      0.86      0.60      3846\n",
      "\n",
      "avg / total       0.83      0.73      0.75     16281\n",
      "\n",
      "[[8556 3879]\n",
      " [ 547 3299]]\n",
      "---------------------------------------------------------------------------\n",
      "Time to run: 0.9669219367377764 seconds\n"
     ]
    }
   ],
   "source": [
    "from sklearn.ensemble import ExtraTreesClassifier\n",
    "start_time = time.clock()\n",
    "xdt1 = ExtraTreesClassifier(max_depth=5, n_estimators=100,class_weight='balanced')\n",
    "print(xdt1)\n",
    "print('-'*75)\n",
    "xdt1.fit(features_train, target_train)\n",
    "predicted_xdt1=xdt1.predict(features_test)\n",
    "expected = target_test\n",
    "print(\"Extra Trees v1 Accuracy Score:\", accuracy_score(expected,predicted_xdt1))\n",
    "print('-'*75)\n",
    "print(classification_report(expected, predicted_xdt1,target_names = [\">$50K = no\", \">$50K = yes\"]))\n",
    "print(confusion_matrix(expected, predicted_xdt1))\n",
    "print('-'*75)\n",
    "print(\"Time to run:\", time.clock() - start_time, \"seconds\")"
   ]
  },
  {
   "cell_type": "markdown",
   "metadata": {},
   "source": [
    "### Cross Validation - Extra Trees v1"
   ]
  },
  {
   "cell_type": "code",
   "execution_count": 45,
   "metadata": {},
   "outputs": [
    {
     "name": "stdout",
     "output_type": "stream",
     "text": [
      "Time to run: 15.923048062890302 seconds\n",
      "---------------------------------------------------------------------------\n",
      "Cross Validation Score for each K: [0.73349708 0.71375921 0.7269656  0.7220516  0.71928747 0.73126536\n",
      " 0.72020885 0.72542998 0.7257371  0.71867322]\n",
      "---------------------------------------------------------------------------\n",
      "CV Score Mean: 0.7236875461583783\n",
      "Range of CV Scores: 0.019737869446189937\n"
     ]
    }
   ],
   "source": [
    "#verify Random Forest with Cross Validation\n",
    "start_time = time.clock()\n",
    "scores = cross_val_score(xdt1, features_train, target_train, cv=10)\n",
    "print(\"Time to run:\", time.clock() - start_time, \"seconds\")\n",
    "print('-'*75)\n",
    "print(\"Cross Validation Score for each K:\",scores)\n",
    "print('-'*75)\n",
    "print(\"CV Score Mean:\",scores.mean())\n",
    "range_xdt1= cvrange(scores)\n",
    "print(\"Range of CV Scores:\", range_xdt1)"
   ]
  },
  {
   "cell_type": "markdown",
   "metadata": {},
   "source": [
    "## Extra Trees - v2"
   ]
  },
  {
   "cell_type": "code",
   "execution_count": 29,
   "metadata": {},
   "outputs": [
    {
     "name": "stdout",
     "output_type": "stream",
     "text": [
      "ExtraTreesClassifier(bootstrap=False, class_weight='balanced',\n",
      "           criterion='gini', max_depth=4, max_features='auto',\n",
      "           max_leaf_nodes=None, min_impurity_decrease=0.0,\n",
      "           min_impurity_split=None, min_samples_leaf=1,\n",
      "           min_samples_split=2, min_weight_fraction_leaf=0.0,\n",
      "           n_estimators=150, n_jobs=1, oob_score=False, random_state=None,\n",
      "           verbose=0, warm_start=False)\n",
      "---------------------------------------------------------------------------\n",
      "Extra Trees v2 Accuracy Score: 0.7235427799275229\n",
      "---------------------------------------------------------------------------\n",
      "             precision    recall  f1-score   support\n",
      "\n",
      " >$50K = no       0.94      0.68      0.79     12435\n",
      ">$50K = yes       0.45      0.85      0.59      3846\n",
      "\n",
      "avg / total       0.82      0.72      0.74     16281\n",
      "\n",
      "[[8493 3942]\n",
      " [ 559 3287]]\n",
      "---------------------------------------------------------------------------\n",
      "Time to run: 1.3314704107942816 seconds\n"
     ]
    }
   ],
   "source": [
    "start_time = time.clock()\n",
    "xdt2 = ExtraTreesClassifier(max_depth=4, n_estimators=150,class_weight='balanced')\n",
    "print(xdt2)\n",
    "print('-'*75)\n",
    "xdt2.fit(features_train, target_train)\n",
    "predicted_xdt2=xdt2.predict(features_test)\n",
    "expected = target_test\n",
    "print(\"Extra Trees v2 Accuracy Score:\", accuracy_score(expected,predicted_xdt2))\n",
    "print('-'*75)\n",
    "print(classification_report(expected, predicted_xdt2,target_names = [\">$50K = no\", \">$50K = yes\"]))\n",
    "print(confusion_matrix(expected, predicted_xdt2))\n",
    "print('-'*75)\n",
    "print(\"Time to run:\", time.clock() - start_time, \"seconds\")"
   ]
  },
  {
   "cell_type": "markdown",
   "metadata": {},
   "source": [
    "### Cross Validation - Extra Trees v2"
   ]
  },
  {
   "cell_type": "code",
   "execution_count": 46,
   "metadata": {},
   "outputs": [
    {
     "name": "stdout",
     "output_type": "stream",
     "text": [
      "Time to run: 23.035751273666392 seconds\n",
      "---------------------------------------------------------------------------\n",
      "Cross Validation Score for each K: [0.7307338  0.71590909 0.72757985 0.71314496 0.71314496 0.73003686\n",
      " 0.7208231  0.72297297 0.7232801  0.71590909]\n",
      "---------------------------------------------------------------------------\n",
      "CV Score Mean: 0.7213534786915198\n",
      "Range of CV Scores: 0.017588840969252395\n"
     ]
    }
   ],
   "source": [
    "#verify Random Forest with Cross Validation\n",
    "start_time = time.clock()\n",
    "scores = cross_val_score(xdt2, features_train, target_train, cv=10)\n",
    "print(\"Time to run:\", time.clock() - start_time, \"seconds\")\n",
    "print('-'*75)\n",
    "print(\"Cross Validation Score for each K:\",scores)\n",
    "print('-'*75)\n",
    "print(\"CV Score Mean:\",scores.mean())\n",
    "range_xdt2= cvrange(scores)\n",
    "print(\"Range of CV Scores:\", range_xdt2)"
   ]
  },
  {
   "cell_type": "markdown",
   "metadata": {},
   "source": [
    "## Extra Trees - v3"
   ]
  },
  {
   "cell_type": "code",
   "execution_count": 32,
   "metadata": {},
   "outputs": [
    {
     "name": "stdout",
     "output_type": "stream",
     "text": [
      "ExtraTreesClassifier(bootstrap=False, class_weight='balanced',\n",
      "           criterion='gini', max_depth=5, max_features='auto',\n",
      "           max_leaf_nodes=None, min_impurity_decrease=0.0,\n",
      "           min_impurity_split=None, min_samples_leaf=1,\n",
      "           min_samples_split=2, min_weight_fraction_leaf=0.0,\n",
      "           n_estimators=200, n_jobs=1, oob_score=False, random_state=None,\n",
      "           verbose=0, warm_start=False)\n",
      "---------------------------------------------------------------------------\n",
      "Extra Trees v3 Accuracy Score: 0.7267981082243106\n",
      "---------------------------------------------------------------------------\n",
      "             precision    recall  f1-score   support\n",
      "\n",
      " >$50K = no       0.94      0.69      0.79     12435\n",
      ">$50K = yes       0.46      0.86      0.60      3846\n",
      "\n",
      "avg / total       0.83      0.73      0.75     16281\n",
      "\n",
      "[[8526 3909]\n",
      " [ 539 3307]]\n",
      "---------------------------------------------------------------------------\n",
      "Time to run: 2.093102417409682 seconds\n"
     ]
    }
   ],
   "source": [
    "start_time = time.clock()\n",
    "xdt3 = ExtraTreesClassifier(max_depth=5, n_estimators=200,class_weight='balanced')\n",
    "print(xdt3)\n",
    "print('-'*75)\n",
    "xdt3.fit(features_train, target_train)\n",
    "predicted_xdt3=xdt3.predict(features_test)\n",
    "expected = target_test\n",
    "print(\"Extra Trees v3 Accuracy Score:\", accuracy_score(expected,predicted_xdt3))\n",
    "print('-'*75)\n",
    "print(classification_report(expected, predicted_xdt3,target_names = [\">$50K = no\", \">$50K = yes\"]))\n",
    "print(confusion_matrix(expected, predicted_xdt3))\n",
    "print('-'*75)\n",
    "print(\"Time to run:\", time.clock() - start_time, \"seconds\")"
   ]
  },
  {
   "cell_type": "markdown",
   "metadata": {},
   "source": [
    "### Cross Validation - Extra Trees v3"
   ]
  },
  {
   "cell_type": "code",
   "execution_count": null,
   "metadata": {},
   "outputs": [],
   "source": [
    "#verify Random Forest with Cross Validation\n",
    "start_time = time.clock()\n",
    "scores = cross_val_score(xdt3, features_train, target_train, cv=10)\n",
    "print(\"Time to run:\", time.clock() - start_time, \"seconds\")\n",
    "print('-'*75)\n",
    "print(\"Cross Validation Score for each K:\",scores)\n",
    "print('-'*75)\n",
    "print(\"CV Score Mean:\",scores.mean())\n",
    "range_xdt3= cvrange(scores)\n",
    "print(\"Range of CV Scores:\", range_xdt3)"
   ]
  },
  {
   "cell_type": "markdown",
   "metadata": {},
   "source": [
    "## AdaBoost of a Decision Tree - v1"
   ]
  },
  {
   "cell_type": "code",
   "execution_count": 54,
   "metadata": {},
   "outputs": [
    {
     "name": "stdout",
     "output_type": "stream",
     "text": [
      "AdaBoostClassifier(algorithm='SAMME',\n",
      "          base_estimator=DecisionTreeClassifier(class_weight=None, criterion='gini', max_depth=3,\n",
      "            max_features=None, max_leaf_nodes=None,\n",
      "            min_impurity_decrease=0.0, min_impurity_split=None,\n",
      "            min_samples_leaf=1, min_samples_split=2,\n",
      "            min_weight_fraction_leaf=0.0, presort=False, random_state=None,\n",
      "            splitter='best'),\n",
      "          learning_rate=1.0, n_estimators=300, random_state=1)\n",
      "---------------------------------------------------------------------------\n",
      "Adaboost v1 Accuracy: 0.8677599656040784\n",
      "---------------------------------------------------------------------------\n",
      "             precision    recall  f1-score   support\n",
      "\n",
      " >$50K = no       0.89      0.95      0.92     12435\n",
      ">$50K = yes       0.78      0.62      0.69      3846\n",
      "\n",
      "avg / total       0.86      0.87      0.86     16281\n",
      "\n",
      "[[11758   677]\n",
      " [ 1476  2370]]\n",
      "---------------------------------------------------------------------------\n",
      "Time to run: 16.033398916778083 seconds\n"
     ]
    }
   ],
   "source": [
    "from sklearn.ensemble import AdaBoostClassifier\n",
    "from sklearn.tree import DecisionTreeClassifier\n",
    "start_time = time.clock()\n",
    "bdt1 = AdaBoostClassifier(DecisionTreeClassifier(max_depth=3),algorithm=\"SAMME\", n_estimators=300, random_state=1)\n",
    "print(bdt1)\n",
    "print('-'*75)\n",
    "bdt1.fit(features_train, target_train)\n",
    "predicted_bdt1=bdt1.predict(features_test)\n",
    "expected = target_test\n",
    "print(\"Adaboost v1 Accuracy:\", accuracy_score(expected,predicted_bdt1))\n",
    "print('-'*75)\n",
    "print(classification_report(expected, predicted_bdt1,target_names = [\">$50K = no\", \">$50K = yes\"]))\n",
    "print(confusion_matrix(expected, predicted_bdt1))\n",
    "print('-'*75)\n",
    "print(\"Time to run:\", time.clock() - start_time, \"seconds\")"
   ]
  },
  {
   "cell_type": "markdown",
   "metadata": {},
   "source": [
    "### Cross Validation - AdaBoost DT v1"
   ]
  },
  {
   "cell_type": "code",
   "execution_count": 47,
   "metadata": {},
   "outputs": [
    {
     "name": "stdout",
     "output_type": "stream",
     "text": [
      "Time to run: 204.8451841963688 seconds\n",
      "---------------------------------------------------------------------------\n",
      "Cross Validation Score for each K: [0.85968683 0.86578624 0.870086   0.85626536 0.86762899 0.86701474\n",
      " 0.86640049 0.87407862 0.87070025 0.86855037]\n",
      "---------------------------------------------------------------------------\n",
      "CV Score Mean: 0.8666197884880722\n",
      "Range of CV Scores: 0.017813267813267863\n"
     ]
    }
   ],
   "source": [
    "#verify with Cross Validation\n",
    "start_time = time.clock()\n",
    "scores = cross_val_score(bdt1, features_train, target_train, cv=10)\n",
    "print(\"Time to run:\", time.clock() - start_time, \"seconds\")\n",
    "print('-'*75)\n",
    "print(\"Cross Validation Score for each K:\",scores)\n",
    "print('-'*75)\n",
    "print(\"CV Score Mean:\",scores.mean())\n",
    "range_bdt1= cvrange(scores)\n",
    "print(\"Range of CV Scores:\", range_bdt1)"
   ]
  },
  {
   "cell_type": "markdown",
   "metadata": {},
   "source": [
    "## AdaBoost of a Decision Tree - v2"
   ]
  },
  {
   "cell_type": "code",
   "execution_count": 55,
   "metadata": {},
   "outputs": [
    {
     "name": "stdout",
     "output_type": "stream",
     "text": [
      "AdaBoostClassifier(algorithm='SAMME',\n",
      "          base_estimator=DecisionTreeClassifier(class_weight=None, criterion='gini', max_depth=4,\n",
      "            max_features=None, max_leaf_nodes=None,\n",
      "            min_impurity_decrease=0.0, min_impurity_split=None,\n",
      "            min_samples_leaf=1, min_samples_split=2,\n",
      "            min_weight_fraction_leaf=0.0, presort=False, random_state=None,\n",
      "            splitter='best'),\n",
      "          learning_rate=1.0, n_estimators=345, random_state=1)\n",
      "---------------------------------------------------------------------------\n",
      "Adaboost v2 Accuracy: 0.8672071740065107\n",
      "---------------------------------------------------------------------------\n",
      "             precision    recall  f1-score   support\n",
      "\n",
      " >$50K = no       0.89      0.94      0.92     12435\n",
      ">$50K = yes       0.76      0.64      0.70      3846\n",
      "\n",
      "avg / total       0.86      0.87      0.86     16281\n",
      "\n",
      "[[11649   786]\n",
      " [ 1376  2470]]\n",
      "---------------------------------------------------------------------------\n",
      "Time to run: 24.100046848026636 seconds\n"
     ]
    }
   ],
   "source": [
    "start_time = time.clock()\n",
    "bdt2 = AdaBoostClassifier(DecisionTreeClassifier(max_depth=4),algorithm=\"SAMME\",n_estimators=345, random_state=1)\n",
    "print(bdt2)\n",
    "print('-'*75)\n",
    "bdt2.fit(features_train, target_train)\n",
    "predicted_bdt2=bdt2.predict(features_test)\n",
    "expected = target_test\n",
    "print(\"Adaboost v2 Accuracy:\", accuracy_score(expected,predicted_bdt2))\n",
    "print('-'*75)\n",
    "print(classification_report(expected, predicted_bdt2,target_names = [\">$50K = no\", \">$50K = yes\"]))\n",
    "print(confusion_matrix(expected, predicted_bdt2))\n",
    "print('-'*75)\n",
    "print(\"Time to run:\", time.clock() - start_time, \"seconds\")"
   ]
  },
  {
   "cell_type": "markdown",
   "metadata": {},
   "source": [
    "### Cross Validation - AdaBoost DT v2"
   ]
  },
  {
   "cell_type": "code",
   "execution_count": 48,
   "metadata": {},
   "outputs": [
    {
     "name": "stdout",
     "output_type": "stream",
     "text": [
      "Time to run: 333.9584022518975 seconds\n",
      "---------------------------------------------------------------------------\n",
      "Cross Validation Score for each K: [0.8584587  0.86332924 0.86824324 0.85411548 0.86732187 0.86363636\n",
      " 0.87192875 0.87530713 0.870086   0.86916462]\n",
      "---------------------------------------------------------------------------\n",
      "CV Score Mean: 0.8661591382461816\n",
      "Range of CV Scores: 0.021191646191646152\n"
     ]
    }
   ],
   "source": [
    "#verify model with Cross Validation\n",
    "start_time = time.clock()\n",
    "scores = cross_val_score(bdt2, features_train, target_train, cv=10)\n",
    "print(\"Time to run:\", time.clock() - start_time, \"seconds\")\n",
    "print('-'*75)\n",
    "print(\"Cross Validation Score for each K:\",scores)\n",
    "print('-'*75)\n",
    "print(\"CV Score Mean:\",scores.mean())\n",
    "range_bdt2= cvrange(scores)\n",
    "print(\"Range of CV Scores:\", range_bdt2)"
   ]
  },
  {
   "cell_type": "markdown",
   "metadata": {},
   "source": [
    "## AdaBoost of a Decision Tree - v3"
   ]
  },
  {
   "cell_type": "code",
   "execution_count": 74,
   "metadata": {},
   "outputs": [
    {
     "name": "stdout",
     "output_type": "stream",
     "text": [
      "AdaBoostClassifier(algorithm='SAMME',\n",
      "          base_estimator=DecisionTreeClassifier(class_weight=None, criterion='gini', max_depth=None,\n",
      "            max_features=None, max_leaf_nodes=None,\n",
      "            min_impurity_decrease=0.0, min_impurity_split=None,\n",
      "            min_samples_leaf=2, min_samples_split=4,\n",
      "            min_weight_fraction_leaf=0.0, presort=False, random_state=1,\n",
      "            splitter='best'),\n",
      "          learning_rate=1.0, n_estimators=350, random_state=1)\n",
      "---------------------------------------------------------------------------\n",
      "Adaboost v3 Accuracy: 0.8474295190713101\n",
      "---------------------------------------------------------------------------\n",
      "             precision    recall  f1-score   support\n",
      "\n",
      " >$50K = no       0.88      0.93      0.90     12435\n",
      ">$50K = yes       0.72      0.57      0.64      3846\n",
      "\n",
      "avg / total       0.84      0.85      0.84     16281\n",
      "\n",
      "[[11590   845]\n",
      " [ 1639  2207]]\n",
      "---------------------------------------------------------------------------\n",
      "Time to run: 130.54434192744793 seconds\n"
     ]
    }
   ],
   "source": [
    "start_time = time.clock()\n",
    "bdt3 = AdaBoostClassifier(DecisionTreeClassifier(max_depth=None, min_samples_leaf=2, min_samples_split=4, random_state=1)\n",
    "                              ,algorithm=\"SAMME\",n_estimators=350, random_state=1)\n",
    "print(bdt3)\n",
    "print('-'*75)\n",
    "bdt3.fit(features_train, target_train)\n",
    "predicted_bdt3=bdt3.predict(features_test)\n",
    "expected = target_test\n",
    "print(\"Adaboost v3 Accuracy:\", accuracy_score(expected,predicted_bdt3))\n",
    "print('-'*75)\n",
    "print(classification_report(expected, predicted_bdt3,target_names = [\">$50K = no\", \">$50K = yes\"]))\n",
    "print(confusion_matrix(expected, predicted_bdt3))\n",
    "print('-'*75)\n",
    "print(\"Time to run:\", time.clock() - start_time, \"seconds\")"
   ]
  },
  {
   "cell_type": "markdown",
   "metadata": {},
   "source": [
    "### Cross Validation - AdaBoost DT v3"
   ]
  },
  {
   "cell_type": "code",
   "execution_count": 71,
   "metadata": {},
   "outputs": [
    {
     "name": "stdout",
     "output_type": "stream",
     "text": [
      "Time to run: 414.28647952297433 seconds\n",
      "---------------------------------------------------------------------------\n",
      "Cross Validation Score for each K: [0.86091495 0.86609337 0.86517199 0.86056511 0.8713145  0.86609337\n",
      " 0.86947174 0.8762285  0.87469287 0.87039312]\n",
      "---------------------------------------------------------------------------\n",
      "CV Score Mean: 0.8680939522434764\n",
      "Range of CV Scores: 0.01566339066339073\n"
     ]
    }
   ],
   "source": [
    "#verify model with Cross Validation\n",
    "start_time = time.clock()\n",
    "scores = cross_val_score(bdt3, features_train, target_train, cv=10)\n",
    "print(\"Time to run:\", time.clock() - start_time, \"seconds\")\n",
    "print('-'*75)\n",
    "print(\"Cross Validation Score for each K:\",scores)\n",
    "print('-'*75)\n",
    "print(\"CV Score Mean:\",scores.mean())\n",
    "range_bdt3= cvrange(scores)\n",
    "print(\"Range of CV Scores:\", range_bdt3)"
   ]
  },
  {
   "cell_type": "markdown",
   "metadata": {},
   "source": [
    "## AdaBoost of a Random Forest - v1\n",
    "Did not run cross validation on these, as they did not outperform the Adaboost Decision Tree."
   ]
  },
  {
   "cell_type": "code",
   "execution_count": 58,
   "metadata": {},
   "outputs": [
    {
     "name": "stdout",
     "output_type": "stream",
     "text": [
      "AdaBoostClassifier(algorithm='SAMME',\n",
      "          base_estimator=RandomForestClassifier(bootstrap=True, class_weight=None, criterion='gini',\n",
      "            max_depth=3, max_features='auto', max_leaf_nodes=None,\n",
      "            min_impurity_decrease=0.0, min_impurity_split=None,\n",
      "            min_samples_leaf=1, min_samples_split=2,\n",
      "            min_weight_fraction_leaf=0.0, n_estimators=10, n_jobs=1,\n",
      "            oob_score=False, random_state=None, verbose=0,\n",
      "            warm_start=False),\n",
      "          learning_rate=1.0, n_estimators=250, random_state=1)\n",
      "---------------------------------------------------------------------------\n",
      "Adaboost RF v1 Accuracy: 0.8431914501566243\n",
      "---------------------------------------------------------------------------\n",
      "             precision    recall  f1-score   support\n",
      "\n",
      " >$50K = no       0.84      0.98      0.91     12435\n",
      ">$50K = yes       0.87      0.40      0.55      3846\n",
      "\n",
      "avg / total       0.85      0.84      0.82     16281\n",
      "\n",
      "[[12198   237]\n",
      " [ 2316  1530]]\n",
      "---------------------------------------------------------------------------\n",
      "Time to run: 21.87384654156608 seconds\n"
     ]
    }
   ],
   "source": [
    "start_time = time.clock()\n",
    "brf1 = AdaBoostClassifier(RandomForestClassifier(n_estimators=10),algorithm=\"SAMME\",n_estimators=250, random_state=1)\n",
    "print(brf1)\n",
    "print('-'*75)\n",
    "brf1.fit(features_train, target_train)\n",
    "predicted_brf1=brf1.predict(features_test)\n",
    "expected = target_test\n",
    "print(\"Adaboost RF v1 Accuracy:\", accuracy_score(expected,predicted_brf1))\n",
    "print('-'*75)\n",
    "print(classification_report(expected, predicted_brf1,target_names = [\">$50K = no\", \">$50K = yes\"]))\n",
    "print(confusion_matrix(expected, predicted_brf1))\n",
    "print('-'*75)\n",
    "print(\"Time to run:\", time.clock() - start_time, \"seconds\")"
   ]
  },
  {
   "cell_type": "markdown",
   "metadata": {},
   "source": [
    "## AdaBoost of a Random Forest - v2\n",
    "Did not run cross validation on these, as they did not outperform the Adaboost Decision Tree."
   ]
  },
  {
   "cell_type": "code",
   "execution_count": 60,
   "metadata": {},
   "outputs": [
    {
     "name": "stdout",
     "output_type": "stream",
     "text": [
      "AdaBoostClassifier(algorithm='SAMME',\n",
      "          base_estimator=RandomForestClassifier(bootstrap=True, class_weight=None, criterion='gini',\n",
      "            max_depth=3, max_features='auto', max_leaf_nodes=None,\n",
      "            min_impurity_decrease=0.0, min_impurity_split=None,\n",
      "            min_samples_leaf=1, min_samples_split=2,\n",
      "            min_weight_fraction_leaf=0.0, n_estimators=10, n_jobs=1,\n",
      "            oob_score=False, random_state=None, verbose=0,\n",
      "            warm_start=False),\n",
      "          learning_rate=1.0, n_estimators=300, random_state=1)\n",
      "---------------------------------------------------------------------------\n",
      "Adaboost RF v2 Accuracy: 0.8436213991769548\n",
      "---------------------------------------------------------------------------\n",
      "             precision    recall  f1-score   support\n",
      "\n",
      " >$50K = no       0.84      0.98      0.91     12435\n",
      ">$50K = yes       0.85      0.41      0.55      3846\n",
      "\n",
      "avg / total       0.85      0.84      0.82     16281\n",
      "\n",
      "[[12166   269]\n",
      " [ 2277  1569]]\n",
      "---------------------------------------------------------------------------\n",
      "Time to run: 26.45722962900163 seconds\n"
     ]
    }
   ],
   "source": [
    "start_time = time.clock()\n",
    "brf2 = AdaBoostClassifier(RandomForestClassifier(max_depth=3),algorithm=\"SAMME\",n_estimators=300, random_state=1)\n",
    "print(brf2)\n",
    "print('-'*75)\n",
    "brf2.fit(features_train, target_train)\n",
    "predicted_brf2=brf2.predict(features_test)\n",
    "expected = target_test\n",
    "print(\"Adaboost RF v2 Accuracy:\", accuracy_score(expected,predicted_brf2))\n",
    "print('-'*75)\n",
    "print(classification_report(expected, predicted_brf2,target_names = [\">$50K = no\", \">$50K = yes\"]))\n",
    "print(confusion_matrix(expected, predicted_brf2))\n",
    "print('-'*75)\n",
    "print(\"Time to run:\", time.clock() - start_time, \"seconds\")"
   ]
  },
  {
   "cell_type": "markdown",
   "metadata": {},
   "source": [
    "## AdaBoost of a Random Forest - v3\n",
    "Did not run cross validation on these, as they did not outperform the Adaboost Decision Tree."
   ]
  },
  {
   "cell_type": "code",
   "execution_count": 39,
   "metadata": {},
   "outputs": [
    {
     "name": "stdout",
     "output_type": "stream",
     "text": [
      "AdaBoostClassifier(algorithm='SAMME',\n",
      "          base_estimator=RandomForestClassifier(bootstrap=True, class_weight=None, criterion='gini',\n",
      "            max_depth=5, max_features='auto', max_leaf_nodes=None,\n",
      "            min_impurity_decrease=0.0, min_impurity_split=None,\n",
      "            min_samples_leaf=1, min_samples_split=2,\n",
      "            min_weight_fraction_leaf=0.0, n_estimators=10, n_jobs=1,\n",
      "            oob_score=False, random_state=None, verbose=0,\n",
      "            warm_start=False),\n",
      "          learning_rate=1.0, n_estimators=350, random_state=1)\n",
      "---------------------------------------------------------------------------\n",
      "Adaboost RF v3 Accuracy: 0.8516061666973773\n",
      "---------------------------------------------------------------------------\n",
      "             precision    recall  f1-score   support\n",
      "\n",
      " >$50K = no       0.87      0.95      0.91     12435\n",
      ">$50K = yes       0.76      0.55      0.64      3846\n",
      "\n",
      "avg / total       0.84      0.85      0.84     16281\n",
      "\n",
      "[[11760   675]\n",
      " [ 1741  2105]]\n",
      "---------------------------------------------------------------------------\n",
      "Time to run: 338.31042606104256 seconds\n"
     ]
    }
   ],
   "source": [
    "start_time = time.clock()\n",
    "brf3 = AdaBoostClassifier(RandomForestClassifier(max_depth=5),algorithm=\"SAMME\",n_estimators=350, random_state=1)\n",
    "print(brf3)\n",
    "print('-'*75)\n",
    "brf3.fit(features_train, target_train)\n",
    "predicted_brf3=brf3.predict(features_test)\n",
    "expected = target_test\n",
    "print(\"Adaboost RF v3 Accuracy:\", accuracy_score(expected,predicted_brf3))\n",
    "print('-'*75)\n",
    "print(classification_report(expected, predicted_brf3,target_names = [\">$50K = no\", \">$50K = yes\"]))\n",
    "print(confusion_matrix(expected, predicted_brf3))\n",
    "print('-'*75)\n",
    "print(\"Time to run:\", time.clock() - start_time, \"seconds\")"
   ]
  },
  {
   "cell_type": "markdown",
   "metadata": {},
   "source": [
    "## Neural Net - v1"
   ]
  },
  {
   "cell_type": "code",
   "execution_count": 67,
   "metadata": {},
   "outputs": [
    {
     "name": "stdout",
     "output_type": "stream",
     "text": [
      "MLPClassifier(activation='relu', alpha=1e-05, batch_size='auto', beta_1=0.9,\n",
      "       beta_2=0.999, early_stopping=False, epsilon=1e-08,\n",
      "       hidden_layer_sizes=(5, 2), learning_rate='constant',\n",
      "       learning_rate_init=0.001, max_iter=200, momentum=0.9,\n",
      "       nesterovs_momentum=True, power_t=0.5, random_state=1, shuffle=True,\n",
      "       solver='lbfgs', tol=0.0001, validation_fraction=0.1, verbose=False,\n",
      "       warm_start=False)\n",
      "---------------------------------------------------------------------------\n",
      "Neural Net v1 Accuracy: 0.8501320557705301\n",
      "---------------------------------------------------------------------------\n",
      "             precision    recall  f1-score   support\n",
      "\n",
      " >$50K = no       0.89      0.92      0.90     12435\n",
      ">$50K = yes       0.70      0.63      0.67      3846\n",
      "\n",
      "avg / total       0.85      0.85      0.85     16281\n",
      "\n",
      "[[11401  1034]\n",
      " [ 1406  2440]]\n",
      "---------------------------------------------------------------------------\n",
      "Time to run: 2.021480687775693 seconds\n"
     ]
    }
   ],
   "source": [
    "from sklearn.neural_network import MLPClassifier\n",
    "start_time = time.clock()\n",
    "model_NN1 = MLPClassifier(activation='relu', alpha=1e-05, batch_size='auto',\n",
    "       beta_1=0.9, beta_2=0.999, early_stopping=False,\n",
    "       epsilon=1e-08, hidden_layer_sizes=(5, 2), learning_rate='constant',\n",
    "       learning_rate_init=0.001, max_iter=200, momentum=0.9,\n",
    "       nesterovs_momentum=True, power_t=0.5, random_state=1, shuffle=True,\n",
    "       solver='lbfgs', tol=0.0001, validation_fraction=0.1, verbose=False,\n",
    "       warm_start=False)\n",
    "print(model_NN1)\n",
    "model_NN1=model_NN1.fit(X_train, target_train)\n",
    "print('-'*75)\n",
    "target_predicted_NN1 = model_NN1.predict(X_test)\n",
    "print(\"Neural Net v1 Accuracy:\", accuracy_score(target_test, target_predicted_NN1))\n",
    "print('-'*75)\n",
    "print(classification_report(target_test, target_predicted_NN1, target_names = [\">$50K = no\", \">$50K = yes\"]))\n",
    "print(confusion_matrix(target_test, target_predicted_NN1))\n",
    "print('-'*75)\n",
    "print(\"Time to run:\", time.clock() - start_time, \"seconds\")"
   ]
  },
  {
   "cell_type": "markdown",
   "metadata": {},
   "source": [
    "### Cross Validation - Neural Net v1"
   ]
  },
  {
   "cell_type": "code",
   "execution_count": 37,
   "metadata": {},
   "outputs": [
    {
     "name": "stdout",
     "output_type": "stream",
     "text": [
      "Time to run: 20.028607731823286 seconds\n",
      "---------------------------------------------------------------------------\n",
      "Cross Validation Score for each K: [0.84187903 0.84797297 0.85780098 0.84797297 0.8519656  0.85565111\n",
      " 0.85288698 0.85657248 0.85595823 0.8470516 ]\n",
      "---------------------------------------------------------------------------\n",
      "CV Score Mean: 0.8515711953614933\n",
      "Range of CV Scores: 0.01592195301897481\n"
     ]
    }
   ],
   "source": [
    "#verify model with Cross Validation\n",
    "start_time = time.clock()\n",
    "scores = cross_val_score(model_NN1, X_train, target_train, cv=10)\n",
    "print(\"Time to run:\", time.clock() - start_time, \"seconds\")\n",
    "print('-'*75)\n",
    "print(\"Cross Validation Score for each K:\",scores)\n",
    "print('-'*75)\n",
    "print(\"CV Score Mean:\",scores.mean())\n",
    "range_NN1= cvrange(scores)\n",
    "print(\"Range of CV Scores:\", range_NN1)"
   ]
  },
  {
   "cell_type": "markdown",
   "metadata": {},
   "source": [
    "## Neural Net - v2"
   ]
  },
  {
   "cell_type": "code",
   "execution_count": 70,
   "metadata": {},
   "outputs": [
    {
     "name": "stdout",
     "output_type": "stream",
     "text": [
      "MLPClassifier(activation='relu', alpha=1e-05, batch_size='auto', beta_1=0.9,\n",
      "       beta_2=0.999, early_stopping=False, epsilon=1e-08,\n",
      "       hidden_layer_sizes=(7, 2), learning_rate='constant',\n",
      "       learning_rate_init=0.001, max_iter=400, momentum=0.9,\n",
      "       nesterovs_momentum=True, power_t=0.5, random_state=1, shuffle=True,\n",
      "       solver='lbfgs', tol=0.0001, validation_fraction=0.1, verbose=False,\n",
      "       warm_start=False)\n",
      "---------------------------------------------------------------------------\n",
      "Neural Net v2 Accuracy: 0.8500706344819114\n",
      "---------------------------------------------------------------------------\n",
      "             precision    recall  f1-score   support\n",
      "\n",
      " >$50K = no       0.89      0.92      0.90     12435\n",
      ">$50K = yes       0.71      0.62      0.66      3846\n",
      "\n",
      "avg / total       0.85      0.85      0.85     16281\n",
      "\n",
      "[[11443   992]\n",
      " [ 1449  2397]]\n",
      "---------------------------------------------------------------------------\n",
      "Time to run: 4.674852508360345 seconds\n"
     ]
    }
   ],
   "source": [
    "start_time = time.clock()\n",
    "model_NN2 = MLPClassifier(activation='relu', alpha=1e-05, batch_size='auto',\n",
    "       beta_1=0.9, beta_2=0.999, early_stopping=False,\n",
    "       epsilon=1e-08, hidden_layer_sizes=(7, 2), learning_rate='constant',\n",
    "       learning_rate_init=0.001, max_iter=400, momentum=0.9,\n",
    "       nesterovs_momentum=True, power_t=0.5, random_state=1, shuffle=True,\n",
    "       solver='lbfgs', tol=0.0001, validation_fraction=0.1, verbose=False,\n",
    "       warm_start=False)\n",
    "print(model_NN2)\n",
    "model_NN2=model_NN2.fit(X_train, target_train)\n",
    "print('-'*75)\n",
    "target_predicted_NN2 = model_NN2.predict(X_test)\n",
    "print(\"Neural Net v2 Accuracy:\", accuracy_score(target_test, target_predicted_NN2))\n",
    "print('-'*75)\n",
    "print(classification_report(target_test, target_predicted_NN2, target_names = [\">$50K = no\", \">$50K = yes\"]))\n",
    "print(confusion_matrix(target_test, target_predicted_NN2))\n",
    "print('-'*75)\n",
    "print(\"Time to run:\", time.clock() - start_time, \"seconds\")"
   ]
  },
  {
   "cell_type": "markdown",
   "metadata": {},
   "source": [
    "### Cross Validation - Neural Net v2"
   ]
  },
  {
   "cell_type": "code",
   "execution_count": 42,
   "metadata": {},
   "outputs": [
    {
     "name": "stdout",
     "output_type": "stream",
     "text": [
      "Time to run: 46.678020652383566 seconds\n",
      "---------------------------------------------------------------------------\n",
      "Cross Validation Score for each K: [0.84617746 0.84766585 0.85687961 0.84735872 0.85288698 0.85380835\n",
      " 0.85626536 0.85626536 0.85657248 0.85411548]\n",
      "---------------------------------------------------------------------------\n",
      "CV Score Mean: 0.8527995645742038\n",
      "Range of CV Scores: 0.01070214295575056\n"
     ]
    }
   ],
   "source": [
    "#verify model with Cross Validation\n",
    "start_time = time.clock()\n",
    "scores = cross_val_score(model_NN2, X_train, target_train, cv=10)\n",
    "print(\"Time to run:\", time.clock() - start_time, \"seconds\")\n",
    "print('-'*75)\n",
    "print(\"Cross Validation Score for each K:\",scores)\n",
    "print('-'*75)\n",
    "print(\"CV Score Mean:\",scores.mean())\n",
    "range_NN2=cvrange(scores)\n",
    "print(\"Range of CV Scores:\", range_NN2)"
   ]
  },
  {
   "cell_type": "markdown",
   "metadata": {},
   "source": [
    "## Neural Net - v3"
   ]
  },
  {
   "cell_type": "code",
   "execution_count": 69,
   "metadata": {},
   "outputs": [
    {
     "name": "stdout",
     "output_type": "stream",
     "text": [
      "MLPClassifier(activation='relu', alpha=1e-05, batch_size='auto', beta_1=0.9,\n",
      "       beta_2=0.999, early_stopping=False, epsilon=1e-08,\n",
      "       hidden_layer_sizes=8, learning_rate='constant',\n",
      "       learning_rate_init=0.001, max_iter=200, momentum=0.9,\n",
      "       nesterovs_momentum=True, power_t=0.5, random_state=1, shuffle=True,\n",
      "       solver='lbfgs', tol=0.0001, validation_fraction=0.1, verbose=False,\n",
      "       warm_start=False)\n",
      "---------------------------------------------------------------------------\n",
      "Neural Net v3 Accuracy: 0.8525274860266568\n",
      "---------------------------------------------------------------------------\n",
      "             precision    recall  f1-score   support\n",
      "\n",
      " >$50K = no       0.89      0.92      0.91     12435\n",
      ">$50K = yes       0.71      0.63      0.67      3846\n",
      "\n",
      "avg / total       0.85      0.85      0.85     16281\n",
      "\n",
      "[[11462   973]\n",
      " [ 1428  2418]]\n",
      "---------------------------------------------------------------------------\n",
      "Time to run: 1.9693456892277936 seconds\n"
     ]
    }
   ],
   "source": [
    "start_time = time.clock()\n",
    "model_NN3 = MLPClassifier(activation='relu', alpha=1e-05, batch_size='auto',\n",
    "       beta_1=0.9, beta_2=0.999, early_stopping=False,\n",
    "       epsilon=1e-08, hidden_layer_sizes=(8), learning_rate='constant',\n",
    "       learning_rate_init=0.001, max_iter=200, momentum=0.9,\n",
    "       nesterovs_momentum=True, power_t=0.5, random_state=1, shuffle=True,\n",
    "       solver='lbfgs', tol=0.0001, validation_fraction=0.1, verbose=False,\n",
    "       warm_start=False)\n",
    "print(model_NN3)\n",
    "model_NN3=model_NN3.fit(X_train, target_train)\n",
    "print('-'*75)\n",
    "# test random forest model\n",
    "target_predicted_NN3 = model_NN3.predict(X_test)\n",
    "print(\"Neural Net v3 Accuracy:\", accuracy_score(target_test, target_predicted_NN3))\n",
    "print('-'*75)\n",
    "print(classification_report(target_test, target_predicted_NN3, target_names=[\">$50K = no\", \">$50K = yes\"]))\n",
    "print(confusion_matrix(target_test, target_predicted_NN3))\n",
    "print('-'*75)\n",
    "print(\"Time to run:\", time.clock() - start_time, \"seconds\")"
   ]
  },
  {
   "cell_type": "markdown",
   "metadata": {},
   "source": [
    "### Cross Validation - Neural Net v3"
   ]
  },
  {
   "cell_type": "code",
   "execution_count": 43,
   "metadata": {},
   "outputs": [
    {
     "name": "stdout",
     "output_type": "stream",
     "text": [
      "Time to run: 19.783453743475548 seconds\n",
      "---------------------------------------------------------------------------\n",
      "Cross Validation Score for each K: [0.84648449 0.84889435 0.84920147 0.84551597 0.85257985 0.8519656\n",
      " 0.85411548 0.85841523 0.85902948 0.85964373]\n",
      "---------------------------------------------------------------------------\n",
      "CV Score Mean: 0.8525845674295167\n",
      "Range of CV Scores: 0.014127764127764175\n"
     ]
    }
   ],
   "source": [
    "#verify model with Cross Validation\n",
    "start_time = time.clock()\n",
    "scores = cross_val_score(model_NN3, X_train, target_train, cv=10)\n",
    "print(\"Time to run:\", time.clock() - start_time, \"seconds\")\n",
    "print('-'*75)\n",
    "print(\"Cross Validation Score for each K:\",scores)\n",
    "print('-'*75)\n",
    "print(\"CV Score Mean:\",scores.mean())\n",
    "range_NN3=cvrange(scores)\n",
    "print(\"Range of CV Scores:\", range_NN3)"
   ]
  },
  {
   "cell_type": "markdown",
   "metadata": {},
   "source": [
    "## Stacking -  v1"
   ]
  },
  {
   "cell_type": "code",
   "execution_count": 73,
   "metadata": {
    "code_folding": []
   },
   "outputs": [
    {
     "name": "stdout",
     "output_type": "stream",
     "text": [
      "VotingClassifier(estimators=[('rf', RandomForestClassifier(bootstrap=True, class_weight=None, criterion='gini',\n",
      "            max_depth=None, max_features='auto', max_leaf_nodes=None,\n",
      "            min_impurity_decrease=0.0, min_impurity_split=None,\n",
      "            min_samples_leaf=1, min_samples_split=2,\n",
      "            min_we...e,\n",
      "            splitter='best'),\n",
      "          learning_rate=1.0, n_estimators=200, random_state=None))],\n",
      "         flatten_transform=None, n_jobs=1, voting='hard', weights=None)\n",
      "---------------------------------------------------------------------------\n",
      "Accuracy: 0.8469 (+/- 0.0042) [Random Forest]\n",
      "Accuracy: 0.7952 (+/- 0.0036) [naive Bayes]\n",
      "Accuracy: 0.8633 (+/- 0.0044) [AdaBoost Decision Tree]\n",
      "Accuracy: 0.8556 (+/- 0.0040) [Ensemble]\n",
      "---------------------------------------------------------------------------\n",
      "Time to run: 133.76339044317365 seconds\n"
     ]
    }
   ],
   "source": [
    "from sklearn.linear_model import LogisticRegression\n",
    "from sklearn.naive_bayes import GaussianNB\n",
    "from sklearn.ensemble import RandomForestClassifier\n",
    "from sklearn.ensemble import VotingClassifier\n",
    "from sklearn.ensemble import AdaBoostClassifier\n",
    "from sklearn.tree import DecisionTreeClassifier\n",
    "start_time = time.clock()\n",
    "clf1 = RandomForestClassifier(random_state=1)\n",
    "clf2 = GaussianNB()\n",
    "bdt = AdaBoostClassifier(DecisionTreeClassifier(max_depth=3),\n",
    "                         algorithm=\"SAMME\",\n",
    "                         n_estimators=200)\n",
    "eclf2 = VotingClassifier(estimators=[('rf', clf1), ('gnb', clf2), ('bdt', bdt)], voting='hard')\n",
    "print(eclf2)\n",
    "print('-'*75)\n",
    "for MV, label in zip([clf1, clf2, bdt, eclf2], ['Random Forest', 'naive Bayes', 'AdaBoost Decision Tree', 'Ensemble']):\n",
    "    scores2 = cross_val_score(MV, features_train, target_train, cv=5, scoring='accuracy')\n",
    "    print(\"Accuracy: %0.4f (+/- %0.4f) [%s]\" % (scores2.mean(), scores2.std(), label))\n",
    "print('-'*75)\n",
    "print(\"Time to run:\", time.clock() - start_time, \"seconds\")"
   ]
  },
  {
   "cell_type": "markdown",
   "metadata": {},
   "source": [
    "## Stacking - v2"
   ]
  },
  {
   "cell_type": "code",
   "execution_count": 83,
   "metadata": {},
   "outputs": [
    {
     "name": "stdout",
     "output_type": "stream",
     "text": [
      "VotingClassifier(estimators=[('dt', DecisionTreeClassifier(class_weight=None, criterion='gini', max_depth=None,\n",
      "            max_features=None, max_leaf_nodes=None,\n",
      "            min_impurity_decrease=0.0, min_impurity_split=None,\n",
      "            min_samples_leaf=2, min_samples_split=3,\n",
      "            min_weight_fraction_leaf...None,\n",
      "            splitter='best'),\n",
      "          learning_rate=1.0, n_estimators=345, random_state=1))],\n",
      "         flatten_transform=None, n_jobs=1, voting='hard', weights=None)\n",
      "---------------------------------------------------------------------------\n",
      "Accuracy: 0.8236 (+/- 0.0042) [Decision Tree v3]\n",
      "Accuracy: 0.8568 (+/- 0.0028) [Random Forest v3]\n",
      "Accuracy: 0.8666 (+/- 0.0056) [AdaBoost Decision Tree v2]\n",
      "Accuracy: 0.8625 (+/- 0.0036) [Ensemble]\n",
      "---------------------------------------------------------------------------\n",
      "Time to run: 360.1027729651323 seconds\n"
     ]
    }
   ],
   "source": [
    "start_time = time.clock()\n",
    "eclf2 = VotingClassifier(estimators=[('dt', model_dt3), ('rf', model_rf3), ('bdt', bdt2)], voting='hard')\n",
    "print(eclf2)\n",
    "print('-'*75)\n",
    "for MV, label in zip([model_dt3, model_rf3, bdt2, eclf2], ['Decision Tree v3', 'Random Forest v3', 'AdaBoost Decision Tree v2', 'Ensemble']):\n",
    "    scores2 = cross_val_score(MV, features_train, target_train, cv=5, scoring='accuracy')\n",
    "    print(\"Accuracy: %0.4f (+/- %0.4f) [%s]\" % (scores2.mean(), scores2.std(), label))\n",
    "print('-'*75)\n",
    "print(\"Time to run:\", time.clock() - start_time, \"seconds\")"
   ]
  },
  {
   "cell_type": "code",
   "execution_count": null,
   "metadata": {},
   "outputs": [],
   "source": []
  }
 ],
 "metadata": {
  "kernelspec": {
   "display_name": "Python 3",
   "language": "python",
   "name": "python3"
  },
  "language_info": {
   "codemirror_mode": {
    "name": "ipython",
    "version": 3
   },
   "file_extension": ".py",
   "mimetype": "text/x-python",
   "name": "python",
   "nbconvert_exporter": "python",
   "pygments_lexer": "ipython3",
   "version": "3.6.4"
  }
 },
 "nbformat": 4,
 "nbformat_minor": 2
}
