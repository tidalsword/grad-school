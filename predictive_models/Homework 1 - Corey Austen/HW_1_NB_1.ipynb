{
 "cells": [
  {
   "cell_type": "markdown",
   "metadata": {},
   "source": [
    "# Corey Austen - Homework 1 - Notebook 1"
   ]
  },
  {
   "cell_type": "markdown",
   "metadata": {},
   "source": [
    "### Loading in packages"
   ]
  },
  {
   "cell_type": "code",
   "execution_count": 2,
   "metadata": {},
   "outputs": [],
   "source": [
    "#import packages.\n",
    "%matplotlib inline \n",
    "import numpy as np\n",
    "import matplotlib.pyplot as plt\n",
    "import pandas as pd\n",
    "from sklearn.decomposition import PCA"
   ]
  },
  {
   "cell_type": "markdown",
   "metadata": {},
   "source": [
    "### Finding and setting the directory"
   ]
  },
  {
   "cell_type": "code",
   "execution_count": 3,
   "metadata": {},
   "outputs": [
    {
     "data": {
      "text/plain": [
       "'C:\\\\Users\\\\Corey\\\\Google Drive\\\\Corey - School\\\\Spring 2018 B\\\\BIA 6303 - Predictive Models\\\\HW_1'"
      ]
     },
     "execution_count": 3,
     "metadata": {},
     "output_type": "execute_result"
    }
   ],
   "source": [
    "%pwd"
   ]
  },
  {
   "cell_type": "code",
   "execution_count": 4,
   "metadata": {},
   "outputs": [
    {
     "name": "stdout",
     "output_type": "stream",
     "text": [
      "C:\\Users\\Corey\\Google Drive\\Corey - School\\Spring 2018 B\\BIA 6303 - Predictive Models\\HW_1\n"
     ]
    }
   ],
   "source": [
    "cd /Users/Corey/Google Drive/Corey - School/Spring 2018 B/BIA 6303 - Predictive Models/HW_1"
   ]
  },
  {
   "cell_type": "markdown",
   "metadata": {},
   "source": [
    "### Importing the data into a Pandas Dataframe."
   ]
  },
  {
   "cell_type": "code",
   "execution_count": 5,
   "metadata": {},
   "outputs": [],
   "source": [
    "#Import Using Pandas\n",
    "Auto=pd.read_csv(\"AUTO.csv\", encoding='latin1')\n"
   ]
  },
  {
   "cell_type": "markdown",
   "metadata": {},
   "source": [
    "### Taking a look at the column names"
   ]
  },
  {
   "cell_type": "code",
   "execution_count": 6,
   "metadata": {},
   "outputs": [
    {
     "data": {
      "text/plain": [
       "Index(['Name', 'Drive_Type', 'Mileage_mpg', 'Fuel_Type', 'Capacity_gal',\n",
       "       'Length_inches', 'Wheel_Base_inches', 'Width_inches',\n",
       "       'Turning_Circle_feet', 'Weight_lbs', 'Door_Top_inches', 'Luggage_cu_ft',\n",
       "       'Front_Shoulder_inches', 'Front_Leg_Room_inches',\n",
       "       'Front_Head_Room_inches', 'Rear_Shoulder_inches',\n",
       "       'Rear_Leg_Room_inches', 'Rear_Head_Room_inches'],\n",
       "      dtype='object')"
      ]
     },
     "execution_count": 6,
     "metadata": {},
     "output_type": "execute_result"
    }
   ],
   "source": [
    "#similar to names()\n",
    "Auto.columns"
   ]
  },
  {
   "cell_type": "markdown",
   "metadata": {},
   "source": [
    "### Looking at the size of the dateframe"
   ]
  },
  {
   "cell_type": "code",
   "execution_count": 7,
   "metadata": {},
   "outputs": [
    {
     "data": {
      "text/plain": [
       "(106, 18)"
      ]
     },
     "execution_count": 7,
     "metadata": {},
     "output_type": "execute_result"
    }
   ],
   "source": [
    "#similar to dim()\n",
    "Auto.shape"
   ]
  },
  {
   "cell_type": "markdown",
   "metadata": {},
   "source": [
    "### Now to see the features by datatype"
   ]
  },
  {
   "cell_type": "code",
   "execution_count": 8,
   "metadata": {},
   "outputs": [
    {
     "data": {
      "text/plain": [
       "Name                       object\n",
       "Drive_Type                 object\n",
       "Mileage_mpg                 int64\n",
       "Fuel_Type                  object\n",
       "Capacity_gal              float64\n",
       "Length_inches               int64\n",
       "Wheel_Base_inches           int64\n",
       "Width_inches                int64\n",
       "Turning_Circle_feet         int64\n",
       "Weight_lbs                  int64\n",
       "Door_Top_inches           float64\n",
       "Luggage_cu_ft             float64\n",
       "Front_Shoulder_inches     float64\n",
       "Front_Leg_Room_inches     float64\n",
       "Front_Head_Room_inches    float64\n",
       "Rear_Shoulder_inches      float64\n",
       "Rear_Leg_Room_inches      float64\n",
       "Rear_Head_Room_inches     float64\n",
       "dtype: object"
      ]
     },
     "execution_count": 8,
     "metadata": {},
     "output_type": "execute_result"
    }
   ],
   "source": [
    "#show variables by type\n",
    "Auto.dtypes"
   ]
  },
  {
   "cell_type": "markdown",
   "metadata": {},
   "source": [
    "### This will fill in any missing values (NA values) with the median value of that column."
   ]
  },
  {
   "cell_type": "code",
   "execution_count": 9,
   "metadata": {},
   "outputs": [],
   "source": [
    "#Filling all NA values\n",
    "Auto.Mileage_mpg = Auto.Mileage_mpg.fillna(Auto.Mileage_mpg.median())\n",
    "Auto.Capacity_gal = Auto.Capacity_gal.fillna(Auto.Capacity_gal.median())\n",
    "Auto.Length_inches = Auto.Length_inches.fillna(Auto.Length_inches.median())\n",
    "Auto.Wheel_Base_inches = Auto.Wheel_Base_inches.fillna(Auto.Wheel_Base_inches.median())\n",
    "Auto.Width_inches = Auto.Width_inches.fillna(Auto.Width_inches.median())\n",
    "Auto.Turning_Circle_feet = Auto.Turning_Circle_feet.fillna(Auto.Turning_Circle_feet.median())\n",
    "Auto.Weight_lbs = Auto.Weight_lbs.fillna(Auto.Weight_lbs.median())\n",
    "Auto.Door_Top_inches = Auto.Door_Top_inches.fillna(Auto.Door_Top_inches.median())\n",
    "Auto.Luggage_cu_ft = Auto.Luggage_cu_ft.fillna(Auto.Luggage_cu_ft.median())\n",
    "Auto.Front_Shoulder_inches = Auto.Front_Shoulder_inches.fillna(Auto.Front_Shoulder_inches.median())\n",
    "Auto.Front_Leg_Room_inches = Auto.Front_Leg_Room_inches.fillna(Auto.Front_Leg_Room_inches.median())\n",
    "Auto.Front_Head_Room_inches = Auto.Front_Head_Room_inches.fillna(Auto.Front_Head_Room_inches.median())\n",
    "Auto.Rear_Shoulder_inches = Auto.Rear_Shoulder_inches.fillna(Auto.Rear_Shoulder_inches.median())\n",
    "Auto.Rear_Leg_Room_inches = Auto.Rear_Leg_Room_inches.fillna(Auto.Rear_Leg_Room_inches.median())"
   ]
  },
  {
   "cell_type": "markdown",
   "metadata": {},
   "source": [
    "### Below shows the \"Descriptives\" of each individual numerical feature.  The descriptives include row count, mean value, standard deviation, the min and max values, and the values at each quarter iteration. "
   ]
  },
  {
   "cell_type": "code",
   "execution_count": 10,
   "metadata": {},
   "outputs": [
    {
     "data": {
      "text/plain": [
       "count    106.000000\n",
       "mean      21.292453\n",
       "std        3.769469\n",
       "min       13.000000\n",
       "25%       19.000000\n",
       "50%       21.000000\n",
       "75%       23.000000\n",
       "max       31.000000\n",
       "Name: Mileage_mpg, dtype: float64"
      ]
     },
     "execution_count": 10,
     "metadata": {},
     "output_type": "execute_result"
    }
   ],
   "source": [
    "#Descriptives on 'Mileage (mpg)'\n",
    "Auto.Mileage_mpg.describe()"
   ]
  },
  {
   "cell_type": "code",
   "execution_count": 11,
   "metadata": {},
   "outputs": [
    {
     "data": {
      "text/plain": [
       "count    106.000000\n",
       "mean      17.883019\n",
       "std        3.425714\n",
       "min       12.100000\n",
       "25%       15.825000\n",
       "50%       17.400000\n",
       "75%       19.000000\n",
       "max       30.000000\n",
       "Name: Capacity_gal, dtype: float64"
      ]
     },
     "execution_count": 11,
     "metadata": {},
     "output_type": "execute_result"
    }
   ],
   "source": [
    "#Descriptives on 'Fuel Capacity'\n",
    "Auto.Capacity_gal.describe()"
   ]
  },
  {
   "cell_type": "code",
   "execution_count": 12,
   "metadata": {},
   "outputs": [
    {
     "data": {
      "text/plain": [
       "count    106.000000\n",
       "mean     187.594340\n",
       "std       12.493639\n",
       "min      152.000000\n",
       "25%      178.000000\n",
       "50%      188.000000\n",
       "75%      195.000000\n",
       "max      226.000000\n",
       "Name: Length_inches, dtype: float64"
      ]
     },
     "execution_count": 12,
     "metadata": {},
     "output_type": "execute_result"
    }
   ],
   "source": [
    "#Descriptives on 'Vehicle length in inches'\n",
    "Auto.Length_inches.describe()"
   ]
  },
  {
   "cell_type": "code",
   "execution_count": 13,
   "metadata": {},
   "outputs": [
    {
     "data": {
      "text/plain": [
       "count    106.000000\n",
       "mean     107.632075\n",
       "std        7.014713\n",
       "min       93.000000\n",
       "25%      103.000000\n",
       "50%      107.000000\n",
       "75%      112.000000\n",
       "max      139.000000\n",
       "Name: Wheel_Base_inches, dtype: float64"
      ]
     },
     "execution_count": 13,
     "metadata": {},
     "output_type": "execute_result"
    }
   ],
   "source": [
    "#Descriptives on 'Wheel Base size in inches'\n",
    "Auto.Wheel_Base_inches.describe()"
   ]
  },
  {
   "cell_type": "code",
   "execution_count": 14,
   "metadata": {},
   "outputs": [
    {
     "data": {
      "text/plain": [
       "count    106.000000\n",
       "mean      70.915094\n",
       "std        3.237041\n",
       "min       66.000000\n",
       "25%       68.000000\n",
       "50%       70.000000\n",
       "75%       73.000000\n",
       "max       80.000000\n",
       "Name: Width_inches, dtype: float64"
      ]
     },
     "execution_count": 14,
     "metadata": {},
     "output_type": "execute_result"
    }
   ],
   "source": [
    "#Descriptives on 'Vehicle width in inches'\n",
    "Auto.Width_inches.describe()"
   ]
  },
  {
   "cell_type": "code",
   "execution_count": 15,
   "metadata": {},
   "outputs": [
    {
     "data": {
      "text/plain": [
       "count    106.000000\n",
       "mean      39.849057\n",
       "std        2.797252\n",
       "min       34.000000\n",
       "25%       38.000000\n",
       "50%       40.000000\n",
       "75%       41.000000\n",
       "max       49.000000\n",
       "Name: Turning_Circle_feet, dtype: float64"
      ]
     },
     "execution_count": 15,
     "metadata": {},
     "output_type": "execute_result"
    }
   ],
   "source": [
    "#Descriptives on 'Turning circle in feet'\n",
    "Auto.Turning_Circle_feet.describe()"
   ]
  },
  {
   "cell_type": "code",
   "execution_count": 16,
   "metadata": {},
   "outputs": [
    {
     "data": {
      "text/plain": [
       "count     106.000000\n",
       "mean     3502.311321\n",
       "std       633.453939\n",
       "min      2420.000000\n",
       "25%      3106.250000\n",
       "50%      3395.000000\n",
       "75%      3890.000000\n",
       "max      5850.000000\n",
       "Name: Weight_lbs, dtype: float64"
      ]
     },
     "execution_count": 16,
     "metadata": {},
     "output_type": "execute_result"
    }
   ],
   "source": [
    "#Descriptives on 'Vehicle Weight in pounds'\n",
    "Auto.Weight_lbs.describe()"
   ]
  },
  {
   "cell_type": "code",
   "execution_count": 17,
   "metadata": {},
   "outputs": [
    {
     "data": {
      "text/plain": [
       "count    106.000000\n",
       "mean      53.891509\n",
       "std        5.747465\n",
       "min       46.500000\n",
       "25%       50.000000\n",
       "50%       51.000000\n",
       "75%       60.000000\n",
       "max       70.500000\n",
       "Name: Door_Top_inches, dtype: float64"
      ]
     },
     "execution_count": 17,
     "metadata": {},
     "output_type": "execute_result"
    }
   ],
   "source": [
    "#Descriptives on 'Door Top in inches'\n",
    "Auto.Door_Top_inches.describe()"
   ]
  },
  {
   "cell_type": "code",
   "execution_count": 18,
   "metadata": {},
   "outputs": [
    {
     "data": {
      "text/plain": [
       "count    106.000000\n",
       "mean      25.056604\n",
       "std       18.235538\n",
       "min       10.000000\n",
       "25%       14.000000\n",
       "50%       16.000000\n",
       "75%       30.750000\n",
       "max       76.000000\n",
       "Name: Luggage_cu_ft, dtype: float64"
      ]
     },
     "execution_count": 18,
     "metadata": {},
     "output_type": "execute_result"
    }
   ],
   "source": [
    "#Descriptives on 'Luggage space in cubic feet'\n",
    "Auto.Luggage_cu_ft.describe()"
   ]
  },
  {
   "cell_type": "code",
   "execution_count": 19,
   "metadata": {},
   "outputs": [
    {
     "data": {
      "text/plain": [
       "count    106.000000\n",
       "mean      56.471698\n",
       "std        3.041640\n",
       "min       51.500000\n",
       "25%       54.000000\n",
       "50%       56.000000\n",
       "75%       58.500000\n",
       "max       63.500000\n",
       "Name: Front_Shoulder_inches, dtype: float64"
      ]
     },
     "execution_count": 19,
     "metadata": {},
     "output_type": "execute_result"
    }
   ],
   "source": [
    "#Descriptives on 'Front Shoulder room in inches'\n",
    "Auto.Front_Shoulder_inches.describe()"
   ]
  },
  {
   "cell_type": "code",
   "execution_count": 20,
   "metadata": {},
   "outputs": [
    {
     "data": {
      "text/plain": [
       "count    106.000000\n",
       "mean      41.254717\n",
       "std        1.021775\n",
       "min       39.000000\n",
       "25%       40.500000\n",
       "50%       41.000000\n",
       "75%       42.000000\n",
       "max       44.000000\n",
       "Name: Front_Leg_Room_inches, dtype: float64"
      ]
     },
     "execution_count": 20,
     "metadata": {},
     "output_type": "execute_result"
    }
   ],
   "source": [
    "#Descriptives on 'Front Leg Room in inches'\n",
    "Auto.Front_Leg_Room_inches.describe()"
   ]
  },
  {
   "cell_type": "code",
   "execution_count": 21,
   "metadata": {},
   "outputs": [
    {
     "data": {
      "text/plain": [
       "count    106.000000\n",
       "mean       4.287736\n",
       "std        1.279784\n",
       "min        1.500000\n",
       "25%        3.500000\n",
       "50%        4.500000\n",
       "75%        5.000000\n",
       "max        8.000000\n",
       "Name: Front_Head_Room_inches, dtype: float64"
      ]
     },
     "execution_count": 21,
     "metadata": {},
     "output_type": "execute_result"
    }
   ],
   "source": [
    "#Descriptives on 'Front Head Room in inches'\n",
    "Auto.Front_Head_Room_inches.describe()"
   ]
  },
  {
   "cell_type": "code",
   "execution_count": 22,
   "metadata": {},
   "outputs": [
    {
     "data": {
      "text/plain": [
       "count    106.000000\n",
       "mean      54.745283\n",
       "std        7.110437\n",
       "min        6.500000\n",
       "25%       52.625000\n",
       "50%       56.000000\n",
       "75%       57.000000\n",
       "max       64.500000\n",
       "Name: Rear_Shoulder_inches, dtype: float64"
      ]
     },
     "execution_count": 22,
     "metadata": {},
     "output_type": "execute_result"
    }
   ],
   "source": [
    "#Descriptives on 'Rear Shoulder room in inches'\n",
    "Auto.Rear_Shoulder_inches.describe()"
   ]
  },
  {
   "cell_type": "code",
   "execution_count": 23,
   "metadata": {},
   "outputs": [
    {
     "data": {
      "text/plain": [
       "count    106.000000\n",
       "mean      28.363208\n",
       "std        2.196895\n",
       "min       22.500000\n",
       "25%       27.000000\n",
       "50%       28.500000\n",
       "75%       30.000000\n",
       "max       34.000000\n",
       "Name: Rear_Leg_Room_inches, dtype: float64"
      ]
     },
     "execution_count": 23,
     "metadata": {},
     "output_type": "execute_result"
    }
   ],
   "source": [
    "#Descriptives on 'Rear Leg room in inches'\n",
    "Auto.Rear_Leg_Room_inches.describe()"
   ]
  },
  {
   "cell_type": "markdown",
   "metadata": {},
   "source": [
    "### This shows all of the information above, but in one table."
   ]
  },
  {
   "cell_type": "code",
   "execution_count": 47,
   "metadata": {},
   "outputs": [
    {
     "data": {
      "text/html": [
       "<div>\n",
       "<style scoped>\n",
       "    .dataframe tbody tr th:only-of-type {\n",
       "        vertical-align: middle;\n",
       "    }\n",
       "\n",
       "    .dataframe tbody tr th {\n",
       "        vertical-align: top;\n",
       "    }\n",
       "\n",
       "    .dataframe thead th {\n",
       "        text-align: right;\n",
       "    }\n",
       "</style>\n",
       "<table border=\"1\" class=\"dataframe\">\n",
       "  <thead>\n",
       "    <tr style=\"text-align: right;\">\n",
       "      <th></th>\n",
       "      <th>Mileage_mpg</th>\n",
       "      <th>Capacity_gal</th>\n",
       "      <th>Length_inches</th>\n",
       "      <th>Wheel_Base_inches</th>\n",
       "      <th>Width_inches</th>\n",
       "      <th>Turning_Circle_feet</th>\n",
       "      <th>Weight_lbs</th>\n",
       "      <th>Door_Top_inches</th>\n",
       "      <th>Luggage_cu_ft</th>\n",
       "      <th>Front_Shoulder_inches</th>\n",
       "      <th>Front_Leg_Room_inches</th>\n",
       "      <th>Front_Head_Room_inches</th>\n",
       "      <th>Rear_Shoulder_inches</th>\n",
       "      <th>Rear_Leg_Room_inches</th>\n",
       "      <th>Rear_Head_Room_inches</th>\n",
       "      <th>Drive_Type_Front</th>\n",
       "      <th>Drive_Type_Rear</th>\n",
       "      <th>Fuel_Type_Premium</th>\n",
       "      <th>Fuel_Type_Regular</th>\n",
       "    </tr>\n",
       "  </thead>\n",
       "  <tbody>\n",
       "    <tr>\n",
       "      <th>count</th>\n",
       "      <td>106.000000</td>\n",
       "      <td>106.000000</td>\n",
       "      <td>106.000000</td>\n",
       "      <td>106.000000</td>\n",
       "      <td>106.000000</td>\n",
       "      <td>106.000000</td>\n",
       "      <td>106.000000</td>\n",
       "      <td>106.000000</td>\n",
       "      <td>106.000000</td>\n",
       "      <td>106.000000</td>\n",
       "      <td>106.000000</td>\n",
       "      <td>106.000000</td>\n",
       "      <td>106.000000</td>\n",
       "      <td>106.000000</td>\n",
       "      <td>106.000000</td>\n",
       "      <td>106.000000</td>\n",
       "      <td>106.000000</td>\n",
       "      <td>106.000000</td>\n",
       "      <td>106.000000</td>\n",
       "    </tr>\n",
       "    <tr>\n",
       "      <th>mean</th>\n",
       "      <td>21.292453</td>\n",
       "      <td>17.883019</td>\n",
       "      <td>187.594340</td>\n",
       "      <td>107.632075</td>\n",
       "      <td>70.915094</td>\n",
       "      <td>39.849057</td>\n",
       "      <td>3502.311321</td>\n",
       "      <td>53.891509</td>\n",
       "      <td>25.056604</td>\n",
       "      <td>56.471698</td>\n",
       "      <td>41.254717</td>\n",
       "      <td>4.287736</td>\n",
       "      <td>54.745283</td>\n",
       "      <td>28.363208</td>\n",
       "      <td>3.023585</td>\n",
       "      <td>0.764151</td>\n",
       "      <td>0.235849</td>\n",
       "      <td>0.179245</td>\n",
       "      <td>0.820755</td>\n",
       "    </tr>\n",
       "    <tr>\n",
       "      <th>std</th>\n",
       "      <td>3.769469</td>\n",
       "      <td>3.425714</td>\n",
       "      <td>12.493639</td>\n",
       "      <td>7.014713</td>\n",
       "      <td>3.237041</td>\n",
       "      <td>2.797252</td>\n",
       "      <td>633.453939</td>\n",
       "      <td>5.747465</td>\n",
       "      <td>18.235538</td>\n",
       "      <td>3.041640</td>\n",
       "      <td>1.021775</td>\n",
       "      <td>1.279784</td>\n",
       "      <td>7.110437</td>\n",
       "      <td>2.196895</td>\n",
       "      <td>1.370405</td>\n",
       "      <td>0.426545</td>\n",
       "      <td>0.426545</td>\n",
       "      <td>0.385380</td>\n",
       "      <td>0.385380</td>\n",
       "    </tr>\n",
       "    <tr>\n",
       "      <th>min</th>\n",
       "      <td>13.000000</td>\n",
       "      <td>12.100000</td>\n",
       "      <td>152.000000</td>\n",
       "      <td>93.000000</td>\n",
       "      <td>66.000000</td>\n",
       "      <td>34.000000</td>\n",
       "      <td>2420.000000</td>\n",
       "      <td>46.500000</td>\n",
       "      <td>10.000000</td>\n",
       "      <td>51.500000</td>\n",
       "      <td>39.000000</td>\n",
       "      <td>1.500000</td>\n",
       "      <td>6.500000</td>\n",
       "      <td>22.500000</td>\n",
       "      <td>0.000000</td>\n",
       "      <td>0.000000</td>\n",
       "      <td>0.000000</td>\n",
       "      <td>0.000000</td>\n",
       "      <td>0.000000</td>\n",
       "    </tr>\n",
       "    <tr>\n",
       "      <th>25%</th>\n",
       "      <td>19.000000</td>\n",
       "      <td>15.825000</td>\n",
       "      <td>178.000000</td>\n",
       "      <td>103.000000</td>\n",
       "      <td>68.000000</td>\n",
       "      <td>38.000000</td>\n",
       "      <td>3106.250000</td>\n",
       "      <td>50.000000</td>\n",
       "      <td>14.000000</td>\n",
       "      <td>54.000000</td>\n",
       "      <td>40.500000</td>\n",
       "      <td>3.500000</td>\n",
       "      <td>52.625000</td>\n",
       "      <td>27.000000</td>\n",
       "      <td>2.000000</td>\n",
       "      <td>1.000000</td>\n",
       "      <td>0.000000</td>\n",
       "      <td>0.000000</td>\n",
       "      <td>1.000000</td>\n",
       "    </tr>\n",
       "    <tr>\n",
       "      <th>50%</th>\n",
       "      <td>21.000000</td>\n",
       "      <td>17.400000</td>\n",
       "      <td>188.000000</td>\n",
       "      <td>107.000000</td>\n",
       "      <td>70.000000</td>\n",
       "      <td>40.000000</td>\n",
       "      <td>3395.000000</td>\n",
       "      <td>51.000000</td>\n",
       "      <td>16.000000</td>\n",
       "      <td>56.000000</td>\n",
       "      <td>41.000000</td>\n",
       "      <td>4.500000</td>\n",
       "      <td>56.000000</td>\n",
       "      <td>28.500000</td>\n",
       "      <td>3.000000</td>\n",
       "      <td>1.000000</td>\n",
       "      <td>0.000000</td>\n",
       "      <td>0.000000</td>\n",
       "      <td>1.000000</td>\n",
       "    </tr>\n",
       "    <tr>\n",
       "      <th>75%</th>\n",
       "      <td>23.000000</td>\n",
       "      <td>19.000000</td>\n",
       "      <td>195.000000</td>\n",
       "      <td>112.000000</td>\n",
       "      <td>73.000000</td>\n",
       "      <td>41.000000</td>\n",
       "      <td>3890.000000</td>\n",
       "      <td>60.000000</td>\n",
       "      <td>30.750000</td>\n",
       "      <td>58.500000</td>\n",
       "      <td>42.000000</td>\n",
       "      <td>5.000000</td>\n",
       "      <td>57.000000</td>\n",
       "      <td>30.000000</td>\n",
       "      <td>4.000000</td>\n",
       "      <td>1.000000</td>\n",
       "      <td>0.000000</td>\n",
       "      <td>0.000000</td>\n",
       "      <td>1.000000</td>\n",
       "    </tr>\n",
       "    <tr>\n",
       "      <th>max</th>\n",
       "      <td>31.000000</td>\n",
       "      <td>30.000000</td>\n",
       "      <td>226.000000</td>\n",
       "      <td>139.000000</td>\n",
       "      <td>80.000000</td>\n",
       "      <td>49.000000</td>\n",
       "      <td>5850.000000</td>\n",
       "      <td>70.500000</td>\n",
       "      <td>76.000000</td>\n",
       "      <td>63.500000</td>\n",
       "      <td>44.000000</td>\n",
       "      <td>8.000000</td>\n",
       "      <td>64.500000</td>\n",
       "      <td>34.000000</td>\n",
       "      <td>6.000000</td>\n",
       "      <td>1.000000</td>\n",
       "      <td>1.000000</td>\n",
       "      <td>1.000000</td>\n",
       "      <td>1.000000</td>\n",
       "    </tr>\n",
       "  </tbody>\n",
       "</table>\n",
       "</div>"
      ],
      "text/plain": [
       "       Mileage_mpg  Capacity_gal  Length_inches  Wheel_Base_inches  \\\n",
       "count   106.000000    106.000000     106.000000         106.000000   \n",
       "mean     21.292453     17.883019     187.594340         107.632075   \n",
       "std       3.769469      3.425714      12.493639           7.014713   \n",
       "min      13.000000     12.100000     152.000000          93.000000   \n",
       "25%      19.000000     15.825000     178.000000         103.000000   \n",
       "50%      21.000000     17.400000     188.000000         107.000000   \n",
       "75%      23.000000     19.000000     195.000000         112.000000   \n",
       "max      31.000000     30.000000     226.000000         139.000000   \n",
       "\n",
       "       Width_inches  Turning_Circle_feet   Weight_lbs  Door_Top_inches  \\\n",
       "count    106.000000           106.000000   106.000000       106.000000   \n",
       "mean      70.915094            39.849057  3502.311321        53.891509   \n",
       "std        3.237041             2.797252   633.453939         5.747465   \n",
       "min       66.000000            34.000000  2420.000000        46.500000   \n",
       "25%       68.000000            38.000000  3106.250000        50.000000   \n",
       "50%       70.000000            40.000000  3395.000000        51.000000   \n",
       "75%       73.000000            41.000000  3890.000000        60.000000   \n",
       "max       80.000000            49.000000  5850.000000        70.500000   \n",
       "\n",
       "       Luggage_cu_ft  Front_Shoulder_inches  Front_Leg_Room_inches  \\\n",
       "count     106.000000             106.000000             106.000000   \n",
       "mean       25.056604              56.471698              41.254717   \n",
       "std        18.235538               3.041640               1.021775   \n",
       "min        10.000000              51.500000              39.000000   \n",
       "25%        14.000000              54.000000              40.500000   \n",
       "50%        16.000000              56.000000              41.000000   \n",
       "75%        30.750000              58.500000              42.000000   \n",
       "max        76.000000              63.500000              44.000000   \n",
       "\n",
       "       Front_Head_Room_inches  Rear_Shoulder_inches  Rear_Leg_Room_inches  \\\n",
       "count              106.000000            106.000000            106.000000   \n",
       "mean                 4.287736             54.745283             28.363208   \n",
       "std                  1.279784              7.110437              2.196895   \n",
       "min                  1.500000              6.500000             22.500000   \n",
       "25%                  3.500000             52.625000             27.000000   \n",
       "50%                  4.500000             56.000000             28.500000   \n",
       "75%                  5.000000             57.000000             30.000000   \n",
       "max                  8.000000             64.500000             34.000000   \n",
       "\n",
       "       Rear_Head_Room_inches  Drive_Type_Front  Drive_Type_Rear  \\\n",
       "count             106.000000        106.000000       106.000000   \n",
       "mean                3.023585          0.764151         0.235849   \n",
       "std                 1.370405          0.426545         0.426545   \n",
       "min                 0.000000          0.000000         0.000000   \n",
       "25%                 2.000000          1.000000         0.000000   \n",
       "50%                 3.000000          1.000000         0.000000   \n",
       "75%                 4.000000          1.000000         0.000000   \n",
       "max                 6.000000          1.000000         1.000000   \n",
       "\n",
       "       Fuel_Type_Premium  Fuel_Type_Regular  \n",
       "count         106.000000         106.000000  \n",
       "mean            0.179245           0.820755  \n",
       "std             0.385380           0.385380  \n",
       "min             0.000000           0.000000  \n",
       "25%             0.000000           1.000000  \n",
       "50%             0.000000           1.000000  \n",
       "75%             0.000000           1.000000  \n",
       "max             1.000000           1.000000  "
      ]
     },
     "execution_count": 47,
     "metadata": {},
     "output_type": "execute_result"
    }
   ],
   "source": [
    "Auto.describe()"
   ]
  },
  {
   "cell_type": "markdown",
   "metadata": {},
   "source": [
    "### Looking at the distribution of the categorical variables, Drive Type and Fuel Type."
   ]
  },
  {
   "cell_type": "code",
   "execution_count": 24,
   "metadata": {},
   "outputs": [
    {
     "data": {
      "text/plain": [
       "Drive_Type\n",
       "Front    81\n",
       "Rear     25\n",
       "dtype: int64"
      ]
     },
     "execution_count": 24,
     "metadata": {},
     "output_type": "execute_result"
    }
   ],
   "source": [
    "#using pandas, count by category on a categorical variable.\n",
    "Auto.groupby('Drive_Type').size()"
   ]
  },
  {
   "cell_type": "code",
   "execution_count": 25,
   "metadata": {},
   "outputs": [
    {
     "data": {
      "text/plain": [
       "Fuel_Type\n",
       "Premium    19\n",
       "Regular    87\n",
       "dtype: int64"
      ]
     },
     "execution_count": 25,
     "metadata": {},
     "output_type": "execute_result"
    }
   ],
   "source": [
    "#using pandas, count by category on a categorical variable.\n",
    "Auto.groupby('Fuel_Type').size()"
   ]
  },
  {
   "cell_type": "markdown",
   "metadata": {},
   "source": [
    "### Transforming \"Weight_lbs\" into Z-Score (Weight_lbs_Z) and showing it in a side by side comparison of the original."
   ]
  },
  {
   "cell_type": "code",
   "execution_count": 30,
   "metadata": {},
   "outputs": [
    {
     "data": {
      "text/html": [
       "<div>\n",
       "<style scoped>\n",
       "    .dataframe tbody tr th:only-of-type {\n",
       "        vertical-align: middle;\n",
       "    }\n",
       "\n",
       "    .dataframe tbody tr th {\n",
       "        vertical-align: top;\n",
       "    }\n",
       "\n",
       "    .dataframe thead th {\n",
       "        text-align: right;\n",
       "    }\n",
       "</style>\n",
       "<table border=\"1\" class=\"dataframe\">\n",
       "  <thead>\n",
       "    <tr style=\"text-align: right;\">\n",
       "      <th></th>\n",
       "      <th>Weight_lbs</th>\n",
       "      <th>Weight_lbs_Z</th>\n",
       "    </tr>\n",
       "  </thead>\n",
       "  <tbody>\n",
       "    <tr>\n",
       "      <th>0</th>\n",
       "      <td>2635</td>\n",
       "      <td>-1.369178</td>\n",
       "    </tr>\n",
       "    <tr>\n",
       "      <th>1</th>\n",
       "      <td>3460</td>\n",
       "      <td>-0.066795</td>\n",
       "    </tr>\n",
       "    <tr>\n",
       "      <th>2</th>\n",
       "      <td>3350</td>\n",
       "      <td>-0.240446</td>\n",
       "    </tr>\n",
       "    <tr>\n",
       "      <th>3</th>\n",
       "      <td>3640</td>\n",
       "      <td>0.217362</td>\n",
       "    </tr>\n",
       "    <tr>\n",
       "      <th>4</th>\n",
       "      <td>3880</td>\n",
       "      <td>0.596237</td>\n",
       "    </tr>\n",
       "    <tr>\n",
       "      <th>5</th>\n",
       "      <td>3325</td>\n",
       "      <td>-0.279912</td>\n",
       "    </tr>\n",
       "    <tr>\n",
       "      <th>6</th>\n",
       "      <td>2795</td>\n",
       "      <td>-1.116595</td>\n",
       "    </tr>\n",
       "    <tr>\n",
       "      <th>7</th>\n",
       "      <td>3495</td>\n",
       "      <td>-0.011542</td>\n",
       "    </tr>\n",
       "    <tr>\n",
       "      <th>8</th>\n",
       "      <td>3350</td>\n",
       "      <td>-0.240446</td>\n",
       "    </tr>\n",
       "    <tr>\n",
       "      <th>9</th>\n",
       "      <td>3075</td>\n",
       "      <td>-0.674574</td>\n",
       "    </tr>\n",
       "  </tbody>\n",
       "</table>\n",
       "</div>"
      ],
      "text/plain": [
       "   Weight_lbs  Weight_lbs_Z\n",
       "0        2635     -1.369178\n",
       "1        3460     -0.066795\n",
       "2        3350     -0.240446\n",
       "3        3640      0.217362\n",
       "4        3880      0.596237\n",
       "5        3325     -0.279912\n",
       "6        2795     -1.116595\n",
       "7        3495     -0.011542\n",
       "8        3350     -0.240446\n",
       "9        3075     -0.674574"
      ]
     },
     "execution_count": 30,
     "metadata": {},
     "output_type": "execute_result"
    }
   ],
   "source": [
    "Weight_Z=pd.DataFrame((Auto.Weight_lbs-Auto.Weight_lbs.mean())/Auto.Weight_lbs.std())\n",
    "Weight_Z['Weight_lbs_Z']=Weight_Z['Weight_lbs']\n",
    "Weight_Z['Weight_lbs']=Auto['Weight_lbs']\n",
    "Weight_Z.head(10)"
   ]
  },
  {
   "cell_type": "markdown",
   "metadata": {},
   "source": [
    "### Creating Dummy variables for each catigorical variable in the dataframe, then removing the original."
   ]
  },
  {
   "cell_type": "code",
   "execution_count": 31,
   "metadata": {},
   "outputs": [],
   "source": [
    "# perform data transformation. Creates dummies of any categorical feature\n",
    "for col in Auto.columns[1:]:\n",
    "\tattName = col\n",
    "\tdType = Auto[col].dtype\n",
    "\tmissing = pd.isnull(Auto[col]).any()\n",
    "\tuniqueCount = len(Auto[attName].value_counts(normalize=False))\n",
    "\t# discretize (create dummies)\n",
    "\tif dType == object:\n",
    "\t\tAuto = pd.concat([Auto, pd.get_dummies(Auto[col], prefix=col)], axis=1)\n",
    "\t\tdel Auto[attName]"
   ]
  },
  {
   "cell_type": "markdown",
   "metadata": {},
   "source": [
    "### Basic correlation analysis (a correlation matrix) among the attributes. This shows both numeric and visual correlation outputs."
   ]
  },
  {
   "cell_type": "code",
   "execution_count": 48,
   "metadata": {},
   "outputs": [
    {
     "data": {
      "text/html": [
       "<div>\n",
       "<style scoped>\n",
       "    .dataframe tbody tr th:only-of-type {\n",
       "        vertical-align: middle;\n",
       "    }\n",
       "\n",
       "    .dataframe tbody tr th {\n",
       "        vertical-align: top;\n",
       "    }\n",
       "\n",
       "    .dataframe thead th {\n",
       "        text-align: right;\n",
       "    }\n",
       "</style>\n",
       "<table border=\"1\" class=\"dataframe\">\n",
       "  <thead>\n",
       "    <tr style=\"text-align: right;\">\n",
       "      <th></th>\n",
       "      <th>Mileage_mpg</th>\n",
       "      <th>Capacity_gal</th>\n",
       "      <th>Length_inches</th>\n",
       "      <th>Wheel_Base_inches</th>\n",
       "      <th>Width_inches</th>\n",
       "      <th>Turning_Circle_feet</th>\n",
       "      <th>Weight_lbs</th>\n",
       "      <th>Door_Top_inches</th>\n",
       "      <th>Luggage_cu_ft</th>\n",
       "      <th>Front_Shoulder_inches</th>\n",
       "      <th>Front_Leg_Room_inches</th>\n",
       "      <th>Front_Head_Room_inches</th>\n",
       "      <th>Rear_Shoulder_inches</th>\n",
       "      <th>Rear_Leg_Room_inches</th>\n",
       "      <th>Rear_Head_Room_inches</th>\n",
       "      <th>Drive_Type_Front</th>\n",
       "      <th>Drive_Type_Rear</th>\n",
       "      <th>Fuel_Type_Premium</th>\n",
       "      <th>Fuel_Type_Regular</th>\n",
       "    </tr>\n",
       "  </thead>\n",
       "  <tbody>\n",
       "    <tr>\n",
       "      <th>Mileage_mpg</th>\n",
       "      <td>1.000000</td>\n",
       "      <td>-0.787515</td>\n",
       "      <td>-0.387151</td>\n",
       "      <td>-0.512751</td>\n",
       "      <td>-0.578650</td>\n",
       "      <td>-0.571132</td>\n",
       "      <td>-0.875434</td>\n",
       "      <td>-0.771332</td>\n",
       "      <td>-0.619985</td>\n",
       "      <td>-0.607314</td>\n",
       "      <td>0.053420</td>\n",
       "      <td>-0.236747</td>\n",
       "      <td>-0.269556</td>\n",
       "      <td>-0.274588</td>\n",
       "      <td>-0.654005</td>\n",
       "      <td>0.434247</td>\n",
       "      <td>-0.434247</td>\n",
       "      <td>-0.069210</td>\n",
       "      <td>0.069210</td>\n",
       "    </tr>\n",
       "    <tr>\n",
       "      <th>Capacity_gal</th>\n",
       "      <td>-0.787515</td>\n",
       "      <td>1.000000</td>\n",
       "      <td>0.505427</td>\n",
       "      <td>0.660131</td>\n",
       "      <td>0.678437</td>\n",
       "      <td>0.526678</td>\n",
       "      <td>0.888074</td>\n",
       "      <td>0.752458</td>\n",
       "      <td>0.716461</td>\n",
       "      <td>0.722434</td>\n",
       "      <td>-0.014806</td>\n",
       "      <td>0.274185</td>\n",
       "      <td>0.213711</td>\n",
       "      <td>0.371609</td>\n",
       "      <td>0.647434</td>\n",
       "      <td>-0.355375</td>\n",
       "      <td>0.355375</td>\n",
       "      <td>0.134342</td>\n",
       "      <td>-0.134342</td>\n",
       "    </tr>\n",
       "    <tr>\n",
       "      <th>Length_inches</th>\n",
       "      <td>-0.387151</td>\n",
       "      <td>0.505427</td>\n",
       "      <td>1.000000</td>\n",
       "      <td>0.869492</td>\n",
       "      <td>0.832541</td>\n",
       "      <td>0.684696</td>\n",
       "      <td>0.550863</td>\n",
       "      <td>0.117489</td>\n",
       "      <td>0.240717</td>\n",
       "      <td>0.787516</td>\n",
       "      <td>0.268169</td>\n",
       "      <td>0.203634</td>\n",
       "      <td>0.203753</td>\n",
       "      <td>0.530583</td>\n",
       "      <td>0.200537</td>\n",
       "      <td>-0.077100</td>\n",
       "      <td>0.077100</td>\n",
       "      <td>0.062718</td>\n",
       "      <td>-0.062718</td>\n",
       "    </tr>\n",
       "    <tr>\n",
       "      <th>Wheel_Base_inches</th>\n",
       "      <td>-0.512751</td>\n",
       "      <td>0.660131</td>\n",
       "      <td>0.869492</td>\n",
       "      <td>1.000000</td>\n",
       "      <td>0.791321</td>\n",
       "      <td>0.641709</td>\n",
       "      <td>0.678488</td>\n",
       "      <td>0.411330</td>\n",
       "      <td>0.448967</td>\n",
       "      <td>0.790025</td>\n",
       "      <td>0.232445</td>\n",
       "      <td>0.294628</td>\n",
       "      <td>0.116297</td>\n",
       "      <td>0.407676</td>\n",
       "      <td>0.361039</td>\n",
       "      <td>-0.274368</td>\n",
       "      <td>0.274368</td>\n",
       "      <td>0.066904</td>\n",
       "      <td>-0.066904</td>\n",
       "    </tr>\n",
       "    <tr>\n",
       "      <th>Width_inches</th>\n",
       "      <td>-0.578650</td>\n",
       "      <td>0.678437</td>\n",
       "      <td>0.832541</td>\n",
       "      <td>0.791321</td>\n",
       "      <td>1.000000</td>\n",
       "      <td>0.642269</td>\n",
       "      <td>0.743765</td>\n",
       "      <td>0.403390</td>\n",
       "      <td>0.450949</td>\n",
       "      <td>0.909002</td>\n",
       "      <td>0.091544</td>\n",
       "      <td>0.294469</td>\n",
       "      <td>0.400622</td>\n",
       "      <td>0.501899</td>\n",
       "      <td>0.416956</td>\n",
       "      <td>-0.166388</td>\n",
       "      <td>0.166388</td>\n",
       "      <td>0.035219</td>\n",
       "      <td>-0.035219</td>\n",
       "    </tr>\n",
       "    <tr>\n",
       "      <th>Turning_Circle_feet</th>\n",
       "      <td>-0.571132</td>\n",
       "      <td>0.526678</td>\n",
       "      <td>0.684696</td>\n",
       "      <td>0.641709</td>\n",
       "      <td>0.642269</td>\n",
       "      <td>1.000000</td>\n",
       "      <td>0.625479</td>\n",
       "      <td>0.413344</td>\n",
       "      <td>0.384132</td>\n",
       "      <td>0.624658</td>\n",
       "      <td>0.116876</td>\n",
       "      <td>0.251681</td>\n",
       "      <td>0.138586</td>\n",
       "      <td>0.340659</td>\n",
       "      <td>0.315220</td>\n",
       "      <td>-0.165816</td>\n",
       "      <td>0.165816</td>\n",
       "      <td>-0.133687</td>\n",
       "      <td>0.133687</td>\n",
       "    </tr>\n",
       "    <tr>\n",
       "      <th>Weight_lbs</th>\n",
       "      <td>-0.875434</td>\n",
       "      <td>0.888074</td>\n",
       "      <td>0.550863</td>\n",
       "      <td>0.678488</td>\n",
       "      <td>0.743765</td>\n",
       "      <td>0.625479</td>\n",
       "      <td>1.000000</td>\n",
       "      <td>0.777217</td>\n",
       "      <td>0.656608</td>\n",
       "      <td>0.762697</td>\n",
       "      <td>0.022551</td>\n",
       "      <td>0.242911</td>\n",
       "      <td>0.319833</td>\n",
       "      <td>0.388947</td>\n",
       "      <td>0.624352</td>\n",
       "      <td>-0.437678</td>\n",
       "      <td>0.437678</td>\n",
       "      <td>0.187499</td>\n",
       "      <td>-0.187499</td>\n",
       "    </tr>\n",
       "    <tr>\n",
       "      <th>Door_Top_inches</th>\n",
       "      <td>-0.771332</td>\n",
       "      <td>0.752458</td>\n",
       "      <td>0.117489</td>\n",
       "      <td>0.411330</td>\n",
       "      <td>0.403390</td>\n",
       "      <td>0.413344</td>\n",
       "      <td>0.777217</td>\n",
       "      <td>1.000000</td>\n",
       "      <td>0.803932</td>\n",
       "      <td>0.498575</td>\n",
       "      <td>-0.240942</td>\n",
       "      <td>0.388512</td>\n",
       "      <td>0.175732</td>\n",
       "      <td>0.065755</td>\n",
       "      <td>0.742755</td>\n",
       "      <td>-0.379593</td>\n",
       "      <td>0.379593</td>\n",
       "      <td>-0.066383</td>\n",
       "      <td>0.066383</td>\n",
       "    </tr>\n",
       "    <tr>\n",
       "      <th>Luggage_cu_ft</th>\n",
       "      <td>-0.619985</td>\n",
       "      <td>0.716461</td>\n",
       "      <td>0.240717</td>\n",
       "      <td>0.448967</td>\n",
       "      <td>0.450949</td>\n",
       "      <td>0.384132</td>\n",
       "      <td>0.656608</td>\n",
       "      <td>0.803932</td>\n",
       "      <td>1.000000</td>\n",
       "      <td>0.603918</td>\n",
       "      <td>-0.222359</td>\n",
       "      <td>0.358312</td>\n",
       "      <td>0.201275</td>\n",
       "      <td>0.314236</td>\n",
       "      <td>0.791403</td>\n",
       "      <td>-0.146421</td>\n",
       "      <td>0.146421</td>\n",
       "      <td>-0.143753</td>\n",
       "      <td>0.143753</td>\n",
       "    </tr>\n",
       "    <tr>\n",
       "      <th>Front_Shoulder_inches</th>\n",
       "      <td>-0.607314</td>\n",
       "      <td>0.722434</td>\n",
       "      <td>0.787516</td>\n",
       "      <td>0.790025</td>\n",
       "      <td>0.909002</td>\n",
       "      <td>0.624658</td>\n",
       "      <td>0.762697</td>\n",
       "      <td>0.498575</td>\n",
       "      <td>0.603918</td>\n",
       "      <td>1.000000</td>\n",
       "      <td>0.063630</td>\n",
       "      <td>0.329347</td>\n",
       "      <td>0.441564</td>\n",
       "      <td>0.550277</td>\n",
       "      <td>0.570227</td>\n",
       "      <td>-0.148338</td>\n",
       "      <td>0.148338</td>\n",
       "      <td>0.044993</td>\n",
       "      <td>-0.044993</td>\n",
       "    </tr>\n",
       "    <tr>\n",
       "      <th>Front_Leg_Room_inches</th>\n",
       "      <td>0.053420</td>\n",
       "      <td>-0.014806</td>\n",
       "      <td>0.268169</td>\n",
       "      <td>0.232445</td>\n",
       "      <td>0.091544</td>\n",
       "      <td>0.116876</td>\n",
       "      <td>0.022551</td>\n",
       "      <td>-0.240942</td>\n",
       "      <td>-0.222359</td>\n",
       "      <td>0.063630</td>\n",
       "      <td>1.000000</td>\n",
       "      <td>0.120034</td>\n",
       "      <td>-0.052595</td>\n",
       "      <td>0.444186</td>\n",
       "      <td>-0.191373</td>\n",
       "      <td>-0.155850</td>\n",
       "      <td>0.155850</td>\n",
       "      <td>0.040158</td>\n",
       "      <td>-0.040158</td>\n",
       "    </tr>\n",
       "    <tr>\n",
       "      <th>Front_Head_Room_inches</th>\n",
       "      <td>-0.236747</td>\n",
       "      <td>0.274185</td>\n",
       "      <td>0.203634</td>\n",
       "      <td>0.294628</td>\n",
       "      <td>0.294469</td>\n",
       "      <td>0.251681</td>\n",
       "      <td>0.242911</td>\n",
       "      <td>0.388512</td>\n",
       "      <td>0.358312</td>\n",
       "      <td>0.329347</td>\n",
       "      <td>0.120034</td>\n",
       "      <td>1.000000</td>\n",
       "      <td>0.090027</td>\n",
       "      <td>0.158943</td>\n",
       "      <td>0.402010</td>\n",
       "      <td>-0.048965</td>\n",
       "      <td>0.048965</td>\n",
       "      <td>-0.182809</td>\n",
       "      <td>0.182809</td>\n",
       "    </tr>\n",
       "    <tr>\n",
       "      <th>Rear_Shoulder_inches</th>\n",
       "      <td>-0.269556</td>\n",
       "      <td>0.213711</td>\n",
       "      <td>0.203753</td>\n",
       "      <td>0.116297</td>\n",
       "      <td>0.400622</td>\n",
       "      <td>0.138586</td>\n",
       "      <td>0.319833</td>\n",
       "      <td>0.175732</td>\n",
       "      <td>0.201275</td>\n",
       "      <td>0.441564</td>\n",
       "      <td>-0.052595</td>\n",
       "      <td>0.090027</td>\n",
       "      <td>1.000000</td>\n",
       "      <td>0.360663</td>\n",
       "      <td>0.289684</td>\n",
       "      <td>-0.041977</td>\n",
       "      <td>0.041977</td>\n",
       "      <td>0.072429</td>\n",
       "      <td>-0.072429</td>\n",
       "    </tr>\n",
       "    <tr>\n",
       "      <th>Rear_Leg_Room_inches</th>\n",
       "      <td>-0.274588</td>\n",
       "      <td>0.371609</td>\n",
       "      <td>0.530583</td>\n",
       "      <td>0.407676</td>\n",
       "      <td>0.501899</td>\n",
       "      <td>0.340659</td>\n",
       "      <td>0.388947</td>\n",
       "      <td>0.065755</td>\n",
       "      <td>0.314236</td>\n",
       "      <td>0.550277</td>\n",
       "      <td>0.444186</td>\n",
       "      <td>0.158943</td>\n",
       "      <td>0.360663</td>\n",
       "      <td>1.000000</td>\n",
       "      <td>0.292904</td>\n",
       "      <td>0.010978</td>\n",
       "      <td>-0.010978</td>\n",
       "      <td>0.012363</td>\n",
       "      <td>-0.012363</td>\n",
       "    </tr>\n",
       "    <tr>\n",
       "      <th>Rear_Head_Room_inches</th>\n",
       "      <td>-0.654005</td>\n",
       "      <td>0.647434</td>\n",
       "      <td>0.200537</td>\n",
       "      <td>0.361039</td>\n",
       "      <td>0.416956</td>\n",
       "      <td>0.315220</td>\n",
       "      <td>0.624352</td>\n",
       "      <td>0.742755</td>\n",
       "      <td>0.791403</td>\n",
       "      <td>0.570227</td>\n",
       "      <td>-0.191373</td>\n",
       "      <td>0.402010</td>\n",
       "      <td>0.289684</td>\n",
       "      <td>0.292904</td>\n",
       "      <td>1.000000</td>\n",
       "      <td>-0.259225</td>\n",
       "      <td>0.259225</td>\n",
       "      <td>-0.017098</td>\n",
       "      <td>0.017098</td>\n",
       "    </tr>\n",
       "    <tr>\n",
       "      <th>Drive_Type_Front</th>\n",
       "      <td>0.434247</td>\n",
       "      <td>-0.355375</td>\n",
       "      <td>-0.077100</td>\n",
       "      <td>-0.274368</td>\n",
       "      <td>-0.166388</td>\n",
       "      <td>-0.165816</td>\n",
       "      <td>-0.437678</td>\n",
       "      <td>-0.379593</td>\n",
       "      <td>-0.146421</td>\n",
       "      <td>-0.148338</td>\n",
       "      <td>-0.155850</td>\n",
       "      <td>-0.048965</td>\n",
       "      <td>-0.041977</td>\n",
       "      <td>0.010978</td>\n",
       "      <td>-0.259225</td>\n",
       "      <td>1.000000</td>\n",
       "      <td>-1.000000</td>\n",
       "      <td>-0.203873</td>\n",
       "      <td>0.203873</td>\n",
       "    </tr>\n",
       "    <tr>\n",
       "      <th>Drive_Type_Rear</th>\n",
       "      <td>-0.434247</td>\n",
       "      <td>0.355375</td>\n",
       "      <td>0.077100</td>\n",
       "      <td>0.274368</td>\n",
       "      <td>0.166388</td>\n",
       "      <td>0.165816</td>\n",
       "      <td>0.437678</td>\n",
       "      <td>0.379593</td>\n",
       "      <td>0.146421</td>\n",
       "      <td>0.148338</td>\n",
       "      <td>0.155850</td>\n",
       "      <td>0.048965</td>\n",
       "      <td>0.041977</td>\n",
       "      <td>-0.010978</td>\n",
       "      <td>0.259225</td>\n",
       "      <td>-1.000000</td>\n",
       "      <td>1.000000</td>\n",
       "      <td>0.203873</td>\n",
       "      <td>-0.203873</td>\n",
       "    </tr>\n",
       "    <tr>\n",
       "      <th>Fuel_Type_Premium</th>\n",
       "      <td>-0.069210</td>\n",
       "      <td>0.134342</td>\n",
       "      <td>0.062718</td>\n",
       "      <td>0.066904</td>\n",
       "      <td>0.035219</td>\n",
       "      <td>-0.133687</td>\n",
       "      <td>0.187499</td>\n",
       "      <td>-0.066383</td>\n",
       "      <td>-0.143753</td>\n",
       "      <td>0.044993</td>\n",
       "      <td>0.040158</td>\n",
       "      <td>-0.182809</td>\n",
       "      <td>0.072429</td>\n",
       "      <td>0.012363</td>\n",
       "      <td>-0.017098</td>\n",
       "      <td>-0.203873</td>\n",
       "      <td>0.203873</td>\n",
       "      <td>1.000000</td>\n",
       "      <td>-1.000000</td>\n",
       "    </tr>\n",
       "    <tr>\n",
       "      <th>Fuel_Type_Regular</th>\n",
       "      <td>0.069210</td>\n",
       "      <td>-0.134342</td>\n",
       "      <td>-0.062718</td>\n",
       "      <td>-0.066904</td>\n",
       "      <td>-0.035219</td>\n",
       "      <td>0.133687</td>\n",
       "      <td>-0.187499</td>\n",
       "      <td>0.066383</td>\n",
       "      <td>0.143753</td>\n",
       "      <td>-0.044993</td>\n",
       "      <td>-0.040158</td>\n",
       "      <td>0.182809</td>\n",
       "      <td>-0.072429</td>\n",
       "      <td>-0.012363</td>\n",
       "      <td>0.017098</td>\n",
       "      <td>0.203873</td>\n",
       "      <td>-0.203873</td>\n",
       "      <td>-1.000000</td>\n",
       "      <td>1.000000</td>\n",
       "    </tr>\n",
       "  </tbody>\n",
       "</table>\n",
       "</div>"
      ],
      "text/plain": [
       "                        Mileage_mpg  Capacity_gal  Length_inches  \\\n",
       "Mileage_mpg                1.000000     -0.787515      -0.387151   \n",
       "Capacity_gal              -0.787515      1.000000       0.505427   \n",
       "Length_inches             -0.387151      0.505427       1.000000   \n",
       "Wheel_Base_inches         -0.512751      0.660131       0.869492   \n",
       "Width_inches              -0.578650      0.678437       0.832541   \n",
       "Turning_Circle_feet       -0.571132      0.526678       0.684696   \n",
       "Weight_lbs                -0.875434      0.888074       0.550863   \n",
       "Door_Top_inches           -0.771332      0.752458       0.117489   \n",
       "Luggage_cu_ft             -0.619985      0.716461       0.240717   \n",
       "Front_Shoulder_inches     -0.607314      0.722434       0.787516   \n",
       "Front_Leg_Room_inches      0.053420     -0.014806       0.268169   \n",
       "Front_Head_Room_inches    -0.236747      0.274185       0.203634   \n",
       "Rear_Shoulder_inches      -0.269556      0.213711       0.203753   \n",
       "Rear_Leg_Room_inches      -0.274588      0.371609       0.530583   \n",
       "Rear_Head_Room_inches     -0.654005      0.647434       0.200537   \n",
       "Drive_Type_Front           0.434247     -0.355375      -0.077100   \n",
       "Drive_Type_Rear           -0.434247      0.355375       0.077100   \n",
       "Fuel_Type_Premium         -0.069210      0.134342       0.062718   \n",
       "Fuel_Type_Regular          0.069210     -0.134342      -0.062718   \n",
       "\n",
       "                        Wheel_Base_inches  Width_inches  Turning_Circle_feet  \\\n",
       "Mileage_mpg                     -0.512751     -0.578650            -0.571132   \n",
       "Capacity_gal                     0.660131      0.678437             0.526678   \n",
       "Length_inches                    0.869492      0.832541             0.684696   \n",
       "Wheel_Base_inches                1.000000      0.791321             0.641709   \n",
       "Width_inches                     0.791321      1.000000             0.642269   \n",
       "Turning_Circle_feet              0.641709      0.642269             1.000000   \n",
       "Weight_lbs                       0.678488      0.743765             0.625479   \n",
       "Door_Top_inches                  0.411330      0.403390             0.413344   \n",
       "Luggage_cu_ft                    0.448967      0.450949             0.384132   \n",
       "Front_Shoulder_inches            0.790025      0.909002             0.624658   \n",
       "Front_Leg_Room_inches            0.232445      0.091544             0.116876   \n",
       "Front_Head_Room_inches           0.294628      0.294469             0.251681   \n",
       "Rear_Shoulder_inches             0.116297      0.400622             0.138586   \n",
       "Rear_Leg_Room_inches             0.407676      0.501899             0.340659   \n",
       "Rear_Head_Room_inches            0.361039      0.416956             0.315220   \n",
       "Drive_Type_Front                -0.274368     -0.166388            -0.165816   \n",
       "Drive_Type_Rear                  0.274368      0.166388             0.165816   \n",
       "Fuel_Type_Premium                0.066904      0.035219            -0.133687   \n",
       "Fuel_Type_Regular               -0.066904     -0.035219             0.133687   \n",
       "\n",
       "                        Weight_lbs  Door_Top_inches  Luggage_cu_ft  \\\n",
       "Mileage_mpg              -0.875434        -0.771332      -0.619985   \n",
       "Capacity_gal              0.888074         0.752458       0.716461   \n",
       "Length_inches             0.550863         0.117489       0.240717   \n",
       "Wheel_Base_inches         0.678488         0.411330       0.448967   \n",
       "Width_inches              0.743765         0.403390       0.450949   \n",
       "Turning_Circle_feet       0.625479         0.413344       0.384132   \n",
       "Weight_lbs                1.000000         0.777217       0.656608   \n",
       "Door_Top_inches           0.777217         1.000000       0.803932   \n",
       "Luggage_cu_ft             0.656608         0.803932       1.000000   \n",
       "Front_Shoulder_inches     0.762697         0.498575       0.603918   \n",
       "Front_Leg_Room_inches     0.022551        -0.240942      -0.222359   \n",
       "Front_Head_Room_inches    0.242911         0.388512       0.358312   \n",
       "Rear_Shoulder_inches      0.319833         0.175732       0.201275   \n",
       "Rear_Leg_Room_inches      0.388947         0.065755       0.314236   \n",
       "Rear_Head_Room_inches     0.624352         0.742755       0.791403   \n",
       "Drive_Type_Front         -0.437678        -0.379593      -0.146421   \n",
       "Drive_Type_Rear           0.437678         0.379593       0.146421   \n",
       "Fuel_Type_Premium         0.187499        -0.066383      -0.143753   \n",
       "Fuel_Type_Regular        -0.187499         0.066383       0.143753   \n",
       "\n",
       "                        Front_Shoulder_inches  Front_Leg_Room_inches  \\\n",
       "Mileage_mpg                         -0.607314               0.053420   \n",
       "Capacity_gal                         0.722434              -0.014806   \n",
       "Length_inches                        0.787516               0.268169   \n",
       "Wheel_Base_inches                    0.790025               0.232445   \n",
       "Width_inches                         0.909002               0.091544   \n",
       "Turning_Circle_feet                  0.624658               0.116876   \n",
       "Weight_lbs                           0.762697               0.022551   \n",
       "Door_Top_inches                      0.498575              -0.240942   \n",
       "Luggage_cu_ft                        0.603918              -0.222359   \n",
       "Front_Shoulder_inches                1.000000               0.063630   \n",
       "Front_Leg_Room_inches                0.063630               1.000000   \n",
       "Front_Head_Room_inches               0.329347               0.120034   \n",
       "Rear_Shoulder_inches                 0.441564              -0.052595   \n",
       "Rear_Leg_Room_inches                 0.550277               0.444186   \n",
       "Rear_Head_Room_inches                0.570227              -0.191373   \n",
       "Drive_Type_Front                    -0.148338              -0.155850   \n",
       "Drive_Type_Rear                      0.148338               0.155850   \n",
       "Fuel_Type_Premium                    0.044993               0.040158   \n",
       "Fuel_Type_Regular                   -0.044993              -0.040158   \n",
       "\n",
       "                        Front_Head_Room_inches  Rear_Shoulder_inches  \\\n",
       "Mileage_mpg                          -0.236747             -0.269556   \n",
       "Capacity_gal                          0.274185              0.213711   \n",
       "Length_inches                         0.203634              0.203753   \n",
       "Wheel_Base_inches                     0.294628              0.116297   \n",
       "Width_inches                          0.294469              0.400622   \n",
       "Turning_Circle_feet                   0.251681              0.138586   \n",
       "Weight_lbs                            0.242911              0.319833   \n",
       "Door_Top_inches                       0.388512              0.175732   \n",
       "Luggage_cu_ft                         0.358312              0.201275   \n",
       "Front_Shoulder_inches                 0.329347              0.441564   \n",
       "Front_Leg_Room_inches                 0.120034             -0.052595   \n",
       "Front_Head_Room_inches                1.000000              0.090027   \n",
       "Rear_Shoulder_inches                  0.090027              1.000000   \n",
       "Rear_Leg_Room_inches                  0.158943              0.360663   \n",
       "Rear_Head_Room_inches                 0.402010              0.289684   \n",
       "Drive_Type_Front                     -0.048965             -0.041977   \n",
       "Drive_Type_Rear                       0.048965              0.041977   \n",
       "Fuel_Type_Premium                    -0.182809              0.072429   \n",
       "Fuel_Type_Regular                     0.182809             -0.072429   \n",
       "\n",
       "                        Rear_Leg_Room_inches  Rear_Head_Room_inches  \\\n",
       "Mileage_mpg                        -0.274588              -0.654005   \n",
       "Capacity_gal                        0.371609               0.647434   \n",
       "Length_inches                       0.530583               0.200537   \n",
       "Wheel_Base_inches                   0.407676               0.361039   \n",
       "Width_inches                        0.501899               0.416956   \n",
       "Turning_Circle_feet                 0.340659               0.315220   \n",
       "Weight_lbs                          0.388947               0.624352   \n",
       "Door_Top_inches                     0.065755               0.742755   \n",
       "Luggage_cu_ft                       0.314236               0.791403   \n",
       "Front_Shoulder_inches               0.550277               0.570227   \n",
       "Front_Leg_Room_inches               0.444186              -0.191373   \n",
       "Front_Head_Room_inches              0.158943               0.402010   \n",
       "Rear_Shoulder_inches                0.360663               0.289684   \n",
       "Rear_Leg_Room_inches                1.000000               0.292904   \n",
       "Rear_Head_Room_inches               0.292904               1.000000   \n",
       "Drive_Type_Front                    0.010978              -0.259225   \n",
       "Drive_Type_Rear                    -0.010978               0.259225   \n",
       "Fuel_Type_Premium                   0.012363              -0.017098   \n",
       "Fuel_Type_Regular                  -0.012363               0.017098   \n",
       "\n",
       "                        Drive_Type_Front  Drive_Type_Rear  Fuel_Type_Premium  \\\n",
       "Mileage_mpg                     0.434247        -0.434247          -0.069210   \n",
       "Capacity_gal                   -0.355375         0.355375           0.134342   \n",
       "Length_inches                  -0.077100         0.077100           0.062718   \n",
       "Wheel_Base_inches              -0.274368         0.274368           0.066904   \n",
       "Width_inches                   -0.166388         0.166388           0.035219   \n",
       "Turning_Circle_feet            -0.165816         0.165816          -0.133687   \n",
       "Weight_lbs                     -0.437678         0.437678           0.187499   \n",
       "Door_Top_inches                -0.379593         0.379593          -0.066383   \n",
       "Luggage_cu_ft                  -0.146421         0.146421          -0.143753   \n",
       "Front_Shoulder_inches          -0.148338         0.148338           0.044993   \n",
       "Front_Leg_Room_inches          -0.155850         0.155850           0.040158   \n",
       "Front_Head_Room_inches         -0.048965         0.048965          -0.182809   \n",
       "Rear_Shoulder_inches           -0.041977         0.041977           0.072429   \n",
       "Rear_Leg_Room_inches            0.010978        -0.010978           0.012363   \n",
       "Rear_Head_Room_inches          -0.259225         0.259225          -0.017098   \n",
       "Drive_Type_Front                1.000000        -1.000000          -0.203873   \n",
       "Drive_Type_Rear                -1.000000         1.000000           0.203873   \n",
       "Fuel_Type_Premium              -0.203873         0.203873           1.000000   \n",
       "Fuel_Type_Regular               0.203873        -0.203873          -1.000000   \n",
       "\n",
       "                        Fuel_Type_Regular  \n",
       "Mileage_mpg                      0.069210  \n",
       "Capacity_gal                    -0.134342  \n",
       "Length_inches                   -0.062718  \n",
       "Wheel_Base_inches               -0.066904  \n",
       "Width_inches                    -0.035219  \n",
       "Turning_Circle_feet              0.133687  \n",
       "Weight_lbs                      -0.187499  \n",
       "Door_Top_inches                  0.066383  \n",
       "Luggage_cu_ft                    0.143753  \n",
       "Front_Shoulder_inches           -0.044993  \n",
       "Front_Leg_Room_inches           -0.040158  \n",
       "Front_Head_Room_inches           0.182809  \n",
       "Rear_Shoulder_inches            -0.072429  \n",
       "Rear_Leg_Room_inches            -0.012363  \n",
       "Rear_Head_Room_inches            0.017098  \n",
       "Drive_Type_Front                 0.203873  \n",
       "Drive_Type_Rear                 -0.203873  \n",
       "Fuel_Type_Premium               -1.000000  \n",
       "Fuel_Type_Regular                1.000000  "
      ]
     },
     "execution_count": 48,
     "metadata": {},
     "output_type": "execute_result"
    }
   ],
   "source": [
    "Auto.corr()"
   ]
  },
  {
   "cell_type": "code",
   "execution_count": 49,
   "metadata": {},
   "outputs": [
    {
     "data": {
      "text/plain": [
       "<matplotlib.image.AxesImage at 0x21866a82668>"
      ]
     },
     "execution_count": 49,
     "metadata": {},
     "output_type": "execute_result"
    },
    {
     "data": {
      "image/png": "[encoded data removed]",
      "text/plain": [
       "<matplotlib.figure.Figure at 0x2186699ee80>"
      ]
     },
     "metadata": {},
     "output_type": "display_data"
    }
   ],
   "source": [
    "plt.matshow(Auto.corr())"
   ]
  },
  {
   "cell_type": "markdown",
   "metadata": {},
   "source": [
    "### Time for some PCA"
   ]
  },
  {
   "cell_type": "code",
   "execution_count": 46,
   "metadata": {},
   "outputs": [
    {
     "name": "stdout",
     "output_type": "stream",
     "text": [
      "PCA Total Variance Explained: 0.999809455204064\n"
     ]
    }
   ],
   "source": [
    "from sklearn.decomposition import PCA\n",
    "\n",
    "#Setting the number of Components to 3\n",
    "pca = PCA(n_components=3)\n",
    "#Removing the name of the vehicle, as this is for information only (plus sklearn doesn't like it)\n",
    "X_pca = pca.fit_transform(Auto[Auto.columns.difference(['Name'])])\n",
    "#Printing the Varience Explained\n",
    "print('PCA Total Variance Explained: ' + str(sum(pca.explained_variance_ratio_)))"
   ]
  },
  {
   "cell_type": "markdown",
   "metadata": {},
   "source": [
    "### Scatter plot showing Vehicle weight relative to Miles Per Gallon"
   ]
  },
  {
   "cell_type": "code",
   "execution_count": null,
   "metadata": {},
   "outputs": [],
   "source": [
    "plt.scatter(Auto.Weight_lbs,Auto.Mileage_mpg)\n",
    "plt.title('Scatter of Weight and Miles per gallon')\n",
    "plt.xlabel(\"Weight\")\n",
    "plt.ylabel(\"MPG\")\n",
    "plt.xlim(0, 7500)\n",
    "plt.show()"
   ]
  },
  {
   "cell_type": "markdown",
   "metadata": {},
   "source": [
    "### histogram of Luggage Space,  using 6 bins"
   ]
  },
  {
   "cell_type": "code",
   "execution_count": 65,
   "metadata": {},
   "outputs": [
    {
     "data": {
      "image/png": "[encoded data removed]",
      "text/plain": [
       "<matplotlib.figure.Figure at 0x26277b989b0>"
      ]
     },
     "metadata": {},
     "output_type": "display_data"
    }
   ],
   "source": [
    "n, bins, patches = plt.hist(Auto.Luggage_cu_ft, 6, facecolor='purple', alpha=0.75, normed=0)\n",
    "plt.ylim(0, 80)\n",
    "plt.xlabel(\"Luggage Space\")\n",
    "plt.ylabel(\"Frequency\")\n",
    "plt.title('Histogram of Luggage Weight using 6 bins')\n",
    "plt.show()"
   ]
  },
  {
   "cell_type": "markdown",
   "metadata": {},
   "source": [
    "### Histogram of Miles Per Gallon, using 7 bins"
   ]
  },
  {
   "cell_type": "code",
   "execution_count": 63,
   "metadata": {},
   "outputs": [
    {
     "data": {
      "image/png": "[encoded data removed]",
      "text/plain": [
       "<matplotlib.figure.Figure at 0x26277b5c2e8>"
      ]
     },
     "metadata": {},
     "output_type": "display_data"
    }
   ],
   "source": [
    "n, bins, patches = plt.hist(Auto.Mileage_mpg, 7, facecolor='red', alpha=0.75)\n",
    "plt.ylim(0, 50)\n",
    "plt.xlabel(\"Miles Per Gallon\")\n",
    "plt.ylabel(\"Frequency\")\n",
    "plt.title('Histogram of Luggage Weight using 7 bins')\n",
    "plt.show()"
   ]
  },
  {
   "cell_type": "markdown",
   "metadata": {},
   "source": [
    "### Cross Tabulation of Drive Type and Fuel Type"
   ]
  },
  {
   "cell_type": "code",
   "execution_count": 30,
   "metadata": {},
   "outputs": [
    {
     "name": "stdout",
     "output_type": "stream",
     "text": [
      "Drive Type  Front  Rear\n",
      "Fuel Type              \n",
      "Premium        11     8\n",
      "Regular        70    17\n"
     ]
    }
   ],
   "source": [
    "#Crosstab using Pandas\n",
    "auto_cross=pd.crosstab(Auto.Fuel_Type, Auto.Drive_Type,colnames=['Drive Type'],rownames=['Fuel Type'])\n",
    "print(auto_cross)"
   ]
  },
  {
   "cell_type": "markdown",
   "metadata": {},
   "source": [
    "### Bar Plot of Fuel Type by Drive Type."
   ]
  },
  {
   "cell_type": "code",
   "execution_count": 31,
   "metadata": {},
   "outputs": [
    {
     "data": {
      "text/plain": [
       "Text(0.5,1,'Fuel Type by Drive Type')"
      ]
     },
     "execution_count": 31,
     "metadata": {},
     "output_type": "execute_result"
    },
    {
     "data": {
      "image/png": "[encoded data removed]",
      "text/plain": [
       "<matplotlib.figure.Figure at 0x26276890908>"
      ]
     },
     "metadata": {},
     "output_type": "display_data"
    }
   ],
   "source": [
    "#Bar plot of Genre by Gender\n",
    "auto_cross.plot(kind='bar', stacked=True)\n",
    "plt.title('Fuel Type by Drive Type')"
   ]
  },
  {
   "cell_type": "markdown",
   "metadata": {
    "collapsed": true
   },
   "source": [
    "### Create a new dataframe where fuel is “regular” AND MPG is over 21. Call it Auto_sub. Label each section using markup to state what you are doing and what you see."
   ]
  },
  {
   "cell_type": "code",
   "execution_count": 61,
   "metadata": {},
   "outputs": [],
   "source": [
    "#I have created a dataframe that will conditionally pull in rows that use Regular Fuel AND have a MPG over 21.\n",
    "Auto_sub = Auto[(Auto['Fuel_Type_Regular']== 1) & (Auto['Mileage_mpg'] > 21)]"
   ]
  },
  {
   "cell_type": "code",
   "execution_count": 60,
   "metadata": {},
   "outputs": [
    {
     "data": {
      "text/html": [
       "<div>\n",
       "<style scoped>\n",
       "    .dataframe tbody tr th:only-of-type {\n",
       "        vertical-align: middle;\n",
       "    }\n",
       "\n",
       "    .dataframe tbody tr th {\n",
       "        vertical-align: top;\n",
       "    }\n",
       "\n",
       "    .dataframe thead th {\n",
       "        text-align: right;\n",
       "    }\n",
       "</style>\n",
       "<table border=\"1\" class=\"dataframe\">\n",
       "  <thead>\n",
       "    <tr style=\"text-align: right;\">\n",
       "      <th></th>\n",
       "      <th>Name</th>\n",
       "      <th>Mileage_mpg</th>\n",
       "      <th>Capacity_gal</th>\n",
       "      <th>Length_inches</th>\n",
       "      <th>Wheel_Base_inches</th>\n",
       "      <th>Width_inches</th>\n",
       "      <th>Turning_Circle_feet</th>\n",
       "      <th>Weight_lbs</th>\n",
       "      <th>Door_Top_inches</th>\n",
       "      <th>Luggage_cu_ft</th>\n",
       "      <th>Front_Shoulder_inches</th>\n",
       "      <th>Front_Leg_Room_inches</th>\n",
       "      <th>Front_Head_Room_inches</th>\n",
       "      <th>Rear_Shoulder_inches</th>\n",
       "      <th>Rear_Leg_Room_inches</th>\n",
       "      <th>Rear_Head_Room_inches</th>\n",
       "      <th>Drive_Type_Front</th>\n",
       "      <th>Drive_Type_Rear</th>\n",
       "      <th>Fuel_Type_Premium</th>\n",
       "      <th>Fuel_Type_Regular</th>\n",
       "    </tr>\n",
       "  </thead>\n",
       "  <tbody>\n",
       "    <tr>\n",
       "      <th>0</th>\n",
       "      <td>Acura Integra</td>\n",
       "      <td>31</td>\n",
       "      <td>13.2</td>\n",
       "      <td>172</td>\n",
       "      <td>101</td>\n",
       "      <td>67</td>\n",
       "      <td>39</td>\n",
       "      <td>2635</td>\n",
       "      <td>47.5</td>\n",
       "      <td>13.0</td>\n",
       "      <td>51.5</td>\n",
       "      <td>41.5</td>\n",
       "      <td>2.0</td>\n",
       "      <td>46.5</td>\n",
       "      <td>25.0</td>\n",
       "      <td>0.5</td>\n",
       "      <td>1</td>\n",
       "      <td>0</td>\n",
       "      <td>0</td>\n",
       "      <td>1</td>\n",
       "    </tr>\n",
       "    <tr>\n",
       "      <th>2</th>\n",
       "      <td>Buick Century</td>\n",
       "      <td>22</td>\n",
       "      <td>17.5</td>\n",
       "      <td>195</td>\n",
       "      <td>109</td>\n",
       "      <td>73</td>\n",
       "      <td>40</td>\n",
       "      <td>3350</td>\n",
       "      <td>50.5</td>\n",
       "      <td>17.0</td>\n",
       "      <td>58.0</td>\n",
       "      <td>44.0</td>\n",
       "      <td>5.0</td>\n",
       "      <td>57.0</td>\n",
       "      <td>30.0</td>\n",
       "      <td>2.0</td>\n",
       "      <td>1</td>\n",
       "      <td>0</td>\n",
       "      <td>0</td>\n",
       "      <td>1</td>\n",
       "    </tr>\n",
       "    <tr>\n",
       "      <th>6</th>\n",
       "      <td>Chevrolet Cavalier</td>\n",
       "      <td>26</td>\n",
       "      <td>15.2</td>\n",
       "      <td>181</td>\n",
       "      <td>104</td>\n",
       "      <td>68</td>\n",
       "      <td>38</td>\n",
       "      <td>2795</td>\n",
       "      <td>50.5</td>\n",
       "      <td>14.0</td>\n",
       "      <td>54.5</td>\n",
       "      <td>41.5</td>\n",
       "      <td>4.5</td>\n",
       "      <td>53.5</td>\n",
       "      <td>28.0</td>\n",
       "      <td>2.0</td>\n",
       "      <td>1</td>\n",
       "      <td>0</td>\n",
       "      <td>0</td>\n",
       "      <td>1</td>\n",
       "    </tr>\n",
       "    <tr>\n",
       "      <th>8</th>\n",
       "      <td>Chevrolet Lumina</td>\n",
       "      <td>22</td>\n",
       "      <td>16.6</td>\n",
       "      <td>201</td>\n",
       "      <td>108</td>\n",
       "      <td>73</td>\n",
       "      <td>44</td>\n",
       "      <td>3350</td>\n",
       "      <td>51.0</td>\n",
       "      <td>16.0</td>\n",
       "      <td>58.5</td>\n",
       "      <td>42.5</td>\n",
       "      <td>4.5</td>\n",
       "      <td>57.0</td>\n",
       "      <td>30.0</td>\n",
       "      <td>2.0</td>\n",
       "      <td>1</td>\n",
       "      <td>0</td>\n",
       "      <td>0</td>\n",
       "      <td>1</td>\n",
       "    </tr>\n",
       "    <tr>\n",
       "      <th>9</th>\n",
       "      <td>Chevrolet Malibu</td>\n",
       "      <td>24</td>\n",
       "      <td>15.2</td>\n",
       "      <td>190</td>\n",
       "      <td>107</td>\n",
       "      <td>69</td>\n",
       "      <td>40</td>\n",
       "      <td>3075</td>\n",
       "      <td>50.5</td>\n",
       "      <td>17.0</td>\n",
       "      <td>55.0</td>\n",
       "      <td>43.0</td>\n",
       "      <td>4.5</td>\n",
       "      <td>54.0</td>\n",
       "      <td>30.5</td>\n",
       "      <td>2.0</td>\n",
       "      <td>1</td>\n",
       "      <td>0</td>\n",
       "      <td>0</td>\n",
       "      <td>1</td>\n",
       "    </tr>\n",
       "    <tr>\n",
       "      <th>10</th>\n",
       "      <td>Chevrolet Prizm</td>\n",
       "      <td>31</td>\n",
       "      <td>13.2</td>\n",
       "      <td>175</td>\n",
       "      <td>97</td>\n",
       "      <td>67</td>\n",
       "      <td>34</td>\n",
       "      <td>2480</td>\n",
       "      <td>48.0</td>\n",
       "      <td>12.0</td>\n",
       "      <td>52.5</td>\n",
       "      <td>40.5</td>\n",
       "      <td>4.0</td>\n",
       "      <td>52.0</td>\n",
       "      <td>26.5</td>\n",
       "      <td>2.0</td>\n",
       "      <td>1</td>\n",
       "      <td>0</td>\n",
       "      <td>0</td>\n",
       "      <td>1</td>\n",
       "    </tr>\n",
       "    <tr>\n",
       "      <th>13</th>\n",
       "      <td>Chrysler Cirrus</td>\n",
       "      <td>22</td>\n",
       "      <td>16.0</td>\n",
       "      <td>186</td>\n",
       "      <td>108</td>\n",
       "      <td>72</td>\n",
       "      <td>39</td>\n",
       "      <td>3170</td>\n",
       "      <td>49.0</td>\n",
       "      <td>16.0</td>\n",
       "      <td>55.0</td>\n",
       "      <td>42.0</td>\n",
       "      <td>4.0</td>\n",
       "      <td>54.5</td>\n",
       "      <td>31.0</td>\n",
       "      <td>1.5</td>\n",
       "      <td>1</td>\n",
       "      <td>0</td>\n",
       "      <td>0</td>\n",
       "      <td>1</td>\n",
       "    </tr>\n",
       "    <tr>\n",
       "      <th>17</th>\n",
       "      <td>Daewoo Lenganza</td>\n",
       "      <td>24</td>\n",
       "      <td>15.8</td>\n",
       "      <td>184</td>\n",
       "      <td>105</td>\n",
       "      <td>70</td>\n",
       "      <td>41</td>\n",
       "      <td>3185</td>\n",
       "      <td>50.0</td>\n",
       "      <td>14.0</td>\n",
       "      <td>55.5</td>\n",
       "      <td>42.5</td>\n",
       "      <td>2.5</td>\n",
       "      <td>52.5</td>\n",
       "      <td>30.0</td>\n",
       "      <td>3.5</td>\n",
       "      <td>1</td>\n",
       "      <td>0</td>\n",
       "      <td>0</td>\n",
       "      <td>1</td>\n",
       "    </tr>\n",
       "    <tr>\n",
       "      <th>18</th>\n",
       "      <td>Daewoo Nubira</td>\n",
       "      <td>24</td>\n",
       "      <td>13.7</td>\n",
       "      <td>175</td>\n",
       "      <td>101</td>\n",
       "      <td>67</td>\n",
       "      <td>37</td>\n",
       "      <td>2815</td>\n",
       "      <td>50.0</td>\n",
       "      <td>13.0</td>\n",
       "      <td>53.5</td>\n",
       "      <td>41.0</td>\n",
       "      <td>4.5</td>\n",
       "      <td>52.5</td>\n",
       "      <td>27.5</td>\n",
       "      <td>3.0</td>\n",
       "      <td>1</td>\n",
       "      <td>0</td>\n",
       "      <td>0</td>\n",
       "      <td>1</td>\n",
       "    </tr>\n",
       "    <tr>\n",
       "      <th>19</th>\n",
       "      <td>Dodge Intrepid</td>\n",
       "      <td>22</td>\n",
       "      <td>17.0</td>\n",
       "      <td>204</td>\n",
       "      <td>113</td>\n",
       "      <td>75</td>\n",
       "      <td>40</td>\n",
       "      <td>3455</td>\n",
       "      <td>49.0</td>\n",
       "      <td>18.0</td>\n",
       "      <td>58.5</td>\n",
       "      <td>43.0</td>\n",
       "      <td>4.5</td>\n",
       "      <td>57.0</td>\n",
       "      <td>32.5</td>\n",
       "      <td>2.5</td>\n",
       "      <td>1</td>\n",
       "      <td>0</td>\n",
       "      <td>0</td>\n",
       "      <td>1</td>\n",
       "    </tr>\n",
       "  </tbody>\n",
       "</table>\n",
       "</div>"
      ],
      "text/plain": [
       "                  Name  Mileage_mpg  Capacity_gal  Length_inches  \\\n",
       "0        Acura Integra           31          13.2            172   \n",
       "2        Buick Century           22          17.5            195   \n",
       "6   Chevrolet Cavalier           26          15.2            181   \n",
       "8     Chevrolet Lumina           22          16.6            201   \n",
       "9     Chevrolet Malibu           24          15.2            190   \n",
       "10     Chevrolet Prizm           31          13.2            175   \n",
       "13     Chrysler Cirrus           22          16.0            186   \n",
       "17     Daewoo Lenganza           24          15.8            184   \n",
       "18       Daewoo Nubira           24          13.7            175   \n",
       "19      Dodge Intrepid           22          17.0            204   \n",
       "\n",
       "    Wheel_Base_inches  Width_inches  Turning_Circle_feet  Weight_lbs  \\\n",
       "0                 101            67                   39        2635   \n",
       "2                 109            73                   40        3350   \n",
       "6                 104            68                   38        2795   \n",
       "8                 108            73                   44        3350   \n",
       "9                 107            69                   40        3075   \n",
       "10                 97            67                   34        2480   \n",
       "13                108            72                   39        3170   \n",
       "17                105            70                   41        3185   \n",
       "18                101            67                   37        2815   \n",
       "19                113            75                   40        3455   \n",
       "\n",
       "    Door_Top_inches  Luggage_cu_ft  Front_Shoulder_inches  \\\n",
       "0              47.5           13.0                   51.5   \n",
       "2              50.5           17.0                   58.0   \n",
       "6              50.5           14.0                   54.5   \n",
       "8              51.0           16.0                   58.5   \n",
       "9              50.5           17.0                   55.0   \n",
       "10             48.0           12.0                   52.5   \n",
       "13             49.0           16.0                   55.0   \n",
       "17             50.0           14.0                   55.5   \n",
       "18             50.0           13.0                   53.5   \n",
       "19             49.0           18.0                   58.5   \n",
       "\n",
       "    Front_Leg_Room_inches  Front_Head_Room_inches  Rear_Shoulder_inches  \\\n",
       "0                    41.5                     2.0                  46.5   \n",
       "2                    44.0                     5.0                  57.0   \n",
       "6                    41.5                     4.5                  53.5   \n",
       "8                    42.5                     4.5                  57.0   \n",
       "9                    43.0                     4.5                  54.0   \n",
       "10                   40.5                     4.0                  52.0   \n",
       "13                   42.0                     4.0                  54.5   \n",
       "17                   42.5                     2.5                  52.5   \n",
       "18                   41.0                     4.5                  52.5   \n",
       "19                   43.0                     4.5                  57.0   \n",
       "\n",
       "    Rear_Leg_Room_inches  Rear_Head_Room_inches  Drive_Type_Front  \\\n",
       "0                   25.0                    0.5                 1   \n",
       "2                   30.0                    2.0                 1   \n",
       "6                   28.0                    2.0                 1   \n",
       "8                   30.0                    2.0                 1   \n",
       "9                   30.5                    2.0                 1   \n",
       "10                  26.5                    2.0                 1   \n",
       "13                  31.0                    1.5                 1   \n",
       "17                  30.0                    3.5                 1   \n",
       "18                  27.5                    3.0                 1   \n",
       "19                  32.5                    2.5                 1   \n",
       "\n",
       "    Drive_Type_Rear  Fuel_Type_Premium  Fuel_Type_Regular  \n",
       "0                 0                  0                  1  \n",
       "2                 0                  0                  1  \n",
       "6                 0                  0                  1  \n",
       "8                 0                  0                  1  \n",
       "9                 0                  0                  1  \n",
       "10                0                  0                  1  \n",
       "13                0                  0                  1  \n",
       "17                0                  0                  1  \n",
       "18                0                  0                  1  \n",
       "19                0                  0                  1  "
      ]
     },
     "execution_count": 60,
     "metadata": {},
     "output_type": "execute_result"
    }
   ],
   "source": [
    "#This shows the rows in the new dataframe.\n",
    "Auto_sub.head(10)"
   ]
  }
 ],
 "metadata": {
  "anaconda-cloud": {},
  "kernelspec": {
   "display_name": "Python 3",
   "language": "python",
   "name": "python3"
  },
  "language_info": {
   "codemirror_mode": {
    "name": "ipython",
    "version": 3
   },
   "file_extension": ".py",
   "mimetype": "text/x-python",
   "name": "python",
   "nbconvert_exporter": "python",
   "pygments_lexer": "ipython3",
   "version": "3.6.4"
  }
 },
 "nbformat": 4,
 "nbformat_minor": 1
}
