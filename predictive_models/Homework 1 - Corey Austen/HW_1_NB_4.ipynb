{
 "cells": [
  {
   "cell_type": "markdown",
   "metadata": {},
   "source": [
    "# Corey Austen - Homework 1 - Notebook 4"
   ]
  },
  {
   "cell_type": "markdown",
   "metadata": {},
   "source": [
    "## Loading in packages and checking directory"
   ]
  },
  {
   "cell_type": "code",
   "execution_count": 1,
   "metadata": {},
   "outputs": [
    {
     "data": {
      "text/plain": [
       "'C:\\\\Users\\\\Corey\\\\Google Drive\\\\Corey - School\\\\Spring 2018 B\\\\BIA 6303 - Predictive Models\\\\HW_1'"
      ]
     },
     "execution_count": 1,
     "metadata": {},
     "output_type": "execute_result"
    }
   ],
   "source": [
    "import numpy as np\n",
    "import matplotlib.pyplot as plt\n",
    "import pandas as pd\n",
    "%pwd"
   ]
  },
  {
   "cell_type": "code",
   "execution_count": 2,
   "metadata": {},
   "outputs": [
    {
     "name": "stdout",
     "output_type": "stream",
     "text": [
      "C:\\Users\\Corey\\Google Drive\\Corey - School\\Spring 2018 B\\BIA 6303 - Predictive Models\\HW_1\n"
     ]
    }
   ],
   "source": [
    "cd /Users/Corey/Google Drive/Corey - School/Spring 2018 B/BIA 6303 - Predictive Models/HW_1"
   ]
  },
  {
   "cell_type": "markdown",
   "metadata": {},
   "source": [
    "### Loading Data into a Dataframe"
   ]
  },
  {
   "cell_type": "code",
   "execution_count": 3,
   "metadata": {},
   "outputs": [],
   "source": [
    "df = pd.read_csv('prostate.csv', sep=\",\")"
   ]
  },
  {
   "cell_type": "markdown",
   "metadata": {},
   "source": [
    "### Checking column names and datatypes"
   ]
  },
  {
   "cell_type": "code",
   "execution_count": 4,
   "metadata": {},
   "outputs": [
    {
     "data": {
      "text/plain": [
       "Index(['lcavol', 'lweight', 'age', 'lbph', 'svi', 'lcp', 'gleason', 'pgg45',\n",
       "       'lpsa'],\n",
       "      dtype='object')"
      ]
     },
     "execution_count": 4,
     "metadata": {},
     "output_type": "execute_result"
    }
   ],
   "source": [
    "df.columns"
   ]
  },
  {
   "cell_type": "code",
   "execution_count": 5,
   "metadata": {},
   "outputs": [
    {
     "data": {
      "text/plain": [
       "lcavol     float64\n",
       "lweight    float64\n",
       "age          int64\n",
       "lbph       float64\n",
       "svi          int64\n",
       "lcp        float64\n",
       "gleason      int64\n",
       "pgg45        int64\n",
       "lpsa       float64\n",
       "dtype: object"
      ]
     },
     "execution_count": 5,
     "metadata": {},
     "output_type": "execute_result"
    }
   ],
   "source": [
    "df.dtypes"
   ]
  },
  {
   "cell_type": "markdown",
   "metadata": {},
   "source": [
    "### Moving target variable to the front of the dataframe"
   ]
  },
  {
   "cell_type": "code",
   "execution_count": 6,
   "metadata": {},
   "outputs": [
    {
     "data": {
      "text/html": [
       "<div>\n",
       "<style scoped>\n",
       "    .dataframe tbody tr th:only-of-type {\n",
       "        vertical-align: middle;\n",
       "    }\n",
       "\n",
       "    .dataframe tbody tr th {\n",
       "        vertical-align: top;\n",
       "    }\n",
       "\n",
       "    .dataframe thead th {\n",
       "        text-align: right;\n",
       "    }\n",
       "</style>\n",
       "<table border=\"1\" class=\"dataframe\">\n",
       "  <thead>\n",
       "    <tr style=\"text-align: right;\">\n",
       "      <th></th>\n",
       "      <th>lpsa</th>\n",
       "      <th>lcavol</th>\n",
       "      <th>lweight</th>\n",
       "      <th>age</th>\n",
       "      <th>lbph</th>\n",
       "      <th>svi</th>\n",
       "      <th>lcp</th>\n",
       "      <th>gleason</th>\n",
       "      <th>pgg45</th>\n",
       "    </tr>\n",
       "  </thead>\n",
       "  <tbody>\n",
       "    <tr>\n",
       "      <th>0</th>\n",
       "      <td>-0.430783</td>\n",
       "      <td>-0.579818</td>\n",
       "      <td>2.769459</td>\n",
       "      <td>50</td>\n",
       "      <td>-1.386294</td>\n",
       "      <td>0</td>\n",
       "      <td>-1.386294</td>\n",
       "      <td>6</td>\n",
       "      <td>0</td>\n",
       "    </tr>\n",
       "    <tr>\n",
       "      <th>1</th>\n",
       "      <td>-0.162519</td>\n",
       "      <td>-0.994252</td>\n",
       "      <td>3.319626</td>\n",
       "      <td>58</td>\n",
       "      <td>-1.386294</td>\n",
       "      <td>0</td>\n",
       "      <td>-1.386294</td>\n",
       "      <td>6</td>\n",
       "      <td>0</td>\n",
       "    </tr>\n",
       "    <tr>\n",
       "      <th>2</th>\n",
       "      <td>-0.162519</td>\n",
       "      <td>-0.510826</td>\n",
       "      <td>2.691243</td>\n",
       "      <td>74</td>\n",
       "      <td>-1.386294</td>\n",
       "      <td>0</td>\n",
       "      <td>-1.386294</td>\n",
       "      <td>7</td>\n",
       "      <td>20</td>\n",
       "    </tr>\n",
       "    <tr>\n",
       "      <th>3</th>\n",
       "      <td>-0.162519</td>\n",
       "      <td>-1.203973</td>\n",
       "      <td>3.282789</td>\n",
       "      <td>58</td>\n",
       "      <td>-1.386294</td>\n",
       "      <td>0</td>\n",
       "      <td>-1.386294</td>\n",
       "      <td>6</td>\n",
       "      <td>0</td>\n",
       "    </tr>\n",
       "    <tr>\n",
       "      <th>4</th>\n",
       "      <td>0.371564</td>\n",
       "      <td>0.751416</td>\n",
       "      <td>3.432373</td>\n",
       "      <td>62</td>\n",
       "      <td>-1.386294</td>\n",
       "      <td>0</td>\n",
       "      <td>-1.386294</td>\n",
       "      <td>6</td>\n",
       "      <td>0</td>\n",
       "    </tr>\n",
       "    <tr>\n",
       "      <th>5</th>\n",
       "      <td>0.765468</td>\n",
       "      <td>-1.049822</td>\n",
       "      <td>3.228826</td>\n",
       "      <td>50</td>\n",
       "      <td>-1.386294</td>\n",
       "      <td>0</td>\n",
       "      <td>-1.386294</td>\n",
       "      <td>6</td>\n",
       "      <td>0</td>\n",
       "    </tr>\n",
       "    <tr>\n",
       "      <th>6</th>\n",
       "      <td>0.765468</td>\n",
       "      <td>0.737164</td>\n",
       "      <td>3.473518</td>\n",
       "      <td>64</td>\n",
       "      <td>0.615186</td>\n",
       "      <td>0</td>\n",
       "      <td>-1.386294</td>\n",
       "      <td>6</td>\n",
       "      <td>0</td>\n",
       "    </tr>\n",
       "    <tr>\n",
       "      <th>7</th>\n",
       "      <td>0.854415</td>\n",
       "      <td>0.693147</td>\n",
       "      <td>3.539509</td>\n",
       "      <td>58</td>\n",
       "      <td>1.536867</td>\n",
       "      <td>0</td>\n",
       "      <td>-1.386294</td>\n",
       "      <td>6</td>\n",
       "      <td>0</td>\n",
       "    </tr>\n",
       "    <tr>\n",
       "      <th>8</th>\n",
       "      <td>1.047319</td>\n",
       "      <td>-0.776529</td>\n",
       "      <td>3.539509</td>\n",
       "      <td>47</td>\n",
       "      <td>-1.386294</td>\n",
       "      <td>0</td>\n",
       "      <td>-1.386294</td>\n",
       "      <td>6</td>\n",
       "      <td>0</td>\n",
       "    </tr>\n",
       "    <tr>\n",
       "      <th>9</th>\n",
       "      <td>1.047319</td>\n",
       "      <td>0.223144</td>\n",
       "      <td>3.244544</td>\n",
       "      <td>63</td>\n",
       "      <td>-1.386294</td>\n",
       "      <td>0</td>\n",
       "      <td>-1.386294</td>\n",
       "      <td>6</td>\n",
       "      <td>0</td>\n",
       "    </tr>\n",
       "  </tbody>\n",
       "</table>\n",
       "</div>"
      ],
      "text/plain": [
       "       lpsa    lcavol   lweight  age      lbph  svi       lcp  gleason  pgg45\n",
       "0 -0.430783 -0.579818  2.769459   50 -1.386294    0 -1.386294        6      0\n",
       "1 -0.162519 -0.994252  3.319626   58 -1.386294    0 -1.386294        6      0\n",
       "2 -0.162519 -0.510826  2.691243   74 -1.386294    0 -1.386294        7     20\n",
       "3 -0.162519 -1.203973  3.282789   58 -1.386294    0 -1.386294        6      0\n",
       "4  0.371564  0.751416  3.432373   62 -1.386294    0 -1.386294        6      0\n",
       "5  0.765468 -1.049822  3.228826   50 -1.386294    0 -1.386294        6      0\n",
       "6  0.765468  0.737164  3.473518   64  0.615186    0 -1.386294        6      0\n",
       "7  0.854415  0.693147  3.539509   58  1.536867    0 -1.386294        6      0\n",
       "8  1.047319 -0.776529  3.539509   47 -1.386294    0 -1.386294        6      0\n",
       "9  1.047319  0.223144  3.244544   63 -1.386294    0 -1.386294        6      0"
      ]
     },
     "execution_count": 6,
     "metadata": {},
     "output_type": "execute_result"
    }
   ],
   "source": [
    "#Set the target variable as lpsa. \n",
    "# designate target variable name\n",
    "targetName = 'lpsa'\n",
    "targetSeries = df[targetName]\n",
    "#remove target from current location and insert in collum 0\n",
    "del df[targetName]\n",
    "df.insert(0, targetName, targetSeries)\n",
    "#reprint dataframe and see target is in position 0\n",
    "df.head(10)"
   ]
  },
  {
   "cell_type": "markdown",
   "metadata": {},
   "source": [
    "### Checking for any missing values"
   ]
  },
  {
   "cell_type": "code",
   "execution_count": 7,
   "metadata": {},
   "outputs": [
    {
     "name": "stdout",
     "output_type": "stream",
     "text": [
      "Your selected dataframe has 9 columns.\n",
      "There are 0 columns that have missing values.\n"
     ]
    },
    {
     "data": {
      "text/html": [
       "<div>\n",
       "<style scoped>\n",
       "    .dataframe tbody tr th:only-of-type {\n",
       "        vertical-align: middle;\n",
       "    }\n",
       "\n",
       "    .dataframe tbody tr th {\n",
       "        vertical-align: top;\n",
       "    }\n",
       "\n",
       "    .dataframe thead th {\n",
       "        text-align: right;\n",
       "    }\n",
       "</style>\n",
       "<table border=\"1\" class=\"dataframe\">\n",
       "  <thead>\n",
       "    <tr style=\"text-align: right;\">\n",
       "      <th></th>\n",
       "      <th>Missing Values</th>\n",
       "      <th>% of Total Values</th>\n",
       "    </tr>\n",
       "  </thead>\n",
       "  <tbody>\n",
       "  </tbody>\n",
       "</table>\n",
       "</div>"
      ],
      "text/plain": [
       "Empty DataFrame\n",
       "Columns: [Missing Values, % of Total Values]\n",
       "Index: []"
      ]
     },
     "execution_count": 7,
     "metadata": {},
     "output_type": "execute_result"
    }
   ],
   "source": [
    "#This function will find all missing values and which row they are in.\n",
    "#Credit to Nikos T. - https://stackoverflow.com/questions/26266362/how-to-count-the-nan-values-in-a-column-in-pandas-dataframe/26266451\n",
    "\n",
    "def missing_values_table(df):\n",
    "        mis_val = df.isnull().sum()\n",
    "        mis_val_percent = 100 * df.isnull().sum() / len(df)\n",
    "        mis_val_table = pd.concat([mis_val, mis_val_percent], axis=1)\n",
    "        mis_val_table_ren_columns = mis_val_table.rename(\n",
    "        columns = {0 : 'Missing Values', 1 : '% of Total Values'})\n",
    "        mis_val_table_ren_columns = mis_val_table_ren_columns[\n",
    "            mis_val_table_ren_columns.iloc[:,1] != 0].sort_values(\n",
    "        '% of Total Values', ascending=False).round(1)\n",
    "        print (\"Your selected dataframe has \" + str(df.shape[1]) + \" columns.\\n\"      \n",
    "            \"There are \" + str(mis_val_table_ren_columns.shape[0]) +\n",
    "              \" columns that have missing values.\")\n",
    "        return mis_val_table_ren_columns\n",
    "    \n",
    "missing_values_table(df)"
   ]
  },
  {
   "cell_type": "markdown",
   "metadata": {},
   "source": [
    "### Setting the target and features"
   ]
  },
  {
   "cell_type": "code",
   "execution_count": 8,
   "metadata": {},
   "outputs": [
    {
     "name": "stdout",
     "output_type": "stream",
     "text": [
      "(97,)\n",
      "(97, 8)\n"
     ]
    },
    {
     "name": "stderr",
     "output_type": "stream",
     "text": [
      "C:\\Users\\Corey\\Anaconda3\\lib\\site-packages\\ipykernel_launcher.py:2: UserWarning: Pandas doesn't allow columns to be created via a new attribute name - see https://pandas.pydata.org/pandas-docs/stable/indexing.html#attribute-access\n",
      "  \n",
      "C:\\Users\\Corey\\Anaconda3\\lib\\site-packages\\ipykernel_launcher.py:3: UserWarning: Pandas doesn't allow columns to be created via a new attribute name - see https://pandas.pydata.org/pandas-docs/stable/indexing.html#attribute-access\n",
      "  This is separate from the ipykernel package so we can avoid doing imports until\n"
     ]
    }
   ],
   "source": [
    "#setting target and features\n",
    "df.target=df['lpsa'] \n",
    "df.features=df.drop(['lpsa'], axis=1)                         \n",
    "print(df.target.shape)\n",
    "print(df.features.shape)"
   ]
  },
  {
   "cell_type": "markdown",
   "metadata": {},
   "source": [
    "## Regression Models"
   ]
  },
  {
   "cell_type": "markdown",
   "metadata": {},
   "source": [
    "### Linear Regression\n",
    "\n",
    "This model is not great, but the Variance score is pretty decent when compared to the other models I ran."
   ]
  },
  {
   "cell_type": "code",
   "execution_count": 19,
   "metadata": {},
   "outputs": [
    {
     "name": "stdout",
     "output_type": "stream",
     "text": [
      "LinearRegression(copy_X=True, fit_intercept=True, n_jobs=1, normalize=True)\n",
      "Coef 0.6693990271843564 [ 0.58702288  0.45446064 -0.01963721  0.10705435  0.76615588 -0.10547357\n",
      "  0.04513596  0.00452532]\n",
      "Mean Squared Error = 0.45528998416790356\n",
      "Linear Regression Score = 0.654753466137644\n",
      "Explained Varience Score 0.654753466137644\n"
     ]
    }
   ],
   "source": [
    "# Linear Regression-Ordinary Least Squares\n",
    "from sklearn.linear_model import LinearRegression\n",
    "from sklearn.metrics import mean_squared_error\n",
    "from sklearn.metrics import explained_variance_score\n",
    "\n",
    "# fit a linear regression model to the data\n",
    "model_LR = LinearRegression(normalize=True)\n",
    "model_LR.fit(df.features, df.target)\n",
    "print(model_LR)\n",
    "# make predictions\n",
    "expected = df.target\n",
    "predicted = model_LR.predict(df.features)\n",
    "# summarize the fit of the model\n",
    "mse = np.mean((predicted-expected)**2)\n",
    "print(\"Coef\", model_LR.intercept_,model_LR.coef_)\n",
    "print(\"Mean Squared Error =\", mse)\n",
    "print(\"Linear Regression Score =\",model_LR.score(df.features, df.target))\n",
    "print(\"Explained Varience Score\", explained_variance_score(expected, predicted))"
   ]
  },
  {
   "cell_type": "markdown",
   "metadata": {},
   "source": [
    "### Linear Regression - Cross Validation\n",
    "\n",
    "The scores are all over the place."
   ]
  },
  {
   "cell_type": "code",
   "execution_count": 22,
   "metadata": {},
   "outputs": [
    {
     "name": "stdout",
     "output_type": "stream",
     "text": [
      "Cross Validation Score for each K [  -4.74619321  -33.83976572  -62.81916498 -116.89996314  -23.72413242\n",
      " -103.13097801 -307.48442218   -6.61868877 -142.00246283   -3.60351046]\n"
     ]
    },
    {
     "data": {
      "text/plain": [
       "-80.48692817089201"
      ]
     },
     "execution_count": 22,
     "metadata": {},
     "output_type": "execute_result"
    }
   ],
   "source": [
    "#verify LR with Cross Validation\n",
    "from sklearn.model_selection  import train_test_split, cross_val_score\n",
    "scores = cross_val_score(model_LR, df.features, df.target, cv=10)\n",
    "print(\"Cross Validation Score for each K\",scores)\n",
    "scores.mean()"
   ]
  },
  {
   "cell_type": "markdown",
   "metadata": {},
   "source": [
    "### Linear Regression - Coefficient Variance\n",
    "\n",
    "As you can see, this model has fairly high coefficient variance.  Using penalties (alphas) in the next models should help with this issue."
   ]
  },
  {
   "cell_type": "code",
   "execution_count": 11,
   "metadata": {},
   "outputs": [
    {
     "data": {
      "image/png": "[encoded data removed]",
      "text/plain": [
       "<matplotlib.figure.Figure at 0x1d27633bcc0>"
      ]
     },
     "metadata": {},
     "output_type": "display_data"
    }
   ],
   "source": [
    "#Showing the variance of the Coefficient for LR\n",
    "import matplotlib.pyplot as plt\n",
    "fig, ax = plt.subplots()\n",
    "plt.plot(model_LR.coef_, label='LR')\n",
    "plt.axhline(linewidth=1, color='r') # for reference\n",
    "legend = ax.legend(loc='lower right', shadow=True)\n",
    "plt.show()"
   ]
  },
  {
   "cell_type": "markdown",
   "metadata": {},
   "source": [
    "### Ridge Regression\n",
    "\n",
    "This model is worse than the Linear Regression, but not by much."
   ]
  },
  {
   "cell_type": "code",
   "execution_count": 12,
   "metadata": {},
   "outputs": [
    {
     "name": "stdout",
     "output_type": "stream",
     "text": [
      "Ridge(alpha=18.75, copy_X=True, fit_intercept=True, max_iter=None,\n",
      "   normalize=False, random_state=None, solver='auto', tol=0.001)\n",
      "Coef 1.4006084102772132 [ 0.50157659  0.25969039 -0.01235839  0.10439739  0.26721734  0.04193077\n",
      "  0.00804262  0.00517783]\n",
      "Mean Squared Error = 0.4980562901742774\n",
      "Ridge Regression Score = 0.6223237632488752\n",
      "Explained Varience Score 0.6223237632488752\n"
     ]
    }
   ],
   "source": [
    "# Ridge Regression\n",
    "from sklearn import datasets\n",
    "from sklearn.linear_model import Ridge\n",
    "# fit a ridge regression model to the data\n",
    "model_rr = Ridge(alpha=18.75)\n",
    "model_rr.fit(df.features, df.target)\n",
    "print(model_rr)\n",
    "# make predictions\n",
    "expected = df.target\n",
    "predicted = model_rr.predict(df.features)\n",
    "# summarize the fit of the model\n",
    "mse = np.mean((predicted-expected)**2)\n",
    "print(\"Coef\", model_rr.intercept_,model_rr.coef_)\n",
    "print(\"Mean Squared Error =\", mse)\n",
    "print(\"Ridge Regression Score =\",model_rr.score(df.features, df.target))\n",
    "print(\"Explained Varience Score\", explained_variance_score(expected, predicted))"
   ]
  },
  {
   "cell_type": "markdown",
   "metadata": {},
   "source": [
    "### Ridge Regression- Grid Search and Cross Validation\n",
    "\n",
    "This Grid Search helps tune the model by cross validating with various alphas in place.  As you can see in the code below, I left in and commented out the multiple steps I took to fine tune the model, which showed the best alpha as 18.75."
   ]
  },
  {
   "cell_type": "code",
   "execution_count": 18,
   "metadata": {},
   "outputs": [
    {
     "name": "stdout",
     "output_type": "stream",
     "text": [
      "Grid Scores {'mean_fit_time': array([0.02376246, 0.00501618, 0.00371165, 0.00370994, 0.00230641]), 'std_fit_time': array([0.01337951, 0.00217286, 0.00112467, 0.00194508, 0.00024602]), 'mean_score_time': array([0.00080276, 0.00120182, 0.00059934, 0.00080109, 0.00090199]), 'std_score_time': array([0.00024577, 0.00068055, 0.0001972 , 0.00024616, 0.00037475]), 'param_alpha': masked_array(data=[18.5, 18.75, 19, 19.5, 19.75],\n",
      "             mask=[False, False, False, False, False],\n",
      "       fill_value='?',\n",
      "            dtype=object), 'params': [{'alpha': 18.5}, {'alpha': 18.75}, {'alpha': 19}, {'alpha': 19.5}, {'alpha': 19.75}], 'split0_test_score': array([-3.65043122, -3.65981087, -3.66913897, -3.68764242, -3.69681872]), 'split1_test_score': array([-14.40095379, -14.38133146, -14.3619216 , -14.32371282,\n",
      "       -14.3049015 ]), 'split2_test_score': array([-12.03125705, -12.03286757, -12.03457218, -12.03824849,\n",
      "       -12.04021302]), 'split3_test_score': array([-13.6736313 , -13.67480458, -13.67596883, -13.67826567,\n",
      "       -13.67939624]), 'split4_test_score': array([-3.83348257, -3.84129743, -3.8490596 , -3.86442956, -3.87203913]), 'mean_test_score': array([-9.50780152, -9.50776566, -9.50776931, -9.50788696, -9.50799715]), 'std_test_score': array([4.79208097, 4.7841442 , 4.77629528, 4.76085098, 4.75325089]), 'rank_test_score': array([3, 1, 2, 4, 5]), 'split0_train_score': array([0.47812008, 0.47744894, 0.47678172, 0.47545884, 0.47480309]), 'split1_train_score': array([0.68606694, 0.68556161, 0.6850587 , 0.6840599 , 0.68356394]), 'split2_train_score': array([0.66295888, 0.66250225, 0.66204779, 0.66114525, 0.66069712]), 'split3_train_score': array([0.6617078 , 0.66128456, 0.66086311, 0.66002539, 0.65960905]), 'split4_train_score': array([0.5225535 , 0.52202164, 0.52149191, 0.5204388 , 0.5199154 ]), 'mean_train_score': array([0.60228144, 0.6017638 , 0.60124864, 0.60022563, 0.59971772]), 'std_train_score': array([0.0848597 , 0.08493168, 0.08500317, 0.08514469, 0.08521469])}\n",
      "Best {'alpha': 18.75}\n"
     ]
    }
   ],
   "source": [
    "# use a full grid over several parameters and cross validate 5 times\n",
    "from sklearn.model_selection import GridSearchCV\n",
    "#param_grid = {\"alpha\": [.01, .1, 1, 2, 5]}\n",
    "#param_grid = {\"alpha\": [5, 6, 7, 8, 9]}\n",
    "#param_grid = {\"alpha\": [9, 10, 12, 15, 20]}\n",
    "#param_grid = {\"alpha\": [20, 25, 30, 40, 50]}\n",
    "#param_grid = {\"alpha\": [18, 19, 20, 21, 22]}\n",
    "param_grid = {\"alpha\": [18.5, 18.75, 19, 19.5, 19.75]}\n",
    "# run grid search\n",
    "grid_search = GridSearchCV(model_rr, param_grid=param_grid,n_jobs=-1,cv=5)\n",
    "grid_search.fit(df.features, df.target)\n",
    "print(\"Grid Scores\", grid_search.cv_results_)\n",
    "print(\"Best\", grid_search.best_params_)   "
   ]
  },
  {
   "cell_type": "markdown",
   "metadata": {},
   "source": [
    "### Ridge Regression - Coefficient Variance\n",
    "\n",
    "This graph shows that the tuned alpha lowered the coefficient varience."
   ]
  },
  {
   "cell_type": "code",
   "execution_count": 13,
   "metadata": {},
   "outputs": [
    {
     "data": {
      "image/png": "[encoded data removed]",
      "text/plain": [
       "<matplotlib.figure.Figure at 0x1d27633b940>"
      ]
     },
     "metadata": {},
     "output_type": "display_data"
    }
   ],
   "source": [
    "fig, ax = plt.subplots()\n",
    "plt.plot(model_LR.coef_, label='LR')\n",
    "plt.plot(model_rr.coef_, label='Ridge')\n",
    "plt.axhline(linewidth=1, color='r') # for reference\n",
    "legend = ax.legend(loc='lower right', shadow=True)\n",
    "plt.show()"
   ]
  },
  {
   "cell_type": "markdown",
   "metadata": {},
   "source": [
    "### Lasso Regression\n",
    "\n",
    "This model did not perform as well as the Ridge Regression."
   ]
  },
  {
   "cell_type": "code",
   "execution_count": 14,
   "metadata": {},
   "outputs": [
    {
     "name": "stdout",
     "output_type": "stream",
     "text": [
      "Lasso(alpha=0.21, copy_X=True, fit_intercept=True, max_iter=1000,\n",
      "   normalize=False, positive=False, precompute=False, random_state=None,\n",
      "   selection='cyclic', tol=0.0001, warm_start=False)\n",
      "Coef 1.6270564559096594 [ 0.48050171  0.         -0.          0.01902194  0.          0.\n",
      "  0.          0.00823329]\n",
      "Mean Squared Error = 0.6192191057358084\n",
      "Lasso Regression Score = 0.5304459632527391\n",
      "Explained Varience Score 0.5304459632527391\n"
     ]
    }
   ],
   "source": [
    "# Lasso Regression\n",
    "# fit a LASSO model to the data\n",
    "from sklearn.linear_model import Lasso\n",
    "model_lr = Lasso(alpha=.21)\n",
    "model_lr.fit(df.features, df.target)\n",
    "print(model_lr)\n",
    "# make predictions\n",
    "expected = df.target\n",
    "predicted = model_lr.predict(df.features)\n",
    "# summarize the fit of the model\n",
    "mse = np.mean((predicted-expected)**2)\n",
    "print(\"Coef\", model_lr.intercept_,model_lr.coef_)\n",
    "print(\"Mean Squared Error =\", mse)\n",
    "print(\"Lasso Regression Score =\",model_lr.score(df.features, df.target))\n",
    "print(\"Explained Varience Score\", explained_variance_score(expected, predicted))"
   ]
  },
  {
   "cell_type": "markdown",
   "metadata": {},
   "source": [
    "### Lasso Regression- Grid Search and Cross Validation\n",
    "\n",
    "Again, I left in the various rounds of tuning in this grid search, which landed on .21."
   ]
  },
  {
   "cell_type": "code",
   "execution_count": 27,
   "metadata": {},
   "outputs": [
    {
     "name": "stdout",
     "output_type": "stream",
     "text": [
      "Grid Scores {'mean_fit_time': array([0.00701833, 0.00240803, 0.00200562, 0.00220313, 0.002005  ]), 'std_fit_time': array([2.90584764e-03, 8.02185831e-04, 6.37857707e-06, 4.01803730e-04,\n",
      "       8.99694551e-07]), 'mean_score_time': array([0.00080376, 0.00100045, 0.00060406, 0.0006011 , 0.00080209]), 'std_score_time': array([4.01890210e-04, 5.23088407e-06, 4.93237683e-04, 4.90797334e-04,\n",
      "       4.01044441e-04]), 'param_alpha': masked_array(data=[0.18, 0.19, 0.2, 0.21, 0.22],\n",
      "             mask=[False, False, False, False, False],\n",
      "       fill_value='?',\n",
      "            dtype=object), 'params': [{'alpha': 0.18}, {'alpha': 0.19}, {'alpha': 0.2}, {'alpha': 0.21}, {'alpha': 0.22}], 'split0_test_score': array([-4.48927181, -4.57538325, -4.66293124, -4.75191556, -4.84233621]), 'split1_test_score': array([-12.14096653, -11.98511742, -11.83674187, -11.69527363,\n",
      "       -11.55976273]), 'split2_test_score': array([-10.30706457, -10.26735403, -10.2358602 , -10.23950285,\n",
      "       -10.28497695]), 'split3_test_score': array([-13.5011523 , -13.4065606 , -13.31971388, -13.24060533,\n",
      "       -13.1693281 ]), 'split4_test_score': array([-4.80492197, -4.89889877, -4.99394777, -5.090069  , -5.18726243]), 'mean_test_score': array([-9.03355056, -9.01127286, -8.99416884, -8.9873933 , -8.99208001]), 'std_test_score': array([3.73879015, 3.64503298, 3.55461226, 3.46934376, 3.3898304 ]), 'rank_test_score': array([5, 4, 3, 1, 2]), 'split0_train_score': array([0.37776005, 0.37210347, 0.36614114, 0.35987307, 0.35329927]), 'split1_train_score': array([0.61489496, 0.61108051, 0.60705842, 0.60326958, 0.5996011 ]), 'split2_train_score': array([0.5943856 , 0.59146607, 0.58838858, 0.58507546, 0.58151088]), 'split3_train_score': array([0.60391636, 0.60010939, 0.59609662, 0.59187805, 0.58745381]), 'split4_train_score': array([0.41491217, 0.40787696, 0.40046146, 0.39266568, 0.38448961]), 'mean_train_score': array([0.52117383, 0.51652728, 0.51162924, 0.50655237, 0.50127093]), 'std_train_score': array([0.10280952, 0.10412035, 0.10550689, 0.1070379 , 0.10869062])}\n",
      "Best {'alpha': 0.21}\n"
     ]
    }
   ],
   "source": [
    "# use a full grid over several parameters and cross validate 5 times\n",
    "#param_grid = {\"alpha\": [.01, .1, 1, 2, 5]}\n",
    "#param_grid = {\"alpha\": [.025, .05, .1, .25, .5]}\n",
    "#param_grid = {\"alpha\": [.2, .225, .25, .3, .4]}\n",
    "param_grid = {\"alpha\": [.18, .19, .2, .21, .22]}\n",
    "\n",
    "# run grid search\n",
    "grid_search = GridSearchCV(model_lr, param_grid=param_grid,n_jobs=-1,cv=5)\n",
    "grid_search.fit(df.features, df.target)\n",
    "print(\"Grid Scores\", grid_search.cv_results_)\n",
    "print(\"Best\", grid_search.best_params_)  "
   ]
  },
  {
   "cell_type": "markdown",
   "metadata": {},
   "source": [
    "### Lasso Regression - Coefficient Variance\n",
    "\n",
    "The coefficient variance is lower than that of the Ridge model, but it doesn't seem to have helped it beat out that model."
   ]
  },
  {
   "cell_type": "code",
   "execution_count": 29,
   "metadata": {},
   "outputs": [
    {
     "data": {
      "image/png": "[encoded data removed]",
      "text/plain": [
       "<matplotlib.figure.Figure at 0x1db1283bb00>"
      ]
     },
     "metadata": {},
     "output_type": "display_data"
    }
   ],
   "source": [
    "fig, ax = plt.subplots()\n",
    "plt.plot(model_LR.coef_, label='LR')\n",
    "plt.plot(model_rr.coef_, label='Ridge')\n",
    "plt.plot(model_lr.coef_, label='Lasso')\n",
    "plt.axhline(linewidth=1, color='r') # for reference\n",
    "legend = ax.legend(loc='lower right', shadow=True)\n",
    "plt.show()"
   ]
  },
  {
   "cell_type": "markdown",
   "metadata": {},
   "source": [
    "### Elastic Net Regression\n",
    "\n",
    "This model actually did worse than the Lasso Model."
   ]
  },
  {
   "cell_type": "code",
   "execution_count": 15,
   "metadata": {},
   "outputs": [
    {
     "name": "stdout",
     "output_type": "stream",
     "text": [
      "ElasticNet(alpha=0.375, copy_X=True, fit_intercept=True, l1_ratio=0.5,\n",
      "      max_iter=1000, normalize=False, positive=False, precompute=False,\n",
      "      random_state=None, selection='cyclic', tol=0.0001, warm_start=False)\n",
      "Coef 1.673687089494106 [ 0.42842992  0.         -0.          0.02710884  0.          0.\n",
      "  0.          0.00917069]\n",
      "Mean Squared Error = 0.6404705831409897\n",
      "ElasticNet Regression Score = 0.5143309614544846\n",
      "Explained Varience Score 0.5143309614544846\n"
     ]
    }
   ],
   "source": [
    "# ElasticNet Regression\n",
    "# fit a ElasticNet model to the data\n",
    "from sklearn.linear_model import ElasticNet\n",
    "model_en = ElasticNet(alpha=.375)\n",
    "model_en.fit(df.features, df.target)\n",
    "print(model_en)\n",
    "# make predictions\n",
    "expected = df.target\n",
    "predicted = model_en.predict(df.features)\n",
    "# summarize the fit of the model\n",
    "mse = np.mean((predicted-expected)**2)\n",
    "print(\"Coef\", model_en.intercept_,model_en.coef_)\n",
    "print(\"Mean Squared Error =\", mse)\n",
    "print(\"ElasticNet Regression Score =\",model_en.score(df.features, df.target))\n",
    "print(\"Explained Varience Score\", explained_variance_score(expected, predicted))"
   ]
  },
  {
   "cell_type": "markdown",
   "metadata": {},
   "source": [
    "### Elastic Net Regression- Grid Search and Cross Validation\n",
    "\n",
    "4 Rounds of grid searching and the best alpha ended up being 0.375"
   ]
  },
  {
   "cell_type": "code",
   "execution_count": 36,
   "metadata": {},
   "outputs": [
    {
     "name": "stdout",
     "output_type": "stream",
     "text": [
      "Grid Scores {'mean_fit_time': array([0.00801506, 0.0027102 , 0.00260663, 0.00200582, 0.0021029 ]), 'std_fit_time': array([0.0040752 , 0.00075551, 0.00073676, 0.00031711, 0.00049219]), 'mean_score_time': array([0.00090284, 0.00110898, 0.00080419, 0.00060177, 0.0003046 ]), 'std_score_time': array([0.0002012 , 0.00097541, 0.00024728, 0.00020015, 0.00024871]), 'param_alpha': masked_array(data=[0.35, 0.375, 0.4, 0.425, 0.45],\n",
      "             mask=[False, False, False, False, False],\n",
      "       fill_value='?',\n",
      "            dtype=object), 'params': [{'alpha': 0.35}, {'alpha': 0.375}, {'alpha': 0.4}, {'alpha': 0.425}, {'alpha': 0.45}], 'split0_test_score': array([-4.92017366, -5.04250141, -5.16431731, -5.28558302, -5.40720296]), 'split1_test_score': array([-11.7004813 , -11.4714401 , -11.26331339, -11.07538594,\n",
      "       -10.90696634]), 'split2_test_score': array([-10.27532705, -10.34304219, -10.42993133, -10.5423815 ,\n",
      "       -10.6758678 ]), 'split3_test_score': array([-13.26238034, -13.14660315, -13.0446138 , -12.95584756,\n",
      "       -12.87976606]), 'split4_test_score': array([-5.15581134, -5.2795407 , -5.4019157 , -5.52292773, -5.64254805]), 'mean_test_score': array([-9.04731913, -9.04013778, -9.04335433, -9.05795215, -9.08297776]), 'std_test_score': array([3.42128714, 3.30447682, 3.19820366, 3.10302974, 3.0184395 ]), 'rank_test_score': array([3, 1, 2, 4, 5]), 'split0_train_score': array([0.35032804, 0.34076071, 0.33082555, 0.32054403, 0.31011203]), 'split1_train_score': array([0.59595498, 0.58925514, 0.58223919, 0.57492149, 0.56731575]), 'split2_train_score': array([0.57613594, 0.57003834, 0.56365943, 0.55718396, 0.55061259]), 'split3_train_score': array([0.58437959, 0.57735767, 0.5700154 , 0.56236784, 0.5544293 ]), 'split4_train_score': array([0.39575022, 0.3856426 , 0.37515258, 0.36430697, 0.35313133]), 'mean_train_score': array([0.50050975, 0.49261089, 0.48437843, 0.47586486, 0.4671202 ]), 'std_train_score': array([0.10525433, 0.10678748, 0.10835559, 0.10997954, 0.11160469])}\n",
      "Best {'alpha': 0.375}\n"
     ]
    }
   ],
   "source": [
    "# use a full grid over several parameters and cross validate 5 times\n",
    "#param_grid = {\"alpha\": [.01, .1, 1, 2, 5]}\n",
    "#param_grid = {\"alpha\": [.025, .05, .1, .25, .5]}\n",
    "#param_grid = {\"alpha\": [.3, .4, .5, .6, .7]}\n",
    "param_grid = {\"alpha\": [.35, .375, .4, .425, .45]}\n",
    "\n",
    "# run grid search\n",
    "grid_search = GridSearchCV(model_en, param_grid=param_grid,n_jobs=-1,cv=5)\n",
    "grid_search.fit(df.features, df.target)\n",
    "print(\"Grid Scores\", grid_search.cv_results_)\n",
    "print(\"Best\", grid_search.best_params_) "
   ]
  },
  {
   "cell_type": "markdown",
   "metadata": {},
   "source": [
    "### Elastic Net Regression - Coefficient Variance\n",
    "\n",
    "Based on this, the coefficient variance is very similar to that of the Lasso Model."
   ]
  },
  {
   "cell_type": "code",
   "execution_count": 16,
   "metadata": {},
   "outputs": [
    {
     "data": {
      "image/png": "[encoded data removed]",
      "text/plain": [
       "<matplotlib.figure.Figure at 0x1d276504940>"
      ]
     },
     "metadata": {},
     "output_type": "display_data"
    }
   ],
   "source": [
    "fig, ax = plt.subplots()\n",
    "plt.plot(model_LR.coef_, label='LR')\n",
    "plt.plot(model_rr.coef_, label='Ridge')\n",
    "plt.plot(model_lr.coef_, label='Lasso')\n",
    "plt.plot(model_en.coef_, label='E-Net')\n",
    "plt.axhline(linewidth=1, color='g') # for reference\n",
    "legend = ax.legend(loc='lower right', shadow=True)\n",
    "plt.show()"
   ]
  },
  {
   "cell_type": "markdown",
   "metadata": {},
   "source": [
    "### Lasso Lars Regression\n",
    "\n",
    "The worst model of the bunch."
   ]
  },
  {
   "cell_type": "code",
   "execution_count": 17,
   "metadata": {},
   "outputs": [
    {
     "name": "stdout",
     "output_type": "stream",
     "text": [
      "LassoLars(alpha=0.04, copy_X=True, eps=2.220446049250313e-16,\n",
      "     fit_intercept=True, fit_path=True, max_iter=500, normalize=True,\n",
      "     positive=False, precompute='auto', verbose=False)\n",
      "Coef 1.9627601065858298 [0.37422101 0.         0.         0.         0.04815277 0.\n",
      " 0.         0.        ]\n",
      "Mean Squared Error = 0.7550838980398128\n",
      "ElasticNet Regression Score = 0.42741964980854097\n",
      "Explained Varience Score 0.4274196498085411\n"
     ]
    }
   ],
   "source": [
    "# Lasso Lars Regression\n",
    "from sklearn import linear_model\n",
    "model_ll = linear_model.LassoLars(alpha=.04)\n",
    "model_ll.fit(df.features, df.target)\n",
    "print(model_ll)\n",
    "# make predictions\n",
    "expected = df.target\n",
    "predicted = model_ll.predict(df.features)\n",
    "# summarize the fit of the model\n",
    "mse = np.mean((predicted-expected)**2)\n",
    "print(\"Coef\", model_ll.intercept_,model_ll.coef_)\n",
    "print(\"Mean Squared Error =\", mse)\n",
    "print(\"ElasticNet Regression Score =\",model_ll.score(df.features, df.target))\n",
    "print(\"Explained Varience Score\", explained_variance_score(expected, predicted))"
   ]
  },
  {
   "cell_type": "markdown",
   "metadata": {},
   "source": [
    "### Lasso Lars Regression- Grid Search and Cross Validation\n",
    "\n",
    "Four rounds of searching and cross validation landed on 0.04."
   ]
  },
  {
   "cell_type": "code",
   "execution_count": 43,
   "metadata": {},
   "outputs": [
    {
     "name": "stdout",
     "output_type": "stream",
     "text": [
      "Grid Scores {'mean_fit_time': array([0.02446418, 0.00391097, 0.00481281, 0.00431499, 0.00291066]), 'std_fit_time': array([0.00771518, 0.00111662, 0.00136728, 0.00081225, 0.00020152]), 'mean_score_time': array([0.00090098, 0.00060186, 0.00080228, 0.00090289, 0.0005991 ]), 'std_score_time': array([0.00037621, 0.00020022, 0.00024538, 0.00036793, 0.00020188]), 'param_alpha': masked_array(data=[0.035, 0.0375, 0.04, 0.0425, 0.045],\n",
      "             mask=[False, False, False, False, False],\n",
      "       fill_value='?',\n",
      "            dtype=object), 'params': [{'alpha': 0.035}, {'alpha': 0.0375}, {'alpha': 0.04}, {'alpha': 0.0425}, {'alpha': 0.045}], 'split0_test_score': array([-6.21564222, -6.45806555, -6.70580472, -6.95885974, -7.21723059]), 'split1_test_score': array([-9.1217053 , -9.04288721, -9.03796672, -9.10694383, -9.24174301]), 'split2_test_score': array([-6.78270519, -6.42807799, -6.03937985, -5.62334892, -5.22389987]), 'split3_test_score': array([-8.26370894, -8.03890101, -7.85234372, -7.70403706, -7.59398104]), 'split4_test_score': array([-5.82511858, -6.0773468 , -6.33549745, -6.59804764, -6.86610337]), 'mean_test_score': array([-7.25057806, -7.22021902, -7.20817142, -7.21545681, -7.24922859]), 'std_test_score': array([1.25883432, 1.14663897, 1.11373664, 1.17012132, 1.29394732]), 'rank_test_score': array([5, 3, 1, 2, 4]), 'split0_train_score': array([0.33464439, 0.3103582 , 0.2843971 , 0.25676109, 0.22745018]), 'split1_train_score': array([0.57718721, 0.55986941, 0.54135729, 0.52165083, 0.50094849]), 'split2_train_score': array([0.56464175, 0.54790956, 0.53349795, 0.52084627, 0.50742782]), 'split3_train_score': array([0.55463745, 0.54300509, 0.53057049, 0.51733366, 0.5032946 ]), 'split4_train_score': array([0.28087392, 0.24898441, 0.21931969, 0.1984978 , 0.17641398]), 'mean_train_score': array([0.46239694, 0.44202533, 0.4218285 , 0.40301793, 0.38310701]), 'std_train_score': array([0.12760129, 0.13408702, 0.14034189, 0.14439177, 0.14882096])}\n",
      "Best {'alpha': 0.04}\n"
     ]
    }
   ],
   "source": [
    "# use a full grid over several parameters and cross validate 5 times\n",
    "#param_grid = {\"alpha\": [.01, .1, 1, 2, 5]}\n",
    "#param_grid = {\"alpha\": [.025, .05, .1, .25, .5]}\n",
    "#param_grid = {\"alpha\": [.03, .04, .05, .06, .07]}\n",
    "param_grid = {\"alpha\": [.035, .0375, .04, .0425, .045]}\n",
    "# run grid search\n",
    "grid_search = GridSearchCV(model_ll, param_grid=param_grid,n_jobs=-1,cv=5)\n",
    "grid_search.fit(df.features, df.target)\n",
    "print(\"Grid Scores\", grid_search.cv_results_)\n",
    "print(\"Best\", grid_search.best_params_) "
   ]
  },
  {
   "cell_type": "markdown",
   "metadata": {},
   "source": [
    "### Lasso Lars Regression - Coefficient Variance\n",
    "\n",
    "The coefficient variance was similar to that of Lasso and Elastic Net."
   ]
  },
  {
   "cell_type": "code",
   "execution_count": 18,
   "metadata": {},
   "outputs": [
    {
     "data": {
      "image/png": "[encoded data removed]",
      "text/plain": [
       "<matplotlib.figure.Figure at 0x1d277ae7390>"
      ]
     },
     "metadata": {},
     "output_type": "display_data"
    }
   ],
   "source": [
    "fig, ax = plt.subplots()\n",
    "plt.plot(model_LR.coef_, label='LR')\n",
    "plt.plot(model_rr.coef_, label='Ridge')\n",
    "plt.plot(model_lr.coef_, label='Lasso')\n",
    "plt.plot(model_en.coef_, label='E-Net')\n",
    "plt.plot(model_ll.coef_, label='Lasso Lars')\n",
    "plt.axhline(linewidth=1, color='g') # for reference\n",
    "legend = ax.legend(loc='lower right', shadow=True)\n",
    "plt.show()"
   ]
  },
  {
   "cell_type": "markdown",
   "metadata": {},
   "source": [
    "## Final Comments\n",
    "\n",
    "The Linear Regression Model turned out to be the best model.  However, none of them were \"great\".  The Mean Squared Error was 0.455 and the model score was 0.655."
   ]
  }
 ],
 "metadata": {
  "kernelspec": {
   "display_name": "Python 3",
   "language": "python",
   "name": "python3"
  },
  "language_info": {
   "codemirror_mode": {
    "name": "ipython",
    "version": 3
   },
   "file_extension": ".py",
   "mimetype": "text/x-python",
   "name": "python",
   "nbconvert_exporter": "python",
   "pygments_lexer": "ipython3",
   "version": "3.6.4"
  }
 },
 "nbformat": 4,
 "nbformat_minor": 2
}
