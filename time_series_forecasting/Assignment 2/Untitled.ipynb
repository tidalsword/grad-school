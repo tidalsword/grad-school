{
 "cells": [
  {
   "cell_type": "code",
   "execution_count": null,
   "metadata": {},
   "outputs": [],
   "source": [
    "jt -t chesterish"
   ]
  },
  {
   "cell_type": "markdown",
   "metadata": {},
   "source": [
    "1.\tFor this exercise, use the price of a dozen eggs in the United States from 1900–1993 (data set ‘eggs’ ). \n",
    "\n",
    "a.\tExperiment with the various options in the holt() function to see how much the forecasts change with damped or exponential trend. Try changing the parameter values for α and β to see how they affect the forecasts. You should do at least 5 forecasts. (5)\n",
    "\n",
    "b.\tTry to develop an intuition of what each parameter and argument is doing to the forecasts. [Hint: use h=100 when calling holt() so you can clearly see the differences between the various options when plotting the forecasts.] How would you explain that intuition? (3)\n",
    "\n",
    "c.\tWhich model gives the best RMSE? (2)\n"
   ]
  },
  {
   "cell_type": "code",
   "execution_count": null,
   "metadata": {},
   "outputs": [],
   "source": [
    "onedork | grade3 | oceans16 | chesterish | monokai | solarizedl | solarizedd"
   ]
  },
  {
   "cell_type": "markdown",
   "metadata": {},
   "source": [
    "2.\tFor this exercise, use the quarterly UK passenger vehicle production data from 1977:1–2005:1. (Data set ukcars.) \n",
    "\n",
    "a.\tPlot your data and describe the main features of the series. (2)\n",
    "\n",
    "b.\tDecompose the series using STL and obtain the seasonally adjusted data.  (1)\n",
    "\n",
    "c.\tForecast the next two years of the series using Holt’s linear trend method applied to the seasonally adjusted data. (2)\n",
    "\n",
    "d.\tWhat are the parameters of the method? What do they tell you about how quickly the slope and level are changing over time? (3)\n",
    "\n",
    "e.\tReseasonalize the forecasts using the following code where decomp is the output from stl() and fit is the output from holt():  (2)\n",
    "lastyear <- rep(decomp$time.series[110:113,\"seasonal\"],2) fc <- fit$mean + lastyear \n",
    "f.\tDo the re-seasonalized forecasts look reasonable? Why or why not? (2)\n",
    "\n",
    "g.\tUse ets() to choose a seasonal model for the data.  How would you explain the results? (3)\n",
    "\n",
    "h.\tApply both an X11 and a SEATS model using a two year horizon. \n",
    "\n",
    "i.\tCompare the RMSE of the fitted model with the RMSE of the model above. Which gives the better in-sample fits?  How would you explain that? (3)\n",
    "\n",
    "j.\tNow compare the forecasts from the above approaches? Which seems most reasonable? Why? (2)\n"
   ]
  },
  {
   "cell_type": "code",
   "execution_count": null,
   "metadata": {},
   "outputs": [],
   "source": []
  },
  {
   "cell_type": "markdown",
   "metadata": {},
   "source": [
    "3.\tFor this exercise, use the monthly Australian short-term overseas visitors data, May 1985–April 2005. (Data set: visitors.) \n",
    "\n",
    "a.\tMake a time plot of your data and describe the main features of the series. (2)\n",
    "\n",
    "b.\tForecast the next two years using Holt-Winters’ multiplicative method. Why is multiplicative seasonality necessary here?  (2)\n",
    "\n",
    "c.\tExperiment with making the trend exponential and/or damped, investigating at least two alternatives. Why did you choose the options you did? (3)\n",
    "\n",
    "d.\tCompare the RMSE of the one-step forecasts from the various methods. Which do you prefer?  Why? (2)\n",
    "\n",
    "e.\tNow use the ets() function to select a model automatically. Does it choose the same model you did? How would you explain that? (3)\n"
   ]
  },
  {
   "cell_type": "code",
   "execution_count": null,
   "metadata": {},
   "outputs": [],
   "source": []
  },
  {
   "cell_type": "markdown",
   "metadata": {},
   "source": [
    "4.\tUsing the attached data Alcohol demand (log spirits consumption per head), UK, 1870-1938, perform a standard TS EDA. That includes:\n",
    "\n",
    "a)\tPlot the raw time series and comment.\n",
    "\n",
    "b)\tRun a decompose function. Describe. The components you see. \n",
    "\n",
    "c)\tTest for normality using the Jaques-Berra test as well as a qqlot.\n",
    "\n",
    "d)\tIf not normal (ND)- transform using a Box-Cox (see the code in Week 3-4 code). \n",
    "\n",
    "e)\tRun and check the ACF (and comment) lag structure. \n",
    "\n",
    "f)\tRun the LJUNG-BOX test for auto-correlation and 3 lags and 6 lags. Comment.\n",
    "\n",
    "*For #c and #f- write out the hypothesis test you are running (null and alternative) and give a proper statistical interpretation. \n"
   ]
  },
  {
   "cell_type": "code",
   "execution_count": null,
   "metadata": {},
   "outputs": [],
   "source": []
  }
 ],
 "metadata": {
  "kernelspec": {
   "display_name": "R",
   "language": "R",
   "name": "ir"
  }
 },
 "nbformat": 4,
 "nbformat_minor": 2
}
