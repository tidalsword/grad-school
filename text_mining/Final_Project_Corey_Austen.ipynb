{
 "cells": [
  {
   "cell_type": "code",
   "execution_count": 1,
   "metadata": {},
   "outputs": [],
   "source": [
    "import pandas as pd\n",
    "import numpy as np\n",
    "from sklearn.feature_extraction.text import CountVectorizer, TfidfVectorizer\n",
    "from sklearn.metrics.pairwise import euclidean_distances, cosine_similarity\n",
    "import warnings\n",
    "import warnings\n",
    "warnings.filterwarnings(\"ignore\", category=DeprecationWarning) \n",
    "# Suppress warnings from pandas library\n",
    "\n",
    "import nltk\n",
    "pathname = \"/Users/Corey/Google Drive/Corey - School/Spring 2018 A/BIA 6304 - Text Mining/HW_Final/\" #where to get/put files\n",
    "pd.set_option('display.max_colwidth', 150000) #important for getting all the text"
   ]
  },
  {
   "cell_type": "code",
   "execution_count": 2,
   "metadata": {},
   "outputs": [],
   "source": [
    "instagramdf = pd.read_csv(pathname + \"Instagramtext.csv\", index_col = \"index\") "
   ]
  },
  {
   "cell_type": "code",
   "execution_count": 3,
   "metadata": {},
   "outputs": [],
   "source": [
    "instagramtext = instagramdf[\"text\"].astype(str).values.tolist()\n",
    "se = pd.Series(instagramtext)\n",
    "instagramdf['text'] = se.values"
   ]
  },
  {
   "cell_type": "code",
   "execution_count": 4,
   "metadata": {},
   "outputs": [],
   "source": [
    "#Removing emojis\n",
    "import re\n",
    "try:\n",
    "    # UCS-4\n",
    "    highpoints = re.compile(u'([\\U00002600-\\U000027BF])|([\\U0001f300-\\U0001f64F])|([\\U0001f680-\\U0001f6FF])')\n",
    "except re.error:\n",
    "    # UCS-2\n",
    "    highpoints = re.compile(u'([\\u2600-\\u27BF])|([\\uD83C][\\uDF00-\\uDFFF])|([\\uD83D][\\uDC00-\\uDE4F])|([\\uD83D][\\uDE80-\\uDEFF])')\n",
    "\n",
    "#This Removes all hashtags    \n",
    "decode_text = re.compile(u'(?<!&)#(\\w|(?:[\\xA9\\xAE\\u203C\\u2049\\u2122\\u2139\\u2194-\\u2199\\u21A9\\u21AA\\u231A\\u231B\\u2328\\u2388\\u23CF\\u23E9-\\u23F3\\u23F8-\\u23FA\\u24C2\\u25AA\\u25AB\\u25B6\\u25C0\\u25FB-\\u25FE\\u2600-\\u2604\\u260E\\u2611\\u2614\\u2615\\u2618\\u261D\\u2620\\u2622\\u2623\\u2626\\u262A\\u262E\\u262F\\u2638-\\u263A\\u2648-\\u2653\\u2660\\u2663\\u2665\\u2666\\u2668\\u267B\\u267F\\u2692-\\u2694\\u2696\\u2697\\u2699\\u269B\\u269C\\u26A0\\u26A1\\u26AA\\u26AB\\u26B0\\u26B1\\u26BD\\u26BE\\u26C4\\u26C5\\u26C8\\u26CE\\u26CF\\u26D1\\u26D3\\u26D4\\u26E9\\u26EA\\u26F0-\\u26F5\\u26F7-\\u26FA\\u26FD\\u2702\\u2705\\u2708-\\u270D\\u270F\\u2712\\u2714\\u2716\\u271D\\u2721\\u2728\\u2733\\u2734\\u2744\\u2747\\u274C\\u274E\\u2753-\\u2755\\u2757\\u2763\\u2764\\u2795-\\u2797\\u27A1\\u27B0\\u27BF\\u2934\\u2935\\u2B05-\\u2B07\\u2B1B\\u2B1C\\u2B50\\u2B55\\u3030\\u303D\\u3297\\u3299]|\\uD83C[\\uDC04\\uDCCF\\uDD70\\uDD71\\uDD7E\\uDD7F\\uDD8E\\uDD91-\\uDD9A\\uDE01\\uDE02\\uDE1A\\uDE2F\\uDE32-\\uDE3A\\uDE50\\uDE51\\uDF00-\\uDF21\\uDF24-\\uDF93\\uDF96\\uDF97\\uDF99-\\uDF9B\\uDF9E-\\uDFF0\\uDFF3-\\uDFF5\\uDFF7-\\uDFFF]|\\uD83D[\\uDC00-\\uDCFD\\uDCFF-\\uDD3D\\uDD49-\\uDD4E\\uDD50-\\uDD67\\uDD6F\\uDD70\\uDD73-\\uDD79\\uDD87\\uDD8A-\\uDD8D\\uDD90\\uDD95\\uDD96\\uDDA5\\uDDA8\\uDDB1\\uDDB2\\uDDBC\\uDDC2-\\uDDC4\\uDDD1-\\uDDD3\\uDDDC-\\uDDDE\\uDDE1\\uDDE3\\uDDEF\\uDDF3\\uDDFA-\\uDE4F\\uDE80-\\uDEC5\\uDECB-\\uDED0\\uDEE0-\\uDEE5\\uDEE9\\uDEEB\\uDEEC\\uDEF0\\uDEF3]|\\uD83E[\\uDD10-\\uDD18\\uDD80-\\uDD84\\uDDC0]|(?:0\\u20E3|1\\u20E3|2\\u20E3|3\\u20E3|4\\u20E3|5\\u20E3|6\\u20E3|7\\u20E3|8\\u20E3|9\\u20E3|#\\u20E3|\\\\*\\u20E3|\\uD83C(?:\\uDDE6\\uD83C(?:\\uDDEB|\\uDDFD|\\uDDF1|\\uDDF8|\\uDDE9|\\uDDF4|\\uDDEE|\\uDDF6|\\uDDEC|\\uDDF7|\\uDDF2|\\uDDFC|\\uDDE8|\\uDDFA|\\uDDF9|\\uDDFF|\\uDDEA)|\\uDDE7\\uD83C(?:\\uDDF8|\\uDDED|\\uDDE9|\\uDDE7|\\uDDFE|\\uDDEA|\\uDDFF|\\uDDEF|\\uDDF2|\\uDDF9|\\uDDF4|\\uDDE6|\\uDDFC|\\uDDFB|\\uDDF7|\\uDDF3|\\uDDEC|\\uDDEB|\\uDDEE|\\uDDF6|\\uDDF1)|\\uDDE8\\uD83C(?:\\uDDF2|\\uDDE6|\\uDDFB|\\uDDEB|\\uDDF1|\\uDDF3|\\uDDFD|\\uDDF5|\\uDDE8|\\uDDF4|\\uDDEC|\\uDDE9|\\uDDF0|\\uDDF7|\\uDDEE|\\uDDFA|\\uDDFC|\\uDDFE|\\uDDFF|\\uDDED)|\\uDDE9\\uD83C(?:\\uDDFF|\\uDDF0|\\uDDEC|\\uDDEF|\\uDDF2|\\uDDF4|\\uDDEA)|\\uDDEA\\uD83C(?:\\uDDE6|\\uDDE8|\\uDDEC|\\uDDF7|\\uDDEA|\\uDDF9|\\uDDFA|\\uDDF8|\\uDDED)|\\uDDEB\\uD83C(?:\\uDDF0|\\uDDF4|\\uDDEF|\\uDDEE|\\uDDF7|\\uDDF2)|\\uDDEC\\uD83C(?:\\uDDF6|\\uDDEB|\\uDDE6|\\uDDF2|\\uDDEA|\\uDDED|\\uDDEE|\\uDDF7|\\uDDF1|\\uDDE9|\\uDDF5|\\uDDFA|\\uDDF9|\\uDDEC|\\uDDF3|\\uDDFC|\\uDDFE|\\uDDF8|\\uDDE7)|\\uDDED\\uD83C(?:\\uDDF7|\\uDDF9|\\uDDF2|\\uDDF3|\\uDDF0|\\uDDFA)|\\uDDEE\\uD83C(?:\\uDDF4|\\uDDE8|\\uDDF8|\\uDDF3|\\uDDE9|\\uDDF7|\\uDDF6|\\uDDEA|\\uDDF2|\\uDDF1|\\uDDF9)|\\uDDEF\\uD83C(?:\\uDDF2|\\uDDF5|\\uDDEA|\\uDDF4)|\\uDDF0\\uD83C(?:\\uDDED|\\uDDFE|\\uDDF2|\\uDDFF|\\uDDEA|\\uDDEE|\\uDDFC|\\uDDEC|\\uDDF5|\\uDDF7|\\uDDF3)|\\uDDF1\\uD83C(?:\\uDDE6|\\uDDFB|\\uDDE7|\\uDDF8|\\uDDF7|\\uDDFE|\\uDDEE|\\uDDF9|\\uDDFA|\\uDDF0|\\uDDE8)|\\uDDF2\\uD83C(?:\\uDDF4|\\uDDF0|\\uDDEC|\\uDDFC|\\uDDFE|\\uDDFB|\\uDDF1|\\uDDF9|\\uDDED|\\uDDF6|\\uDDF7|\\uDDFA|\\uDDFD|\\uDDE9|\\uDDE8|\\uDDF3|\\uDDEA|\\uDDF8|\\uDDE6|\\uDDFF|\\uDDF2|\\uDDF5|\\uDDEB)|\\uDDF3\\uD83C(?:\\uDDE6|\\uDDF7|\\uDDF5|\\uDDF1|\\uDDE8|\\uDDFF|\\uDDEE|\\uDDEA|\\uDDEC|\\uDDFA|\\uDDEB|\\uDDF4)|\\uDDF4\\uD83C\\uDDF2|\\uDDF5\\uD83C(?:\\uDDEB|\\uDDF0|\\uDDFC|\\uDDF8|\\uDDE6|\\uDDEC|\\uDDFE|\\uDDEA|\\uDDED|\\uDDF3|\\uDDF1|\\uDDF9|\\uDDF7|\\uDDF2)|\\uDDF6\\uD83C\\uDDE6|\\uDDF7\\uD83C(?:\\uDDEA|\\uDDF4|\\uDDFA|\\uDDFC|\\uDDF8)|\\uDDF8\\uD83C(?:\\uDDFB|\\uDDF2|\\uDDF9|\\uDDE6|\\uDDF3|\\uDDE8|\\uDDF1|\\uDDEC|\\uDDFD|\\uDDF0|\\uDDEE|\\uDDE7|\\uDDF4|\\uDDF8|\\uDDED|\\uDDE9|\\uDDF7|\\uDDEF|\\uDDFF|\\uDDEA|\\uDDFE)|\\uDDF9\\uD83C(?:\\uDDE9|\\uDDEB|\\uDDFC|\\uDDEF|\\uDDFF|\\uDDED|\\uDDF1|\\uDDEC|\\uDDF0|\\uDDF4|\\uDDF9|\\uDDE6|\\uDDF3|\\uDDF7|\\uDDF2|\\uDDE8|\\uDDFB)|\\uDDFA\\uD83C(?:\\uDDEC|\\uDDE6|\\uDDF8|\\uDDFE|\\uDDF2|\\uDDFF)|\\uDDFB\\uD83C(?:\\uDDEC|\\uDDE8|\\uDDEE|\\uDDFA|\\uDDE6|\\uDDEA|\\uDDF3)|\\uDDFC\\uD83C(?:\\uDDF8|\\uDDEB)|\\uDDFD\\uD83C\\uDDF0|\\uDDFE\\uD83C(?:\\uDDF9|\\uDDEA)|\\uDDFF\\uD83C(?:\\uDDE6|\\uDDF2|\\uDDFC))))[\\ufe00-\\ufe0f\\u200d]?)+')"
   ]
  },
  {
   "cell_type": "code",
   "execution_count": 56,
   "metadata": {},
   "outputs": [
    {
     "data": {
      "text/html": [
       "<div>\n",
       "<style scoped>\n",
       "    .dataframe tbody tr th:only-of-type {\n",
       "        vertical-align: middle;\n",
       "    }\n",
       "\n",
       "    .dataframe tbody tr th {\n",
       "        vertical-align: top;\n",
       "    }\n",
       "\n",
       "    .dataframe thead th {\n",
       "        text-align: right;\n",
       "    }\n",
       "</style>\n",
       "<table border=\"1\" class=\"dataframe\">\n",
       "  <thead>\n",
       "    <tr style=\"text-align: right;\">\n",
       "      <th></th>\n",
       "      <th>newtext</th>\n",
       "      <th>nohashtags</th>\n",
       "    </tr>\n",
       "    <tr>\n",
       "      <th>index</th>\n",
       "      <th></th>\n",
       "      <th></th>\n",
       "    </tr>\n",
       "  </thead>\n",
       "  <tbody>\n",
       "    <tr>\n",
       "      <th>0</th>\n",
       "      <td>First vacation since our honeymoon 3 years ago! See you soon Colorado!  #austenanniversaryadventure#austenadventures #vacation #anniversary#kctoco #colorado #bye</td>\n",
       "      <td>First vacation since our honeymoon 3 years ago! See you soon Colorado!</td>\n",
       "    </tr>\n",
       "    <tr>\n",
       "      <th>1</th>\n",
       "      <td>Great Sand Dunes National Park  . . . . . #kctoco #austenanniversaryadventure #greatsanddunes #colorado #vacation #bebold #sand #mountains #snowcapped</td>\n",
       "      <td>Great Sand Dunes National Park  . . . . .</td>\n",
       "    </tr>\n",
       "    <tr>\n",
       "      <th>2</th>\n",
       "      <td>Thanks @taydaliese for taking such amazing photos and to @iheartazazie for featuring them on azazie.com! I can't even believe it! #azazie #iheartazazie #taydaliesephoto #kansascity #kc #bridesmaids #bridesmaiddress #blue #moody #drama #lookoftheday #website #feature #bebold #updo #bun #vampy #libertymemorial #gown #formal #fancy #formaldress</td>\n",
       "      <td>Thanks @taydaliese for taking such amazing photos and to @iheartazazie for featuring them on azazie.com! I can't even believe it!</td>\n",
       "    </tr>\n",
       "  </tbody>\n",
       "</table>\n",
       "</div>"
      ],
      "text/plain": [
       "                                                                                                                                                                                                                                                                                                                                                       newtext  \\\n",
       "index                                                                                                                                                                                                                                                                                                                                                            \n",
       "0                                                                                                                                                                                            First vacation since our honeymoon 3 years ago! See you soon Colorado!  #austenanniversaryadventure#austenadventures #vacation #anniversary#kctoco #colorado #bye   \n",
       "1                                                                                                                                                                                                       Great Sand Dunes National Park  . . . . . #kctoco #austenanniversaryadventure #greatsanddunes #colorado #vacation #bebold #sand #mountains #snowcapped   \n",
       "2      Thanks @taydaliese for taking such amazing photos and to @iheartazazie for featuring them on azazie.com! I can't even believe it! #azazie #iheartazazie #taydaliesephoto #kansascity #kc #bridesmaids #bridesmaiddress #blue #moody #drama #lookoftheday #website #feature #bebold #updo #bun #vampy #libertymemorial #gown #formal #fancy #formaldress   \n",
       "\n",
       "                                                                                                                                                    nohashtags  \n",
       "index                                                                                                                                                           \n",
       "0                                                                                 First vacation since our honeymoon 3 years ago! See you soon Colorado!        \n",
       "1                                                                                                           Great Sand Dunes National Park  . . . . .           \n",
       "2      Thanks @taydaliese for taking such amazing photos and to @iheartazazie for featuring them on azazie.com! I can't even believe it!                        "
      ]
     },
     "execution_count": 56,
     "metadata": {},
     "output_type": "execute_result"
    }
   ],
   "source": [
    "instagramdf['newtext'] = list(map(lambda x: highpoints.sub(u'',x), instagramdf['text']))\n",
    "instagramdf['nohashtags'] = list(map(lambda x: highpoints.sub(u'',x), instagramdf['text']))\n",
    "instagramdf['nohashtags'] = list(map(lambda x: decode_text.sub(u'',x), instagramdf['nohashtags']))\n",
    "instagramdf[['newtext','nohashtags']].head(3)"
   ]
  },
  {
   "cell_type": "code",
   "execution_count": 6,
   "metadata": {},
   "outputs": [],
   "source": [
    "# Creating the dictionaries\n",
    "import re\n",
    "instagram_dict = {'husband' : 'corey', 'hubs' : 'corey', 'brother' : 'matt', 'foodphotography' :  'food', 'foodpics' :  'food',\n",
    "            'foodblogger' :  'food', 'instafood' :  'food', 'foodphotography' :  'food',\n",
    "            'droolclub' :  'food', 'forever21' : 'shop', 'targetstyle' : 'shop', 'target' : 'shop',\n",
    "            'shopping' : 'shop', 'shoplocalkc' : 'shop', 'styleoftheday' : 'style',\n",
    "            'stylepost' : 'style', 'outfitoftheday' : 'style', 'styleinspo' : 'style',\n",
    "            'styleacrossamerica' : 'style', 'styleblog' : 'style', 'stylegram' : 'style',\n",
    "            'dogs' : 'dog', 'dogstagram' : 'dog', 'abode': 'home', 'theaustenabode': 'home',\n",
    "            'austenabode' : 'home', 'kc_fashionweek': 'kcfw', 'kcfashion': 'kcfw',\n",
    "            'kcfashionweek' : 'kcfw', 'kcadventures' : 'kc', 'kcexperience' : 'kc',\n",
    "            'kclocal' : 'kc', 'heytaydaliese':'taydaliese', 'fashionblog' : 'fashion',\n",
    "            'fashionblogger' : 'fashion','fashionger' : 'fashion', 'fashiondiaries' : 'fashion', 'fashiongram' : 'fashion',\n",
    "            'fashionista' : 'fashion', 'fashionpost' : 'fashion', 'bloggerlife' : 'blog','midwestbloggers' : 'blog',\n",
    "            'coffeelover' : 'coffee', 'ootd' : 'outfit', 'ootn' : 'outfit', 'currentlywearing' : 'outfit',\n",
    "             'photo' : 'pic', 'picture' : 'pic'}\n",
    "\n",
    "\n",
    "def multiple_replace(dict, text): \n",
    "\n",
    "  \"\"\" Replace in 'text' all occurences of any key in the given\n",
    "  dictionary by its corresponding value.  Returns the new tring.\"\"\" \n",
    "  text = str(text).lower()\n",
    "\n",
    "  # Create a regular expression  from the dictionary keys\n",
    "  regex = re.compile(\"(%s)\" % \"|\".join(map(re.escape, dict.keys())))\n",
    "\n",
    "  # For each match, look-up corresponding value in dictionary\n",
    "  return regex.sub(lambda mo: dict[mo.string[mo.start():mo.end()]], text)\n",
    "\n",
    "instagramdf['cleantext'] = instagramdf.newtext.apply(lambda x: multiple_replace(instagram_dict, x))\n",
    "instagramdf['cleantext_nh'] = instagramdf.nohashtags.apply(lambda x: multiple_replace(instagram_dict, x))\n"
   ]
  },
  {
   "cell_type": "code",
   "execution_count": 7,
   "metadata": {},
   "outputs": [],
   "source": [
    "#creating 2 versions, one with and one without hashtags\n",
    "instagramtext = instagramdf[\"cleantext\"].astype(str).values.tolist()\n",
    "instagramtext_nh = instagramdf[\"cleantext_nh\"].astype(str).values.tolist()"
   ]
  },
  {
   "cell_type": "code",
   "execution_count": 8,
   "metadata": {},
   "outputs": [],
   "source": [
    "from nltk.stem import WordNetLemmatizer\n",
    "wnl = WordNetLemmatizer()\n",
    "\n",
    "lem_text = [\" \".join([wnl.lemmatize(word) for word in sentence.split()]) for sentence in instagramtext]\n",
    "lem_text_nh = [\" \".join([wnl.lemmatize(word) for word in sentence.split()]) for sentence in instagramtext_nh]"
   ]
  },
  {
   "cell_type": "code",
   "execution_count": 9,
   "metadata": {},
   "outputs": [],
   "source": [
    "#Word lemmitizer\n",
    "import nltk\n",
    "from nltk import word_tokenize\n",
    "newtext1 = []\n",
    "wordtype = set(['R','V','N'])\n",
    "\n",
    "for string in instagramtext:\n",
    "    newlem = []\n",
    "\n",
    "    taggedlist = nltk.pos_tag(word_tokenize(string.lower()))\n",
    "    for item in taggedlist:\n",
    "        if item[1][0] in wordtype:\n",
    "            postag = item[1][0].lower()\n",
    "        elif item[1][0] == 'J':\n",
    "            postag = 'a'\n",
    "        else:\n",
    "            postag = \"n\"\n",
    "\n",
    "        lemmed = wnl.lemmatize(item[0], pos = postag)\n",
    "        newlem.append(lemmed)\n",
    "    \n",
    "    newstring = \" \".join(newlem)\n",
    "    \n",
    "    newtext1 =newtext1 + [newstring]"
   ]
  },
  {
   "cell_type": "code",
   "execution_count": 10,
   "metadata": {},
   "outputs": [],
   "source": [
    "#Word lemmitizer\n",
    "import nltk\n",
    "from nltk import word_tokenize\n",
    "newtext2 = []\n",
    "wordtype = set(['R','V','N'])\n",
    "\n",
    "for string in instagramtext_nh:\n",
    "    newlem = []\n",
    "\n",
    "    taggedlist = nltk.pos_tag(word_tokenize(string.lower()))\n",
    "    for item in taggedlist:\n",
    "        if item[1][0] in wordtype:\n",
    "            postag = item[1][0].lower()\n",
    "        elif item[1][0] == 'J':\n",
    "            postag = 'a'\n",
    "        else:\n",
    "            postag = \"n\"\n",
    "\n",
    "        lemmed = wnl.lemmatize(item[0], pos = postag)\n",
    "        newlem.append(lemmed)\n",
    "    \n",
    "    newstring = \" \".join(newlem)\n",
    "    \n",
    "    newtext2 =newtext2 + [newstring]"
   ]
  },
  {
   "cell_type": "code",
   "execution_count": 12,
   "metadata": {},
   "outputs": [],
   "source": [
    "se1 = pd.Series(newtext1)\n",
    "se2 = pd.Series(newtext2)\n",
    "instagramdf['lemtext'] = se1.values\n",
    "instagramdf['lemtext_nh'] = se2.values"
   ]
  },
  {
   "cell_type": "code",
   "execution_count": 13,
   "metadata": {},
   "outputs": [],
   "source": [
    "#need two different versions of stop words\n",
    "from nltk.corpus import stopwords\n",
    "nltk_stopwords = stopwords.words(\"english\")\n",
    "hashtag_nltk = nltk_stopwords + ['annie_austen', 'get', 'also']\n",
    "common_nltk = nltk_stopwords + ['annie_austen', 'get', 'also', 'tcctribe', 'theaustenadventures','austenadventures', 'mystyle', 'styleonabudget', 'wiw', 'findyourflock', 'whatiwore', 'thedarlingmovement', 'flashesofdelight', 'darlingmovement', 'pursuepretty', 'kansascity', 'blogger', 'thatsdarling', 'lifestyle','lifestyleblogger', 'igkc', 'igkansascity', 'kcblogger', 'kcbloggers', 'risingtidesociety', 'thehappynow', 'annie', 'http' 'liketk', 'liketkit', 'liketoknow','ltkstyletip', 'ltkunder100', 'ltkunder50', 'kansascitystreetstyled']"
   ]
  },
  {
   "cell_type": "code",
   "execution_count": 14,
   "metadata": {},
   "outputs": [
    {
     "name": "stdout",
     "output_type": "stream",
     "text": [
      "(255, 376)\n"
     ]
    },
    {
     "data": {
      "text/html": [
       "<div>\n",
       "<style scoped>\n",
       "    .dataframe tbody tr th:only-of-type {\n",
       "        vertical-align: middle;\n",
       "    }\n",
       "\n",
       "    .dataframe tbody tr th {\n",
       "        vertical-align: top;\n",
       "    }\n",
       "\n",
       "    .dataframe thead th {\n",
       "        text-align: right;\n",
       "    }\n",
       "</style>\n",
       "<table border=\"1\" class=\"dataframe\">\n",
       "  <thead>\n",
       "    <tr style=\"text-align: right;\">\n",
       "      <th></th>\n",
       "      <th>weight</th>\n",
       "    </tr>\n",
       "  </thead>\n",
       "  <tbody>\n",
       "    <tr>\n",
       "      <th>style</th>\n",
       "      <td>32.528570</td>\n",
       "    </tr>\n",
       "    <tr>\n",
       "      <th>fashion</th>\n",
       "      <td>25.953099</td>\n",
       "    </tr>\n",
       "    <tr>\n",
       "      <th>home</th>\n",
       "      <td>18.597288</td>\n",
       "    </tr>\n",
       "    <tr>\n",
       "      <th>food</th>\n",
       "      <td>16.072114</td>\n",
       "    </tr>\n",
       "    <tr>\n",
       "      <th>kc</th>\n",
       "      <td>15.266397</td>\n",
       "    </tr>\n",
       "    <tr>\n",
       "      <th>blog</th>\n",
       "      <td>13.269489</td>\n",
       "    </tr>\n",
       "    <tr>\n",
       "      <th>shop</th>\n",
       "      <td>12.495330</td>\n",
       "    </tr>\n",
       "    <tr>\n",
       "      <th>outfit</th>\n",
       "      <td>12.355122</td>\n",
       "    </tr>\n",
       "    <tr>\n",
       "      <th>tcctribe</th>\n",
       "      <td>11.484340</td>\n",
       "    </tr>\n",
       "    <tr>\n",
       "      <th>kcblogger</th>\n",
       "      <td>11.439890</td>\n",
       "    </tr>\n",
       "  </tbody>\n",
       "</table>\n",
       "</div>"
      ],
      "text/plain": [
       "              weight\n",
       "style      32.528570\n",
       "fashion    25.953099\n",
       "home       18.597288\n",
       "food       16.072114\n",
       "kc         15.266397\n",
       "blog       13.269489\n",
       "shop       12.495330\n",
       "outfit     12.355122\n",
       "tcctribe   11.484340\n",
       "kcblogger  11.439890"
      ]
     },
     "execution_count": 14,
     "metadata": {},
     "output_type": "execute_result"
    }
   ],
   "source": [
    "#No Hashtags removed\n",
    "tfidf = TfidfVectorizer(binary=False, min_df = .02, max_df = .6,stop_words = hashtag_nltk)\n",
    "v1_tfidf = tfidf.fit_transform(instagramdf['lemtext'])\n",
    "print(v1_tfidf.shape)\n",
    "\n",
    "names = tfidf.get_feature_names()\n",
    "count = np.sum(v1_tfidf.toarray(), axis = 0)\n",
    "count2 = count.tolist()\n",
    "count_df = pd.DataFrame(count2, index = names, columns = ['weight'])\n",
    "count_df.sort_values(['weight'], ascending = False)[0:10]"
   ]
  },
  {
   "cell_type": "code",
   "execution_count": 15,
   "metadata": {},
   "outputs": [
    {
     "name": "stdout",
     "output_type": "stream",
     "text": [
      "(255, 285)\n"
     ]
    },
    {
     "data": {
      "text/html": [
       "<div>\n",
       "<style scoped>\n",
       "    .dataframe tbody tr th:only-of-type {\n",
       "        vertical-align: middle;\n",
       "    }\n",
       "\n",
       "    .dataframe tbody tr th {\n",
       "        vertical-align: top;\n",
       "    }\n",
       "\n",
       "    .dataframe thead th {\n",
       "        text-align: right;\n",
       "    }\n",
       "</style>\n",
       "<table border=\"1\" class=\"dataframe\">\n",
       "  <thead>\n",
       "    <tr style=\"text-align: right;\">\n",
       "      <th></th>\n",
       "      <th>weight</th>\n",
       "    </tr>\n",
       "  </thead>\n",
       "  <tbody>\n",
       "    <tr>\n",
       "      <th>day</th>\n",
       "      <td>11.205305</td>\n",
       "    </tr>\n",
       "    <tr>\n",
       "      <th>happy</th>\n",
       "      <td>10.889559</td>\n",
       "    </tr>\n",
       "    <tr>\n",
       "      <th>pic</th>\n",
       "      <td>9.625244</td>\n",
       "    </tr>\n",
       "    <tr>\n",
       "      <th>post</th>\n",
       "      <td>9.323388</td>\n",
       "    </tr>\n",
       "    <tr>\n",
       "      <th>shop</th>\n",
       "      <td>9.118689</td>\n",
       "    </tr>\n",
       "    <tr>\n",
       "      <th>go</th>\n",
       "      <td>9.040402</td>\n",
       "    </tr>\n",
       "    <tr>\n",
       "      <th>make</th>\n",
       "      <td>8.665753</td>\n",
       "    </tr>\n",
       "    <tr>\n",
       "      <th>love</th>\n",
       "      <td>8.660364</td>\n",
       "    </tr>\n",
       "    <tr>\n",
       "      <th>new</th>\n",
       "      <td>8.544991</td>\n",
       "    </tr>\n",
       "    <tr>\n",
       "      <th>corey</th>\n",
       "      <td>8.409155</td>\n",
       "    </tr>\n",
       "  </tbody>\n",
       "</table>\n",
       "</div>"
      ],
      "text/plain": [
       "          weight\n",
       "day    11.205305\n",
       "happy  10.889559\n",
       "pic     9.625244\n",
       "post    9.323388\n",
       "shop    9.118689\n",
       "go      9.040402\n",
       "make    8.665753\n",
       "love    8.660364\n",
       "new     8.544991\n",
       "corey   8.409155"
      ]
     },
     "execution_count": 15,
     "metadata": {},
     "output_type": "execute_result"
    }
   ],
   "source": [
    "#All Hashtags removed\n",
    "tfidf2 = TfidfVectorizer(binary=False, min_df = .02, max_df = .6,stop_words = hashtag_nltk)\n",
    "v2_tfidf = tfidf2.fit_transform(instagramdf['lemtext_nh'])\n",
    "print(v2_tfidf.shape)\n",
    "\n",
    "names2 = tfidf2.get_feature_names()\n",
    "count_2 = np.sum(v2_tfidf.toarray(), axis = 0)\n",
    "count2_2 = count_2.tolist()\n",
    "count_df2 = pd.DataFrame(count2_2, index = names2, columns = ['weight'])\n",
    "count_df2.sort_values(['weight'], ascending = False)[0:10]"
   ]
  },
  {
   "cell_type": "code",
   "execution_count": 16,
   "metadata": {},
   "outputs": [
    {
     "name": "stdout",
     "output_type": "stream",
     "text": [
      "(255, 355)\n"
     ]
    },
    {
     "data": {
      "text/html": [
       "<div>\n",
       "<style scoped>\n",
       "    .dataframe tbody tr th:only-of-type {\n",
       "        vertical-align: middle;\n",
       "    }\n",
       "\n",
       "    .dataframe tbody tr th {\n",
       "        vertical-align: top;\n",
       "    }\n",
       "\n",
       "    .dataframe thead th {\n",
       "        text-align: right;\n",
       "    }\n",
       "</style>\n",
       "<table border=\"1\" class=\"dataframe\">\n",
       "  <thead>\n",
       "    <tr style=\"text-align: right;\">\n",
       "      <th></th>\n",
       "      <th>weight</th>\n",
       "    </tr>\n",
       "  </thead>\n",
       "  <tbody>\n",
       "    <tr>\n",
       "      <th>style</th>\n",
       "      <td>34.401836</td>\n",
       "    </tr>\n",
       "    <tr>\n",
       "      <th>fashion</th>\n",
       "      <td>27.630563</td>\n",
       "    </tr>\n",
       "    <tr>\n",
       "      <th>home</th>\n",
       "      <td>18.938009</td>\n",
       "    </tr>\n",
       "    <tr>\n",
       "      <th>food</th>\n",
       "      <td>16.284255</td>\n",
       "    </tr>\n",
       "    <tr>\n",
       "      <th>kc</th>\n",
       "      <td>15.737808</td>\n",
       "    </tr>\n",
       "    <tr>\n",
       "      <th>blog</th>\n",
       "      <td>14.003824</td>\n",
       "    </tr>\n",
       "    <tr>\n",
       "      <th>shop</th>\n",
       "      <td>13.054976</td>\n",
       "    </tr>\n",
       "    <tr>\n",
       "      <th>outfit</th>\n",
       "      <td>12.654696</td>\n",
       "    </tr>\n",
       "    <tr>\n",
       "      <th>adventure</th>\n",
       "      <td>8.720493</td>\n",
       "    </tr>\n",
       "    <tr>\n",
       "      <th>kcfw</th>\n",
       "      <td>8.711868</td>\n",
       "    </tr>\n",
       "  </tbody>\n",
       "</table>\n",
       "</div>"
      ],
      "text/plain": [
       "              weight\n",
       "style      34.401836\n",
       "fashion    27.630563\n",
       "home       18.938009\n",
       "food       16.284255\n",
       "kc         15.737808\n",
       "blog       14.003824\n",
       "shop       13.054976\n",
       "outfit     12.654696\n",
       "adventure   8.720493\n",
       "kcfw        8.711868"
      ]
     },
     "execution_count": 16,
     "metadata": {},
     "output_type": "execute_result"
    }
   ],
   "source": [
    "#Common Hashtags removed\n",
    "tfidf3 = TfidfVectorizer(binary=False, min_df = .02, max_df = .6,stop_words = common_nltk)\n",
    "v3_tfidf = tfidf3.fit_transform(instagramdf['lemtext'])\n",
    "print(v3_tfidf.shape)\n",
    "\n",
    "names3 = tfidf3.get_feature_names()\n",
    "count_3 = np.sum(v3_tfidf.toarray(), axis = 0)\n",
    "count3_3 = count_3.tolist()\n",
    "count_df3 = pd.DataFrame(count3_3, index = names3, columns = ['weight'])\n",
    "count_df3.sort_values(['weight'], ascending = False)[0:10]"
   ]
  },
  {
   "cell_type": "code",
   "execution_count": 17,
   "metadata": {},
   "outputs": [],
   "source": [
    "import numpy\n",
    "\n",
    "def matrix_factorization(R, P, Q, K, steps=5000, alpha=0.0002, beta=0.02):\n",
    "    Q = Q.T\n",
    "    for step in range(steps):\n",
    "        for i in range(len(R)):\n",
    "            for j in range(len(R[i])):\n",
    "                if R[i][j] > 0:\n",
    "                    eij = R[i][j] - numpy.dot(P[i,:],Q[:,j])\n",
    "                    for k in range(K):\n",
    "                        P[i][k] = P[i][k] + alpha * (2 * eij * Q[k][j] - beta * P[i][k])\n",
    "                        Q[k][j] = Q[k][j] + alpha * (2 * eij * P[i][k] - beta * Q[k][j])\n",
    "        eR = numpy.dot(P,Q)\n",
    "        e = 0\n",
    "        for i in range(len(R)):\n",
    "            for j in range(len(R[i])):\n",
    "                if R[i][j] > 0:\n",
    "                    e = e + pow(R[i][j] - numpy.dot(P[i,:],Q[:,j]), 2)\n",
    "                    for k in range(K):\n",
    "                        e = e + (beta/2) * (pow(P[i][k],2) + pow(Q[k][j],2))\n",
    "        if e < 0.001:\n",
    "            break\n",
    "    return P, Q.T\n"
   ]
  },
  {
   "cell_type": "code",
   "execution_count": 18,
   "metadata": {},
   "outputs": [
    {
     "name": "stdout",
     "output_type": "stream",
     "text": [
      "[[0.32768161 0.33707905 0.32323439 ... 0.30818557 0.33942227 0.33103047]\n",
      " [0.32437056 0.32853515 0.34526429 ... 0.28964017 0.32074874 0.32193409]\n",
      " [0.24840036 0.25108597 0.26687997 ... 0.22029161 0.24413268 0.24597079]\n",
      " ...\n",
      " [0.32705527 0.34473081 0.2817717  ... 0.33251315 0.36338739 0.33968455]\n",
      " [0.35041215 0.35938282 0.35096706 ... 0.32632407 0.35976695 0.35278585]\n",
      " [0.28733159 0.31460747 0.18971186 ... 0.32740848 0.35410408 0.31157703]]\n"
     ]
    }
   ],
   "source": [
    "R = numpy.array(v3_tfidf.toarray())\n",
    "\n",
    "N = len(R)\n",
    "M = len(R[0])\n",
    "K = 2\n",
    " \n",
    "P = numpy.random.rand(N,K)\n",
    "Q = numpy.random.rand(M,K)\n",
    " \n",
    "nP, nQ = matrix_factorization(R, P, Q, K)\n",
    "nR = numpy.dot(nP, nQ.T)\n",
    "print(nR)"
   ]
  },
  {
   "cell_type": "code",
   "execution_count": 19,
   "metadata": {},
   "outputs": [
    {
     "name": "stdout",
     "output_type": "stream",
     "text": [
      "['able', 'absolute', 'absolutely', 'acolorstory', 'actually', 'adventure', 'ago', 'almost', 'always', 'amazing', 'app', 'architecture', 'around', 'art', 'asos', 'autumn', 'away', 'awesome', 'baby', 'back', 'bad', 'bake', 'basically', 'beautiful', 'beauty', 'beautyblogger', 'bebold', 'bedroom', 'believe', 'best', 'big', 'bio', 'birthday', 'blackandwhite', 'blog', 'blush', 'blvdia', 'book', 'boot', 'bowtie', 'brand', 'break', 'breakfast', 'bright', 'brunch', 'bubbly', 'buy', 'ca', 'cake', 'call', 'calli', 'capture', 'car', 'care', 'cat', 'celebrate', 'chance', 'check', 'cheer', 'city', 'coffee', 'coffeetime', 'cold', 'come', 'comment', 'communityovercompetition', 'corey', 'could', 'cozy', 'crazy', 'create', 'creative', 'cute', 'date', 'day', 'deal', 'decide', 'decor', 'definitely', 'delicious', 'dessert', 'detail', 'different', 'dog', 'doglover', 'dogofinstagram', 'dogtagram', 'donate', 'dress', 'ebleatherworks', 'end', 'enjoy', 'epilepsy', 'etsy', 'even', 'evening', 'ever', 'every', 'everyone', 'everything', 'excite', 'excited', 'explorekc', 'fabulous', 'fall', 'family', 'fashion', 'fashionger', 'favorite', 'feel', 'fill', 'finally', 'find', 'first', 'fix', 'floral', 'flower', 'flowerstagram', 'follow', 'food', 'free', 'fresh', 'friday', 'fridayintroductions', 'friend', 'full', 'fun', 'fur', 'furry', 'game', 'gift', 'give', 'go', 'goal', 'good', 'gorgeous', 'gown', 'great', 'grief', 'guy', 'hair', 'happy', 'hard', 'hear', 'help', 'hi', 'hm', 'holiday', 'home', 'homemade', 'honestly', 'honor', 'hope', 'hour', 'house', 'http', 'huge', 'idea', 'include', 'incredible', 'incredibly', 'influenster', 'instagood', 'instagram', 'introduction', 'jean', 'kansas', 'kc', 'kcfw', 'kcfwweek', 'kcstyle', 'keep', 'kind', 'know', 'last', 'late', 'lately', 'law', 'layer', 'learn', 'life', 'light', 'like', 'liketk', 'link', 'little', 'live', 'liveauthentic', 'long', 'look', 'lookoftheday', 'lot', 'love', 'lovely', 'ltksalealert', 'lucia', 'madefromscratch', 'make', 'many', 'marie', 'marriage', 'marriagegoals', 'matt', 'may', 'meet', 'memory', 'midwest', 'milk', 'minneapolis', 'miss', 'moblinsformatt', 'mom', 'monday', 'month', 'morning', 'much', 'must', 'nan', 'nature', 'need', 'never', 'new', 'night', 'nintendo', 'nothing', 'obsess', 'offtheshoulder', 'one', 'open', 'outfit', 'outside', 'park', 'part', 'particularly', 'party', 'pass', 'past', 'pastel', 'pattern', 'people', 'perfect', 'pic', 'picd', 'pie', 'piece', 'pink', 'place', 'plaid', 'plan', 'play', 'please', 'plus', 'post', 'pretty', 'product', 'profile', 'pumpkin', 'put', 'read', 'ready', 'really', 'receive', 'recipe', 'red', 'review', 'right', 'roadtrip', 'room', 'say', 'season', 'see', 'send', 'seriously', 'share', 'shop', 'shoulder', 'show', 'since', 'sleep', 'snag', 'snow', 'snuggle', 'something', 'soon', 'source', 'spend', 'spring', 'start', 'still', 'story', 'stream', 'stripe', 'style', 'stylegerinternational', 'summer', 'sunday', 'super', 'sure', 'sweater', 'sweet', 'take', 'tap', 'taydaliese', 'teaka', 'tell', 'thank', 'thankful', 'thanks', 'thanksgiving', 'thing', 'think', 'time', 'today', 'together', 'tomorrow', 'tonight', 'top', 'total', 'touch', 'travel', 'travelblogger', 'trip', 'try', 'tuesday', 'turn', 'two', 'use', 'vacation', 'valentine', 'valentinesday', 'via', 'video', 'wait', 'want', 'warm', 'watch', 'way', 'wear', 'weather', 'week', 'weekend', 'well', 'white', 'win', 'winter', 'without', 'woman', 'wonderful', 'work', 'world', 'would', 'yay', 'year', 'yesterday', 'yummy']\n"
     ]
    }
   ],
   "source": [
    "from sklearn.decomposition import NMF\n",
    "n_topics = 8\n",
    "n_top_words = 5\n",
    "\n",
    "# Fit the NMF model\n",
    "nmf = NMF(n_components=n_topics, random_state=1).fit(v3_tfidf)\n",
    "instagram_components_10_5 = nmf.components_\n",
    "\n",
    "names_texts = tfidf3.get_feature_names()\n",
    "\n",
    "print(names_texts)\n"
   ]
  },
  {
   "cell_type": "code",
   "execution_count": 21,
   "metadata": {},
   "outputs": [
    {
     "data": {
      "image/png": "[encoded data removed]",
      "text/plain": [
       "<matplotlib.figure.Figure at 0x144b1dcae48>"
      ]
     },
     "metadata": {},
     "output_type": "display_data"
    }
   ],
   "source": [
    "#Creating the WordCloud\n",
    "\n",
    "from os import path, getcwd\n",
    "from PIL import Image\n",
    "import numpy as np\n",
    "import matplotlib.pyplot as plt\n",
    "from wordcloud import WordCloud, ImageColorGenerator\n",
    "\n",
    "d = pathname\n",
    "## join all documents in corpus\n",
    "text = \" \".join(names_texts)\n",
    "## image from PublicDomainPictures.net\n",
    "## http://www.publicdomainpictures.net/view-image.php?image=232185&picture=family-gathering\n",
    "mask = np.array(Image.open(path.join(d, \"pink_mix2.png\")))\n",
    "wc = WordCloud(background_color=\"white\", max_words=356, mask=mask,\n",
    "               max_font_size=90, random_state=42, width=800, height=400)\n",
    "wc.generate(text)\n",
    "# create coloring from image\n",
    "image_colors = ImageColorGenerator(mask)\n",
    "plt.figure(figsize=[7,7])\n",
    "plt.imshow(wc.recolor(color_func=image_colors), interpolation=\"bilinear\")\n",
    "wc.to_file(\"word_cloud.png\")\n",
    "plt.axis(\"off\")\n",
    "_=plt.show()"
   ]
  },
  {
   "cell_type": "code",
   "execution_count": 22,
   "metadata": {},
   "outputs": [
    {
     "name": "stdout",
     "output_type": "stream",
     "text": [
      "<class 'numpy.ndarray'>\n",
      "8\n",
      "[[0.00951134 0.02369158 0.03477067 ... 0.01829685 0.         0.00064182]\n",
      " [0.00277499 0.03860846 0.07277039 ... 0.18305517 0.097507   0.00359102]\n",
      " [0.         0.00525289 0.         ... 0.         0.0080065  0.15856611]\n",
      " ...\n",
      " [0.03608316 0.         0.08353833 ... 0.         0.         0.00069696]\n",
      " [0.02913909 0.         0.         ... 0.         0.04117957 0.        ]\n",
      " [0.         0.         0.04256404 ... 0.02869272 0.         0.01527514]]\n"
     ]
    }
   ],
   "source": [
    "print(type(nmf.components_))\n",
    "print(len(nmf.components_))\n",
    "print(nmf.components_)\n",
    "text_components = nmf.components_"
   ]
  },
  {
   "cell_type": "code",
   "execution_count": 23,
   "metadata": {},
   "outputs": [],
   "source": [
    "def print_top_words(model, feature_names, n_top_words):\n",
    "    for topic_idx, topic in enumerate(model.components_):\n",
    "        print(\"Topic #%d:\" % topic_idx)\n",
    "        print(\" \".join([feature_names[i]\n",
    "                        for i in topic.argsort()[:-n_top_words - 1:-1]]))\n",
    "    print()"
   ]
  },
  {
   "cell_type": "code",
   "execution_count": 24,
   "metadata": {},
   "outputs": [
    {
     "name": "stdout",
     "output_type": "stream",
     "text": [
      "\n",
      "Topics for texts in NMF model:\n",
      "Topic #0:\n",
      "fashion style blog lookoftheday friday\n",
      "Topic #1:\n",
      "home liveauthentic dog day adventure\n",
      "Topic #2:\n",
      "food instagood home dessert pie\n",
      "Topic #3:\n",
      "nan pie thanksgiving pumpkin fall\n",
      "Topic #4:\n",
      "matt game nintendo epilepsy story\n",
      "Topic #5:\n",
      "kc explorekc blvdia weekend flower\n",
      "Topic #6:\n",
      "coffee breakfast coffeetime need milk\n",
      "Topic #7:\n",
      "style outfit shop fashionger kcfw\n",
      "\n"
     ]
    }
   ],
   "source": [
    "print(\"\\nTopics for texts in NMF model:\")\n",
    "print_top_words(nmf, names_texts, n_top_words)"
   ]
  },
  {
   "cell_type": "code",
   "execution_count": 25,
   "metadata": {},
   "outputs": [],
   "source": [
    "import math\n",
    "\n",
    "#define a function for cosine similarity - the latest version in sklearn doesn't take vectors\n",
    "def cosine_similarity(a, b):\n",
    "    return sum([i*j for i,j in zip(a, b)])/(math.sqrt(sum([i*i for i in a]))* math.sqrt(sum([i*i for i in b])))"
   ]
  },
  {
   "cell_type": "code",
   "execution_count": 26,
   "metadata": {},
   "outputs": [],
   "source": [
    "def topic_sim(arr, feature_names, n_top_words, topics):\n",
    "    \"\"\"\n",
    "    @type  arr: array of number\n",
    "    @param arr: vectorizer number in an array.\n",
    "    @type  feature_names: array of string\n",
    "    @param feature_names: The array of feature names.\n",
    "    @type  n_top_words: number\n",
    "    @param n_top_words: The number of topics to return.\n",
    "    @type  topics: array of string\n",
    "    @param topics: Complete list of topics from topic extraction.\n",
    "    \n",
    "    @rtype:   top topics\n",
    "    @return:  top topics in string separated by space.\n",
    "    \"\"\"\n",
    "    top_sim = 0\n",
    "    top_topic = np.array([])\n",
    "    # iterate over topics\n",
    "    for idx, topic in enumerate(topics):\n",
    "        # calculate cosine similarity - substitute euclidean distance if that is your preferred metric\n",
    "        # could switch to euclidean_distances\n",
    "        sim = cosine_similarity(arr, topic)\n",
    "        if sim > top_sim:\n",
    "            top_sim = sim\n",
    "            top_topic = topic\n",
    "    \n",
    "    # argsort sort is in ascending order, so pick last n_top_words from it\n",
    "    selected_topic_index = top_topic.argsort()[:-n_top_words-1:-1]\n",
    "    # return the text feature names by indeing back into feature_names (assigned earlier)   \n",
    "    return \" \".join([feature_names[i] for i in selected_topic_index])\n"
   ]
  },
  {
   "cell_type": "code",
   "execution_count": 27,
   "metadata": {},
   "outputs": [],
   "source": [
    "#apply most similar topic to each document\n",
    "instagramdf['topics'] = np.ma.apply_along_axis(topic_sim, axis=1, \n",
    "        arr=v3_tfidf.toarray(), feature_names=names_texts, n_top_words=5, topics=text_components)"
   ]
  },
  {
   "cell_type": "code",
   "execution_count": 29,
   "metadata": {},
   "outputs": [
    {
     "data": {
      "text/plain": [
       "home liveauthentic dog day adventure      69\n",
       "fashion style blog lookoftheday friday    47\n",
       "style outfit shop fashionger kcfw         42\n",
       "kc explorekc blvdia weekend flower        37\n",
       "food instagood home dessert pie           31\n",
       "matt game nintendo epilepsy story         12\n",
       "coffee breakfast coffeetime need milk     11\n",
       "nan pie thanksgiving pumpkin fall          6\n",
       "Name: topics, dtype: int64"
      ]
     },
     "execution_count": 29,
     "metadata": {},
     "output_type": "execute_result"
    }
   ],
   "source": [
    "instagramdf['topics'].value_counts()"
   ]
  },
  {
   "cell_type": "code",
   "execution_count": 31,
   "metadata": {},
   "outputs": [
    {
     "data": {
      "text/html": [
       "<div>\n",
       "<style scoped>\n",
       "    .dataframe tbody tr th:only-of-type {\n",
       "        vertical-align: middle;\n",
       "    }\n",
       "\n",
       "    .dataframe tbody tr th {\n",
       "        vertical-align: top;\n",
       "    }\n",
       "\n",
       "    .dataframe thead th {\n",
       "        text-align: right;\n",
       "    }\n",
       "</style>\n",
       "<table border=\"1\" class=\"dataframe\">\n",
       "  <thead>\n",
       "    <tr style=\"text-align: right;\">\n",
       "      <th></th>\n",
       "      <th>newtext</th>\n",
       "      <th>topics</th>\n",
       "    </tr>\n",
       "    <tr>\n",
       "      <th>index</th>\n",
       "      <th></th>\n",
       "      <th></th>\n",
       "    </tr>\n",
       "  </thead>\n",
       "  <tbody>\n",
       "    <tr>\n",
       "      <th>0</th>\n",
       "      <td>First vacation since our honeymoon 3 years ago! See you soon Colorado!  #austenanniversaryadventure#austenadventures #vacation #anniversary#kctoco #colorado #bye</td>\n",
       "      <td>home liveauthentic dog day adventure</td>\n",
       "    </tr>\n",
       "    <tr>\n",
       "      <th>1</th>\n",
       "      <td>Great Sand Dunes National Park  . . . . . #kctoco #austenanniversaryadventure #greatsanddunes #colorado #vacation #bebold #sand #mountains #snowcapped</td>\n",
       "      <td>style outfit shop fashionger kcfw</td>\n",
       "    </tr>\n",
       "    <tr>\n",
       "      <th>2</th>\n",
       "      <td>Thanks @taydaliese for taking such amazing photos and to @iheartazazie for featuring them on azazie.com! I can't even believe it! #azazie #iheartazazie #taydaliesephoto #kansascity #kc #bridesmaids #bridesmaiddress #blue #moody #drama #lookoftheday #website #feature #bebold #updo #bun #vampy #libertymemorial #gown #formal #fancy #formaldress</td>\n",
       "      <td>kc explorekc blvdia weekend flower</td>\n",
       "    </tr>\n",
       "    <tr>\n",
       "      <th>3</th>\n",
       "      <td>(Link to the article in my bio) Nintendo has always been a link that tied my husband, Corey, and his brother, Matt, together almost as much as the fact that they were brothers. After Matt passed away in May, we realized that Corey would still be able to “play” with Matt’s Nintendo characters through these little things called amiibos. Basically, they capture game data and create a ghost of sorts that can be summoned and used to interact with in a variety of games. We wanted to share this amazing story with a source that could potentially get it back to Nintendo and just found out the story got published on a website called Zelda Informer which is a hub of information for fans of Nintendo and The Legend of Zelda specifically. Huge thank you to @taydaliese for taking some beautiful pictures of the game room and of Matt's things to go with the story. http://taydaliese.pixieset.com/guestlogin/matt/ Please share this amazing story so that everyone can hear about the amazing way we still get to interact with an essence of Matt's being and to learn more about how Corey will get to play a new game with his brother even though he's not with us anymore. ️ #gamer #nintendo #legendofzelda #zelda #link #breathofthewild #twilightprincess #wolflink #wolflinkamiibo #wii #wiiu #brothers #rip</td>\n",
       "      <td>matt game nintendo epilepsy story</td>\n",
       "    </tr>\n",
       "    <tr>\n",
       "      <th>4</th>\n",
       "      <td>(Link to the article in my bio) Nintendo has always been a link that tied my husband, Corey, and his brother, Matt, together almost as much as the fact that they were brothers. After Matt passed away in May, we realized that Corey would still be able to “play” with Matt’s Nintendo characters through these little things called amiibos. Basically, they capture game data and create a ghost of sorts that can be summoned and used to interact with in a variety of games. We wanted to share this amazing story with a source that could potentially get it back to Nintendo and just found out the story got published on a website called Zelda Informer which is a hub of information for fans of Nintendo and The Legend of Zelda specifically. Huge thank you to @taydaliese for taking some beautiful pictures of the game room and of Matt's things to go with the story. http://taydaliese.pixieset.com/guestlogin/matt/ Please share this amazing story so that everyone can hear about the amazing way we still get to interact with an essence of Matt's being and to learn more about how Corey will get to play a new game with his brother even though he's not with us anymore. ️ #gamer #nintendo #legendofzelda #zelda #link #breathofthewild #twilightprincess #wolflink #wolflinkamiibo #wii #wiiu #brothers #rip</td>\n",
       "      <td>matt game nintendo epilepsy story</td>\n",
       "    </tr>\n",
       "  </tbody>\n",
       "</table>\n",
       "</div>"
      ],
      "text/plain": [
       "                                                                                                                                                                                                                                                                                                                                                                                                                                                                                                                                                                                                                                                                                                                                                                                                                                                                                                                                                                                                                                                                                                                                                                                                                                                                                                                                               newtext  \\\n",
       "index                                                                                                                                                                                                                                                                                                                                                                                                                                                                                                                                                                                                                                                                                                                                                                                                                                                                                                                                                                                                                                                                                                                                                                                                                                                                                                                                                    \n",
       "0                                                                                                                                                                                                                                                                                                                                                                                                                                                                                                                                                                                                                                                                                                                                                                                                                                                                                                                                                                                                                                                                                                                                                                                    First vacation since our honeymoon 3 years ago! See you soon Colorado!  #austenanniversaryadventure#austenadventures #vacation #anniversary#kctoco #colorado #bye   \n",
       "1                                                                                                                                                                                                                                                                                                                                                                                                                                                                                                                                                                                                                                                                                                                                                                                                                                                                                                                                                                                                                                                                                                                                                                                               Great Sand Dunes National Park  . . . . . #kctoco #austenanniversaryadventure #greatsanddunes #colorado #vacation #bebold #sand #mountains #snowcapped   \n",
       "2                                                                                                                                                                                                                                                                                                                                                                                                                                                                                                                                                                                                                                                                                                                                                                                                                                                                                                                                                                                              Thanks @taydaliese for taking such amazing photos and to @iheartazazie for featuring them on azazie.com! I can't even believe it! #azazie #iheartazazie #taydaliesephoto #kansascity #kc #bridesmaids #bridesmaiddress #blue #moody #drama #lookoftheday #website #feature #bebold #updo #bun #vampy #libertymemorial #gown #formal #fancy #formaldress   \n",
       "3      (Link to the article in my bio) Nintendo has always been a link that tied my husband, Corey, and his brother, Matt, together almost as much as the fact that they were brothers. After Matt passed away in May, we realized that Corey would still be able to “play” with Matt’s Nintendo characters through these little things called amiibos. Basically, they capture game data and create a ghost of sorts that can be summoned and used to interact with in a variety of games. We wanted to share this amazing story with a source that could potentially get it back to Nintendo and just found out the story got published on a website called Zelda Informer which is a hub of information for fans of Nintendo and The Legend of Zelda specifically. Huge thank you to @taydaliese for taking some beautiful pictures of the game room and of Matt's things to go with the story. http://taydaliese.pixieset.com/guestlogin/matt/ Please share this amazing story so that everyone can hear about the amazing way we still get to interact with an essence of Matt's being and to learn more about how Corey will get to play a new game with his brother even though he's not with us anymore. ️ #gamer #nintendo #legendofzelda #zelda #link #breathofthewild #twilightprincess #wolflink #wolflinkamiibo #wii #wiiu #brothers #rip   \n",
       "4      (Link to the article in my bio) Nintendo has always been a link that tied my husband, Corey, and his brother, Matt, together almost as much as the fact that they were brothers. After Matt passed away in May, we realized that Corey would still be able to “play” with Matt’s Nintendo characters through these little things called amiibos. Basically, they capture game data and create a ghost of sorts that can be summoned and used to interact with in a variety of games. We wanted to share this amazing story with a source that could potentially get it back to Nintendo and just found out the story got published on a website called Zelda Informer which is a hub of information for fans of Nintendo and The Legend of Zelda specifically. Huge thank you to @taydaliese for taking some beautiful pictures of the game room and of Matt's things to go with the story. http://taydaliese.pixieset.com/guestlogin/matt/ Please share this amazing story so that everyone can hear about the amazing way we still get to interact with an essence of Matt's being and to learn more about how Corey will get to play a new game with his brother even though he's not with us anymore. ️ #gamer #nintendo #legendofzelda #zelda #link #breathofthewild #twilightprincess #wolflink #wolflinkamiibo #wii #wiiu #brothers #rip   \n",
       "\n",
       "                                     topics  \n",
       "index                                        \n",
       "0      home liveauthentic dog day adventure  \n",
       "1         style outfit shop fashionger kcfw  \n",
       "2        kc explorekc blvdia weekend flower  \n",
       "3         matt game nintendo epilepsy story  \n",
       "4         matt game nintendo epilepsy story  "
      ]
     },
     "execution_count": 31,
     "metadata": {},
     "output_type": "execute_result"
    }
   ],
   "source": [
    "instagramdf[['newtext','topics']].head(5)"
   ]
  },
  {
   "cell_type": "markdown",
   "metadata": {},
   "source": [
    "## The Predictive Models"
   ]
  },
  {
   "cell_type": "code",
   "execution_count": 32,
   "metadata": {},
   "outputs": [
    {
     "data": {
      "text/plain": [
       "No     214\n",
       "Yes     41\n",
       "Name: greatpost, dtype: int64"
      ]
     },
     "execution_count": 32,
     "metadata": {},
     "output_type": "execute_result"
    }
   ],
   "source": [
    "instagramdf['greatpost'] = np.where(instagramdf['likes']>=250, 'Yes', 'No')\n",
    "instagramdf['greatpost'].value_counts()"
   ]
  },
  {
   "cell_type": "code",
   "execution_count": 33,
   "metadata": {},
   "outputs": [],
   "source": [
    "#Exported the csv so I can look at how many \"great posts\" are in each topic.\n",
    "#instagramdf.to_csv('outpu.csv')"
   ]
  },
  {
   "cell_type": "code",
   "execution_count": 35,
   "metadata": {},
   "outputs": [],
   "source": [
    "#Split the data\n",
    "X = v3_tfidf.toarray()\n",
    "y = instagramdf['greatpost'].values"
   ]
  },
  {
   "cell_type": "code",
   "execution_count": 36,
   "metadata": {},
   "outputs": [
    {
     "name": "stdout",
     "output_type": "stream",
     "text": [
      "(178, 355)\n",
      "(77, 355)\n",
      "(178,)\n",
      "(77,)\n"
     ]
    }
   ],
   "source": [
    "from sklearn.model_selection import train_test_split\n",
    "X_train, X_test, y_train, y_test = train_test_split(X, y, test_size=0.3, random_state=42) #random_state is set seed\n",
    "\n",
    "print(X_train.shape)\n",
    "print(X_test.shape)\n",
    "print(y_train.shape)\n",
    "print(y_test.shape)"
   ]
  },
  {
   "cell_type": "code",
   "execution_count": 37,
   "metadata": {},
   "outputs": [
    {
     "name": "stdout",
     "output_type": "stream",
     "text": [
      "MultinomialNB(alpha=1.0, class_prior=None, fit_prior=True)\n",
      "0.8831168831168831\n",
      "accuracy: 0.8831168831168831\n",
      "             precision    recall  f1-score   support\n",
      "\n",
      "         No       0.88      1.00      0.94        68\n",
      "        Yes       0.00      0.00      0.00         9\n",
      "\n",
      "avg / total       0.78      0.88      0.83        77\n",
      "\n"
     ]
    },
    {
     "name": "stderr",
     "output_type": "stream",
     "text": [
      "C:\\Users\\Corey\\Anaconda3\\lib\\site-packages\\sklearn\\metrics\\classification.py:1135: UndefinedMetricWarning: Precision and F-score are ill-defined and being set to 0.0 in labels with no predicted samples.\n",
      "  'precision', 'predicted', average, warn_for)\n"
     ]
    }
   ],
   "source": [
    "#Naive Bayes model\n",
    "from sklearn import metrics\n",
    "from sklearn.naive_bayes import MultinomialNB\n",
    "model = MultinomialNB()\n",
    "print(model)\n",
    "model.fit(X_train, y_train)\n",
    "\n",
    "# make predictions\n",
    "nb_expected = y_test\n",
    "nb_predicted = model.predict(X_test)\n",
    "\n",
    "print(model.score(X_test, y_test))\n",
    "\n",
    "# summarize the fit of the model\n",
    "print(\"accuracy: \" + str(metrics.accuracy_score(nb_expected, nb_predicted)))\n",
    "print(metrics.classification_report(nb_expected, nb_predicted))"
   ]
  },
  {
   "cell_type": "code",
   "execution_count": 41,
   "metadata": {},
   "outputs": [
    {
     "name": "stdout",
     "output_type": "stream",
     "text": [
      "LogisticRegression(C=1.0, class_weight=None, dual=False, fit_intercept=True,\n",
      "          intercept_scaling=1, max_iter=100, multi_class='ovr', n_jobs=1,\n",
      "          penalty='l2', random_state=42, solver='liblinear', tol=0.0001,\n",
      "          verbose=0, warm_start=False)\n",
      "0.8831168831168831\n",
      "accuracy: 0.8831168831168831\n",
      "             precision    recall  f1-score   support\n",
      "\n",
      "         No       0.88      1.00      0.94        68\n",
      "        Yes       0.00      0.00      0.00         9\n",
      "\n",
      "avg / total       0.78      0.88      0.83        77\n",
      "\n"
     ]
    },
    {
     "name": "stderr",
     "output_type": "stream",
     "text": [
      "C:\\Users\\Corey\\Anaconda3\\lib\\site-packages\\sklearn\\metrics\\classification.py:1135: UndefinedMetricWarning: Precision and F-score are ill-defined and being set to 0.0 in labels with no predicted samples.\n",
      "  'precision', 'predicted', average, warn_for)\n"
     ]
    }
   ],
   "source": [
    "#Logistic Regression Model\n",
    "from sklearn.linear_model import LogisticRegression\n",
    "\n",
    "# fit a logistic regression model to the data\n",
    "model = LogisticRegression(random_state = 42)\n",
    "print(model)\n",
    "model.fit(X_train, y_train)\n",
    "\n",
    "# make predictions\n",
    "log_expected = y_test\n",
    "log_predicted = model.predict(X_test)\n",
    "\n",
    "print(model.score(X_test, y_test))\n",
    "\n",
    "# summarize the fit of the model\n",
    "print(\"accuracy: \" + str(metrics.accuracy_score(log_expected, log_predicted)))\n",
    "print(metrics.classification_report(log_expected, log_predicted))"
   ]
  },
  {
   "cell_type": "code",
   "execution_count": 48,
   "metadata": {},
   "outputs": [
    {
     "name": "stdout",
     "output_type": "stream",
     "text": [
      "DecisionTreeClassifier(class_weight=None, criterion='gini', max_depth=None,\n",
      "            max_features=None, max_leaf_nodes=None,\n",
      "            min_impurity_decrease=0.0, min_impurity_split=None,\n",
      "            min_samples_leaf=1, min_samples_split=2,\n",
      "            min_weight_fraction_leaf=0.0, presort=False, random_state=42,\n",
      "            splitter='best')\n",
      "0.7142857142857143\n",
      "accuracy: 0.7142857142857143\n",
      "             precision    recall  f1-score   support\n",
      "\n",
      "         No       0.88      0.78      0.83        68\n",
      "        Yes       0.12      0.22      0.15         9\n",
      "\n",
      "avg / total       0.79      0.71      0.75        77\n",
      "\n"
     ]
    }
   ],
   "source": [
    "# Decision Tree with no Hashtags\n",
    "#Split the data\n",
    "X = v1_tfidf.toarray()\n",
    "y = instagramdf['greatpost'].values\n",
    "X_train, X_test, y_train, y_test = train_test_split(X, y, test_size=0.3, random_state=44) #random_state is set seed\n",
    "\n",
    "from sklearn import metrics\n",
    "from sklearn.tree import DecisionTreeClassifier\n",
    "model = DecisionTreeClassifier(random_state = 42)\n",
    "print(model)\n",
    "model.fit(X_train, y_train)\n",
    "\n",
    "# make predictions\n",
    "tree_expected1 = y_test\n",
    "tree_predicted1 = model.predict(X_test)\n",
    "\n",
    "print(model.score(X_test, y_test))\n",
    "\n",
    "# summarize the fit of the model\n",
    "print(\"accuracy: \" + str(metrics.accuracy_score(tree_expected1, tree_predicted1)))\n",
    "print(metrics.classification_report(tree_expected1, tree_predicted1))"
   ]
  },
  {
   "cell_type": "code",
   "execution_count": 49,
   "metadata": {},
   "outputs": [
    {
     "name": "stdout",
     "output_type": "stream",
     "text": [
      "DecisionTreeClassifier(class_weight=None, criterion='gini', max_depth=None,\n",
      "            max_features=None, max_leaf_nodes=None,\n",
      "            min_impurity_decrease=0.0, min_impurity_split=None,\n",
      "            min_samples_leaf=1, min_samples_split=2,\n",
      "            min_weight_fraction_leaf=0.0, presort=False, random_state=42,\n",
      "            splitter='best')\n",
      "0.6753246753246753\n",
      "accuracy: 0.6753246753246753\n",
      "             precision    recall  f1-score   support\n",
      "\n",
      "         No       0.84      0.74      0.79        62\n",
      "        Yes       0.27      0.40      0.32        15\n",
      "\n",
      "avg / total       0.73      0.68      0.70        77\n",
      "\n"
     ]
    }
   ],
   "source": [
    "# Decision Tree with all Hashtags\n",
    "#Split the data\n",
    "X = v2_tfidf.toarray()\n",
    "y = instagramdf['greatpost'].values\n",
    "X_train, X_test, y_train, y_test = train_test_split(X, y, test_size=0.3, random_state=43) #random_state is set seed\n",
    "\n",
    "model = DecisionTreeClassifier(random_state = 42)\n",
    "print(model)\n",
    "model.fit(X_train, y_train)\n",
    "\n",
    "# make predictions\n",
    "tree_expected2 = y_test\n",
    "tree_predicted2 = model.predict(X_test)\n",
    "\n",
    "print(model.score(X_test, y_test))\n",
    "\n",
    "# summarize the fit of the model\n",
    "print(\"accuracy: \" + str(metrics.accuracy_score(tree_expected2, tree_predicted2)))\n",
    "print(metrics.classification_report(tree_expected2, tree_predicted2))"
   ]
  },
  {
   "cell_type": "code",
   "execution_count": 50,
   "metadata": {},
   "outputs": [
    {
     "name": "stdout",
     "output_type": "stream",
     "text": [
      "DecisionTreeClassifier(class_weight=None, criterion='gini', max_depth=None,\n",
      "            max_features=None, max_leaf_nodes=None,\n",
      "            min_impurity_decrease=0.0, min_impurity_split=None,\n",
      "            min_samples_leaf=1, min_samples_split=2,\n",
      "            min_weight_fraction_leaf=0.0, presort=False, random_state=42,\n",
      "            splitter='best')\n",
      "0.8571428571428571\n",
      "accuracy: 0.8571428571428571\n",
      "             precision    recall  f1-score   support\n",
      "\n",
      "         No       0.91      0.93      0.92        68\n",
      "        Yes       0.38      0.33      0.35         9\n",
      "\n",
      "avg / total       0.85      0.86      0.85        77\n",
      "\n"
     ]
    }
   ],
   "source": [
    "# Decision Tree w/ some hastags\n",
    "#Split the data\n",
    "X = v3_tfidf.toarray()\n",
    "y = instagramdf['greatpost'].values\n",
    "X_train, X_test, y_train, y_test = train_test_split(X, y, test_size=0.3, random_state=42) #random_state is set seed\n",
    "\n",
    "model = DecisionTreeClassifier(random_state = 42)\n",
    "print(model)\n",
    "model.fit(X_train, y_train)\n",
    "\n",
    "# make predictions\n",
    "tree_expected3 = y_test\n",
    "tree_predicted3 = model.predict(X_test)\n",
    "\n",
    "print(model.score(X_test, y_test))\n",
    "\n",
    "# summarize the fit of the model\n",
    "print(\"accuracy: \" + str(metrics.accuracy_score(tree_expected3, tree_predicted3)))\n",
    "print(metrics.classification_report(tree_expected3, tree_predicted3))"
   ]
  },
  {
   "cell_type": "code",
   "execution_count": 46,
   "metadata": {},
   "outputs": [],
   "source": [
    "#create the tree\n",
    "#from sklearn import tree\n",
    "#dot_data = tree.export_graphviz(model, out_file=None, \n",
    "#                         feature_names=tfidf3.get_feature_names() ,  \n",
    "#                         class_names=instagramdf.greatpost.unique() ,  \n",
    "#                         filled=True, rounded=True,  \n",
    "#                         special_characters=True)  "
   ]
  },
  {
   "cell_type": "code",
   "execution_count": 57,
   "metadata": {
    "scrolled": true
   },
   "outputs": [],
   "source": [
    "#import graphviz \n",
    "#graph = graphviz.Source(dot_data)  # creates the graph\n",
    "#graph"
   ]
  },
  {
   "cell_type": "code",
   "execution_count": 47,
   "metadata": {},
   "outputs": [],
   "source": [
    "#Export image of the decision Tree\n",
    "\n",
    "#import os     \n",
    "#os.environ[\"PATH\"] += os.pathsep + 'C:/Program Files (x86)/Graphviz2.38/bin/'\n",
    "#from sklearn.externals.six import StringIO  \n",
    "#import pydotplus \n",
    "#dot_data = StringIO() \n",
    "#tree.export_graphviz(model, feature_names=tfidf.get_feature_names(), class_names=instagramdf.greatpost.unique(), filled=True, out_file=dot_data)\n",
    "#graph = pydotplus.graph_from_dot_data(dot_data.getvalue()) \n",
    "#graph.write_pdf(\"tree.pdf\") "
   ]
  },
  {
   "cell_type": "code",
   "execution_count": 51,
   "metadata": {},
   "outputs": [
    {
     "data": {
      "image/png": "[encoded data removed]",
      "text/plain": [
       "<matplotlib.figure.Figure at 0x144b3137f98>"
      ]
     },
     "metadata": {},
     "output_type": "display_data"
    },
    {
     "name": "stdout",
     "output_type": "stream",
     "text": [
      "[[68  0]\n",
      " [ 9  0]]\n"
     ]
    },
    {
     "data": {
      "image/png": "[encoded data removed]",
      "text/plain": [
       "<matplotlib.figure.Figure at 0x144b1a142b0>"
      ]
     },
     "metadata": {},
     "output_type": "display_data"
    },
    {
     "name": "stdout",
     "output_type": "stream",
     "text": [
      "[[68  0]\n",
      " [ 9  0]]\n"
     ]
    },
    {
     "data": {
      "image/png": "[encoded data removed]",
      "text/plain": [
       "<matplotlib.figure.Figure at 0x144b3191f98>"
      ]
     },
     "metadata": {},
     "output_type": "display_data"
    },
    {
     "name": "stdout",
     "output_type": "stream",
     "text": [
      "[[53 15]\n",
      " [ 7  2]]\n"
     ]
    },
    {
     "data": {
      "image/png": "[encoded data removed]",
      "text/plain": [
       "<matplotlib.figure.Figure at 0x144b3243358>"
      ]
     },
     "metadata": {},
     "output_type": "display_data"
    },
    {
     "name": "stdout",
     "output_type": "stream",
     "text": [
      "[[46 16]\n",
      " [ 9  6]]\n"
     ]
    },
    {
     "data": {
      "image/png": "[encoded data removed]",
      "text/plain": [
       "<matplotlib.figure.Figure at 0x144b32e3240>"
      ]
     },
     "metadata": {},
     "output_type": "display_data"
    },
    {
     "name": "stdout",
     "output_type": "stream",
     "text": [
      "[[63  5]\n",
      " [ 6  3]]\n"
     ]
    }
   ],
   "source": [
    "# display confusion matrix\n",
    "%matplotlib inline\n",
    "import matplotlib as mpl\n",
    "import matplotlib.pyplot as plt\n",
    "\n",
    "def create_cm(t1, t2):\n",
    "    cm = metrics.confusion_matrix(t1, t2)\n",
    "    plt.matshow(cm)\n",
    "    plt.title('Confusion matrix')\n",
    "    plt.colorbar()\n",
    "    plt.ylabel('True label')\n",
    "    plt.xlabel('Predicted label')\n",
    "    plt.show()\n",
    "    print(cm)\n",
    "\n",
    "create_cm(nb_expected, nb_predicted)    \n",
    "create_cm(log_expected, log_predicted)\n",
    "create_cm(tree_expected1, tree_predicted1)   \n",
    "create_cm(tree_expected2, tree_predicted2)\n",
    "create_cm(tree_expected3, tree_predicted3)"
   ]
  }
 ],
 "metadata": {
  "kernelspec": {
   "display_name": "Python 3",
   "language": "python",
   "name": "python3"
  },
  "language_info": {
   "codemirror_mode": {
    "name": "ipython",
    "version": 3
   },
   "file_extension": ".py",
   "mimetype": "text/x-python",
   "name": "python",
   "nbconvert_exporter": "python",
   "pygments_lexer": "ipython3",
   "version": "3.6.4"
  }
 },
 "nbformat": 4,
 "nbformat_minor": 2
}
