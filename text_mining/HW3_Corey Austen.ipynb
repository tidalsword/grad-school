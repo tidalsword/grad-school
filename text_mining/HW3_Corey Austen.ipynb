{
 "cells": [
  {
   "cell_type": "markdown",
   "metadata": {},
   "source": [
    "# Homework Assignment 3 - BIA 6304 - Corey Austen\n",
    "\n",
    "#### Q1. Write a short description of the results of these “baseline” models. Make sure your answer is no longer than four paragraphs, and should at minimum answer these questions:\n",
    "#### •\tWhat decisions did you make when creating your feature space? Why?  \n",
    "#### •\tHow do these classifiers address your question?\n",
    "#### •\tHow did your models perform? Are you happy with the results?  Why or why not?\n",
    "#### Audience: general – management or non-technical staff. NOTE: this is a GENERAL AUDIENCE RESPONSE - be VERY careful with how you mention/describe/discuss the various models.  Detailed descriptions of the classifiers is not required but any discussion of them must be NON TECHNICAL (but not fluffy).  \n",
    "\n",
    "A1. The question I am trying to answer is the \"Can I create a classifier that can match the accuracy of the sentiment analysis I previously ran on the State of the Union Speech data?\" The data that I am working with is the transcript text of the 2018 State of the Union address.  In a previous excersize, I ran an analysis that labeled each line of the speech as having a positive, nagative, or neutral sentiment.  The purpose of this excesize is to create an automated classifier that can look at speeches like this one and label them as positive, negative, or neutral accurately.\n",
    "\n",
    "In order to test this, I created 4 predictive models: logistic regression, decision tree, naive bayes, and KNN.  \n",
    "\n",
    "Before running the text through the models, I had to vectorize the date.  I did this using a count vectorizer. The count vectorizer works to tailor down a feature space that will best represent the text it is pulled from.  The feature space is configured to include words that appear more than 3% of the time, but less than 50%.  The idea here is to zero in on the most important words. If the words appear less than 3% of the time, we can assume that they would not have a lot of predictive power. Anything that appears more than 50%, the same can be assumed, since it would appear so often.  I chose to remove the stop words, as well as a few extra that are not included by default, that add no contextual value to the text. I also replaced some words in the text that had the same meaning to better capture them in the feature space.  I also set the vectorizer to look for recurring pairs of words to add to the feature space.\n",
    "\n",
    "The baseline models I created performed rather poorly.  The models were scored based on their accuracy. The Logistic Regression  model accurately predicted the sentiment of the text 46% of the time.  The decision tree model had a 48% accuracy rate.  The KNN clustering model scored a 44%.  The best overall was the Naive Bayes model, with a 51% accuracy rate.  These models would not be useful in any sense, as any of these models being used a classifier would produce unreliable results."
   ]
  },
  {
   "cell_type": "markdown",
   "metadata": {},
   "source": [
    "#### Q2. Write a short description of the improvement you were able to make in your prediction. Make sure your answer is no longer than four paragraphs, and should at minimum answer these questions:\n",
    "#### •\tWhat combination of classifiers and settings did you use and why?\n",
    "#### •\tWhich model fit “best” and what metric did you use for the comparison? Why? \n",
    "#### •\tAre you happy with the results? Why or why not?  What could you do to improve on the “best” model’s performance?\n",
    "#### Audience: technical – fellow data scientists or other technical staff.\n",
    " \n",
    "A2. I made two different improvements to the models I created.  The first improvement was to use a tfidf vectorizor instead of the count vectorizer, but leaving all other settings intact.  I wanted to see if using weights would have any effect on the actual models.  Unfortunately, the improvements were marginal at best, with some models seeing some decline in accuracy.  The Naive Bays model performed worse with 46% accuracy (compared to 51% before.)  Logistic Regression also performed worse with 44%, (down from 46%.)  However, the decision tree did see some improvement, with an accuracy score of 53% (up from 48%.) \n",
    "\n",
    "Unsatisfied with these results, I changed things again.  For the second revision, I added a lemmetizer to the preprocessing steps, and decided to keep using the tfidf weights like in the previous revision.  I decided to do this and leave the tfidf vectorizer in hopes of seeing significant improvement in the decision tree model.  The Naive Bayes model say a drop in accuracy again, with 44% accuracy.  The Logistic Regression model scored the same, at 44%.  The Decision tree model, however, did see some improvement, with an accuracy rate of 60%.  Although this was a significant improvement, I would not say that I am happy with these results.  A model with a 60% accuracy rate would still not produce a reliable classifier.  In order to improve on this model even further, we would likely need to do much more preprocessing and tweek the settings of the vectorizer more to improve this a bit more."
   ]
  },
  {
   "cell_type": "markdown",
   "metadata": {},
   "source": [
    "#### Q3.  Write a short description of the outcome of your clustering exercise. Make sure your answer is no longer than four paragraphs, and should at minimum answer these questions:\n",
    "#### •\tHow many clusters did you “find”? Why did you select that number? \n",
    "#### •\tCan you easily describe your clusters with a text label?  If so, what are the labels and how do they help?  If not, why not? \n",
    "#### Audience: general – management or non-technical staff. NOTE: this is a GENERAL AUDIENCE RESPONSE - be VERY careful with how you describe the clustering exercise.  Detailed descriptions of K-means is not required but any discussion of them must be NON TECHNICAL (but not fluffy).\n",
    "\n",
    "A3.  To begin the k-means excersize, I created an elbow chart that shows how much of the variance between each cluster is explained.  Since the graph does not show a visible \"elbow,\" it isn't terribly obvious where the k-value should be set.  I ended up settling on 16 clusters.  The reason I chose this number is because the clusters all were more evenly distributed than other k values, and there was a very slight change in the elbow graph at that value.\n",
    "\n",
    "Unfortunately I cannot easily describe the clusters.  I assigned the cluster value to each row, then exported the dataframe to a csv file to examine in Excel.  I went through and could not easily identify similarities in the clusters. Based on this, I would say that the cluster analysis is not a useful way to to look at this text data."
   ]
  },
  {
   "cell_type": "code",
   "execution_count": 1,
   "metadata": {
    "collapsed": true
   },
   "outputs": [],
   "source": [
    "# Setting up\n",
    "import pandas as pd\n",
    "import numpy as np\n",
    "import re\n",
    "import requests\n",
    "from sklearn.feature_extraction.text import CountVectorizer, TfidfVectorizer\n",
    "import math\n",
    "from __future__ import division\n",
    "from nltk.corpus import stopwords\n",
    "from sklearn.feature_extraction import text\n",
    "pd.set_option('display.max_colwidth', 150)"
   ]
  },
  {
   "cell_type": "code",
   "execution_count": 2,
   "metadata": {
    "collapsed": true
   },
   "outputs": [],
   "source": [
    "pathname = \"/Users/ca034330/Google Drive/Corey - School/Spring 2018 A/BIA 6304 - Text Mining/HW_2/\"\n",
    "pd.set_option('display.max_colwidth', 15000)"
   ]
  },
  {
   "cell_type": "code",
   "execution_count": 3,
   "metadata": {},
   "outputs": [
    {
     "name": "stdout",
     "output_type": "stream",
     "text": [
      "(149, 1)\n",
      "['text']\n"
     ]
    }
   ],
   "source": [
    "speechdf = pd.read_csv(pathname + \"trump_speech.csv\", index_col = 0) \n",
    "print(speechdf.shape)\n",
    "print(list(speechdf))"
   ]
  },
  {
   "cell_type": "markdown",
   "metadata": {},
   "source": [
    "### T1.  Read in or create a data frame with at least one column of text to be analyzed.  This could be the text you used previously or new text. Choose a prediction you would like to make with these data and create the appropriate feature space. Identify the labels you will be trying to predict and proceed to create a train-test split. Using default model parameters, fit 3 classifiers (decision tree, naïve bayes, logistic regression, or knn) to your dataset and subsequently generate predictions (just like we did in class). Feel free to set a random state variable where appropriate to facilitate replication.  Assess the performance of the models using any of the measures (confusion matrices, precision, recall, f1-score, and accuracy)."
   ]
  },
  {
   "cell_type": "code",
   "execution_count": 4,
   "metadata": {
    "collapsed": true
   },
   "outputs": [],
   "source": [
    "#Task 1 - Using the Trump Speech data, create a Decision Tree, Logistic Regression, and KNN.  Predict the positive/negative sentiment.\n",
    "#Random state of 42\n",
    "#Creating the nltk stopword list and adding terms to it that appear too often and add no meaning.\n",
    "nltk_stopwords = stopwords.words(\"english\")\n",
    "skl_stopwords = text.ENGLISH_STOP_WORDS\n",
    "\n",
    "custom_nltk = nltk_stopwords + [\"000\", \"mr\", \"said\", \"says\",\"say\", \"ms\", \"also\", \"has\", \"this\", \"one\", \"home\", \"every\", \"tonight\" ]\n",
    "\n",
    "#nltk_stopwords.remove('before') #In case I need to remove words"
   ]
  },
  {
   "cell_type": "code",
   "execution_count": 5,
   "metadata": {
    "collapsed": true
   },
   "outputs": [],
   "source": [
    "#Creating a dictionary to replace words in the corpus in order to combine like terms.\n",
    "speech_dict = {'united states':'america', 'americans': 'american', 'years':'year', \"us\":\"american\"}\n",
    "\n",
    "\n",
    "def multiple_replace(dict, text): \n",
    "\n",
    "  text = str(text).lower()\n",
    "\n",
    "  # Create a regular expression  from the dictionary keys\n",
    "  regex = re.compile(\"(%s)\" % \"|\".join(map(re.escape, dict.keys())))\n",
    "\n",
    "  # For each match, look-up corresponding value in dictionary\n",
    "  return regex.sub(lambda mo: dict[mo.string[mo.start():mo.end()]], text)"
   ]
  },
  {
   "cell_type": "code",
   "execution_count": 6,
   "metadata": {},
   "outputs": [
    {
     "data": {
      "text/html": [
       "<div>\n",
       "<style>\n",
       "    .dataframe thead tr:only-child th {\n",
       "        text-align: right;\n",
       "    }\n",
       "\n",
       "    .dataframe thead th {\n",
       "        text-align: left;\n",
       "    }\n",
       "\n",
       "    .dataframe tbody tr th {\n",
       "        vertical-align: top;\n",
       "    }\n",
       "</style>\n",
       "<table border=\"1\" class=\"dataframe\">\n",
       "  <thead>\n",
       "    <tr style=\"text-align: right;\">\n",
       "      <th></th>\n",
       "      <th>text</th>\n",
       "      <th>cleantext</th>\n",
       "    </tr>\n",
       "  </thead>\n",
       "  <tbody>\n",
       "    <tr>\n",
       "      <th>0</th>\n",
       "      <td>Mr. Speaker, Mr. Vice President, members of Congress, the first lady of the United States, and my fellow Americans:</td>\n",
       "      <td>mr. speaker, mr. vice president, members of congress, the first lady of the america, and my fellow american:</td>\n",
       "    </tr>\n",
       "  </tbody>\n",
       "</table>\n",
       "</div>"
      ],
      "text/plain": [
       "                                                                                                                  text  \\\n",
       "0  Mr. Speaker, Mr. Vice President, members of Congress, the first lady of the United States, and my fellow Americans:   \n",
       "\n",
       "                                                                                                      cleantext  \n",
       "0  mr. speaker, mr. vice president, members of congress, the first lady of the america, and my fellow american:  "
      ]
     },
     "execution_count": 6,
     "metadata": {},
     "output_type": "execute_result"
    }
   ],
   "source": [
    "#use the dictionary to replace words in the corpus\n",
    "\n",
    "speechdf['cleantext'] = speechdf.text.apply(lambda x: multiple_replace(speech_dict, x))\n",
    "speechdf[0:1] "
   ]
  },
  {
   "cell_type": "code",
   "execution_count": 7,
   "metadata": {},
   "outputs": [
    {
     "name": "stdout",
     "output_type": "stream",
     "text": [
      "(149, 71)\n"
     ]
    },
    {
     "data": {
      "text/html": [
       "<div>\n",
       "<style>\n",
       "    .dataframe thead tr:only-child th {\n",
       "        text-align: right;\n",
       "    }\n",
       "\n",
       "    .dataframe thead th {\n",
       "        text-align: left;\n",
       "    }\n",
       "\n",
       "    .dataframe tbody tr th {\n",
       "        vertical-align: top;\n",
       "    }\n",
       "</style>\n",
       "<table border=\"1\" class=\"dataframe\">\n",
       "  <thead>\n",
       "    <tr style=\"text-align: right;\">\n",
       "      <th></th>\n",
       "      <th>count</th>\n",
       "    </tr>\n",
       "  </thead>\n",
       "  <tbody>\n",
       "    <tr>\n",
       "      <th>american</th>\n",
       "      <td>79</td>\n",
       "    </tr>\n",
       "    <tr>\n",
       "      <th>america</th>\n",
       "      <td>33</td>\n",
       "    </tr>\n",
       "    <tr>\n",
       "      <th>year</th>\n",
       "      <td>29</td>\n",
       "    </tr>\n",
       "    <tr>\n",
       "      <th>people</th>\n",
       "      <td>26</td>\n",
       "    </tr>\n",
       "    <tr>\n",
       "      <th>new</th>\n",
       "      <td>21</td>\n",
       "    </tr>\n",
       "    <tr>\n",
       "      <th>tax</th>\n",
       "      <td>15</td>\n",
       "    </tr>\n",
       "    <tr>\n",
       "      <th>country</th>\n",
       "      <td>15</td>\n",
       "    </tr>\n",
       "    <tr>\n",
       "      <th>last</th>\n",
       "      <td>13</td>\n",
       "    </tr>\n",
       "    <tr>\n",
       "      <th>congress</th>\n",
       "      <td>13</td>\n",
       "    </tr>\n",
       "    <tr>\n",
       "      <th>great</th>\n",
       "      <td>13</td>\n",
       "    </tr>\n",
       "  </tbody>\n",
       "</table>\n",
       "</div>"
      ],
      "text/plain": [
       "          count\n",
       "american     79\n",
       "america      33\n",
       "year         29\n",
       "people       26\n",
       "new          21\n",
       "tax          15\n",
       "country      15\n",
       "last         13\n",
       "congress     13\n",
       "great        13"
      ]
     },
     "execution_count": 7,
     "metadata": {},
     "output_type": "execute_result"
    }
   ],
   "source": [
    "cv = CountVectorizer(binary=False, min_df = .03, max_df = .5,stop_words = custom_nltk, ngram_range = (1,2))\n",
    "cv_speech = cv.fit_transform(speechdf['cleantext'])\n",
    "print(cv_speech.shape)\n",
    "\n",
    "names = cv.get_feature_names()\n",
    "count = np.sum(cv_speech.toarray(), axis = 0)\n",
    "count2 = count.tolist()\n",
    "count_df = pd.DataFrame(count2, index = names, columns = ['count'])\n",
    "count_df.sort_values(['count'], ascending = False)[0:10]"
   ]
  },
  {
   "cell_type": "code",
   "execution_count": 8,
   "metadata": {
    "collapsed": true
   },
   "outputs": [],
   "source": [
    "pathname = \"/Users/ca034330/Google Drive/Corey - School/Spring 2018 A/BIA 6304 - Text Mining/HW_2/Dictionaries/\""
   ]
  },
  {
   "cell_type": "code",
   "execution_count": 9,
   "metadata": {
    "collapsed": true
   },
   "outputs": [],
   "source": [
    "#Creating a new sentiment dictionary.\n",
    "new_afinn = {}\n",
    "for line in open(pathname+\"AFINN-111.txt\"):\n",
    "    tt = line.split('\\t')\n",
    "    new_afinn.update({tt[0]:int(tt[1])})"
   ]
  },
  {
   "cell_type": "code",
   "execution_count": 10,
   "metadata": {
    "collapsed": true
   },
   "outputs": [],
   "source": [
    "# Adding a new term to the sentiment dictionary\n",
    "new_afinn['rescue'] =3"
   ]
  },
  {
   "cell_type": "code",
   "execution_count": 11,
   "metadata": {
    "collapsed": true
   },
   "outputs": [],
   "source": [
    "def new_afinn_sent(inputstring):\n",
    "    \n",
    "    sentcount =0\n",
    "    for word in inputstring.split():  \n",
    "        if word.rstrip('?:!.,;') in new_afinn:\n",
    "            sentcount = sentcount + new_afinn[word.rstrip('?:!.,;')]\n",
    "             \n",
    "    if (sentcount < 0):\n",
    "        sentiment = 'Negative'\n",
    "    elif (sentcount >0):\n",
    "        sentiment = 'Positive'\n",
    "    else:\n",
    "        sentiment = 'Neutral'\n",
    "    \n",
    "    return sentiment"
   ]
  },
  {
   "cell_type": "code",
   "execution_count": 12,
   "metadata": {
    "collapsed": true
   },
   "outputs": [],
   "source": [
    "speechdf['afinn'] = speechdf[\"cleantext\"].apply(lambda x: new_afinn_sent(x))"
   ]
  },
  {
   "cell_type": "code",
   "execution_count": 13,
   "metadata": {},
   "outputs": [
    {
     "data": {
      "text/html": [
       "<div>\n",
       "<style>\n",
       "    .dataframe thead tr:only-child th {\n",
       "        text-align: right;\n",
       "    }\n",
       "\n",
       "    .dataframe thead th {\n",
       "        text-align: left;\n",
       "    }\n",
       "\n",
       "    .dataframe tbody tr th {\n",
       "        vertical-align: top;\n",
       "    }\n",
       "</style>\n",
       "<table border=\"1\" class=\"dataframe\">\n",
       "  <thead>\n",
       "    <tr style=\"text-align: right;\">\n",
       "      <th></th>\n",
       "      <th>cleantext</th>\n",
       "      <th>afinn</th>\n",
       "    </tr>\n",
       "  </thead>\n",
       "  <tbody>\n",
       "    <tr>\n",
       "      <th>0</th>\n",
       "      <td>mr. speaker, mr. vice president, members of congress, the first lady of the america, and my fellow american:</td>\n",
       "      <td>Neutral</td>\n",
       "    </tr>\n",
       "    <tr>\n",
       "      <th>1</th>\n",
       "      <td>less than one year has passed since i first stood at this podium, in this majestic chamber, to speak on behalf of the american people — and to address their concerns, their hopes and their dreams. that night, our new administration had already taken swift action. a new tide of optimism was already sweeping across our land.</td>\n",
       "      <td>Positive</td>\n",
       "    </tr>\n",
       "    <tr>\n",
       "      <th>2</th>\n",
       "      <td>each day since, we have gone forward with a clear vision and a righteoamerican mission — to make america great again for all american.</td>\n",
       "      <td>Positive</td>\n",
       "    </tr>\n",
       "    <tr>\n",
       "      <th>3</th>\n",
       "      <td>over the last year, we have made incredible progress and achieved extraordinary success. we have faced challenges we expected, and others we could never have imagined. we have shared in the heights of victory and the pains of hardship. we endured floods and fires and storms. but through it all, we have seen the beauty of america's soul, and the steel in america's spine.</td>\n",
       "      <td>Positive</td>\n",
       "    </tr>\n",
       "    <tr>\n",
       "      <th>4</th>\n",
       "      <td>each test has forged new american heroes to remind american who we are, and show american what we can be.</td>\n",
       "      <td>Positive</td>\n",
       "    </tr>\n",
       "    <tr>\n",
       "      <th>5</th>\n",
       "      <td>we saw the volunteers of the \"cajun navy,\" racing to the rescue with their fishing boats to save people in the aftermath of a devastating hurricane.</td>\n",
       "      <td>Positive</td>\n",
       "    </tr>\n",
       "    <tr>\n",
       "      <th>6</th>\n",
       "      <td>we saw strangers shielding strangers from a hail of gunfire on the las vegas strip.</td>\n",
       "      <td>Positive</td>\n",
       "    </tr>\n",
       "    <tr>\n",
       "      <th>7</th>\n",
       "      <td>we heard tales of american like coast guard petty officer ashlee leppert, who is here tonight in the gallery with melania. ashlee was aboard one of the first helicopters on the scene in hoamericanton during hurricane harvey. through 18 hours of wind and rain, ashlee braved live power lines and deep water to help save more than 40 lives. thank you, ashlee.</td>\n",
       "      <td>Positive</td>\n",
       "    </tr>\n",
       "    <tr>\n",
       "      <th>8</th>\n",
       "      <td>we heard about american like firefighter david dahlberg. he is here with american too. david faced down walls of flame to rescue almost 60 children trapped at a california summer camp threatened by wildfires.</td>\n",
       "      <td>Positive</td>\n",
       "    </tr>\n",
       "    <tr>\n",
       "      <th>9</th>\n",
       "      <td>to everyone still recovering in texas, florida, louisiana, puerto rico, the virgin islands, california and everywhere else — we are with you, we love you, and we will pull through together.</td>\n",
       "      <td>Positive</td>\n",
       "    </tr>\n",
       "  </tbody>\n",
       "</table>\n",
       "</div>"
      ],
      "text/plain": [
       "                                                                                                                                                                                                                                                                                                                                                                              cleantext  \\\n",
       "0                                                                                                                                                                                                                                                                          mr. speaker, mr. vice president, members of congress, the first lady of the america, and my fellow american:   \n",
       "1                                                  less than one year has passed since i first stood at this podium, in this majestic chamber, to speak on behalf of the american people — and to address their concerns, their hopes and their dreams. that night, our new administration had already taken swift action. a new tide of optimism was already sweeping across our land.   \n",
       "2                                                                                                                                                                                                                                                each day since, we have gone forward with a clear vision and a righteoamerican mission — to make america great again for all american.   \n",
       "3  over the last year, we have made incredible progress and achieved extraordinary success. we have faced challenges we expected, and others we could never have imagined. we have shared in the heights of victory and the pains of hardship. we endured floods and fires and storms. but through it all, we have seen the beauty of america's soul, and the steel in america's spine.   \n",
       "4                                                                                                                                                                                                                                                                             each test has forged new american heroes to remind american who we are, and show american what we can be.   \n",
       "5                                                                                                                                                                                                                                  we saw the volunteers of the \"cajun navy,\" racing to the rescue with their fishing boats to save people in the aftermath of a devastating hurricane.   \n",
       "6                                                                                                                                                                                                                                                                                                   we saw strangers shielding strangers from a hail of gunfire on the las vegas strip.   \n",
       "7                 we heard tales of american like coast guard petty officer ashlee leppert, who is here tonight in the gallery with melania. ashlee was aboard one of the first helicopters on the scene in hoamericanton during hurricane harvey. through 18 hours of wind and rain, ashlee braved live power lines and deep water to help save more than 40 lives. thank you, ashlee.   \n",
       "8                                                                                                                                                                      we heard about american like firefighter david dahlberg. he is here with american too. david faced down walls of flame to rescue almost 60 children trapped at a california summer camp threatened by wildfires.   \n",
       "9                                                                                                                                                                                         to everyone still recovering in texas, florida, louisiana, puerto rico, the virgin islands, california and everywhere else — we are with you, we love you, and we will pull through together.   \n",
       "\n",
       "      afinn  \n",
       "0   Neutral  \n",
       "1  Positive  \n",
       "2  Positive  \n",
       "3  Positive  \n",
       "4  Positive  \n",
       "5  Positive  \n",
       "6  Positive  \n",
       "7  Positive  \n",
       "8  Positive  \n",
       "9  Positive  "
      ]
     },
     "execution_count": 13,
     "metadata": {},
     "output_type": "execute_result"
    }
   ],
   "source": [
    "speechdf.iloc[0:10][['cleantext','afinn']]"
   ]
  },
  {
   "cell_type": "markdown",
   "metadata": {},
   "source": [
    "### Time to create the train/test sets"
   ]
  },
  {
   "cell_type": "code",
   "execution_count": 14,
   "metadata": {},
   "outputs": [
    {
     "data": {
      "text/plain": [
       "<matplotlib.axes._subplots.AxesSubplot at 0x1ef291cbe10>"
      ]
     },
     "execution_count": 14,
     "metadata": {},
     "output_type": "execute_result"
    },
    {
     "data": {
      "image/png": "[encoded data removed]",
      "text/plain": [
       "<matplotlib.figure.Figure at 0x1ef29194b00>"
      ]
     },
     "metadata": {},
     "output_type": "display_data"
    }
   ],
   "source": [
    "%matplotlib inline\n",
    "import matplotlib as mpl\n",
    "import matplotlib.pyplot as plt\n",
    "\n",
    "# get a feel for the distribution\n",
    "speechdf['afinn'].value_counts().plot(kind='bar')"
   ]
  },
  {
   "cell_type": "code",
   "execution_count": 15,
   "metadata": {},
   "outputs": [
    {
     "name": "stdout",
     "output_type": "stream",
     "text": [
      "<class 'numpy.ndarray'> [[0 0 1 1 0 0 0 0 0 0 1 0 0 0 0 0 0 0 0 0 1 0 0 0 0 0 0 0 0 0 0 0 0 0 0 0 0\n",
      "  0 0 0 0 0 0 0 0 0 0 0 0 0 0 0 0 0 0 0 0 0 0 0 0 0 0 0 0 0 0 0 0 0 0]\n",
      " [1 0 0 1 0 0 0 0 0 0 0 0 0 0 0 0 0 0 0 0 1 0 0 0 0 0 0 0 0 0 0 0 0 0 0 0 0\n",
      "  0 0 0 0 0 0 0 0 0 0 2 0 0 0 1 1 0 0 0 0 0 0 1 0 0 0 0 0 0 0 0 0 0 1]\n",
      " [0 0 1 1 0 0 0 0 0 0 0 0 0 0 1 0 0 0 0 0 0 0 0 0 0 1 0 0 0 0 0 0 0 0 0 0 0\n",
      "  0 0 0 0 0 1 0 0 0 0 0 0 0 0 0 0 0 0 0 0 0 0 1 0 0 0 0 0 0 0 0 0 0 0]\n",
      " [0 0 2 0 0 0 0 0 0 0 0 1 0 0 0 0 0 0 0 0 0 0 0 0 0 0 0 0 0 0 0 0 0 0 0 0 1\n",
      "  1 0 0 0 0 0 0 0 0 1 0 0 0 0 0 0 0 0 0 0 0 0 0 0 0 0 0 0 0 0 0 0 0 1]\n",
      " [0 0 0 3 0 0 0 0 0 0 0 0 0 0 0 0 0 0 0 0 0 0 0 0 0 0 0 1 0 0 0 0 0 0 0 0 0\n",
      "  0 0 0 0 0 0 0 0 0 0 1 0 0 0 0 0 0 0 0 0 0 0 0 0 0 0 0 0 0 0 0 0 0 0]\n",
      " [0 0 0 0 0 0 0 0 0 0 0 0 0 0 0 0 0 0 0 0 0 0 0 0 0 0 0 0 0 0 0 0 0 0 0 0 0\n",
      "  0 0 0 0 0 0 0 0 0 0 0 0 0 0 0 1 0 0 0 0 0 0 0 0 0 0 0 0 0 0 0 0 0 0]\n",
      " [0 0 0 0 0 0 0 0 0 0 0 0 0 0 0 0 0 0 0 0 0 0 0 0 0 0 0 0 0 0 0 0 0 0 0 0 0\n",
      "  0 0 0 0 0 0 0 0 0 0 0 0 0 0 0 0 0 0 0 0 0 0 0 0 0 0 0 0 0 0 0 0 0 0]\n",
      " [0 0 0 1 0 0 0 0 0 0 0 0 0 0 0 0 0 0 0 0 1 0 0 0 0 0 1 0 0 0 0 0 0 0 0 0 0\n",
      "  0 1 1 0 0 0 0 0 0 0 0 0 0 0 0 0 0 0 0 0 0 0 0 0 0 0 0 0 0 0 0 0 0 0]\n",
      " [0 0 0 2 0 0 0 0 0 0 0 0 0 0 0 0 0 0 0 0 0 0 0 0 0 0 0 0 0 0 0 0 0 0 0 0 0\n",
      "  0 1 0 0 0 0 0 0 0 0 0 0 0 0 0 0 0 0 0 0 0 0 0 0 0 0 0 0 0 0 0 0 0 0]\n",
      " [0 0 0 0 0 0 0 0 0 0 0 0 0 0 0 0 0 0 0 0 0 0 0 0 0 0 0 0 0 0 0 0 0 0 0 0 0\n",
      "  0 0 0 0 1 0 0 0 0 0 0 0 0 0 0 0 0 0 0 0 0 0 0 0 0 0 0 0 1 0 0 0 0 0]]\n",
      "<class 'numpy.ndarray'> ['Neutral' 'Positive' 'Positive' 'Positive' 'Positive' 'Positive'\n",
      " 'Positive' 'Positive' 'Positive' 'Positive']\n"
     ]
    }
   ],
   "source": [
    "# train test split\n",
    "# data are X, labels are y\n",
    "from sklearn.model_selection import train_test_split\n",
    "\n",
    "X = cv_speech.toarray()  #remember this is the output from the vectorizer and we are turning it into an array\n",
    "print(type(X), X[0:10])\n",
    "\n",
    "y = speechdf['afinn'].values #this is an array of labels\n",
    "print(type(y), y[0:10])\n"
   ]
  },
  {
   "cell_type": "code",
   "execution_count": 16,
   "metadata": {},
   "outputs": [
    {
     "name": "stdout",
     "output_type": "stream",
     "text": [
      "(104, 71)\n",
      "(45, 71)\n",
      "(104,)\n",
      "(45,)\n"
     ]
    }
   ],
   "source": [
    "X_train, X_test, y_train, y_test = train_test_split(X, y, test_size=0.3, random_state=42) #random_state is set seed\n",
    "\n",
    "# function creates 4 output structures - order matters\n",
    "print(X_train.shape)\n",
    "print(X_test.shape)\n",
    "print(y_train.shape)\n",
    "print(y_test.shape)"
   ]
  },
  {
   "cell_type": "markdown",
   "metadata": {},
   "source": [
    "### Native Bayes Model"
   ]
  },
  {
   "cell_type": "code",
   "execution_count": 17,
   "metadata": {},
   "outputs": [
    {
     "name": "stdout",
     "output_type": "stream",
     "text": [
      "MultinomialNB(alpha=1.0, class_prior=None, fit_prior=True)\n",
      "0.511111111111\n",
      "accuracy: 0.511111111111\n",
      "             precision    recall  f1-score   support\n",
      "\n",
      "   Negative       0.71      0.28      0.40        18\n",
      "    Neutral       0.20      0.33      0.25         6\n",
      "   Positive       0.57      0.76      0.65        21\n",
      "\n",
      "avg / total       0.58      0.51      0.50        45\n",
      "\n"
     ]
    }
   ],
   "source": [
    "# Multinomial Naive Bayes\n",
    "from sklearn import metrics\n",
    "from sklearn.naive_bayes import MultinomialNB\n",
    "\n",
    "# fit a Naive Bayes model to the data\n",
    "model = MultinomialNB()\n",
    "print(model)\n",
    "model.fit(X_train, y_train)\n",
    "\n",
    "# make predictions\n",
    "nb_expected = y_test\n",
    "nb_predicted = model.predict(X_test)\n",
    "\n",
    "print(model.score(X_test, y_test))\n",
    "\n",
    "# summarize the fit of the model\n",
    "print(\"accuracy: \" + str(metrics.accuracy_score(nb_expected, nb_predicted)))\n",
    "print(metrics.classification_report(nb_expected, nb_predicted))"
   ]
  },
  {
   "cell_type": "markdown",
   "metadata": {},
   "source": [
    "### Decision tree Model"
   ]
  },
  {
   "cell_type": "code",
   "execution_count": 18,
   "metadata": {},
   "outputs": [
    {
     "name": "stdout",
     "output_type": "stream",
     "text": [
      "DecisionTreeClassifier(class_weight=None, criterion='gini', max_depth=None,\n",
      "            max_features=None, max_leaf_nodes=None,\n",
      "            min_impurity_split=1e-07, min_samples_leaf=1,\n",
      "            min_samples_split=2, min_weight_fraction_leaf=0.0,\n",
      "            presort=False, random_state=42, splitter='best')\n",
      "0.488888888889\n",
      "accuracy: 0.488888888889\n",
      "             precision    recall  f1-score   support\n",
      "\n",
      "   Negative       0.55      0.61      0.58        18\n",
      "    Neutral       0.00      0.00      0.00         6\n",
      "   Positive       0.58      0.52      0.55        21\n",
      "\n",
      "avg / total       0.49      0.49      0.49        45\n",
      "\n"
     ]
    }
   ],
   "source": [
    "from sklearn import metrics\n",
    "from sklearn.tree import DecisionTreeClassifier\n",
    "\n",
    "# fit a logistic regression model to the data\n",
    "model = DecisionTreeClassifier(random_state = 42)\n",
    "print(model)\n",
    "model.fit(X_train, y_train)\n",
    "\n",
    "# make predictions\n",
    "tree_expected = y_test\n",
    "tree_predicted = model.predict(X_test)\n",
    "\n",
    "print(model.score(X_test, y_test))\n",
    "\n",
    "# summarize the fit of the model\n",
    "print(\"accuracy: \" + str(metrics.accuracy_score(tree_expected, tree_predicted)))\n",
    "print(metrics.classification_report(tree_expected, tree_predicted))"
   ]
  },
  {
   "cell_type": "code",
   "execution_count": 19,
   "metadata": {
    "collapsed": true
   },
   "outputs": [],
   "source": [
    "#create the tree\n",
    "#from sklearn import tree\n",
    "#dot_data = tree.export_graphviz(model, out_file=None, \n",
    "#                         feature_names=cv.get_feature_names() ,  \n",
    "#                         class_names=speechdf.afinn.unique() ,  \n",
    "#                         filled=True, rounded=True,  \n",
    "#                         special_characters=True) "
   ]
  },
  {
   "cell_type": "code",
   "execution_count": 20,
   "metadata": {
    "collapsed": true
   },
   "outputs": [],
   "source": [
    "#import graphviz \n",
    "#graph = graphviz.Source(dot_data)  # creates the graph \n",
    "#graph #renders the graph inline"
   ]
  },
  {
   "cell_type": "markdown",
   "metadata": {},
   "source": [
    "### Logistic Regression Model"
   ]
  },
  {
   "cell_type": "code",
   "execution_count": 21,
   "metadata": {},
   "outputs": [
    {
     "name": "stdout",
     "output_type": "stream",
     "text": [
      "LogisticRegression(C=1.0, class_weight=None, dual=False, fit_intercept=True,\n",
      "          intercept_scaling=1, max_iter=100, multi_class='ovr', n_jobs=1,\n",
      "          penalty='l2', random_state=42, solver='liblinear', tol=0.0001,\n",
      "          verbose=0, warm_start=False)\n",
      "0.466666666667\n",
      "accuracy: 0.466666666667\n",
      "             precision    recall  f1-score   support\n",
      "\n",
      "   Negative       0.75      0.33      0.46        18\n",
      "    Neutral       0.00      0.00      0.00         6\n",
      "   Positive       0.50      0.71      0.59        21\n",
      "\n",
      "avg / total       0.53      0.47      0.46        45\n",
      "\n"
     ]
    }
   ],
   "source": [
    "# Logistic Regression\n",
    "from sklearn.linear_model import LogisticRegression\n",
    "\n",
    "# fit a logistic regression model to the data\n",
    "model = LogisticRegression(random_state = 42)\n",
    "print(model)\n",
    "model.fit(X_train, y_train)\n",
    "\n",
    "# make predictions\n",
    "log_expected = y_test\n",
    "log_predicted = model.predict(X_test)\n",
    "\n",
    "print(model.score(X_test, y_test))\n",
    "\n",
    "# summarize the fit of the model\n",
    "print(\"accuracy: \" + str(metrics.accuracy_score(log_expected, log_predicted)))\n",
    "print(metrics.classification_report(log_expected, log_predicted))"
   ]
  },
  {
   "cell_type": "markdown",
   "metadata": {},
   "source": [
    "### KNN Model"
   ]
  },
  {
   "cell_type": "code",
   "execution_count": 22,
   "metadata": {},
   "outputs": [
    {
     "name": "stdout",
     "output_type": "stream",
     "text": [
      "0.444444444444\n",
      "accuracy: 0.444444444444\n",
      "             precision    recall  f1-score   support\n",
      "\n",
      "   Negative       0.46      0.67      0.55        18\n",
      "    Neutral       0.00      0.00      0.00         6\n",
      "   Positive       0.57      0.38      0.46        21\n",
      "\n",
      "avg / total       0.45      0.44      0.43        45\n",
      "\n"
     ]
    }
   ],
   "source": [
    "from sklearn import metrics\n",
    "from sklearn.neighbors import KNeighborsClassifier\n",
    "\n",
    "# instantiate learning model (k = 3)\n",
    "model = KNeighborsClassifier(n_neighbors=3)\n",
    "model.fit(X_train, y_train)\n",
    "\n",
    "\n",
    "# make predictions\n",
    "knn_expected = y_test\n",
    "knn_predicted = model.predict(X_test)\n",
    "\n",
    "\n",
    "print(model.score(X_test,y_test))\n",
    "\n",
    "# summarize the fit of the model\n",
    "print(\"accuracy: \" + str(metrics.accuracy_score(knn_expected, knn_predicted)))\n",
    "print(metrics.classification_report(knn_expected, knn_predicted))"
   ]
  },
  {
   "cell_type": "code",
   "execution_count": 2,
   "metadata": {},
   "outputs": [
    {
     "ename": "ModuleNotFoundError",
     "evalue": "No module named 'graphviz'",
     "output_type": "error",
     "traceback": [
      "\u001b[1;31m---------------------------------------------------------------------------\u001b[0m",
      "\u001b[1;31mModuleNotFoundError\u001b[0m                       Traceback (most recent call last)",
      "\u001b[1;32m<ipython-input-2-f7133d3517ab>\u001b[0m in \u001b[0;36m<module>\u001b[1;34m()\u001b[0m\n\u001b[1;32m----> 1\u001b[1;33m \u001b[1;32mimport\u001b[0m \u001b[0mgraphviz\u001b[0m\u001b[1;33m\u001b[0m\u001b[0m\n\u001b[0m",
      "\u001b[1;31mModuleNotFoundError\u001b[0m: No module named 'graphviz'"
     ]
    }
   ],
   "source": [
    "import graphviz"
   ]
  },
  {
   "cell_type": "code",
   "execution_count": 23,
   "metadata": {},
   "outputs": [
    {
     "data": {
      "image/png": "[encoded data removed]",
      "text/plain": [
       "<matplotlib.figure.Figure at 0x1ef29607438>"
      ]
     },
     "metadata": {},
     "output_type": "display_data"
    },
    {
     "name": "stdout",
     "output_type": "stream",
     "text": [
      "[[ 5  5  8]\n",
      " [ 0  2  4]\n",
      " [ 2  3 16]]\n"
     ]
    },
    {
     "data": {
      "image/png": "[encoded data removed]",
      "text/plain": [
       "<matplotlib.figure.Figure at 0x1ef296469e8>"
      ]
     },
     "metadata": {},
     "output_type": "display_data"
    },
    {
     "name": "stdout",
     "output_type": "stream",
     "text": [
      "[[ 6  3  9]\n",
      " [ 0  0  6]\n",
      " [ 2  4 15]]\n"
     ]
    },
    {
     "data": {
      "image/png": "[encoded data removed]",
      "text/plain": [
       "<matplotlib.figure.Figure at 0x1ef2979a0b8>"
      ]
     },
     "metadata": {},
     "output_type": "display_data"
    },
    {
     "name": "stdout",
     "output_type": "stream",
     "text": [
      "[[11  2  5]\n",
      " [ 3  0  3]\n",
      " [ 6  4 11]]\n"
     ]
    },
    {
     "data": {
      "image/png": "[encoded data removed]",
      "text/plain": [
       "<matplotlib.figure.Figure at 0x1ef295fa550>"
      ]
     },
     "metadata": {},
     "output_type": "display_data"
    },
    {
     "name": "stdout",
     "output_type": "stream",
     "text": [
      "[[12  2  4]\n",
      " [ 4  0  2]\n",
      " [10  3  8]]\n"
     ]
    }
   ],
   "source": [
    "# display confusion matrix\n",
    "def create_cm(t1, t2):\n",
    "    cm = metrics.confusion_matrix(t1, t2)\n",
    "    plt.matshow(cm)\n",
    "    plt.title('Confusion matrix')\n",
    "    plt.colorbar()\n",
    "    plt.ylabel('True label')\n",
    "    plt.xlabel('Predicted label')\n",
    "    plt.show()\n",
    "    print(cm)\n",
    "\n",
    "create_cm(nb_expected, nb_predicted)    \n",
    "create_cm(log_expected, log_predicted)\n",
    "create_cm(tree_expected, tree_predicted)\n",
    "create_cm(knn_expected, knn_predicted)"
   ]
  },
  {
   "cell_type": "markdown",
   "metadata": {},
   "source": [
    "T2. Using a variety of parameter settings (for classifiers or vectorizers), try to improve on the performance of the baseline models.  At least 6 separate predictions should be run and the results reported in a table.  You can use any combination of parameters and classifiers; you do not need to use all classifiers. Make sure at least one example uses a preprocessing option (stemming, lemmatization, custom dictionary, custom stopwords, etc.)"
   ]
  },
  {
   "cell_type": "code",
   "execution_count": 24,
   "metadata": {},
   "outputs": [
    {
     "name": "stdout",
     "output_type": "stream",
     "text": [
      "(149, 71)\n"
     ]
    },
    {
     "data": {
      "text/html": [
       "<div>\n",
       "<style>\n",
       "    .dataframe thead tr:only-child th {\n",
       "        text-align: right;\n",
       "    }\n",
       "\n",
       "    .dataframe thead th {\n",
       "        text-align: left;\n",
       "    }\n",
       "\n",
       "    .dataframe tbody tr th {\n",
       "        vertical-align: top;\n",
       "    }\n",
       "</style>\n",
       "<table border=\"1\" class=\"dataframe\">\n",
       "  <thead>\n",
       "    <tr style=\"text-align: right;\">\n",
       "      <th></th>\n",
       "      <th>weight</th>\n",
       "    </tr>\n",
       "  </thead>\n",
       "  <tbody>\n",
       "    <tr>\n",
       "      <th>american</th>\n",
       "      <td>20.073278</td>\n",
       "    </tr>\n",
       "    <tr>\n",
       "      <th>america</th>\n",
       "      <td>11.356299</td>\n",
       "    </tr>\n",
       "    <tr>\n",
       "      <th>people</th>\n",
       "      <td>9.399606</td>\n",
       "    </tr>\n",
       "    <tr>\n",
       "      <th>new</th>\n",
       "      <td>8.958162</td>\n",
       "    </tr>\n",
       "    <tr>\n",
       "      <th>year</th>\n",
       "      <td>8.613888</td>\n",
       "    </tr>\n",
       "    <tr>\n",
       "      <th>congress</th>\n",
       "      <td>5.994120</td>\n",
       "    </tr>\n",
       "    <tr>\n",
       "      <th>tax</th>\n",
       "      <td>5.833437</td>\n",
       "    </tr>\n",
       "    <tr>\n",
       "      <th>great</th>\n",
       "      <td>5.709072</td>\n",
       "    </tr>\n",
       "    <tr>\n",
       "      <th>together</th>\n",
       "      <td>5.441763</td>\n",
       "    </tr>\n",
       "    <tr>\n",
       "      <th>work</th>\n",
       "      <td>5.211586</td>\n",
       "    </tr>\n",
       "  </tbody>\n",
       "</table>\n",
       "</div>"
      ],
      "text/plain": [
       "             weight\n",
       "american  20.073278\n",
       "america   11.356299\n",
       "people     9.399606\n",
       "new        8.958162\n",
       "year       8.613888\n",
       "congress   5.994120\n",
       "tax        5.833437\n",
       "great      5.709072\n",
       "together   5.441763\n",
       "work       5.211586"
      ]
     },
     "execution_count": 24,
     "metadata": {},
     "output_type": "execute_result"
    }
   ],
   "source": [
    "#Revision 1 - Weights\n",
    "tfidf = TfidfVectorizer(binary=False, min_df = .03, max_df = .5,stop_words = custom_nltk, ngram_range = (1,2))\n",
    "v1_speech = tfidf.fit_transform(speechdf['cleantext'])\n",
    "print(cv_speech.shape)\n",
    "\n",
    "names = tfidf.get_feature_names()\n",
    "count = np.sum(v1_speech.toarray(), axis = 0)\n",
    "count2 = count.tolist()\n",
    "count_df = pd.DataFrame(count2, index = names, columns = ['weight'])\n",
    "count_df.sort_values(['weight'], ascending = False)[0:10]"
   ]
  },
  {
   "cell_type": "code",
   "execution_count": 25,
   "metadata": {
    "collapsed": true
   },
   "outputs": [],
   "source": [
    "X = v1_speech.toarray()  \n",
    "\n",
    "y = speechdf['afinn'].values"
   ]
  },
  {
   "cell_type": "code",
   "execution_count": 26,
   "metadata": {},
   "outputs": [
    {
     "name": "stdout",
     "output_type": "stream",
     "text": [
      "(104, 71)\n",
      "(45, 71)\n",
      "(104,)\n",
      "(45,)\n"
     ]
    }
   ],
   "source": [
    "X_train, X_test, y_train, y_test = train_test_split(X, y, test_size=0.3, random_state=42) #random_state is set seed\n",
    "\n",
    "print(X_train.shape)\n",
    "print(X_test.shape)\n",
    "print(y_train.shape)\n",
    "print(y_test.shape)"
   ]
  },
  {
   "cell_type": "markdown",
   "metadata": {},
   "source": [
    "## Naive Bayes (Revision #1)"
   ]
  },
  {
   "cell_type": "code",
   "execution_count": 27,
   "metadata": {},
   "outputs": [
    {
     "name": "stdout",
     "output_type": "stream",
     "text": [
      "MultinomialNB(alpha=1.0, class_prior=None, fit_prior=True)\n",
      "0.466666666667\n",
      "accuracy: 0.466666666667\n",
      "             precision    recall  f1-score   support\n",
      "\n",
      "   Negative       0.75      0.17      0.27        18\n",
      "    Neutral       0.00      0.00      0.00         6\n",
      "   Positive       0.47      0.86      0.61        21\n",
      "\n",
      "avg / total       0.52      0.47      0.39        45\n",
      "\n"
     ]
    }
   ],
   "source": [
    "# fit a Naive Bayes model to the data\n",
    "model = MultinomialNB()\n",
    "print(model)\n",
    "model.fit(X_train, y_train)\n",
    "\n",
    "# make predictions\n",
    "nb_expected = y_test\n",
    "nb_predicted = model.predict(X_test)\n",
    "\n",
    "print(model.score(X_test, y_test))\n",
    "\n",
    "# summarize the fit of the model\n",
    "print(\"accuracy: \" + str(metrics.accuracy_score(nb_expected, nb_predicted)))\n",
    "print(metrics.classification_report(nb_expected, nb_predicted))"
   ]
  },
  {
   "cell_type": "markdown",
   "metadata": {},
   "source": [
    "## Decision Tree (Revision #1)"
   ]
  },
  {
   "cell_type": "code",
   "execution_count": 28,
   "metadata": {},
   "outputs": [
    {
     "name": "stdout",
     "output_type": "stream",
     "text": [
      "DecisionTreeClassifier(class_weight=None, criterion='gini', max_depth=None,\n",
      "            max_features=None, max_leaf_nodes=None,\n",
      "            min_impurity_split=1e-07, min_samples_leaf=1,\n",
      "            min_samples_split=2, min_weight_fraction_leaf=0.0,\n",
      "            presort=False, random_state=42, splitter='best')\n",
      "0.533333333333\n",
      "accuracy: 0.533333333333\n",
      "             precision    recall  f1-score   support\n",
      "\n",
      "   Negative       0.60      0.67      0.63        18\n",
      "    Neutral       0.00      0.00      0.00         6\n",
      "   Positive       0.67      0.57      0.62        21\n",
      "\n",
      "avg / total       0.55      0.53      0.54        45\n",
      "\n"
     ]
    }
   ],
   "source": [
    "# fit a logistic regression model to the data\n",
    "model = DecisionTreeClassifier(random_state = 42)\n",
    "print(model)\n",
    "model.fit(X_train, y_train)\n",
    "\n",
    "# make predictions\n",
    "tree_expected = y_test\n",
    "tree_predicted = model.predict(X_test)\n",
    "\n",
    "print(model.score(X_test, y_test))\n",
    "\n",
    "# summarize the fit of the model\n",
    "print(\"accuracy: \" + str(metrics.accuracy_score(tree_expected, tree_predicted)))\n",
    "print(metrics.classification_report(tree_expected, tree_predicted))"
   ]
  },
  {
   "cell_type": "code",
   "execution_count": 29,
   "metadata": {
    "collapsed": true
   },
   "outputs": [],
   "source": [
    "#create the tree\n",
    "#dot_data = tree.export_graphviz(model, out_file=None, \n",
    "#                         feature_names=tfidf.get_feature_names() ,  \n",
    "#                         class_names=speechdf.afinn.unique() ,  \n",
    "#                         filled=True, rounded=True,  \n",
    "#                         special_characters=True) "
   ]
  },
  {
   "cell_type": "code",
   "execution_count": 30,
   "metadata": {
    "collapsed": true
   },
   "outputs": [],
   "source": [
    "#graph = graphviz.Source(dot_data)  # creates the graph \n",
    "#graph #renders the graph inline"
   ]
  },
  {
   "cell_type": "markdown",
   "metadata": {},
   "source": [
    "## Logistic Regression (Revision #1)"
   ]
  },
  {
   "cell_type": "code",
   "execution_count": 31,
   "metadata": {},
   "outputs": [
    {
     "name": "stdout",
     "output_type": "stream",
     "text": [
      "LogisticRegression(C=1.0, class_weight=None, dual=False, fit_intercept=True,\n",
      "          intercept_scaling=1, max_iter=100, multi_class='ovr', n_jobs=1,\n",
      "          penalty='l2', random_state=42, solver='liblinear', tol=0.0001,\n",
      "          verbose=0, warm_start=False)\n",
      "0.444444444444\n",
      "accuracy: 0.444444444444\n",
      "             precision    recall  f1-score   support\n",
      "\n",
      "   Negative       0.33      0.06      0.10        18\n",
      "    Neutral       0.00      0.00      0.00         6\n",
      "   Positive       0.46      0.90      0.61        21\n",
      "\n",
      "avg / total       0.35      0.44      0.32        45\n",
      "\n"
     ]
    }
   ],
   "source": [
    "# Logistic Regression\n",
    "from sklearn.linear_model import LogisticRegression\n",
    "\n",
    "# fit a logistic regression model to the data\n",
    "model = LogisticRegression(random_state = 42)\n",
    "print(model)\n",
    "model.fit(X_train, y_train)\n",
    "\n",
    "# make predictions\n",
    "log_expected = y_test\n",
    "log_predicted = model.predict(X_test)\n",
    "\n",
    "print(model.score(X_test, y_test))\n",
    "\n",
    "# summarize the fit of the model\n",
    "print(\"accuracy: \" + str(metrics.accuracy_score(log_expected, log_predicted)))\n",
    "print(metrics.classification_report(log_expected, log_predicted))"
   ]
  },
  {
   "cell_type": "code",
   "execution_count": 32,
   "metadata": {},
   "outputs": [
    {
     "data": {
      "image/png": "[encoded data removed]",
      "text/plain": [
       "<matplotlib.figure.Figure at 0x1ef24a15fd0>"
      ]
     },
     "metadata": {},
     "output_type": "display_data"
    },
    {
     "name": "stdout",
     "output_type": "stream",
     "text": [
      "[[ 3  1 14]\n",
      " [ 0  0  6]\n",
      " [ 1  2 18]]\n"
     ]
    },
    {
     "data": {
      "image/png": "[encoded data removed]",
      "text/plain": [
       "<matplotlib.figure.Figure at 0x1ef296469b0>"
      ]
     },
     "metadata": {},
     "output_type": "display_data"
    },
    {
     "name": "stdout",
     "output_type": "stream",
     "text": [
      "[[12  3  3]\n",
      " [ 3  0  3]\n",
      " [ 5  4 12]]\n"
     ]
    },
    {
     "data": {
      "image/png": "[encoded data removed]",
      "text/plain": [
       "<matplotlib.figure.Figure at 0x1ef29c73e80>"
      ]
     },
     "metadata": {},
     "output_type": "display_data"
    },
    {
     "name": "stdout",
     "output_type": "stream",
     "text": [
      "[[ 1  1 16]\n",
      " [ 0  0  6]\n",
      " [ 2  0 19]]\n"
     ]
    }
   ],
   "source": [
    "# display confusion matrix\n",
    "def create_cm(t1, t2):\n",
    "    cm = metrics.confusion_matrix(t1, t2)\n",
    "    plt.matshow(cm)\n",
    "    plt.title('Confusion matrix')\n",
    "    plt.colorbar()\n",
    "    plt.ylabel('True label')\n",
    "    plt.xlabel('Predicted label')\n",
    "    plt.show()\n",
    "    print(cm)\n",
    "\n",
    "create_cm(nb_expected, nb_predicted)    \n",
    "create_cm(tree_expected, tree_predicted)\n",
    "create_cm(log_expected, log_predicted)"
   ]
  },
  {
   "cell_type": "markdown",
   "metadata": {},
   "source": [
    "## Revision 2 - Lemmitization"
   ]
  },
  {
   "cell_type": "code",
   "execution_count": 33,
   "metadata": {
    "collapsed": true
   },
   "outputs": [],
   "source": [
    "speechtext = speechdf[\"text\"].astype(str).values.tolist()"
   ]
  },
  {
   "cell_type": "code",
   "execution_count": 34,
   "metadata": {
    "collapsed": true
   },
   "outputs": [],
   "source": [
    "from nltk.stem import WordNetLemmatizer\n",
    "wnl = WordNetLemmatizer()\n",
    "\n",
    "lem_text = [\" \".join([wnl.lemmatize(word) for word in sentence.split()]) for sentence in speechtext]"
   ]
  },
  {
   "cell_type": "code",
   "execution_count": 35,
   "metadata": {
    "collapsed": true
   },
   "outputs": [],
   "source": [
    "import nltk\n",
    "from nltk import word_tokenize\n",
    "newtext = []\n",
    "wordtype = set(['R','V','N'])\n",
    "\n",
    "for string in speechtext:\n",
    "    newlem = []\n",
    "\n",
    "    taggedlist = nltk.pos_tag(word_tokenize(string.lower()))\n",
    "    for item in taggedlist:\n",
    "        if item[1][0] in wordtype:\n",
    "            postag = item[1][0].lower()\n",
    "        elif item[1][0] == 'J':\n",
    "            postag = 'a'\n",
    "        else:\n",
    "            postag = \"n\"\n",
    "\n",
    "        lemmed = wnl.lemmatize(item[0], pos = postag)\n",
    "        newlem.append(lemmed)\n",
    "    \n",
    "    newstring = \" \".join(newlem)\n",
    "    \n",
    "    newtext =newtext + [newstring]"
   ]
  },
  {
   "cell_type": "code",
   "execution_count": 36,
   "metadata": {
    "collapsed": true
   },
   "outputs": [],
   "source": [
    "se = pd.Series(newtext)\n",
    "speechdf['newtext'] = se.values"
   ]
  },
  {
   "cell_type": "code",
   "execution_count": 37,
   "metadata": {},
   "outputs": [
    {
     "name": "stdout",
     "output_type": "stream",
     "text": [
      "(149, 71)\n"
     ]
    }
   ],
   "source": [
    "# Create the feature space\n",
    "tfidf2 = TfidfVectorizer(binary=False, min_df = .03, max_df = .5,stop_words = custom_nltk, ngram_range = (1,2))\n",
    "v2_speech = tfidf2.fit_transform(speechdf['newtext'])\n",
    "print(cv_speech.shape)"
   ]
  },
  {
   "cell_type": "code",
   "execution_count": 38,
   "metadata": {
    "collapsed": true
   },
   "outputs": [],
   "source": [
    "#Split the data\n",
    "X = v2_speech.toarray()\n",
    "y = speechdf['afinn'].values"
   ]
  },
  {
   "cell_type": "code",
   "execution_count": 39,
   "metadata": {},
   "outputs": [
    {
     "name": "stdout",
     "output_type": "stream",
     "text": [
      "(104, 103)\n",
      "(45, 103)\n",
      "(104,)\n",
      "(45,)\n"
     ]
    }
   ],
   "source": [
    "X_train, X_test, y_train, y_test = train_test_split(X, y, test_size=0.3, random_state=42) #random_state is set seed\n",
    "\n",
    "print(X_train.shape)\n",
    "print(X_test.shape)\n",
    "print(y_train.shape)\n",
    "print(y_test.shape)"
   ]
  },
  {
   "cell_type": "markdown",
   "metadata": {},
   "source": [
    "## Naive Bayes (Revision #2)"
   ]
  },
  {
   "cell_type": "code",
   "execution_count": 40,
   "metadata": {},
   "outputs": [
    {
     "name": "stdout",
     "output_type": "stream",
     "text": [
      "MultinomialNB(alpha=1.0, class_prior=None, fit_prior=True)\n",
      "0.444444444444\n",
      "accuracy: 0.444444444444\n",
      "             precision    recall  f1-score   support\n",
      "\n",
      "   Negative       0.50      0.06      0.10        18\n",
      "    Neutral       0.00      0.00      0.00         6\n",
      "   Positive       0.46      0.90      0.61        21\n",
      "\n",
      "avg / total       0.42      0.44      0.33        45\n",
      "\n"
     ]
    }
   ],
   "source": [
    "# fit a Naive Bayes model to the data\n",
    "model = MultinomialNB()\n",
    "print(model)\n",
    "model.fit(X_train, y_train)\n",
    "\n",
    "# make predictions\n",
    "nb_expected = y_test\n",
    "nb_predicted = model.predict(X_test)\n",
    "\n",
    "print(model.score(X_test, y_test))\n",
    "\n",
    "# summarize the fit of the model\n",
    "print(\"accuracy: \" + str(metrics.accuracy_score(nb_expected, nb_predicted)))\n",
    "print(metrics.classification_report(nb_expected, nb_predicted))"
   ]
  },
  {
   "cell_type": "markdown",
   "metadata": {},
   "source": [
    "## Decision Tree (Revision #2)"
   ]
  },
  {
   "cell_type": "code",
   "execution_count": 41,
   "metadata": {},
   "outputs": [
    {
     "name": "stdout",
     "output_type": "stream",
     "text": [
      "DecisionTreeClassifier(class_weight=None, criterion='gini', max_depth=None,\n",
      "            max_features=None, max_leaf_nodes=None,\n",
      "            min_impurity_split=1e-07, min_samples_leaf=1,\n",
      "            min_samples_split=2, min_weight_fraction_leaf=0.0,\n",
      "            presort=False, random_state=42, splitter='best')\n",
      "0.6\n",
      "accuracy: 0.6\n",
      "             precision    recall  f1-score   support\n",
      "\n",
      "   Negative       0.68      0.72      0.70        18\n",
      "    Neutral       0.00      0.00      0.00         6\n",
      "   Positive       0.70      0.67      0.68        21\n",
      "\n",
      "avg / total       0.60      0.60      0.60        45\n",
      "\n"
     ]
    }
   ],
   "source": [
    "# fit a logistic regression model to the data\n",
    "model = DecisionTreeClassifier(random_state = 42)\n",
    "print(model)\n",
    "model.fit(X_train, y_train)\n",
    "\n",
    "# make predictions\n",
    "tree_expected = y_test\n",
    "tree_predicted = model.predict(X_test)\n",
    "\n",
    "print(model.score(X_test, y_test))\n",
    "\n",
    "# summarize the fit of the model\n",
    "print(\"accuracy: \" + str(metrics.accuracy_score(tree_expected, tree_predicted)))\n",
    "print(metrics.classification_report(tree_expected, tree_predicted))"
   ]
  },
  {
   "cell_type": "code",
   "execution_count": 42,
   "metadata": {
    "collapsed": true
   },
   "outputs": [],
   "source": [
    "#create the tree\n",
    "#dot_data = tree.export_graphviz(model, out_file=None, \n",
    "#                         feature_names=tfidf.get_feature_names() ,  \n",
    "#                         class_names=speechdf.afinn.unique() ,  \n",
    "#                         filled=True, rounded=True,  \n",
    "#                         special_characters=True) "
   ]
  },
  {
   "cell_type": "code",
   "execution_count": 43,
   "metadata": {
    "collapsed": true
   },
   "outputs": [],
   "source": [
    "#graph = graphviz.Source(dot_data)  # creates the graph \n",
    "#graph #renders the graph inline"
   ]
  },
  {
   "cell_type": "markdown",
   "metadata": {},
   "source": [
    "## Logistic Regression (Revision #2)"
   ]
  },
  {
   "cell_type": "code",
   "execution_count": 44,
   "metadata": {},
   "outputs": [
    {
     "name": "stdout",
     "output_type": "stream",
     "text": [
      "LogisticRegression(C=1.0, class_weight=None, dual=False, fit_intercept=True,\n",
      "          intercept_scaling=1, max_iter=100, multi_class='ovr', n_jobs=1,\n",
      "          penalty='l2', random_state=42, solver='liblinear', tol=0.0001,\n",
      "          verbose=0, warm_start=False)\n",
      "0.444444444444\n",
      "accuracy: 0.444444444444\n",
      "             precision    recall  f1-score   support\n",
      "\n",
      "   Negative       0.00      0.00      0.00        18\n",
      "    Neutral       0.00      0.00      0.00         6\n",
      "   Positive       0.47      0.95      0.62        21\n",
      "\n",
      "avg / total       0.22      0.44      0.29        45\n",
      "\n"
     ]
    }
   ],
   "source": [
    "# Logistic Regression\n",
    "from sklearn.linear_model import LogisticRegression\n",
    "\n",
    "# fit a logistic regression model to the data\n",
    "model = LogisticRegression(random_state = 42)\n",
    "print(model)\n",
    "model.fit(X_train, y_train)\n",
    "\n",
    "# make predictions\n",
    "log_expected = y_test\n",
    "log_predicted = model.predict(X_test)\n",
    "\n",
    "print(model.score(X_test, y_test))\n",
    "\n",
    "# summarize the fit of the model\n",
    "print(\"accuracy: \" + str(metrics.accuracy_score(log_expected, log_predicted)))\n",
    "print(metrics.classification_report(log_expected, log_predicted))"
   ]
  },
  {
   "cell_type": "markdown",
   "metadata": {},
   "source": [
    "## Confusion Matrix (Revision #2)"
   ]
  },
  {
   "cell_type": "code",
   "execution_count": 45,
   "metadata": {},
   "outputs": [
    {
     "data": {
      "image/png": "[encoded data removed]",
      "text/plain": [
       "<matplotlib.figure.Figure at 0x1ef29566668>"
      ]
     },
     "metadata": {},
     "output_type": "display_data"
    },
    {
     "name": "stdout",
     "output_type": "stream",
     "text": [
      "[[ 1  1 16]\n",
      " [ 0  0  6]\n",
      " [ 1  1 19]]\n"
     ]
    },
    {
     "data": {
      "image/png": "[encoded data removed]",
      "text/plain": [
       "<matplotlib.figure.Figure at 0x1ef29ae25f8>"
      ]
     },
     "metadata": {},
     "output_type": "display_data"
    },
    {
     "name": "stdout",
     "output_type": "stream",
     "text": [
      "[[13  4  1]\n",
      " [ 1  0  5]\n",
      " [ 5  2 14]]\n"
     ]
    },
    {
     "data": {
      "image/png": "[encoded data removed]",
      "text/plain": [
       "<matplotlib.figure.Figure at 0x1ef2f85f160>"
      ]
     },
     "metadata": {},
     "output_type": "display_data"
    },
    {
     "name": "stdout",
     "output_type": "stream",
     "text": [
      "[[ 0  1 17]\n",
      " [ 0  0  6]\n",
      " [ 1  0 20]]\n"
     ]
    }
   ],
   "source": [
    "# display confusion matrix\n",
    "def create_cm(t1, t2):\n",
    "    cm = metrics.confusion_matrix(t1, t2)\n",
    "    plt.matshow(cm)\n",
    "    plt.title('Confusion matrix')\n",
    "    plt.colorbar()\n",
    "    plt.ylabel('True label')\n",
    "    plt.xlabel('Predicted label')\n",
    "    plt.show()\n",
    "    print(cm)\n",
    "\n",
    "create_cm(nb_expected, nb_predicted)    \n",
    "create_cm(tree_expected, tree_predicted)\n",
    "create_cm(log_expected, log_predicted)"
   ]
  },
  {
   "cell_type": "markdown",
   "metadata": {},
   "source": [
    "### T3. Perform K-means clustering on your dataset.  Store the cluster assignments in the dataframe."
   ]
  },
  {
   "cell_type": "code",
   "execution_count": 46,
   "metadata": {},
   "outputs": [
    {
     "name": "stdout",
     "output_type": "stream",
     "text": [
      "14    16\n",
      "2     14\n",
      "11    13\n",
      "5     12\n",
      "13    11\n",
      "7     11\n",
      "3     10\n",
      "10     9\n",
      "9      9\n",
      "4      9\n",
      "6      8\n",
      "15     6\n",
      "1      6\n",
      "0      6\n",
      "12     5\n",
      "8      4\n",
      "Name: clusters, dtype: int64\n"
     ]
    }
   ],
   "source": [
    "#K-Means\n",
    "from sklearn.cluster import KMeans\n",
    "speech_dm = v2_speech.toarray()\n",
    "My_k =16\n",
    "km = KMeans(n_clusters=My_k, init='k-means++', max_iter=100, random_state = 42)\n",
    "news_k = km.fit(speech_dm)\n",
    "clusters = km.labels_.tolist()\n",
    "speechdf['clusters'] = clusters\n",
    "print(speechdf['clusters'].value_counts())"
   ]
  },
  {
   "cell_type": "code",
   "execution_count": 47,
   "metadata": {
    "collapsed": true
   },
   "outputs": [],
   "source": [
    "k_range = range(1,50)\n",
    "k_means_set = [KMeans(n_clusters=k,init='k-means++', max_iter=100, random_state = 42).fit(v2_speech) for k in k_range]\n",
    "centroids_list = [km_result.cluster_centers_ for km_result in k_means_set]"
   ]
  },
  {
   "cell_type": "code",
   "execution_count": 48,
   "metadata": {
    "collapsed": true
   },
   "outputs": [],
   "source": [
    "from scipy.spatial.distance import cdist, pdist\n",
    "from sklearn.metrics.pairwise import euclidean_distances\n",
    "\n",
    "k_euclid = [cdist(speech_dm, thing, 'euclidean') for thing in centroids_list]\n",
    "distance_set = [np.min(k_euc, axis=1) for k_euc in k_euclid]\n",
    "\n",
    "# total within-cluster sum of squares\n",
    "wcss = [np.sum(distance**2) for distance in distance_set]\n",
    "\n",
    "# total sum of squares\n",
    "tss  = np.sum(pdist(speech_dm)**2) / speech_dm.shape[0]\n",
    "\n",
    "# between cluster sum of squares\n",
    "bss = tss - wcss"
   ]
  },
  {
   "cell_type": "code",
   "execution_count": 49,
   "metadata": {},
   "outputs": [
    {
     "data": {
      "text/plain": [
       "<matplotlib.text.Text at 0x1ef31e890b8>"
      ]
     },
     "execution_count": 49,
     "metadata": {},
     "output_type": "execute_result"
    },
    {
     "data": {
      "image/png": "[encoded data removed]",
      "text/plain": [
       "<matplotlib.figure.Figure at 0x1ef30e784a8>"
      ]
     },
     "metadata": {},
     "output_type": "display_data"
    }
   ],
   "source": [
    "# plot elbow chart\n",
    "fig = plt.figure()\n",
    "ax = fig.add_subplot(111)\n",
    "ax.plot(k_range, bss/tss*100, '^-')\n",
    "ax.set_ylim((0,100))\n",
    "plt.grid(True)\n",
    "plt.xlabel('K n_clusters')\n",
    "plt.ylabel('% Variance Explained')\n",
    "plt.title('% Var Explained vs K')"
   ]
  },
  {
   "cell_type": "code",
   "execution_count": 50,
   "metadata": {
    "collapsed": true
   },
   "outputs": [],
   "source": [
    "#Exporting the dataframe to a csv file so I can take a look at it in Excel\n",
    "#speech.df.to_csv('speech_clusters.csv')"
   ]
  },
  {
   "cell_type": "code",
   "execution_count": 51,
   "metadata": {},
   "outputs": [
    {
     "data": {
      "text/html": [
       "<div>\n",
       "<style>\n",
       "    .dataframe thead tr:only-child th {\n",
       "        text-align: right;\n",
       "    }\n",
       "\n",
       "    .dataframe thead th {\n",
       "        text-align: left;\n",
       "    }\n",
       "\n",
       "    .dataframe tbody tr th {\n",
       "        vertical-align: top;\n",
       "    }\n",
       "</style>\n",
       "<table border=\"1\" class=\"dataframe\">\n",
       "  <thead>\n",
       "    <tr style=\"text-align: right;\">\n",
       "      <th></th>\n",
       "      <th>text</th>\n",
       "      <th>cleantext</th>\n",
       "      <th>afinn</th>\n",
       "      <th>newtext</th>\n",
       "      <th>clusters</th>\n",
       "    </tr>\n",
       "  </thead>\n",
       "  <tbody>\n",
       "    <tr>\n",
       "      <th>0</th>\n",
       "      <td>Mr. Speaker, Mr. Vice President, members of Congress, the first lady of the United States, and my fellow Americans:</td>\n",
       "      <td>mr. speaker, mr. vice president, members of congress, the first lady of the america, and my fellow american:</td>\n",
       "      <td>Neutral</td>\n",
       "      <td>mr. speaker , mr. vice president , member of congress , the first lady of the united state , and my fellow american :</td>\n",
       "      <td>5</td>\n",
       "    </tr>\n",
       "    <tr>\n",
       "      <th>1</th>\n",
       "      <td>Less than one year has passed since I first stood at this podium, in this majestic chamber, to speak on behalf of the American people — and to address their concerns, their hopes and their dreams. That night, our new administration had already taken swift action. A new tide of optimism was already sweeping across our land.</td>\n",
       "      <td>less than one year has passed since i first stood at this podium, in this majestic chamber, to speak on behalf of the american people — and to address their concerns, their hopes and their dreams. that night, our new administration had already taken swift action. a new tide of optimism was already sweeping across our land.</td>\n",
       "      <td>Positive</td>\n",
       "      <td>less than one year have pass since i first stand at this podium , in this majestic chamber , to speak on behalf of the american people — and to address their concern , their hope and their dream . that night , our new administration have already take swift action . a new tide of optimism be already sweeping across our land .</td>\n",
       "      <td>4</td>\n",
       "    </tr>\n",
       "    <tr>\n",
       "      <th>2</th>\n",
       "      <td>Each day since, we have gone forward with a clear vision and a righteous mission — to make America great again for all Americans.</td>\n",
       "      <td>each day since, we have gone forward with a clear vision and a righteoamerican mission — to make america great again for all american.</td>\n",
       "      <td>Positive</td>\n",
       "      <td>each day since , we have go forward with a clear vision and a righteous mission — to make america great again for all american .</td>\n",
       "      <td>6</td>\n",
       "    </tr>\n",
       "    <tr>\n",
       "      <th>3</th>\n",
       "      <td>Over the last year, we have made incredible progress and achieved extraordinary success. We have faced challenges we expected, and others we could never have imagined. We have shared in the heights of victory and the pains of hardship. We endured floods and fires and storms. But through it all, we have seen the beauty of America's soul, and the steel in America's spine.</td>\n",
       "      <td>over the last year, we have made incredible progress and achieved extraordinary success. we have faced challenges we expected, and others we could never have imagined. we have shared in the heights of victory and the pains of hardship. we endured floods and fires and storms. but through it all, we have seen the beauty of america's soul, and the steel in america's spine.</td>\n",
       "      <td>Positive</td>\n",
       "      <td>over the last year , we have make incredible progress and achieve extraordinary success . we have face challenge we expect , and others we could never have imagine . we have share in the height of victory and the pain of hardship . we endure flood and fire and storm . but through it all , we have see the beauty of america 's soul , and the steel in america 's spine .</td>\n",
       "      <td>11</td>\n",
       "    </tr>\n",
       "    <tr>\n",
       "      <th>4</th>\n",
       "      <td>Each test has forged new American heroes to remind us who we are, and show us what we can be.</td>\n",
       "      <td>each test has forged new american heroes to remind american who we are, and show american what we can be.</td>\n",
       "      <td>Positive</td>\n",
       "      <td>each test have forge new american hero to remind u who we be , and show u what we can be .</td>\n",
       "      <td>6</td>\n",
       "    </tr>\n",
       "  </tbody>\n",
       "</table>\n",
       "</div>"
      ],
      "text/plain": [
       "                                                                                                                                                                                                                                                                                                                                                                                   text  \\\n",
       "0                                                                                                                                                                                                                                                                   Mr. Speaker, Mr. Vice President, members of Congress, the first lady of the United States, and my fellow Americans:   \n",
       "1                                                  Less than one year has passed since I first stood at this podium, in this majestic chamber, to speak on behalf of the American people — and to address their concerns, their hopes and their dreams. That night, our new administration had already taken swift action. A new tide of optimism was already sweeping across our land.   \n",
       "2                                                                                                                                                                                                                                                     Each day since, we have gone forward with a clear vision and a righteous mission — to make America great again for all Americans.   \n",
       "3  Over the last year, we have made incredible progress and achieved extraordinary success. We have faced challenges we expected, and others we could never have imagined. We have shared in the heights of victory and the pains of hardship. We endured floods and fires and storms. But through it all, we have seen the beauty of America's soul, and the steel in America's spine.   \n",
       "4                                                                                                                                                                                                                                                                                         Each test has forged new American heroes to remind us who we are, and show us what we can be.   \n",
       "\n",
       "                                                                                                                                                                                                                                                                                                                                                                              cleantext  \\\n",
       "0                                                                                                                                                                                                                                                                          mr. speaker, mr. vice president, members of congress, the first lady of the america, and my fellow american:   \n",
       "1                                                  less than one year has passed since i first stood at this podium, in this majestic chamber, to speak on behalf of the american people — and to address their concerns, their hopes and their dreams. that night, our new administration had already taken swift action. a new tide of optimism was already sweeping across our land.   \n",
       "2                                                                                                                                                                                                                                                each day since, we have gone forward with a clear vision and a righteoamerican mission — to make america great again for all american.   \n",
       "3  over the last year, we have made incredible progress and achieved extraordinary success. we have faced challenges we expected, and others we could never have imagined. we have shared in the heights of victory and the pains of hardship. we endured floods and fires and storms. but through it all, we have seen the beauty of america's soul, and the steel in america's spine.   \n",
       "4                                                                                                                                                                                                                                                                             each test has forged new american heroes to remind american who we are, and show american what we can be.   \n",
       "\n",
       "      afinn  \\\n",
       "0   Neutral   \n",
       "1  Positive   \n",
       "2  Positive   \n",
       "3  Positive   \n",
       "4  Positive   \n",
       "\n",
       "                                                                                                                                                                                                                                                                                                                                                                             newtext  \\\n",
       "0                                                                                                                                                                                                                                                              mr. speaker , mr. vice president , member of congress , the first lady of the united state , and my fellow american :   \n",
       "1                                             less than one year have pass since i first stand at this podium , in this majestic chamber , to speak on behalf of the american people — and to address their concern , their hope and their dream . that night , our new administration have already take swift action . a new tide of optimism be already sweeping across our land .   \n",
       "2                                                                                                                                                                                                                                                   each day since , we have go forward with a clear vision and a righteous mission — to make america great again for all american .   \n",
       "3  over the last year , we have make incredible progress and achieve extraordinary success . we have face challenge we expect , and others we could never have imagine . we have share in the height of victory and the pain of hardship . we endure flood and fire and storm . but through it all , we have see the beauty of america 's soul , and the steel in america 's spine .   \n",
       "4                                                                                                                                                                                                                                                                                         each test have forge new american hero to remind u who we be , and show u what we can be .   \n",
       "\n",
       "   clusters  \n",
       "0         5  \n",
       "1         4  \n",
       "2         6  \n",
       "3        11  \n",
       "4         6  "
      ]
     },
     "execution_count": 51,
     "metadata": {},
     "output_type": "execute_result"
    }
   ],
   "source": [
    "speechdf.head()"
   ]
  },
  {
   "cell_type": "code",
   "execution_count": null,
   "metadata": {
    "collapsed": true
   },
   "outputs": [],
   "source": []
  }
 ],
 "metadata": {
  "kernelspec": {
   "display_name": "Python 3",
   "language": "python",
   "name": "python3"
  },
  "language_info": {
   "codemirror_mode": {
    "name": "ipython",
    "version": 3
   },
   "file_extension": ".py",
   "mimetype": "text/x-python",
   "name": "python",
   "nbconvert_exporter": "python",
   "pygments_lexer": "ipython3",
   "version": "3.6.4"
  }
 },
 "nbformat": 4,
 "nbformat_minor": 2
}
